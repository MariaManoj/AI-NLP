{
 "cells": [
  {
   "cell_type": "markdown",
   "metadata": {},
   "source": [
    "## POS tagging using modified Viterbi Algorithm"
   ]
  },
  {
   "cell_type": "markdown",
   "metadata": {},
   "source": [
    "### Problem Statement:\n",
    "The Vanilla Viterbi Algorithm initially developed had tagged the first tag by default for the words that are not present in the corpus that is used for training. This led to a drop in the accuracy by approximately 13%.\n",
    "### Objective: \n",
    "To modify the Vanilla Viterbi Algorithm using any two approaches to assign tags correctly for the unknown words.\n",
    "### Two approaches implemented in this assignment:\n",
    "1. Modified the Viterbi Algorithm to tag the unknown words using only the maximum likelihood of transition probabilities of the Tags for unknown words.\n",
    "2. Modified the Viterbi Algorithm to tag unknown words using Rules based POS Tagging."
   ]
  },
  {
   "cell_type": "markdown",
   "metadata": {},
   "source": [
    "### Data Preparation"
   ]
  },
  {
   "cell_type": "code",
   "execution_count": 1,
   "metadata": {},
   "outputs": [],
   "source": [
    "#Importing libraries\n",
    "import nltk, re, pprint\n",
    "import numpy as np\n",
    "import pandas as pd\n",
    "import requests\n",
    "import seaborn as sns\n",
    "import matplotlib.pyplot as plt\n",
    "import pprint, time\n",
    "import random\n",
    "from sklearn.model_selection import train_test_split\n",
    "from nltk.tokenize import word_tokenize"
   ]
  },
  {
   "cell_type": "code",
   "execution_count": 2,
   "metadata": {},
   "outputs": [],
   "source": [
    "# reading the Treebank tagged sentences using UNIVERSAL Tags\n",
    "nltk_data = list(nltk.corpus.treebank.tagged_sents(tagset='universal'))"
   ]
  },
  {
   "cell_type": "markdown",
   "metadata": {},
   "source": [
    "####                                                     UNIVERSAL TAGS\n",
    "\n",
    "| Tag | Meaning | English Examples |\n",
    "| --- | --- | --- |\n",
    "| ADJ | adjective  | new, good, high, special, big, local |\n",
    "| ADP | adposition |\ton, of, at, with, by, into, under |\n",
    "| ADV | adverb\t   | really, already, still, early, now   |\n",
    "| CONJ|\tconjunction| and, or, but, if, while, although    |\n",
    "|DET  | determiner, article\t| the, a, some, most, every, no, which |\n",
    "|NOUN | noun\t   | year, home, costs, time, Africa      |\n",
    "|NUM  |\tnumeral    |\ttwenty-four, fourth, 1991, 14:24  |\n",
    "|PRT  |\tparticle   |\tat, on, out, over per, that, up, with |\n",
    "|PRON |pronoun\t   |he, their, her, its, my, I, us        |\n",
    "|VERB |\tverb\t   |is, say, told, given, playing, would  |\n",
    "|.\t  |punctuation marks|\t. , ; !                       |\n",
    "|X\t  |other       |\tersatz, esprit, dunno, gr8, univeristy|"
   ]
  },
  {
   "cell_type": "code",
   "execution_count": 3,
   "metadata": {},
   "outputs": [
    {
     "data": {
      "text/plain": [
       "[[('Pierre', 'NOUN'),\n",
       "  ('Vinken', 'NOUN'),\n",
       "  (',', '.'),\n",
       "  ('61', 'NUM'),\n",
       "  ('years', 'NOUN'),\n",
       "  ('old', 'ADJ'),\n",
       "  (',', '.'),\n",
       "  ('will', 'VERB'),\n",
       "  ('join', 'VERB'),\n",
       "  ('the', 'DET'),\n",
       "  ('board', 'NOUN'),\n",
       "  ('as', 'ADP'),\n",
       "  ('a', 'DET'),\n",
       "  ('nonexecutive', 'ADJ'),\n",
       "  ('director', 'NOUN'),\n",
       "  ('Nov.', 'NOUN'),\n",
       "  ('29', 'NUM'),\n",
       "  ('.', '.')],\n",
       " [('Mr.', 'NOUN'),\n",
       "  ('Vinken', 'NOUN'),\n",
       "  ('is', 'VERB'),\n",
       "  ('chairman', 'NOUN'),\n",
       "  ('of', 'ADP'),\n",
       "  ('Elsevier', 'NOUN'),\n",
       "  ('N.V.', 'NOUN'),\n",
       "  (',', '.'),\n",
       "  ('the', 'DET'),\n",
       "  ('Dutch', 'NOUN'),\n",
       "  ('publishing', 'VERB'),\n",
       "  ('group', 'NOUN'),\n",
       "  ('.', '.')],\n",
       " [('Rudolph', 'NOUN'),\n",
       "  ('Agnew', 'NOUN'),\n",
       "  (',', '.'),\n",
       "  ('55', 'NUM'),\n",
       "  ('years', 'NOUN'),\n",
       "  ('old', 'ADJ'),\n",
       "  ('and', 'CONJ'),\n",
       "  ('former', 'ADJ'),\n",
       "  ('chairman', 'NOUN'),\n",
       "  ('of', 'ADP'),\n",
       "  ('Consolidated', 'NOUN'),\n",
       "  ('Gold', 'NOUN'),\n",
       "  ('Fields', 'NOUN'),\n",
       "  ('PLC', 'NOUN'),\n",
       "  (',', '.'),\n",
       "  ('was', 'VERB'),\n",
       "  ('named', 'VERB'),\n",
       "  ('*-1', 'X'),\n",
       "  ('a', 'DET'),\n",
       "  ('nonexecutive', 'ADJ'),\n",
       "  ('director', 'NOUN'),\n",
       "  ('of', 'ADP'),\n",
       "  ('this', 'DET'),\n",
       "  ('British', 'ADJ'),\n",
       "  ('industrial', 'ADJ'),\n",
       "  ('conglomerate', 'NOUN'),\n",
       "  ('.', '.')]]"
      ]
     },
     "execution_count": 3,
     "metadata": {},
     "output_type": "execute_result"
    }
   ],
   "source": [
    "# First three sentences of the corpus\n",
    "nltk_data[:3]"
   ]
  },
  {
   "cell_type": "code",
   "execution_count": 4,
   "metadata": {},
   "outputs": [
    {
     "name": "stdout",
     "output_type": "stream",
     "text": [
      "Total number of words tagged in Treebank Corpus using Universal Tags:  100676\n"
     ]
    },
    {
     "data": {
      "text/plain": [
       "[('Pierre', 'NOUN'),\n",
       " ('Vinken', 'NOUN'),\n",
       " (',', '.'),\n",
       " ('61', 'NUM'),\n",
       " ('years', 'NOUN'),\n",
       " ('old', 'ADJ'),\n",
       " (',', '.'),\n",
       " ('will', 'VERB'),\n",
       " ('join', 'VERB'),\n",
       " ('the', 'DET')]"
      ]
     },
     "execution_count": 4,
     "metadata": {},
     "output_type": "execute_result"
    }
   ],
   "source": [
    "# converting the list of sents to a list of (word, POS tag) tuples\n",
    "tagged_words = [tup for sent in nltk_data for tup in sent]\n",
    "print(\"Total number of words tagged in Treebank Corpus using Universal Tags: \", len(tagged_words))\n",
    "tagged_words[:10]\n"
   ]
  },
  {
   "cell_type": "markdown",
   "metadata": {},
   "source": [
    "### Exploratory Data Analysis"
   ]
  },
  {
   "cell_type": "code",
   "execution_count": 5,
   "metadata": {},
   "outputs": [
    {
     "name": "stdout",
     "output_type": "stream",
     "text": [
      "Number of unique Tags:  12\n"
     ]
    }
   ],
   "source": [
    "# Unique tags in the corpus\n",
    "tags = [pair[1] for pair in tagged_words]\n",
    "unique_tags = set(tags)\n",
    "print(\"Number of unique Tags: \",len(unique_tags))\n"
   ]
  },
  {
   "cell_type": "code",
   "execution_count": 6,
   "metadata": {},
   "outputs": [
    {
     "name": "stdout",
     "output_type": "stream",
     "text": [
      "Tags and Counts:  Counter({'NOUN': 28867, 'VERB': 13564, '.': 11715, 'ADP': 9857, 'DET': 8725, 'X': 6613, 'ADJ': 6397, 'NUM': 3546, 'PRT': 3219, 'ADV': 3171, 'PRON': 2737, 'CONJ': 2265})\n"
     ]
    }
   ],
   "source": [
    "from collections import Counter\n",
    "tag_counts = Counter(tags)\n",
    "print(\"Tags and Counts: \",tag_counts)\n"
   ]
  },
  {
   "cell_type": "code",
   "execution_count": 7,
   "metadata": {},
   "outputs": [
    {
     "name": "stdout",
     "output_type": "stream",
     "text": [
      "Top 5 most common tags:\n"
     ]
    },
    {
     "data": {
      "text/plain": [
       "[('NOUN', 28867), ('VERB', 13564), ('.', 11715), ('ADP', 9857), ('DET', 8725)]"
      ]
     },
     "execution_count": 7,
     "metadata": {},
     "output_type": "execute_result"
    }
   ],
   "source": [
    "print (\"Top 5 most common tags:\")\n",
    "tag_counts.most_common(5)\n"
   ]
  },
  {
   "cell_type": "markdown",
   "metadata": {},
   "source": [
    "### Creating Train Set and Validation Set in the ratio of 95:5"
   ]
  },
  {
   "cell_type": "code",
   "execution_count": 8,
   "metadata": {},
   "outputs": [
    {
     "name": "stdout",
     "output_type": "stream",
     "text": [
      "Number of sentences in Train Set:  3718\n",
      "Number of sentences in Validation Set:  196\n",
      "First 10 sentences of Train Data:\n",
      "[[('One', 'NUM'), ('bright', 'ADJ'), ('sign', 'NOUN'), ('is', 'VERB'), ('that', 'ADP'), ('a', 'DET'), ('growing', 'VERB'), ('number', 'NOUN'), ('of', 'ADP'), ('women', 'NOUN'), ('have', 'VERB'), ('entered', 'VERB'), ('the', 'DET'), ('once', 'ADV'), ('male-dominated', 'ADJ'), ('field', 'NOUN'), (';', '.'), ('more', 'ADJ'), ('than', 'ADP'), ('a', 'DET'), ('third', 'ADJ'), ('of', 'ADP'), ('the', 'DET'), ('ringers', 'NOUN'), ('today', 'NOUN'), ('are', 'VERB'), ('women', 'NOUN'), ('.', '.')], [('``', '.'), ('These', 'DET'), ('days', 'NOUN'), (',', '.'), ('banking', 'NOUN'), ('customers', 'NOUN'), ('walk', 'VERB'), ('in', 'ADP'), ('the', 'DET'), ('door', 'NOUN'), ('*-1', 'X'), ('expecting', 'VERB'), ('you', 'PRON'), ('to', 'PRT'), ('have', 'VERB'), ('a', 'DET'), ('package', 'NOUN'), ('especially', 'ADV'), ('for', 'ADP'), ('them', 'PRON'), (',', '.'), (\"''\", '.'), ('Ms.', 'NOUN'), ('Moore', 'NOUN'), ('says', 'VERB'), ('*T*-2', 'X'), ('.', '.')], [('The', 'DET'), ('rights', 'NOUN'), (',', '.'), ('which', 'DET'), ('*T*-173', 'X'), ('expire', 'VERB'), ('Nov.', 'NOUN'), ('21', 'NUM'), (',', '.'), ('can', 'VERB'), ('be', 'VERB'), ('exercised', 'VERB'), ('*-104', 'X'), ('for', 'ADP'), ('$', '.'), ('100', 'NUM'), ('*U*', 'X'), ('each', 'DET'), ('.', '.')], [('@', 'ADP')], [('Mr.', 'NOUN'), ('Trudeau', 'NOUN'), (\"'s\", 'PRT'), ('attorney', 'NOUN'), (',', '.'), ('Norman', 'NOUN'), ('K.', 'NOUN'), ('Samnick', 'NOUN'), (',', '.'), ('said', 'VERB'), ('0', 'X'), ('the', 'DET'), ('harassment', 'NOUN'), ('consists', 'VERB'), ('mainly', 'ADV'), ('of', 'ADP'), ('the', 'DET'), ('guild', 'NOUN'), (\"'s\", 'PRT'), ('year-long', 'ADJ'), ('threats', 'NOUN'), ('of', 'ADP'), ('disciplinary', 'ADJ'), ('action', 'NOUN'), ('.', '.')], [('The', 'DET'), ('ruling', 'NOUN'), ('could', 'VERB'), ('lead', 'VERB'), ('to', 'PRT'), ('the', 'DET'), ('cancellation', 'NOUN'), ('of', 'ADP'), ('huge', 'ADJ'), ('bank', 'NOUN'), ('debts', 'NOUN'), ('0', 'X'), ('the', 'DET'), ('London', 'NOUN'), ('Borough', 'NOUN'), ('of', 'ADP'), ('Hammersmith', 'NOUN'), ('and', 'CONJ'), ('Fulham', 'NOUN'), ('ran', 'VERB'), ('up', 'PRT'), ('*T*-1', 'X'), ('after', 'ADP'), ('*-2', 'X'), ('losing', 'VERB'), ('heavily', 'ADV'), ('on', 'ADP'), ('swap', 'NOUN'), ('transactions', 'NOUN'), ('.', '.')], [(\"Dunkin'\", 'NOUN'), ('has', 'VERB'), ('set', 'VERB'), ('Nov.', 'NOUN'), ('10', 'NUM'), ('as', 'ADP'), ('the', 'DET'), ('deadline', 'NOUN'), ('for', 'ADP'), ('the', 'DET'), ('receipt', 'NOUN'), ('of', 'ADP'), ('any', 'DET'), ('competing', 'VERB'), ('bids', 'NOUN'), ('.', '.')], [('The', 'DET'), ('sale', 'NOUN'), ('comes', 'VERB'), ('in', 'ADP'), ('place', 'NOUN'), ('of', 'ADP'), ('a', 'DET'), ('planned', 'VERB'), ('initial', 'ADJ'), ('public', 'ADJ'), ('offering', 'NOUN'), ('of', 'ADP'), ('Lentjes', 'NOUN'), ('stock', 'NOUN'), ('.', '.')], [('In', 'ADP'), ('1979', 'NUM'), (',', '.'), ('Hearst', 'NOUN'), ('hired', 'VERB'), ('editor', 'NOUN'), ('James', 'NOUN'), ('Bellows', 'NOUN'), (',', '.'), ('who', 'PRON'), ('*T*-48', 'X'), ('brightened', 'VERB'), ('the', 'DET'), ('editorial', 'NOUN'), ('product', 'NOUN'), ('considerably', 'ADV'), ('.', '.')], [('If', 'ADP'), ('both', 'DET'), ('agencies', 'NOUN'), ('find', 'VERB'), ('violations', 'NOUN'), ('of', 'ADP'), ('the', 'DET'), ('U.S.', 'NOUN'), ('trade', 'NOUN'), ('law', 'NOUN'), (',', '.'), ('the', 'DET'), ('U.S.', 'NOUN'), ('would', 'VERB'), ('assess', 'VERB'), ('penalty', 'NOUN'), ('duties', 'NOUN'), ('on', 'ADP'), ('the', 'DET'), ('imports', 'NOUN'), (',', '.'), ('which', 'DET'), ('*T*-1', 'X'), ('already', 'ADV'), ('are', 'VERB'), ('subject', 'ADJ'), ('to', 'PRT'), ('import', 'NOUN'), ('quotas', 'NOUN'), ('under', 'ADP'), ('bilateral', 'ADJ'), ('textile', 'NOUN'), ('and', 'CONJ'), ('apparel', 'NOUN'), ('trade', 'NOUN'), ('agreements', 'NOUN'), ('.', '.')]]\n"
     ]
    }
   ],
   "source": [
    "# Splitting into train and test\n",
    "# random.seed(1234)\n",
    "train_set, valdn_set = train_test_split(nltk_data,test_size=0.05, random_state=100)\n",
    "print(\"Number of sentences in Train Set: \",len(train_set))\n",
    "print(\"Number of sentences in Validation Set: \",len(valdn_set))\n",
    "print(\"First 10 sentences of Train Data:\")\n",
    "print(train_set[:10])\n"
   ]
  },
  {
   "cell_type": "code",
   "execution_count": 9,
   "metadata": {},
   "outputs": [
    {
     "name": "stdout",
     "output_type": "stream",
     "text": [
      "First 10 sentences of Validation Data:\n"
     ]
    },
    {
     "data": {
      "text/plain": [
       "[[('Investors', 'NOUN'),\n",
       "  ('took', 'VERB'),\n",
       "  ('advantage', 'NOUN'),\n",
       "  ('of', 'ADP'),\n",
       "  ('Tuesday', 'NOUN'),\n",
       "  (\"'s\", 'PRT'),\n",
       "  ('stock', 'NOUN'),\n",
       "  ('rally', 'NOUN'),\n",
       "  ('*-1', 'X'),\n",
       "  ('to', 'PRT'),\n",
       "  ('book', 'VERB'),\n",
       "  ('some', 'DET'),\n",
       "  ('profits', 'NOUN'),\n",
       "  ('yesterday', 'NOUN'),\n",
       "  (',', '.'),\n",
       "  ('*-1', 'X'),\n",
       "  ('leaving', 'VERB'),\n",
       "  ('stocks', 'ADV'),\n",
       "  ('up', 'ADP'),\n",
       "  ('fractionally', 'ADV'),\n",
       "  ('.', '.')],\n",
       " [('Buying', 'VERB'),\n",
       "  ('for', 'ADP'),\n",
       "  ('the', 'DET'),\n",
       "  ('most', 'ADJ'),\n",
       "  ('part', 'NOUN'),\n",
       "  ('carried', 'VERB'),\n",
       "  ('over', 'PRT'),\n",
       "  ('from', 'ADP'),\n",
       "  ('the', 'DET'),\n",
       "  ('previous', 'ADJ'),\n",
       "  ('session', 'NOUN'),\n",
       "  (',', '.'),\n",
       "  ('and', 'CONJ'),\n",
       "  ('traders', 'NOUN'),\n",
       "  ('apparently', 'ADV'),\n",
       "  ('ignored', 'VERB'),\n",
       "  ('reports', 'NOUN'),\n",
       "  ('that', 'ADP'),\n",
       "  ('a', 'DET'),\n",
       "  ('Chilean', 'ADJ'),\n",
       "  ('mine', 'ADJ'),\n",
       "  ('strike', 'NOUN'),\n",
       "  ('may', 'VERB'),\n",
       "  ('have', 'VERB'),\n",
       "  ('ended', 'VERB'),\n",
       "  ('almost', 'ADV'),\n",
       "  ('before', 'ADP'),\n",
       "  ('it', 'PRON'),\n",
       "  ('began', 'VERB'),\n",
       "  (',', '.'),\n",
       "  ('an', 'DET'),\n",
       "  ('analyst', 'NOUN'),\n",
       "  ('said', 'VERB'),\n",
       "  ('0', 'X'),\n",
       "  ('*T*-1', 'X'),\n",
       "  ('.', '.')],\n",
       " [('An', 'DET'),\n",
       "  ('official', 'NOUN'),\n",
       "  ('of', 'ADP'),\n",
       "  ('the', 'DET'),\n",
       "  ('Palestinian', 'NOUN'),\n",
       "  ('Olympic', 'NOUN'),\n",
       "  ('Committee', 'NOUN'),\n",
       "  ('said', 'VERB'),\n",
       "  ('0', 'X'),\n",
       "  ('the', 'DET'),\n",
       "  ('committee', 'NOUN'),\n",
       "  ('first', 'ADV'),\n",
       "  ('applied', 'VERB'),\n",
       "  ('for', 'ADP'),\n",
       "  ('membership', 'NOUN'),\n",
       "  ('in', 'ADP'),\n",
       "  ('1979', 'NUM'),\n",
       "  ('and', 'CONJ'),\n",
       "  ('renewed', 'VERB'),\n",
       "  ('its', 'PRON'),\n",
       "  ('application', 'NOUN'),\n",
       "  ('in', 'ADP'),\n",
       "  ('August', 'NOUN'),\n",
       "  ('of', 'ADP'),\n",
       "  ('this', 'DET'),\n",
       "  ('year', 'NOUN'),\n",
       "  ('.', '.')],\n",
       " [('``', '.'),\n",
       "  ('If', 'ADP'),\n",
       "  ('I', 'PRON'),\n",
       "  ('were', 'VERB'),\n",
       "  ('choosing', 'VERB'),\n",
       "  ('the', 'DET'),\n",
       "  ('people', 'NOUN'),\n",
       "  ('of', 'ADP'),\n",
       "  ('tomorrow', 'NOUN'),\n",
       "  (',', '.'),\n",
       "  ('I', 'PRON'),\n",
       "  ('would', 'VERB'),\n",
       "  ('have', 'VERB'),\n",
       "  ('chosen', 'VERB'),\n",
       "  ('the', 'DET'),\n",
       "  ('people', 'NOUN'),\n",
       "  ('who', 'PRON'),\n",
       "  ('*T*-1', 'X'),\n",
       "  ('are', 'VERB'),\n",
       "  ('now', 'ADV'),\n",
       "  ('on', 'ADP'),\n",
       "  ('the', 'DET'),\n",
       "  ('board', 'NOUN'),\n",
       "  (',', '.'),\n",
       "  (\"''\", '.'),\n",
       "  ('he', 'PRON'),\n",
       "  ('said', 'VERB'),\n",
       "  ('*T*-2', 'X'),\n",
       "  ('.', '.')],\n",
       " [('Preston', 'NOUN'),\n",
       "  ('G.', 'NOUN'),\n",
       "  ('Foster', 'NOUN'),\n",
       "  ('Birmingham', 'NOUN'),\n",
       "  (',', '.'),\n",
       "  ('Ala', 'NOUN'),\n",
       "  ('.', '.')],\n",
       " [('``', '.'),\n",
       "  ('He', 'PRON'),\n",
       "  ('has', 'VERB'),\n",
       "  ('clamped', 'VERB'),\n",
       "  ('on', 'ADP'),\n",
       "  ('their', 'PRON'),\n",
       "  ('ankle', 'NOUN'),\n",
       "  ('like', 'ADP'),\n",
       "  ('a', 'DET'),\n",
       "  ('pit', 'NOUN'),\n",
       "  ('bull', 'NOUN'),\n",
       "  (',', '.'),\n",
       "  (\"''\", '.'),\n",
       "  ('says', 'VERB'),\n",
       "  ('*T*-1', 'X'),\n",
       "  ('Paul', 'NOUN'),\n",
       "  ('Leming', 'NOUN'),\n",
       "  (',', '.'),\n",
       "  ('a', 'DET'),\n",
       "  ('vice', 'NOUN'),\n",
       "  ('president', 'NOUN'),\n",
       "  ('with', 'ADP'),\n",
       "  ('Morgan', 'NOUN'),\n",
       "  ('Stanley', 'NOUN'),\n",
       "  ('&', 'CONJ'),\n",
       "  ('Co', 'NOUN'),\n",
       "  ('.', '.')],\n",
       " [('Brazil', 'NOUN'),\n",
       "  ('is', 'VERB'),\n",
       "  ('the', 'DET'),\n",
       "  ('third-largest', 'ADJ'),\n",
       "  ('producer', 'NOUN'),\n",
       "  ('*RNR*-1', 'X'),\n",
       "  ('and', 'CONJ'),\n",
       "  ('the', 'DET'),\n",
       "  ('fifth-largest', 'ADJ'),\n",
       "  ('exporter', 'NOUN'),\n",
       "  ('*RNR*-1', 'X'),\n",
       "  ('of', 'ADP'),\n",
       "  ('sugar', 'NOUN'),\n",
       "  ('in', 'ADP'),\n",
       "  ('the', 'DET'),\n",
       "  ('world', 'NOUN'),\n",
       "  ('.', '.')],\n",
       " [('The', 'DET'),\n",
       "  ('man', 'NOUN'),\n",
       "  ('was', 'VERB'),\n",
       "  ('Charles', 'NOUN'),\n",
       "  ('Z.', 'NOUN'),\n",
       "  ('Wick', 'NOUN'),\n",
       "  ('.', '.')],\n",
       " [('Reed', 'NOUN'),\n",
       "  ('International', 'NOUN'),\n",
       "  ('PLC', 'NOUN'),\n",
       "  ('said', 'VERB'),\n",
       "  ('that', 'ADP'),\n",
       "  ('net', 'ADJ'),\n",
       "  ('income', 'NOUN'),\n",
       "  ('for', 'ADP'),\n",
       "  ('the', 'DET'),\n",
       "  ('six', 'NUM'),\n",
       "  ('months', 'NOUN'),\n",
       "  ('ended', 'VERB'),\n",
       "  ('Oct.', 'NOUN'),\n",
       "  ('1', 'NUM'),\n",
       "  ('slipped', 'VERB'),\n",
       "  ('5', 'NUM'),\n",
       "  ('%', 'NOUN'),\n",
       "  ('to', 'PRT'),\n",
       "  ('#', '.'),\n",
       "  ('89.7', 'NUM'),\n",
       "  ('million', 'NUM'),\n",
       "  ('*U*', 'X'),\n",
       "  ('-LRB-', '.'),\n",
       "  ('$', '.'),\n",
       "  ('141.9', 'NUM'),\n",
       "  ('million', 'NUM'),\n",
       "  ('*U*', 'X'),\n",
       "  ('-RRB-', '.'),\n",
       "  (',', '.'),\n",
       "  ('or', 'CONJ'),\n",
       "  ('16', 'NUM'),\n",
       "  ('pence', 'NOUN'),\n",
       "  ('a', 'DET'),\n",
       "  ('share', 'NOUN'),\n",
       "  (',', '.'),\n",
       "  ('from', 'ADP'),\n",
       "  ('#', '.'),\n",
       "  ('94.8', 'NUM'),\n",
       "  ('million', 'NUM'),\n",
       "  ('*U*', 'X'),\n",
       "  ('-LRB-', '.'),\n",
       "  ('$', '.'),\n",
       "  ('149.9', 'NUM'),\n",
       "  ('million', 'NUM'),\n",
       "  ('*U*', 'X'),\n",
       "  ('-RRB-', '.'),\n",
       "  (',', '.'),\n",
       "  ('or', 'CONJ'),\n",
       "  ('17.3', 'NUM'),\n",
       "  ('pence', 'NOUN'),\n",
       "  ('a', 'DET'),\n",
       "  ('share', 'NOUN'),\n",
       "  ('.', '.')],\n",
       " [('South', 'NOUN'),\n",
       "  ('Carolina', 'NOUN'),\n",
       "  (\"'s\", 'PRT'),\n",
       "  ('reforms', 'NOUN'),\n",
       "  ('were', 'VERB'),\n",
       "  ('designed', 'VERB'),\n",
       "  ('*-1', 'X'),\n",
       "  ('for', 'ADP'),\n",
       "  ('schools', 'NOUN'),\n",
       "  ('like', 'ADP'),\n",
       "  ('Greenville', 'NOUN'),\n",
       "  ('High', 'NOUN'),\n",
       "  ('School', 'NOUN'),\n",
       "  ('.', '.')]]"
      ]
     },
     "execution_count": 9,
     "metadata": {},
     "output_type": "execute_result"
    }
   ],
   "source": [
    "print(\"First 10 sentences of Validation Data:\")\n",
    "valdn_set[:10]\n"
   ]
  },
  {
   "cell_type": "code",
   "execution_count": 10,
   "metadata": {},
   "outputs": [
    {
     "name": "stdout",
     "output_type": "stream",
     "text": [
      "Number of tagged words in Train Data:  95949\n"
     ]
    }
   ],
   "source": [
    "# Getting list of tagged words\n",
    "train_tagged_words = [tup for sent in train_set for tup in sent]\n",
    "print(\"Number of tagged words in Train Data: \",len(train_tagged_words))\n"
   ]
  },
  {
   "cell_type": "code",
   "execution_count": 11,
   "metadata": {},
   "outputs": [
    {
     "name": "stdout",
     "output_type": "stream",
     "text": [
      "Initial 10 tagged words in train data\n"
     ]
    },
    {
     "data": {
      "text/plain": [
       "['One',\n",
       " 'bright',\n",
       " 'sign',\n",
       " 'is',\n",
       " 'that',\n",
       " 'a',\n",
       " 'growing',\n",
       " 'number',\n",
       " 'of',\n",
       " 'women']"
      ]
     },
     "execution_count": 11,
     "metadata": {},
     "output_type": "execute_result"
    }
   ],
   "source": [
    "# tokens \n",
    "tokens = [pair[0] for pair in train_tagged_words]\n",
    "print(\"Initial 10 tagged words in train data\")\n",
    "tokens[:10]\n"
   ]
  },
  {
   "cell_type": "code",
   "execution_count": 12,
   "metadata": {},
   "outputs": [
    {
     "name": "stdout",
     "output_type": "stream",
     "text": [
      "Size of Vocabulary:  12106\n"
     ]
    }
   ],
   "source": [
    "# vocabulary\n",
    "V = set(tokens)\n",
    "print(\"Size of Vocabulary: \",len(V))\n"
   ]
  },
  {
   "cell_type": "code",
   "execution_count": 13,
   "metadata": {},
   "outputs": [
    {
     "name": "stdout",
     "output_type": "stream",
     "text": [
      "Number of Tags:  12\n"
     ]
    }
   ],
   "source": [
    "# number of tags\n",
    "T = set([pair[1] for pair in train_tagged_words])\n",
    "print(\"Number of Tags: \",len(T))\n"
   ]
  },
  {
   "cell_type": "code",
   "execution_count": 14,
   "metadata": {},
   "outputs": [
    {
     "name": "stdout",
     "output_type": "stream",
     "text": [
      "Set of unique Tags:  {'NUM', '.', 'ADJ', 'NOUN', 'ADP', 'PRON', 'VERB', 'ADV', 'CONJ', 'PRT', 'DET', 'X'}\n"
     ]
    }
   ],
   "source": [
    "print(\"Set of unique Tags: \",T)"
   ]
  },
  {
   "cell_type": "markdown",
   "metadata": {},
   "source": [
    "## Hidden Markov Model"
   ]
  },
  {
   "cell_type": "markdown",
   "metadata": {},
   "source": [
    "- Markov processes are commonly used to model sequential data, such as text and speech.\n",
    "- The Hidden Markov Model (HMM) is an extension to the Markov process which is used to model phenomena where the states are hidden (or latent) and they emit observations.\n",
    "- In POS tagging, we can only observe words in a sentence, while the POS tags themselves are hidden.\n",
    "- The hidden states emit observations with a certain probability.\n",
    "- Hidden Markov Models also have emission probabilities which represent the probability that an observation is emitted by a particular state.\n"
   ]
  },
  {
   "cell_type": "markdown",
   "metadata": {},
   "source": [
    "### Calculations of Emission and Transition Probabilities"
   ]
  },
  {
   "cell_type": "markdown",
   "metadata": {},
   "source": [
    "### Emission Probabilities"
   ]
  },
  {
   "cell_type": "markdown",
   "metadata": {},
   "source": [
    "Emission Probability of a word 'w' for tag 't':\n",
    "\n",
    "P(w|t) = Number of times w has been tagged t / Number of times t appears"
   ]
  },
  {
   "cell_type": "code",
   "execution_count": 15,
   "metadata": {
    "scrolled": true
   },
   "outputs": [],
   "source": [
    "# computing P(w/t) and storing in T x V matrix\n",
    "t = len(T)\n",
    "v = len(V)\n",
    "w_given_t = np.zeros((t, v))"
   ]
  },
  {
   "cell_type": "code",
   "execution_count": 16,
   "metadata": {},
   "outputs": [],
   "source": [
    "# compute word given tag: Emission Probability\n",
    "def word_given_tag(word, tag, train_bag = train_tagged_words):\n",
    "    tag_list = [pair for pair in train_bag if pair[1]==tag]\n",
    "    count_tag = len(tag_list)\n",
    "    w_given_tag_list = [pair[0] for pair in tag_list if pair[0]==word]\n",
    "    count_w_given_tag = len(w_given_tag_list)\n",
    "    \n",
    "    return (count_w_given_tag, count_tag)"
   ]
  },
  {
   "cell_type": "code",
   "execution_count": 17,
   "metadata": {
    "scrolled": true
   },
   "outputs": [
    {
     "name": "stdout",
     "output_type": "stream",
     "text": [
      "\n",
      " large\n",
      "(28, 6105)\n",
      "(0, 12919)\n",
      "(0, 27539) \n",
      "\n",
      "\n",
      " will\n",
      "(0, 6301)\n",
      "(1, 27539)\n",
      "(262, 12919)\n",
      "\n",
      " book\n",
      "(7, 27539)\n",
      "(0, 12919)\n"
     ]
    }
   ],
   "source": [
    "# examples\n",
    "\n",
    "# large\n",
    "print(\"\\n\", \"large\")\n",
    "print(word_given_tag('large', 'ADJ'))\n",
    "print(word_given_tag('large', 'VERB'))\n",
    "print(word_given_tag('large', 'NOUN'), \"\\n\")\n",
    "\n",
    "# will\n",
    "print(\"\\n\", \"will\")\n",
    "print(word_given_tag('will', 'X'))\n",
    "print(word_given_tag('will', 'NOUN'))\n",
    "print(word_given_tag('will', 'VERB'))\n",
    "\n",
    "# book\n",
    "print(\"\\n\", \"book\")\n",
    "print(word_given_tag('book', 'NOUN'))\n",
    "print(word_given_tag('book', 'VERB'))\n"
   ]
  },
  {
   "cell_type": "markdown",
   "metadata": {},
   "source": [
    "From the emission probabilities we observe that\n",
    "- The probability of the word 'large' being a an ADJ (Adjective) is higher than all other possibilities\n",
    "- The probability of word 'will' being a VERB (verb) is higher than all other possibilities\n",
    "- The probability of word 'book' being a NOUN (Noun) is higher than all other possibilities\n"
   ]
  },
  {
   "cell_type": "markdown",
   "metadata": {},
   "source": [
    "### Transition Probabilities"
   ]
  },
  {
   "cell_type": "markdown",
   "metadata": {},
   "source": [
    "Transition Probability of tag t1 followed by tag t2:\n",
    "\n",
    "P(t2|t1) = Number of times t1 is followed by tag t2/ Number of times t1 appears"
   ]
  },
  {
   "cell_type": "code",
   "execution_count": 18,
   "metadata": {},
   "outputs": [],
   "source": [
    "# compute tag given tag: tag2(t2) given tag1 (t1), i.e. Transition Probability\n",
    "\n",
    "def t2_given_t1(t2, t1, train_bag = train_tagged_words):\n",
    "    tags = [pair[1] for pair in train_bag]\n",
    "    count_t1 = len([t for t in tags if t==t1])\n",
    "    count_t2_t1 = 0\n",
    "    for index in range(len(tags)-1):\n",
    "        if tags[index]==t1 and tags[index+1] == t2:\n",
    "            count_t2_t1 += 1\n",
    "    return (count_t2_t1, count_t1)"
   ]
  },
  {
   "cell_type": "code",
   "execution_count": 19,
   "metadata": {},
   "outputs": [
    {
     "name": "stdout",
     "output_type": "stream",
     "text": [
      "0.14695522713243037\n"
     ]
    }
   ],
   "source": [
    "# Example\n",
    "print(t2_given_t1(t2='VERB', t1='NOUN')[0]/t2_given_t1(t2='VERB', t1='NOUN')[1])\n"
   ]
  },
  {
   "cell_type": "markdown",
   "metadata": {},
   "source": [
    "The transition probability of Verb given Noun is 14.69%"
   ]
  },
  {
   "cell_type": "code",
   "execution_count": 20,
   "metadata": {
    "scrolled": true
   },
   "outputs": [],
   "source": [
    "# creating t x t transition matrix of tags\n",
    "# each column is t2, each row is t1\n",
    "# thus M(i, j) represents P(tj given ti)\n",
    "\n",
    "tags_matrix = np.zeros((len(T), len(T)), dtype='float32')\n",
    "for i, t1 in enumerate(list(T)):\n",
    "    for j, t2 in enumerate(list(T)): \n",
    "        tags_matrix[i, j] = t2_given_t1(t2, t1)[0]/t2_given_t1(t2, t1)[1]"
   ]
  },
  {
   "cell_type": "code",
   "execution_count": 21,
   "metadata": {
    "scrolled": false
   },
   "outputs": [
    {
     "data": {
      "text/plain": [
       "array([[1.84194893e-01, 1.18835412e-01, 3.35710049e-02, 3.52346987e-01,\n",
       "        3.50564457e-02, 1.48544263e-03, 1.69340465e-02, 2.67379684e-03,\n",
       "        1.30718956e-02, 2.61437912e-02, 3.86215094e-03, 2.11824119e-01],\n",
       "       [8.13525841e-02, 9.29231346e-02, 4.36810479e-02, 2.22531170e-01,\n",
       "        9.22055766e-02, 6.52076453e-02, 8.87075067e-02, 5.22916839e-02,\n",
       "        5.80321103e-02, 2.51143589e-03, 1.73558161e-01, 2.69082431e-02],\n",
       "       [2.08026208e-02, 6.38820603e-02, 6.71580657e-02, 7.00900912e-01,\n",
       "        7.86240771e-02, 4.91400482e-04, 1.17936116e-02, 4.91400482e-03,\n",
       "        1.60524156e-02, 1.01556098e-02, 4.91400482e-03, 2.03112196e-02],\n",
       "       [9.55009274e-03, 2.39950612e-01, 1.21645667e-02, 2.64279753e-01,\n",
       "        1.77057996e-01, 4.72057797e-03, 1.46955222e-01, 1.68125201e-02,\n",
       "        4.29209471e-02, 4.33566943e-02, 1.33628668e-02, 2.88681500e-02],\n",
       "       [6.19103163e-02, 3.97540554e-02, 1.07388951e-01, 3.21212769e-01,\n",
       "        1.74917839e-02, 6.91190511e-02, 8.48086551e-03, 1.33573627e-02,\n",
       "        8.48086493e-04, 1.48415135e-03, 3.23969036e-01, 3.49835679e-02],\n",
       "       [7.27969361e-03, 4.06130254e-02, 7.20306486e-02, 2.11494252e-01,\n",
       "        2.33716480e-02, 7.66283507e-03, 4.84291196e-01, 3.40996161e-02,\n",
       "        4.98084305e-03, 1.22605367e-02, 9.19540226e-03, 9.27203074e-02],\n",
       "       [2.24475581e-02, 3.42905782e-02, 6.56397566e-02, 1.11386329e-01,\n",
       "        9.11835283e-02, 3.59160937e-02, 1.68743715e-01, 8.20496976e-02,\n",
       "        5.18616010e-03, 3.14265825e-02, 1.33292049e-01, 2.18437955e-01],\n",
       "       [3.16244997e-02, 1.35153130e-01, 1.30159780e-01, 3.16244997e-02,\n",
       "        1.19507320e-01, 1.56458057e-02, 3.44540626e-01, 7.72303566e-02,\n",
       "        6.99067907e-03, 1.43142473e-02, 6.99067935e-02, 2.33022645e-02],\n",
       "       [4.21882235e-02, 3.56977284e-02, 1.18683353e-01, 3.50486785e-01,\n",
       "        5.37783951e-02, 5.84144630e-02, 1.55308291e-01, 5.37783951e-02,\n",
       "        4.63606848e-04, 3.70885478e-03, 1.18683353e-01, 8.80852994e-03],\n",
       "       [5.61023615e-02, 4.36351709e-02, 8.36614147e-02, 2.45734915e-01,\n",
       "        1.93569548e-02, 1.77165363e-02, 4.05183733e-01, 1.01706041e-02,\n",
       "        2.29658792e-03, 1.96850393e-03, 1.01049870e-01, 1.31233595e-02],\n",
       "       [2.16398165e-02, 1.79129597e-02, 2.04977155e-01, 6.37292624e-01,\n",
       "        9.61769652e-03, 3.72685748e-03, 4.03943248e-02, 1.26232272e-02,\n",
       "        4.80884832e-04, 2.40442416e-04, 5.77061810e-03, 4.53233942e-02],\n",
       "       [2.85668951e-03, 1.62831292e-01, 1.65053159e-02, 6.23710528e-02,\n",
       "        1.44897640e-01, 5.57054430e-02, 2.04570696e-01, 2.53927950e-02,\n",
       "        1.03158224e-02, 1.84891284e-01, 5.52293286e-02, 7.44326264e-02]],\n",
       "      dtype=float32)"
      ]
     },
     "execution_count": 21,
     "metadata": {},
     "output_type": "execute_result"
    }
   ],
   "source": [
    "tags_matrix"
   ]
  },
  {
   "cell_type": "code",
   "execution_count": 22,
   "metadata": {},
   "outputs": [],
   "source": [
    "# convert the matrix to a df for better readability\n",
    "import pandas as pd\n",
    "tags_df = pd.DataFrame(tags_matrix, columns = list(T), index=list(T))"
   ]
  },
  {
   "cell_type": "code",
   "execution_count": 23,
   "metadata": {
    "scrolled": true
   },
   "outputs": [
    {
     "data": {
      "text/html": [
       "<div>\n",
       "<style scoped>\n",
       "    .dataframe tbody tr th:only-of-type {\n",
       "        vertical-align: middle;\n",
       "    }\n",
       "\n",
       "    .dataframe tbody tr th {\n",
       "        vertical-align: top;\n",
       "    }\n",
       "\n",
       "    .dataframe thead th {\n",
       "        text-align: right;\n",
       "    }\n",
       "</style>\n",
       "<table border=\"1\" class=\"dataframe\">\n",
       "  <thead>\n",
       "    <tr style=\"text-align: right;\">\n",
       "      <th></th>\n",
       "      <th>NUM</th>\n",
       "      <th>.</th>\n",
       "      <th>ADJ</th>\n",
       "      <th>NOUN</th>\n",
       "      <th>ADP</th>\n",
       "      <th>PRON</th>\n",
       "      <th>VERB</th>\n",
       "      <th>ADV</th>\n",
       "      <th>CONJ</th>\n",
       "      <th>PRT</th>\n",
       "      <th>DET</th>\n",
       "      <th>X</th>\n",
       "    </tr>\n",
       "  </thead>\n",
       "  <tbody>\n",
       "    <tr>\n",
       "      <th>NUM</th>\n",
       "      <td>0.184195</td>\n",
       "      <td>0.118835</td>\n",
       "      <td>0.033571</td>\n",
       "      <td>0.352347</td>\n",
       "      <td>0.035056</td>\n",
       "      <td>0.001485</td>\n",
       "      <td>0.016934</td>\n",
       "      <td>0.002674</td>\n",
       "      <td>0.013072</td>\n",
       "      <td>0.026144</td>\n",
       "      <td>0.003862</td>\n",
       "      <td>0.211824</td>\n",
       "    </tr>\n",
       "    <tr>\n",
       "      <th>.</th>\n",
       "      <td>0.081353</td>\n",
       "      <td>0.092923</td>\n",
       "      <td>0.043681</td>\n",
       "      <td>0.222531</td>\n",
       "      <td>0.092206</td>\n",
       "      <td>0.065208</td>\n",
       "      <td>0.088708</td>\n",
       "      <td>0.052292</td>\n",
       "      <td>0.058032</td>\n",
       "      <td>0.002511</td>\n",
       "      <td>0.173558</td>\n",
       "      <td>0.026908</td>\n",
       "    </tr>\n",
       "    <tr>\n",
       "      <th>ADJ</th>\n",
       "      <td>0.020803</td>\n",
       "      <td>0.063882</td>\n",
       "      <td>0.067158</td>\n",
       "      <td>0.700901</td>\n",
       "      <td>0.078624</td>\n",
       "      <td>0.000491</td>\n",
       "      <td>0.011794</td>\n",
       "      <td>0.004914</td>\n",
       "      <td>0.016052</td>\n",
       "      <td>0.010156</td>\n",
       "      <td>0.004914</td>\n",
       "      <td>0.020311</td>\n",
       "    </tr>\n",
       "    <tr>\n",
       "      <th>NOUN</th>\n",
       "      <td>0.009550</td>\n",
       "      <td>0.239951</td>\n",
       "      <td>0.012165</td>\n",
       "      <td>0.264280</td>\n",
       "      <td>0.177058</td>\n",
       "      <td>0.004721</td>\n",
       "      <td>0.146955</td>\n",
       "      <td>0.016813</td>\n",
       "      <td>0.042921</td>\n",
       "      <td>0.043357</td>\n",
       "      <td>0.013363</td>\n",
       "      <td>0.028868</td>\n",
       "    </tr>\n",
       "    <tr>\n",
       "      <th>ADP</th>\n",
       "      <td>0.061910</td>\n",
       "      <td>0.039754</td>\n",
       "      <td>0.107389</td>\n",
       "      <td>0.321213</td>\n",
       "      <td>0.017492</td>\n",
       "      <td>0.069119</td>\n",
       "      <td>0.008481</td>\n",
       "      <td>0.013357</td>\n",
       "      <td>0.000848</td>\n",
       "      <td>0.001484</td>\n",
       "      <td>0.323969</td>\n",
       "      <td>0.034984</td>\n",
       "    </tr>\n",
       "    <tr>\n",
       "      <th>PRON</th>\n",
       "      <td>0.007280</td>\n",
       "      <td>0.040613</td>\n",
       "      <td>0.072031</td>\n",
       "      <td>0.211494</td>\n",
       "      <td>0.023372</td>\n",
       "      <td>0.007663</td>\n",
       "      <td>0.484291</td>\n",
       "      <td>0.034100</td>\n",
       "      <td>0.004981</td>\n",
       "      <td>0.012261</td>\n",
       "      <td>0.009195</td>\n",
       "      <td>0.092720</td>\n",
       "    </tr>\n",
       "    <tr>\n",
       "      <th>VERB</th>\n",
       "      <td>0.022448</td>\n",
       "      <td>0.034291</td>\n",
       "      <td>0.065640</td>\n",
       "      <td>0.111386</td>\n",
       "      <td>0.091184</td>\n",
       "      <td>0.035916</td>\n",
       "      <td>0.168744</td>\n",
       "      <td>0.082050</td>\n",
       "      <td>0.005186</td>\n",
       "      <td>0.031427</td>\n",
       "      <td>0.133292</td>\n",
       "      <td>0.218438</td>\n",
       "    </tr>\n",
       "    <tr>\n",
       "      <th>ADV</th>\n",
       "      <td>0.031624</td>\n",
       "      <td>0.135153</td>\n",
       "      <td>0.130160</td>\n",
       "      <td>0.031624</td>\n",
       "      <td>0.119507</td>\n",
       "      <td>0.015646</td>\n",
       "      <td>0.344541</td>\n",
       "      <td>0.077230</td>\n",
       "      <td>0.006991</td>\n",
       "      <td>0.014314</td>\n",
       "      <td>0.069907</td>\n",
       "      <td>0.023302</td>\n",
       "    </tr>\n",
       "    <tr>\n",
       "      <th>CONJ</th>\n",
       "      <td>0.042188</td>\n",
       "      <td>0.035698</td>\n",
       "      <td>0.118683</td>\n",
       "      <td>0.350487</td>\n",
       "      <td>0.053778</td>\n",
       "      <td>0.058414</td>\n",
       "      <td>0.155308</td>\n",
       "      <td>0.053778</td>\n",
       "      <td>0.000464</td>\n",
       "      <td>0.003709</td>\n",
       "      <td>0.118683</td>\n",
       "      <td>0.008809</td>\n",
       "    </tr>\n",
       "    <tr>\n",
       "      <th>PRT</th>\n",
       "      <td>0.056102</td>\n",
       "      <td>0.043635</td>\n",
       "      <td>0.083661</td>\n",
       "      <td>0.245735</td>\n",
       "      <td>0.019357</td>\n",
       "      <td>0.017717</td>\n",
       "      <td>0.405184</td>\n",
       "      <td>0.010171</td>\n",
       "      <td>0.002297</td>\n",
       "      <td>0.001969</td>\n",
       "      <td>0.101050</td>\n",
       "      <td>0.013123</td>\n",
       "    </tr>\n",
       "    <tr>\n",
       "      <th>DET</th>\n",
       "      <td>0.021640</td>\n",
       "      <td>0.017913</td>\n",
       "      <td>0.204977</td>\n",
       "      <td>0.637293</td>\n",
       "      <td>0.009618</td>\n",
       "      <td>0.003727</td>\n",
       "      <td>0.040394</td>\n",
       "      <td>0.012623</td>\n",
       "      <td>0.000481</td>\n",
       "      <td>0.000240</td>\n",
       "      <td>0.005771</td>\n",
       "      <td>0.045323</td>\n",
       "    </tr>\n",
       "    <tr>\n",
       "      <th>X</th>\n",
       "      <td>0.002857</td>\n",
       "      <td>0.162831</td>\n",
       "      <td>0.016505</td>\n",
       "      <td>0.062371</td>\n",
       "      <td>0.144898</td>\n",
       "      <td>0.055705</td>\n",
       "      <td>0.204571</td>\n",
       "      <td>0.025393</td>\n",
       "      <td>0.010316</td>\n",
       "      <td>0.184891</td>\n",
       "      <td>0.055229</td>\n",
       "      <td>0.074433</td>\n",
       "    </tr>\n",
       "  </tbody>\n",
       "</table>\n",
       "</div>"
      ],
      "text/plain": [
       "           NUM         .       ADJ      NOUN       ADP      PRON      VERB  \\\n",
       "NUM   0.184195  0.118835  0.033571  0.352347  0.035056  0.001485  0.016934   \n",
       ".     0.081353  0.092923  0.043681  0.222531  0.092206  0.065208  0.088708   \n",
       "ADJ   0.020803  0.063882  0.067158  0.700901  0.078624  0.000491  0.011794   \n",
       "NOUN  0.009550  0.239951  0.012165  0.264280  0.177058  0.004721  0.146955   \n",
       "ADP   0.061910  0.039754  0.107389  0.321213  0.017492  0.069119  0.008481   \n",
       "PRON  0.007280  0.040613  0.072031  0.211494  0.023372  0.007663  0.484291   \n",
       "VERB  0.022448  0.034291  0.065640  0.111386  0.091184  0.035916  0.168744   \n",
       "ADV   0.031624  0.135153  0.130160  0.031624  0.119507  0.015646  0.344541   \n",
       "CONJ  0.042188  0.035698  0.118683  0.350487  0.053778  0.058414  0.155308   \n",
       "PRT   0.056102  0.043635  0.083661  0.245735  0.019357  0.017717  0.405184   \n",
       "DET   0.021640  0.017913  0.204977  0.637293  0.009618  0.003727  0.040394   \n",
       "X     0.002857  0.162831  0.016505  0.062371  0.144898  0.055705  0.204571   \n",
       "\n",
       "           ADV      CONJ       PRT       DET         X  \n",
       "NUM   0.002674  0.013072  0.026144  0.003862  0.211824  \n",
       ".     0.052292  0.058032  0.002511  0.173558  0.026908  \n",
       "ADJ   0.004914  0.016052  0.010156  0.004914  0.020311  \n",
       "NOUN  0.016813  0.042921  0.043357  0.013363  0.028868  \n",
       "ADP   0.013357  0.000848  0.001484  0.323969  0.034984  \n",
       "PRON  0.034100  0.004981  0.012261  0.009195  0.092720  \n",
       "VERB  0.082050  0.005186  0.031427  0.133292  0.218438  \n",
       "ADV   0.077230  0.006991  0.014314  0.069907  0.023302  \n",
       "CONJ  0.053778  0.000464  0.003709  0.118683  0.008809  \n",
       "PRT   0.010171  0.002297  0.001969  0.101050  0.013123  \n",
       "DET   0.012623  0.000481  0.000240  0.005771  0.045323  \n",
       "X     0.025393  0.010316  0.184891  0.055229  0.074433  "
      ]
     },
     "execution_count": 23,
     "metadata": {},
     "output_type": "execute_result"
    }
   ],
   "source": [
    "# each column is t2, each row is t1\n",
    "# thus M(i, j) represents P(tj given ti)\n",
    "\n",
    "tags_df"
   ]
  },
  {
   "cell_type": "code",
   "execution_count": 24,
   "metadata": {
    "scrolled": true
   },
   "outputs": [
    {
     "data": {
      "text/plain": [
       "NUM     0.081353\n",
       ".       0.092923\n",
       "ADJ     0.043681\n",
       "NOUN    0.222531\n",
       "ADP     0.092206\n",
       "PRON    0.065208\n",
       "VERB    0.088708\n",
       "ADV     0.052292\n",
       "CONJ    0.058032\n",
       "PRT     0.002511\n",
       "DET     0.173558\n",
       "X       0.026908\n",
       "Name: ., dtype: float32"
      ]
     },
     "execution_count": 24,
     "metadata": {},
     "output_type": "execute_result"
    }
   ],
   "source": [
    "tags_df.loc['.', :]"
   ]
  },
  {
   "cell_type": "markdown",
   "metadata": {},
   "source": [
    "- Thus we observe that the probability of a NOUN being the start of the sentence is 22.3%\n",
    "- The probability of a DET (Determiner) being the start of the sentence is 17.27%\n",
    "- The probability of a particle PRT (eg:An, Out, Over etc.) appearing at the start of a sentence is almost 0%\n"
   ]
  },
  {
   "cell_type": "code",
   "execution_count": 25,
   "metadata": {
    "scrolled": false
   },
   "outputs": [
    {
     "data": {
      "image/png": "[encoded data removed]",
      "text/plain": [
       "<Figure size 1296x864 with 2 Axes>"
      ]
     },
     "metadata": {
      "needs_background": "light"
     },
     "output_type": "display_data"
    }
   ],
   "source": [
    "# heatmap of tags matrix\n",
    "# T(i, j) means P(tag j given tag i)\n",
    "import matplotlib.pyplot as plt\n",
    "plt.figure(figsize=(18, 12))\n",
    "sns.heatmap(tags_df)\n",
    "plt.show()\n"
   ]
  },
  {
   "cell_type": "code",
   "execution_count": 26,
   "metadata": {
    "scrolled": true
   },
   "outputs": [
    {
     "data": {
      "image/png": "[encoded data removed]",
      "text/plain": [
       "<Figure size 1296x864 with 2 Axes>"
      ]
     },
     "metadata": {
      "needs_background": "light"
     },
     "output_type": "display_data"
    }
   ],
   "source": [
    "# frequent tags\n",
    "# filter the df to get P(t2, t1) > 0.5\n",
    "tags_frequent = tags_df[tags_df>0.5]\n",
    "plt.figure(figsize=(18, 12))\n",
    "sns.heatmap(tags_frequent)\n",
    "plt.show()"
   ]
  },
  {
   "cell_type": "markdown",
   "metadata": {},
   "source": [
    "- Thus we observe that the probability of a NOUN appearing after a DET (determiner) is higher\n",
    "- The probability of a NOUN appearing after an ADJ (Adjective) is also higher\n"
   ]
  },
  {
   "cell_type": "markdown",
   "metadata": {},
   "source": [
    "## Data Preparation - Validation Set"
   ]
  },
  {
   "cell_type": "code",
   "execution_count": 27,
   "metadata": {},
   "outputs": [
    {
     "data": {
      "text/plain": [
       "[('Investors', 'NOUN'),\n",
       " ('took', 'VERB'),\n",
       " ('advantage', 'NOUN'),\n",
       " ('of', 'ADP'),\n",
       " ('Tuesday', 'NOUN'),\n",
       " (\"'s\", 'PRT'),\n",
       " ('stock', 'NOUN'),\n",
       " ('rally', 'NOUN'),\n",
       " ('*-1', 'X'),\n",
       " ('to', 'PRT')]"
      ]
     },
     "execution_count": 27,
     "metadata": {},
     "output_type": "execute_result"
    }
   ],
   "source": [
    "# list of tagged words\n",
    "valdn_run_base = [tup for sent in valdn_set for tup in sent]\n",
    "\n",
    "# list of untagged words\n",
    "valdn_tagged_words = [tup[0] for sent in valdn_set for tup in sent]\n",
    "valdn_run_base[:10]\n"
   ]
  },
  {
   "cell_type": "markdown",
   "metadata": {},
   "source": [
    "### Data Preparation - Sample Test File"
   ]
  },
  {
   "cell_type": "code",
   "execution_count": 28,
   "metadata": {},
   "outputs": [],
   "source": [
    "# The path of the sample test file\n",
    "path = r'D:\\Maria\\Data Science\\Data Files\\NLP Assignment'"
   ]
  },
  {
   "cell_type": "code",
   "execution_count": 29,
   "metadata": {},
   "outputs": [],
   "source": [
    "with open(path + \"\\\\\" + \"Test_sentences.txt\", \"r\") as file:\n",
    "    data = file.read().replace('\\n', ' ')\n",
    "samp_file_words = word_tokenize(data)"
   ]
  },
  {
   "cell_type": "code",
   "execution_count": 30,
   "metadata": {
    "scrolled": true
   },
   "outputs": [
    {
     "data": {
      "text/plain": [
       "[('Android', 'NOUN'),\n",
       " ('is', 'VERB'),\n",
       " ('a', 'DET'),\n",
       " ('mobile', 'ADJ'),\n",
       " ('operating', 'NOUN'),\n",
       " ('system', 'NOUN'),\n",
       " ('developed', 'VERB'),\n",
       " ('by', 'ADP'),\n",
       " ('Google', 'NOUN'),\n",
       " ('.', '.'),\n",
       " ('Android', 'NOUN'),\n",
       " ('has', 'VERB'),\n",
       " ('been', 'VERB'),\n",
       " ('the', 'DET'),\n",
       " ('best-selling', 'ADJ'),\n",
       " ('OS', 'NOUN'),\n",
       " ('worldwide', 'NOUN'),\n",
       " ('on', 'ADP'),\n",
       " ('smartphones', 'NOUN'),\n",
       " ('since', 'ADP'),\n",
       " ('2011', 'NUM'),\n",
       " ('and', 'CONJ'),\n",
       " ('on', 'ADP'),\n",
       " ('tablets', 'NOUN'),\n",
       " ('since', 'ADP'),\n",
       " ('2013', 'NUM'),\n",
       " ('.', '.'),\n",
       " ('Google', 'NOUN'),\n",
       " ('and', 'CONJ'),\n",
       " ('Twitter', 'NOUN'),\n",
       " ('made', 'VERB'),\n",
       " ('a', 'DET'),\n",
       " ('deal', 'NOUN'),\n",
       " ('in', 'ADP'),\n",
       " ('2015', 'NUM'),\n",
       " ('that', 'DET'),\n",
       " ('gave', 'VERB'),\n",
       " ('Google', 'NOUN'),\n",
       " ('access', 'NOUN'),\n",
       " ('to', 'PRT'),\n",
       " ('Twitter', 'NOUN'),\n",
       " (\"'s\", 'PRT'),\n",
       " ('firehose', 'NOUN'),\n",
       " ('.', '.'),\n",
       " ('Twitter', 'NOUN'),\n",
       " ('is', 'VERB'),\n",
       " ('an', 'DET'),\n",
       " ('online', 'ADJ'),\n",
       " ('news', 'NOUN'),\n",
       " ('and', 'CONJ'),\n",
       " ('social', 'ADJ'),\n",
       " ('networking', 'NOUN'),\n",
       " ('service', 'NOUN'),\n",
       " ('on', 'ADP'),\n",
       " ('which', 'DET'),\n",
       " ('users', 'NOUN'),\n",
       " ('post', 'NOUN'),\n",
       " ('and', 'CONJ'),\n",
       " ('interact', 'NOUN'),\n",
       " ('with', 'ADP'),\n",
       " ('messages', 'NOUN'),\n",
       " ('known', 'VERB'),\n",
       " ('as', 'ADP'),\n",
       " ('tweets', 'NOUN'),\n",
       " ('.', '.'),\n",
       " ('Before', 'ADP'),\n",
       " ('entering', 'VERB'),\n",
       " ('politics', 'NOUN'),\n",
       " (',', '.'),\n",
       " ('Donald', 'NOUN'),\n",
       " ('Trump', 'NOUN'),\n",
       " ('was', 'VERB'),\n",
       " ('a', 'DET'),\n",
       " ('domineering', 'ADJ'),\n",
       " ('businessman', 'NOUN'),\n",
       " ('and', 'CONJ'),\n",
       " ('a', 'DET'),\n",
       " ('television', 'NOUN'),\n",
       " ('personality', 'NOUN'),\n",
       " ('.', '.'),\n",
       " ('The', 'DET'),\n",
       " ('2018', 'NUM'),\n",
       " ('FIFA', 'NOUN'),\n",
       " ('World', 'NOUN'),\n",
       " ('Cup', 'NOUN'),\n",
       " ('is', 'VERB'),\n",
       " ('the', 'DET'),\n",
       " ('21st', 'NUM'),\n",
       " ('FIFA', 'NOUN'),\n",
       " ('World', 'NOUN'),\n",
       " ('Cup', 'NOUN'),\n",
       " (',', '.'),\n",
       " ('an', 'DET'),\n",
       " ('international', 'ADJ'),\n",
       " ('football', 'NOUN'),\n",
       " ('tournament', 'NOUN'),\n",
       " ('contested', 'VERB'),\n",
       " ('once', 'ADV'),\n",
       " ('every', 'DET'),\n",
       " ('four', 'NUM'),\n",
       " ('years', 'NOUN'),\n",
       " ('.', '.'),\n",
       " ('This', 'DET'),\n",
       " ('is', 'VERB'),\n",
       " ('the', 'DET'),\n",
       " ('first', 'ADJ'),\n",
       " ('World', 'NOUN'),\n",
       " ('Cup', 'NOUN'),\n",
       " ('to', 'PRT'),\n",
       " ('be', 'VERB'),\n",
       " ('held', 'VERB'),\n",
       " ('in', 'ADP'),\n",
       " ('Eastern', 'NOUN'),\n",
       " ('Europe', 'NOUN'),\n",
       " ('and', 'CONJ'),\n",
       " ('the', 'DET'),\n",
       " ('11th', 'NUM'),\n",
       " ('time', 'NOUN'),\n",
       " ('that', 'ADP'),\n",
       " ('it', 'PRON'),\n",
       " ('has', 'VERB'),\n",
       " ('been', 'VERB'),\n",
       " ('held', 'VERB'),\n",
       " ('in', 'ADP'),\n",
       " ('Europe', 'NOUN'),\n",
       " ('.', '.'),\n",
       " ('Show', 'VERB'),\n",
       " ('me', 'PRON'),\n",
       " ('the', 'DET'),\n",
       " ('cheapest', 'ADJ'),\n",
       " ('round', 'NOUN'),\n",
       " ('trips', 'NOUN'),\n",
       " ('from', 'ADP'),\n",
       " ('Dallas', 'NOUN'),\n",
       " ('to', 'PRT'),\n",
       " ('Atlanta', 'NOUN'),\n",
       " ('I', 'PRON'),\n",
       " ('would', 'VERB'),\n",
       " ('like', 'VERB'),\n",
       " ('to', 'PRT'),\n",
       " ('see', 'VERB'),\n",
       " ('flights', 'NOUN'),\n",
       " ('from', 'ADP'),\n",
       " ('Denver', 'NOUN'),\n",
       " ('to', 'PRT'),\n",
       " ('Philadelphia', 'NOUN'),\n",
       " ('.', '.'),\n",
       " ('Show', 'VERB'),\n",
       " ('me', 'PRON'),\n",
       " ('the', 'DET'),\n",
       " ('price', 'NOUN'),\n",
       " ('of', 'ADP'),\n",
       " ('the', 'DET'),\n",
       " ('flights', 'NOUN'),\n",
       " ('leaving', 'VERB'),\n",
       " ('Atlanta', 'NOUN'),\n",
       " ('at', 'ADP'),\n",
       " ('about', 'ADV'),\n",
       " ('3', 'NUM'),\n",
       " ('in', 'ADP'),\n",
       " ('the', 'DET'),\n",
       " ('afternoon', 'NOUN'),\n",
       " ('and', 'CONJ'),\n",
       " ('arriving', 'NOUN'),\n",
       " ('in', 'ADP'),\n",
       " ('San', 'NOUN'),\n",
       " ('Francisco', 'NOUN'),\n",
       " ('.', '.'),\n",
       " ('NASA', 'NOUN'),\n",
       " ('invited', 'VERB'),\n",
       " ('social', 'ADJ'),\n",
       " ('media', 'NOUN'),\n",
       " ('users', 'NOUN'),\n",
       " ('to', 'PRT'),\n",
       " ('experience', 'VERB'),\n",
       " ('the', 'DET'),\n",
       " ('launch', 'NOUN'),\n",
       " ('of', 'ADP'),\n",
       " ('ICESAT-2', 'NOUN'),\n",
       " ('Satellite', 'NOUN'),\n",
       " ('.', '.')]"
      ]
     },
     "execution_count": 30,
     "metadata": {},
     "output_type": "execute_result"
    }
   ],
   "source": [
    "# Tagging sample file with Universal tag\n",
    "sample_tagged_words = nltk.pos_tag(samp_file_words, tagset='universal')\n",
    "sample_tagged_words"
   ]
  },
  {
   "cell_type": "markdown",
   "metadata": {},
   "source": [
    "### Creating commonly used functions to evaluate Validation/Test Data, calculate accuracy and to get incorrect tagged sentences"
   ]
  },
  {
   "cell_type": "markdown",
   "metadata": {},
   "source": [
    "#### Function to evaluate the Viterbi and modified Algorithms over validation data / test data"
   ]
  },
  {
   "cell_type": "code",
   "execution_count": 31,
   "metadata": {},
   "outputs": [],
   "source": [
    "def test_evaluate(Func_name,test_data):\n",
    "    start = time.time()\n",
    "    tagged_seq = Func_name(test_data)\n",
    "    end = time.time()\n",
    "    difference = end - start\n",
    "    return difference,tagged_seq"
   ]
  },
  {
   "cell_type": "markdown",
   "metadata": {},
   "source": [
    "#### Function to calculate accuracy of the algorithm"
   ]
  },
  {
   "cell_type": "code",
   "execution_count": 32,
   "metadata": {},
   "outputs": [],
   "source": [
    "def get_accuracy(tagged_seq, test_run_base):\n",
    "    check = [i for i, j in zip(tagged_seq, test_run_base) if i == j] \n",
    "    accuracy = len(check)/len(tagged_seq)\n",
    "    return(accuracy)\n"
   ]
  },
  {
   "cell_type": "markdown",
   "metadata": {},
   "source": [
    "#### Function to get incorrectly tagged words"
   ]
  },
  {
   "cell_type": "code",
   "execution_count": 33,
   "metadata": {},
   "outputs": [],
   "source": [
    "def get_incorrect_tagged_cases(tagged_seq, test_run_base):\n",
    "    incorrect_tagged_cases = [[test_run_base[i-1],j] for i, j in enumerate(zip(tagged_seq, test_run_base)) if j[0]!=j[1]]\n",
    "    return(incorrect_tagged_cases)\n"
   ]
  },
  {
   "cell_type": "markdown",
   "metadata": {},
   "source": [
    "#### Function to get the word and its tag from a given sequence"
   ]
  },
  {
   "cell_type": "code",
   "execution_count": 34,
   "metadata": {},
   "outputs": [],
   "source": [
    "def get_tag (word, seq_name):\n",
    "    \n",
    "    for i,val in enumerate(seq_name):\n",
    "        if val[0] == word:\n",
    "            return (val)"
   ]
  },
  {
   "cell_type": "markdown",
   "metadata": {},
   "source": [
    "### Vanilla Viterbi based POS tagger"
   ]
  },
  {
   "cell_type": "markdown",
   "metadata": {},
   "source": [
    "- Viterbi algorithm is an example of dynamic programming algorithm.\n",
    "- Hidden Markov Model - The task of learning transition and emission probabilities using some tagged corpus, such as the Penn Treebank, is called the learning problem.\n",
    "- Viterbi Algorithm - is the explanation/decoding problem, which solves using the learning problem. "
   ]
  },
  {
   "cell_type": "markdown",
   "metadata": {},
   "source": [
    "- Viterbi algorithm: For every word w in the sentence, a tag t is assigned to w such that it maximises the likelihood of the occurrence of P(tag|word), where \n",
    "\n",
    "P(tag|word) = P(word|tag) * P(tag|previous tag)\n",
    "\n",
    "            = Emission probability * Transition probability\n",
    "            "
   ]
  },
  {
   "cell_type": "markdown",
   "metadata": {},
   "source": [
    "### The Vanilla Viterbi Algorithm"
   ]
  },
  {
   "cell_type": "code",
   "execution_count": 35,
   "metadata": {},
   "outputs": [],
   "source": [
    "# Viterbi Heuristic\n",
    "def Viterbi(words, train_bag = train_tagged_words):\n",
    "    state = []\n",
    "    T = list(set([pair[1] for pair in train_bag]))\n",
    "    \n",
    "    for key, word in enumerate(words):\n",
    "        #initialise list of probability column for a given observation\n",
    "        p = [] \n",
    "        for tag in T:\n",
    "            if key == 0:\n",
    "                transition_p = tags_df.loc['.', tag]\n",
    "            else:\n",
    "                transition_p = tags_df.loc[state[-1], tag]\n",
    "                \n",
    "            # compute emission and state probabilities\n",
    "            emission_p = word_given_tag(words[key], tag)[0]/word_given_tag(words[key], tag)[1]\n",
    "            state_probability = emission_p * transition_p    \n",
    "            p.append(state_probability)\n",
    "            \n",
    "        pmax = max(p)\n",
    "        # getting state for which probability is maximum\n",
    "        state_max = T[p.index(pmax)] \n",
    "        state.append(state_max)\n",
    "    return list(zip(words, state))"
   ]
  },
  {
   "cell_type": "markdown",
   "metadata": {},
   "source": [
    "### Evaluation of Vanilla Viterbi algorithm over Validation set"
   ]
  },
  {
   "cell_type": "code",
   "execution_count": 36,
   "metadata": {},
   "outputs": [
    {
     "name": "stdout",
     "output_type": "stream",
     "text": [
      "Evaluation time taken (in seconds) for Viterbi algorithm on validation set:  2239.8753089904785\n",
      "[('Investors', 'NOUN'), ('took', 'VERB'), ('advantage', 'NOUN'), ('of', 'ADP'), ('Tuesday', 'NOUN'), (\"'s\", 'PRT'), ('stock', 'NOUN'), ('rally', 'NOUN'), ('*-1', 'X'), ('to', 'PRT'), ('book', 'NOUN'), ('some', 'DET'), ('profits', 'NOUN'), ('yesterday', 'NOUN'), (',', '.'), ('*-1', 'X'), ('leaving', 'VERB'), ('stocks', 'NOUN'), ('up', 'PRT'), ('fractionally', 'ADV'), ('.', '.'), ('Buying', 'VERB'), ('for', 'ADP'), ('the', 'DET'), ('most', 'ADJ'), ('part', 'NOUN'), ('carried', 'VERB'), ('over', 'ADP'), ('from', 'ADP'), ('the', 'DET'), ('previous', 'ADJ'), ('session', 'NOUN'), (',', '.'), ('and', 'CONJ'), ('traders', 'NOUN'), ('apparently', 'ADV'), ('ignored', 'NUM'), ('reports', 'NOUN'), ('that', 'ADP'), ('a', 'DET'), ('Chilean', 'ADJ'), ('mine', 'NOUN'), ('strike', 'NOUN'), ('may', 'VERB'), ('have', 'VERB'), ('ended', 'VERB'), ('almost', 'ADV'), ('before', 'ADP'), ('it', 'PRON'), ('began', 'VERB'), (',', '.'), ('an', 'DET'), ('analyst', 'NOUN'), ('said', 'VERB'), ('0', 'X'), ('*T*-1', 'X'), ('.', '.'), ('An', 'DET'), ('official', 'NOUN'), ('of', 'ADP'), ('the', 'DET'), ('Palestinian', 'ADJ'), ('Olympic', 'NOUN'), ('Committee', 'NOUN'), ('said', 'VERB'), ('0', 'X'), ('the', 'DET'), ('committee', 'NOUN'), ('first', 'ADJ'), ('applied', 'VERB'), ('for', 'ADP'), ('membership', 'NOUN'), ('in', 'ADP'), ('1979', 'NUM'), ('and', 'CONJ'), ('renewed', 'VERB'), ('its', 'PRON'), ('application', 'NOUN'), ('in', 'ADP'), ('August', 'NOUN'), ('of', 'ADP'), ('this', 'DET'), ('year', 'NOUN'), ('.', '.'), ('``', '.'), ('If', 'ADP'), ('I', 'PRON'), ('were', 'VERB'), ('choosing', 'VERB'), ('the', 'DET'), ('people', 'NOUN'), ('of', 'ADP'), ('tomorrow', 'NOUN'), (',', '.'), ('I', 'PRON'), ('would', 'VERB'), ('have', 'VERB'), ('chosen', 'VERB'), ('the', 'DET'), ('people', 'NOUN'), ('who', 'PRON'), ('*T*-1', 'X'), ('are', 'VERB'), ('now', 'ADV'), ('on', 'ADP'), ('the', 'DET'), ('board', 'NOUN'), (',', '.'), (\"''\", '.'), ('he', 'PRON'), ('said', 'VERB'), ('*T*-2', 'X'), ('.', '.'), ('Preston', 'NUM'), ('G.', 'NOUN'), ('Foster', 'NOUN'), ('Birmingham', 'NUM'), (',', '.'), ('Ala', 'NUM'), ('.', '.'), ('``', '.'), ('He', 'PRON'), ('has', 'VERB'), ('clamped', 'NUM'), ('on', 'ADP'), ('their', 'PRON'), ('ankle', 'NUM'), ('like', 'ADP'), ('a', 'DET'), ('pit', 'NOUN'), ('bull', 'NOUN'), (',', '.'), (\"''\", '.'), ('says', 'VERB'), ('*T*-1', 'X'), ('Paul', 'NOUN'), ('Leming', 'NOUN'), (',', '.'), ('a', 'DET'), ('vice', 'NOUN'), ('president', 'NOUN'), ('with', 'ADP'), ('Morgan', 'NOUN'), ('Stanley', 'NOUN'), ('&', 'CONJ'), ('Co', 'NOUN'), ('.', '.'), ('Brazil', 'NOUN'), ('is', 'VERB'), ('the', 'DET'), ('third-largest', 'NUM'), ('producer', 'NOUN'), ('*RNR*-1', 'X'), ('and', 'CONJ'), ('the', 'DET'), ('fifth-largest', 'NUM'), ('exporter', 'NOUN'), ('*RNR*-1', 'X'), ('of', 'ADP'), ('sugar', 'NOUN'), ('in', 'ADP'), ('the', 'DET'), ('world', 'NOUN'), ('.', '.'), ('The', 'DET'), ('man', 'NOUN'), ('was', 'VERB'), ('Charles', 'NOUN'), ('Z.', 'NUM'), ('Wick', 'NUM'), ('.', '.'), ('Reed', 'NOUN'), ('International', 'NOUN'), ('PLC', 'NOUN'), ('said', 'VERB'), ('that', 'ADP'), ('net', 'ADJ'), ('income', 'NOUN'), ('for', 'ADP'), ('the', 'DET'), ('six', 'NUM'), ('months', 'NOUN'), ('ended', 'VERB'), ('Oct.', 'NOUN'), ('1', 'NUM'), ('slipped', 'VERB'), ('5', 'NUM'), ('%', 'NOUN'), ('to', 'PRT'), ('#', '.'), ('89.7', 'NUM'), ('million', 'NUM'), ('*U*', 'X'), ('-LRB-', '.'), ('$', '.'), ('141.9', 'NUM'), ('million', 'NUM'), ('*U*', 'X'), ('-RRB-', '.'), (',', '.'), ('or', 'CONJ'), ('16', 'NUM'), ('pence', 'NOUN'), ('a', 'DET'), ('share', 'NOUN'), (',', '.'), ('from', 'ADP'), ('#', '.'), ('94.8', 'NUM'), ('million', 'NUM'), ('*U*', 'X'), ('-LRB-', '.'), ('$', '.'), ('149.9', 'NUM'), ('million', 'NUM'), ('*U*', 'X'), ('-RRB-', '.'), (',', '.'), ('or', 'CONJ'), ('17.3', 'NUM'), ('pence', 'NOUN'), ('a', 'DET'), ('share', 'NOUN'), ('.', '.'), ('South', 'NOUN'), ('Carolina', 'NOUN'), (\"'s\", 'PRT'), ('reforms', 'NOUN'), ('were', 'VERB'), ('designed', 'VERB'), ('*-1', 'X'), ('for', 'ADP'), ('schools', 'NOUN'), ('like', 'ADP'), ('Greenville', 'NOUN'), ('High', 'NOUN'), ('School', 'NOUN'), ('.', '.'), ('The', 'DET'), ('other', 'ADJ'), ('side', 'NOUN'), (',', '.'), ('he', 'PRON'), ('argues', 'NUM'), ('0', 'X'), ('*T*-1', 'X'), (',', '.'), ('``', '.'), ('knows', 'VERB'), ('0', 'X'), ('Giuliani', 'NOUN'), ('has', 'VERB'), ('always', 'ADV'), ('been', 'VERB'), ('pro-choice', 'ADJ'), (',', '.'), ('even', 'ADV'), ('though', 'ADP'), ('he', 'PRON'), ('has', 'VERB'), ('personal', 'ADJ'), ('reservations', 'NOUN'), ('.', '.'), ('`', '.'), ('*', 'X'), ('Sit', 'NUM'), ('down', 'PRT'), ('!', '.'), ('The', 'DET'), ('British', 'ADJ'), ('Department', 'NOUN'), ('of', 'ADP'), ('Trade', 'NOUN'), ('and', 'CONJ'), ('Industry', 'NOUN'), ('ordered', 'VERB'), ('an', 'DET'), ('investigation', 'NOUN'), ('of', 'ADP'), ('the', 'DET'), ('competitive', 'ADJ'), ('impact', 'NOUN'), ('of', 'ADP'), ('Michelin', 'NOUN'), ('Tyre', 'NOUN'), ('PLC', 'NOUN'), (\"'s\", 'PRT'), ('planned', 'VERB'), ('acquisition', 'NOUN'), ('of', 'ADP'), ('National', 'NOUN'), ('Tyre', 'NOUN'), ('Service', 'NOUN'), ('Ltd', 'NOUN'), ('.', '.'), ('United', 'NOUN'), ('Illuminating', 'NOUN'), ('is', 'VERB'), ('based', 'VERB'), ('*-13', 'X'), ('in', 'ADP'), ('New', 'NOUN'), ('Haven', 'NOUN'), (',', '.'), ('Conn.', 'NOUN'), (',', '.'), ('and', 'CONJ'), ('Northeast', 'NOUN'), ('is', 'VERB'), ('based', 'VERB'), ('*-14', 'X'), ('in', 'ADP'), ('Hartford', 'NOUN'), (',', '.'), ('Conn', 'NOUN'), ('.', '.'), ('That', 'DET'), ('settlement', 'NOUN'), ('was', 'VERB'), ('in', 'ADP'), ('April', 'NOUN'), ('1987', 'NUM'), ('.', '.'), ('Also', 'ADV'), (',', '.'), ('the', 'DET'), ('reforms', 'NOUN'), ('allow', 'VERB'), ('the', 'DET'), ('Big', 'NOUN'), ('Board', 'NOUN'), ('to', 'PRT'), ('halt', 'NOUN'), ('trading', 'NOUN'), ('for', 'ADP'), ('one', 'NUM'), ('hour', 'NOUN'), ('if', 'ADP'), ('the', 'DET'), ('Dow', 'NOUN'), ('Jones', 'NOUN'), ('Industrial', 'NOUN'), ('Average', 'NOUN'), ('falls', 'VERB'), ('250', 'NUM'), ('points', 'NOUN'), (',', '.'), ('and', 'CONJ'), ('for', 'ADP'), ('two', 'NUM'), ('more', 'ADJ'), ('hours', 'NOUN'), ('if', 'ADP'), ('the', 'DET'), ('Dow', 'NOUN'), ('slides', 'NOUN'), ('an', 'DET'), ('additional', 'ADJ'), ('150', 'NUM'), ('points', 'NOUN'), ('on', 'ADP'), ('the', 'DET'), ('same', 'ADJ'), ('day', 'NOUN'), ('.', '.'), ('Currently', 'ADV'), (',', '.'), ('both', 'DET'), ('Massachusetts', 'NOUN'), ('and', 'CONJ'), ('Connecticut', 'NOUN'), (',', '.'), ('where', 'ADV'), ('most', 'ADJ'), ('of', 'ADP'), ('Bank', 'NOUN'), ('of', 'ADP'), ('New', 'NOUN'), ('England', 'NOUN'), (\"'s\", 'PRT'), ('operations', 'NOUN'), ('are', 'VERB'), ('*T*-1', 'X'), (',', '.'), ('allow', 'VERB'), ('interstate', 'ADJ'), ('banking', 'NOUN'), ('only', 'ADV'), ('within', 'ADP'), ('New', 'NOUN'), ('England', 'NOUN'), ('.', '.'), ('She', 'PRON'), ('says', 'VERB'), ('0', 'X'), ('individual', 'ADJ'), ('Barnett', 'NOUN'), ('branches', 'NOUN'), ('can', 'VERB'), ('add', 'VERB'), ('different', 'ADJ'), ('benefits', 'NOUN'), ('*ICH*-1', 'X'), ('to', 'PRT'), ('their', 'PRON'), ('Seniors', 'NOUN'), ('Partners', 'NOUN'), ('package', 'NOUN'), ('--', '.'), ('such', 'ADJ'), ('as', 'ADP'), ('athletic', 'NUM'), ('activities', 'NOUN'), ('or', 'CONJ'), ('travel', 'NOUN'), ('clubs', 'NOUN'), ('--', '.'), ('*-2', 'X'), ('to', 'PRT'), ('appeal', 'NOUN'), ('to', 'PRT'), ('local', 'ADJ'), ('market', 'NOUN'), ('interests', 'NOUN'), ('.', '.'), ('Last', 'ADJ'), ('year', 'NOUN'), (',', '.'), ('DSM', 'NOUN'), ('had', 'VERB'), ('71', 'NUM'), ('million', 'NUM'), ('guilders', 'NOUN'), ('of', 'ADP'), ('extraordinary', 'ADJ'), ('charges', 'NOUN'), ('for', 'ADP'), ('the', 'DET'), ('restructuring', 'NOUN'), ('program', 'NOUN'), ('and', 'CONJ'), ('other', 'ADJ'), ('transactions', 'NOUN'), ('.', '.'), ('Futures', 'NOUN'), ('prices', 'NOUN'), ('rose', 'VERB'), (',', '.'), ('*-1', 'X'), ('extending', 'VERB'), ('Tuesday', 'NOUN'), (\"'s\", 'PRT'), ('gains', 'NOUN'), ('.', '.'), ('Perhaps', 'ADV'), ('none', 'NOUN'), ('of', 'ADP'), ('the', 'DET'), ('unconstitutional', 'ADJ'), ('conditions', 'NOUN'), ('contained', 'VERB'), ('*', 'X'), ('in', 'ADP'), ('the', 'DET'), ('appropriations', 'NOUN'), ('bills', 'NOUN'), ('for', 'ADP'), ('fiscal', 'ADJ'), ('1990', 'NUM'), ('better', 'ADJ'), ('*ICH*-1', 'X'), ('illustrates', 'NUM'), ('Congress', 'NOUN'), (\"'s\", 'PRT'), ('attempt', 'VERB'), ('*', 'X'), ('to', 'PRT'), ('usurp', 'NUM'), ('executive', 'NOUN'), ('power', 'NOUN'), ('than', 'ADP'), ('Section', 'NOUN'), ('609', 'NUM'), ('of', 'ADP'), ('the', 'DET'), ('executive-office', 'NUM'), ('bill', 'NOUN'), (':', '.'), ('``', '.'), ('None', 'NOUN'), ('of', 'ADP'), ('the', 'DET'), ('funds', 'NOUN'), ('made', 'VERB'), ('*', 'X'), ('available', 'ADJ'), ('pursuant', 'ADJ'), ('to', 'PRT'), ('the', 'DET'), ('provisions', 'NOUN'), ('of', 'ADP'), ('this', 'DET'), ('Act', 'NOUN'), ('shall', 'VERB'), ('be', 'VERB'), ('used', 'VERB'), ('*-2', 'X'), ('*', 'X'), ('to', 'PRT'), ('implement', 'VERB'), (',', '.'), ('administer', 'NUM'), (',', '.'), ('or', 'CONJ'), ('enforce', 'VERB'), ('any', 'DET'), ('regulation', 'NOUN'), ('which', 'DET'), ('*T*-3', 'X'), ('has', 'VERB'), ('been', 'VERB'), ('disapproved', 'NUM'), ('*-58', 'NUM'), ('pursuant', 'ADJ'), ('to', 'PRT'), ('a', 'DET'), ('resolution', 'NOUN'), ('of', 'ADP'), ('disapproval', 'NUM'), ('duly', 'ADV'), ('adopted', 'VERB'), ('*', 'X'), ('in', 'ADP'), ('accordance', 'NUM'), ('with', 'ADP'), ('the', 'DET'), ('applicable', 'NUM'), ('law', 'NOUN'), ('of', 'ADP'), ('the', 'DET'), ('United', 'NOUN'), ('States', 'NOUN'), ('.', '.'), (\"''\", '.'), ('Mead', 'NUM'), ('rose', 'VERB'), ('3\\\\/4', 'NUM'), ('to', 'PRT'), ('39', 'NUM'), ('1\\\\/2', 'NUM'), (',', '.'), ('Federal', 'NOUN'), ('Paper', 'NUM'), ('Board', 'NOUN'), ('added', 'VERB'), ('1\\\\/2', 'NUM'), ('to', 'PRT'), ('24', 'NUM'), ('3\\\\/8', 'NUM'), ('and', 'CONJ'), ('Scott', 'NOUN'), ('Paper', 'NUM'), ('gained', 'VERB'), ('1\\\\/2', 'NUM'), ('to', 'PRT'), ('48', 'NUM'), ('3\\\\/8', 'NUM'), (',', '.'), ('while', 'ADP'), ('International', 'NOUN'), ('Paper', 'NUM'), ('fell', 'VERB'), ('7\\\\/8', 'NUM'), ('to', 'PRT'), ('48', 'NUM'), ('7\\\\/8', 'NUM'), (',', '.'), ('Champion', 'NOUN'), ('International', 'NOUN'), ('lost', 'VERB'), ('3\\\\/8', 'NUM'), ('to', 'PRT'), ('31', 'NUM'), ('1\\\\/2', 'NUM'), ('and', 'CONJ'), ('Louisiana-Pacific', 'NUM'), ('dropped', 'VERB'), ('1\\\\/8', 'NUM'), ('to', 'PRT'), ('40', 'NUM'), ('1\\\\/4', 'NUM'), ('.', '.'), ('In', 'ADP'), ('composite', 'ADJ'), ('trading', 'NOUN'), ('on', 'ADP'), ('the', 'DET'), ('New', 'NOUN'), ('York', 'NOUN'), ('Stock', 'NOUN'), ('Exchange', 'NOUN'), ('yesterday', 'NOUN'), (',', '.'), ('Comprehensive', 'NOUN'), ('Care', 'NOUN'), ('closed', 'VERB'), ('at', 'ADP'), ('$', '.'), ('3.75', 'NUM'), ('*U*', 'X'), ('a', 'DET'), ('share', 'NOUN'), (',', '.'), ('up', 'ADV'), ('12.5', 'NUM'), ('cents', 'NOUN'), ('.', '.'), ('Campbell', 'NOUN'), ('Soup', 'NOUN'), (',', '.'), ('not', 'ADV'), ('surprisingly', 'ADV'), (',', '.'), ('does', 'VERB'), (\"n't\", 'ADV'), ('have', 'VERB'), ('any', 'DET'), ('plans', 'NOUN'), ('*', 'X'), ('to', 'PRT'), ('advertise', 'VERB'), ('in', 'ADP'), ('the', 'DET'), ('magazine', 'NOUN'), (',', '.'), ('according', 'VERB'), ('to', 'PRT'), ('its', 'PRON'), ('spokesman', 'NOUN'), ('.', '.'), ('I', 'PRON'), ('believe', 'VERB'), ('0', 'X'), ('you', 'PRON'), ('have', 'VERB'), ('*-1', 'X'), ('to', 'PRT'), ('use', 'VERB'), ('the', 'DET'), ('system', 'NOUN'), ('*-2', 'X'), ('to', 'PRT'), ('change', 'VERB'), ('it', 'PRON'), ('.', '.'), ('Five', 'NUM'), ('things', 'NOUN'), ('0', 'X'), ('you', 'PRON'), ('can', 'VERB'), ('do', 'VERB'), ('*T*-1', 'X'), ('for', 'ADP'), ('$', '.'), ('15,000', 'NUM'), ('*U*', 'X'), ('or', 'CONJ'), ('less', 'ADJ'), (':', '.'), ('The', 'DET'), ('House', 'NOUN'), ('approved', 'VERB'), ('an', 'DET'), ('amendment', 'NOUN'), ('offered', 'VERB'), ('*', 'X'), ('by', 'ADP'), ('Rep.', 'NOUN'), ('Peter', 'NOUN'), ('DeFazio', 'NUM'), ('-LRB-', '.'), ('D.', 'NOUN'), (',', '.'), ('Ore.', 'NOUN'), ('-RRB-', '.'), ('that', 'DET'), ('*T*-1', 'X'), ('would', 'VERB'), (',', '.'), ('in', 'ADP'), ('addition', 'NOUN'), ('to', 'PRT'), ('the', 'DET'), ('previous', 'ADJ'), ('criteria', 'NUM'), (',', '.'), ('also', 'ADV'), ('require', 'VERB'), ('the', 'DET'), ('department', 'NOUN'), ('to', 'PRT'), ('block', 'VERB'), ('the', 'DET'), ('acquisition', 'NOUN'), ('of', 'ADP'), ('an', 'DET'), ('airline', 'NOUN'), ('if', 'ADP'), ('the', 'DET'), ('added', 'VERB'), ('debt', 'NOUN'), ('incurred', 'VERB'), ('*', 'X'), ('were', 'VERB'), ('likely', 'ADJ'), ('*-2', 'X'), ('to', 'PRT'), ('result', 'VERB'), ('in', 'ADP'), ('a', 'DET'), ('reduction', 'NOUN'), ('in', 'ADP'), ('the', 'DET'), ('number', 'NOUN'), ('of', 'ADP'), ('the', 'DET'), ('carrier', 'NOUN'), (\"'s\", 'PRT'), ('employees', 'NOUN'), (',', '.'), ('or', 'CONJ'), ('their', 'PRON'), ('wages', 'NOUN'), ('or', 'CONJ'), ('benefits', 'NOUN'), ('.', '.'), ('Proper', 'NUM'), ('English', 'NOUN'), ('bells', 'NOUN'), ('are', 'VERB'), ('started', 'VERB'), ('*-1', 'X'), ('off', 'PRT'), ('in', 'ADP'), ('``', '.'), ('rounds', 'NUM'), (',', '.'), (\"''\", '.'), ('from', 'ADP'), ('the', 'DET'), ('highest-pitched', 'NUM'), ('bell', 'NOUN'), ('to', 'PRT'), ('the', 'DET'), ('lowest', 'ADJ'), ('--', '.'), ('a', 'DET'), ('simple', 'ADJ'), ('descending', 'NUM'), ('scale', 'NOUN'), ('using', 'VERB'), (',', '.'), ('in', 'ADP'), ('larger', 'ADJ'), ('churches', 'NOUN'), (',', '.'), ('as', 'ADP'), ('many', 'ADJ'), ('as', 'ADP'), ('12', 'NUM'), ('bells', 'NOUN'), ('.', '.'), ('The', 'DET'), ('other', 'ADJ'), ('concern', 'NOUN'), ('was', 'VERB'), (\"n't\", 'ADV'), ('identified', 'VERB'), ('.', '.'), ('Mr.', 'NOUN'), ('Hahn', 'NOUN'), (',', '.'), ('the', 'DET'), ('62-year-old', 'NUM'), ('chairman', 'NOUN'), ('and', 'CONJ'), ('chief', 'NOUN'), ('executive', 'NOUN'), ('officer', 'NOUN'), ('of', 'ADP'), ('Georgia-Pacific', 'NOUN'), ('Corp.', 'NOUN'), ('is', 'VERB'), ('leading', 'VERB'), ('the', 'DET'), ('forest-product', 'NUM'), ('concern', 'NOUN'), (\"'s\", 'PRT'), ('unsolicited', 'NUM'), ('$', '.'), ('3.19', 'NUM'), ('billion', 'NUM'), ('*U*', 'X'), ('bid', 'VERB'), ('for', 'ADP'), ('Great', 'NOUN'), ('Northern', 'NOUN'), ('Nekoosa', 'NOUN'), ('Corp', 'NOUN'), ('.', '.'), ('``', '.'), ('The', 'DET'), ('record', 'NOUN'), ('of', 'ADP'), ('companies', 'NOUN'), ('that', 'ADP'), ('*T*-8', 'X'), ('have', 'VERB'), ('diversified', 'ADJ'), ('is', 'VERB'), (\"n't\", 'ADV'), ('all', 'DET'), ('that', 'ADP'), ('impressive', 'NUM'), (',', '.'), (\"''\", '.'), ('he', 'PRON'), ('says', 'VERB'), ('*T*-1', 'X'), ('.', '.'), ('But', 'CONJ'), ('rather', 'ADV'), ('than', 'ADP'), ('*', 'X'), ('sell', 'VERB'), ('new', 'ADJ'), ('30-year', 'ADJ'), ('bonds', 'NOUN'), (',', '.'), ('the', 'DET'), ('Treasury', 'NOUN'), ('will', 'VERB'), ('issue', 'NOUN'), ('$', '.'), ('10', 'NUM'), ('billion', 'NUM'), ('*U*', 'X'), ('of', 'ADP'), ('29year', 'NUM'), (',', '.'), ('nine-month', 'NUM'), ('bonds', 'NOUN'), ('--', '.'), ('*-2', 'X'), ('essentially', 'ADV'), ('increasing', 'VERB'), ('the', 'DET'), ('size', 'NOUN'), ('of', 'ADP'), ('the', 'DET'), ('current', 'ADJ'), ('benchmark', 'NOUN'), ('30-year', 'ADJ'), ('bond', 'NOUN'), ('that', 'ADP'), ('*T*-3', 'X'), ('was', 'VERB'), ('sold', 'VERB'), ('*-1', 'X'), ('at', 'ADP'), ('the', 'DET'), ('previous', 'ADJ'), ('refunding', 'NOUN'), ('in', 'ADP'), ('August', 'NOUN'), ('.', '.'), ('ECONOMIC', 'NUM'), ('GROWTH', 'NUM'), ('APPEARS', 'NUM'), ('*-1', 'X'), ('to', 'PRT'), ('be', 'VERB'), ('leveling', 'VERB'), ('off', 'PRT'), (',', '.'), ('latest', 'ADJ'), ('reports', 'NOUN'), ('suggest', 'VERB'), ('0', 'X'), ('*T*-2', 'X'), ('.', '.'), ('And', 'CONJ'), (',', '.'), ('of', 'ADP'), ('course', 'NOUN'), (',', '.'), ('there', 'DET'), (\"'s\", 'VERB'), ('that', 'ADP'), ('word', 'NOUN'), ('``', '.'), ('dissemination', 'NOUN'), ('.', '.'), (\"''\", '.'), ('Michelin', 'NOUN'), ('Tyre', 'NOUN'), ('is', 'VERB'), ('a', 'DET'), ('unit', 'NOUN'), ('of', 'ADP'), ('France', 'NOUN'), (\"'s\", 'PRT'), ('Michelin', 'NOUN'), ('S.A', 'NUM'), ('.', '.'), ('In', 'ADP'), ('the', 'DET'), ('coming', 'VERB'), ('decade', 'NOUN'), (',', '.'), ('analysts', 'NOUN'), ('say', 'VERB'), ('0', 'X'), ('*T*-2', 'X'), (',', '.'), ('U.S.-Japanese', 'NUM'), ('relations', 'NOUN'), ('will', 'VERB'), ('be', 'VERB'), ('tested', 'VERB'), ('*-1', 'X'), ('as', 'ADP'), ('Tokyo', 'NOUN'), ('comes', 'VERB'), ('to', 'PRT'), ('terms', 'NOUN'), ('with', 'ADP'), ('its', 'PRON'), ('new', 'ADJ'), ('status', 'NOUN'), ('as', 'ADP'), ('the', 'DET'), ('region', 'NOUN'), (\"'s\", 'PRT'), ('economic', 'ADJ'), ('behemoth', 'NUM'), ('.', '.'), ('Integra', 'NOUN'), (',', '.'), ('which', 'DET'), ('*T*-174', 'NUM'), ('owns', 'VERB'), ('and', 'CONJ'), ('operates', 'VERB'), ('hotels', 'NUM'), (',', '.'), ('said', 'VERB'), ('that', 'ADP'), ('Hallwood', 'NOUN'), ('Group', 'NOUN'), ('Inc.', 'NOUN'), ('has', 'VERB'), ('agreed', 'VERB'), ('*-1', 'X'), ('to', 'PRT'), ('exercise', 'VERB'), ('any', 'DET'), ('rights', 'NOUN'), ('that', 'ADP'), ('*T*-175', 'NUM'), ('are', 'VERB'), (\"n't\", 'ADV'), ('exercised', 'VERB'), ('*-2', 'X'), ('by', 'ADP'), ('other', 'ADJ'), ('shareholders', 'NOUN'), ('.', '.'), ('A', 'DET'), ('seat', 'NOUN'), ('on', 'ADP'), ('the', 'DET'), ('Chicago', 'NOUN'), ('Board', 'NOUN'), ('of', 'ADP'), ('Trade', 'NOUN'), ('was', 'VERB'), ('sold', 'VERB'), ('*-1', 'X'), ('for', 'ADP'), ('$', '.'), ('350,000', 'NUM'), ('*U*', 'X'), (',', '.'), ('down', 'ADV'), ('$', '.'), ('16,000', 'NUM'), ('*U*', 'X'), ('from', 'ADP'), ('the', 'DET'), ('previous', 'ADJ'), ('sale', 'NOUN'), ('last', 'ADJ'), ('Friday', 'NOUN'), ('.', '.'), ('Most', 'ADJ'), ('in', 'ADP'), ('demand', 'NOUN'), (':', '.'), ('classic', 'ADJ'), ('photographs', 'NOUN'), ('by', 'ADP'), ('masters', 'NUM'), ('such', 'ADJ'), ('as', 'ADP'), ('Stieglitz', 'NOUN'), ('and', 'CONJ'), ('Man', 'NOUN'), ('Ray', 'NOUN'), ('.', '.'), ('Not', 'ADV'), ('only', 'ADV'), ('is', 'VERB'), ('development', 'NOUN'), ('of', 'ADP'), ('the', 'DET'), ('new', 'ADJ'), ('company', 'NOUN'), (\"'s\", 'PRT'), ('initial', 'ADJ'), ('machine', 'NOUN'), ('tied', 'VERB'), ('*-1', 'X'), ('directly', 'ADV'), ('to', 'PRT'), ('Mr.', 'NOUN'), ('Cray', 'NOUN'), (',', '.'), ('so', 'ADV'), ('is', 'VERB'), ('*T*-2', 'X'), ('its', 'PRON'), ('balance', 'NOUN'), ('sheet', 'NOUN'), ('.', '.'), ('Tiny', 'NUM'), ('Tots', 'NUM'), ('Inc.', 'NOUN'), (',', '.'), ('Campbell', 'NOUN'), (',', '.'), ('Calif.', 'NOUN'), (',', '.'), ('says', 'VERB'), ('0', 'X'), ('business', 'NOUN'), ('is', 'VERB'), ('up', 'ADV'), ('35', 'NUM'), ('%', 'NOUN'), ('in', 'ADP'), ('the', 'DET'), ('past', 'ADJ'), ('year', 'NOUN'), ('.', '.'), ('``', '.'), ('She', 'PRON'), ('taught', 'VERB'), ('us', 'PRON'), ('more', 'ADJ'), ('in', 'ADP'), ('Western', 'ADJ'), ('Civilization', 'NOUN'), ('than', 'ADP'), ('I', 'PRON'), (\"'ve\", 'VERB'), ('ever', 'ADV'), ('learned', 'VERB'), ('in', 'ADP'), ('other', 'ADJ'), ('classes', 'NOUN'), (',', '.'), (\"''\", '.'), ('says', 'VERB'), ('*T*-2', 'X'), ('Kelli', 'NUM'), ('Green', 'NUM'), (',', '.'), ('a', 'DET'), ('Greenville', 'NOUN'), ('senior', 'ADJ'), ('.', '.'), ('A', 'DET'), ('spokesman', 'NOUN'), ('declined', 'VERB'), ('*-1', 'X'), ('to', 'PRT'), ('speculate', 'NUM'), ('about', 'ADP'), ('possible', 'ADJ'), ('reductions', 'NOUN'), ('in', 'ADP'), ('force', 'NOUN'), ('.', '.'), ('And', 'CONJ'), ('consumer', 'NOUN'), ('groups', 'NOUN'), ('hope', 'VERB'), ('that', 'ADP'), ('Judge', 'NOUN'), ('Curry', 'NOUN'), (\"'s\", 'PRT'), ('Byron', 'NOUN'), ('1', 'NUM'), ('order', 'NOUN'), ('may', 'VERB'), ('set', 'VERB'), ('a', 'DET'), ('precedent', 'NOUN'), ('for', 'ADP'), ('a', 'DET'), ('second', 'ADJ'), ('nuclear', 'ADJ'), ('rate', 'NOUN'), ('case', 'NOUN'), ('involving', 'VERB'), ('Commonwealth', 'NOUN'), ('Edison', 'NOUN'), (\"'s\", 'PRT'), ('Braidwood', 'NOUN'), ('2', 'NUM'), ('plant', 'NOUN'), ('.', '.'), ('Heritage', 'NOUN'), ('owns', 'VERB'), ('and', 'CONJ'), ('operates', 'VERB'), ('television', 'NOUN'), ('and', 'CONJ'), ('radio', 'NOUN'), ('stations', 'NOUN'), ('and', 'CONJ'), ('in-store', 'ADJ'), ('advertising', 'NOUN'), ('and', 'CONJ'), ('promotion', 'NOUN'), ('programs', 'NOUN'), ('.', '.'), ('The', 'DET'), ('protracted', 'ADJ'), ('downturn', 'NOUN'), ('reflects', 'VERB'), ('the', 'DET'), ('intensity', 'NOUN'), ('of', 'ADP'), ('Bank', 'NOUN'), ('of', 'ADP'), ('Japan', 'NOUN'), ('yen-support', 'NUM'), ('intervention', 'NUM'), ('since', 'ADP'), ('June', 'NOUN'), (',', '.'), ('when', 'ADV'), ('the', 'DET'), ('U.S.', 'NOUN'), ('currency', 'NOUN'), ('temporarily', 'ADV'), ('surged', 'VERB'), ('above', 'ADP'), ('the', 'DET'), ('150.00', 'NUM'), ('yen', 'NOUN'), ('level', 'NOUN'), ('*T*-1', 'X'), ('.', '.'), ('Any', 'DET'), ('money', 'NOUN'), ('in', 'ADP'), ('excess', 'ADJ'), ('of', 'ADP'), ('$', '.'), ('40', 'NUM'), ('million', 'NUM'), ('*U*', 'X'), ('collected', 'VERB'), ('*', 'X'), ('from', 'ADP'), ('the', 'DET'), ('fees', 'NOUN'), ('in', 'ADP'), ('fiscal', 'ADJ'), ('1990', 'NUM'), ('would', 'VERB'), ('go', 'VERB'), ('to', 'PRT'), ('the', 'DET'), ('Treasury', 'NOUN'), ('at', 'ADP'), ('large', 'ADJ'), ('.', '.'), ('Investor', 'NOUN'), ('Harold', 'NOUN'), ('Simmons', 'NOUN'), ('and', 'CONJ'), ('NL', 'NOUN'), ('Industries', 'NOUN'), ('Inc.', 'NOUN'), ('offered', 'VERB'), ('*-1', 'X'), ('to', 'PRT'), ('acquire', 'VERB'), ('Georgia', 'NOUN'), ('Gulf', 'NOUN'), ('Corp.', 'NOUN'), ('for', 'ADP'), ('$', '.'), ('50', 'NUM'), ('*U*', 'X'), ('a', 'DET'), ('share', 'NOUN'), (',', '.'), ('or', 'CONJ'), ('about', 'ADP'), ('$', '.'), ('1.1', 'NUM'), ('billion', 'NUM'), ('*U*', 'X'), (',', '.'), ('*-1', 'X'), ('stepping', 'VERB'), ('up', 'ADV'), ('the', 'DET'), ('pressure', 'NOUN'), ('on', 'ADP'), ('the', 'DET'), ('commodity', 'NOUN'), ('chemicals', 'NOUN'), ('concern', 'NOUN'), ('.', '.'), ('``', '.'), ('There', 'DET'), ('are', 'VERB'), ('no', 'DET'), ('smiles', 'NUM'), ('about', 'ADP'), ('this', 'DET'), ('bill', 'NOUN'), (',', '.'), (\"''\", '.'), ('Rep.', 'NOUN'), ('Pat', 'NOUN'), ('Williams', 'NOUN'), ('-LRB-', '.'), ('D.', 'NOUN'), (',', '.'), ('Mont', 'NUM'), ('.', '.'), ('-RRB-', '.'), ('said', 'VERB'), ('*T*-1', 'X'), ('during', 'ADP'), ('House', 'NOUN'), ('floor', 'NOUN'), ('debate', 'NOUN'), ('yesterday', 'NOUN'), ('.', '.'), ('Some', 'DET'), ('analysts', 'NOUN'), ('say', 'VERB'), ('0', 'X'), ('investors', 'NOUN'), ('should', 'VERB'), ('run', 'VERB'), ('for', 'ADP'), ('the', 'DET'), ('exits', 'NUM'), ('if', 'ADP'), ('a', 'DET'), ('sustained', 'VERB'), ('market', 'NOUN'), ('rebound', 'VERB'), ('pushes', 'NUM'), ('the', 'DET'), ('yield', 'NOUN'), ('below', 'ADP'), ('3', 'NUM'), ('%', 'NOUN'), ('.', '.'), ('*-1', 'X'), ('Left', 'NUM'), ('*-3', 'X'), ('to', 'PRT'), ('its', 'PRON'), ('own', 'ADJ'), ('devices', 'NOUN'), (',', '.'), ('index', 'NOUN'), ('arbitrage', 'NOUN'), ('will', 'VERB'), ('become', 'VERB'), ('more', 'ADV'), ('and', 'CONJ'), ('more', 'ADJ'), ('efficient', 'ADJ'), (',', '.'), ('*-1', 'X'), ('making', 'VERB'), ('it', 'PRON'), ('harder', 'ADJ'), ('and', 'CONJ'), ('harder', 'ADJ'), ('0', 'X'), ('*', 'X'), ('to', 'PRT'), ('do', 'VERB'), ('*T*-2', 'X'), ('profitably', 'ADV'), ('.', '.'), ('The', 'DET'), ('banks', 'NOUN'), ('have', 'VERB'), ('28', 'NUM'), ('days', 'NOUN'), ('0', 'X'), ('*', 'X'), ('to', 'PRT'), ('file', 'VERB'), ('an', 'DET'), ('appeal', 'NOUN'), ('against', 'ADP'), ('the', 'DET'), ('ruling', 'NOUN'), ('*T*-2', 'X'), ('and', 'CONJ'), ('are', 'VERB'), ('expected', 'VERB'), ('*-1', 'X'), ('to', 'PRT'), ('do', 'VERB'), ('so', 'ADV'), ('shortly', 'ADV'), ('.', '.'), ('Critics', 'NOUN'), ('say', 'VERB'), ('0', 'X'), ('South', 'NOUN'), ('Carolina', 'NOUN'), ('is', 'VERB'), ('paying', 'VERB'), ('a', 'DET'), ('price', 'NOUN'), ('by', 'ADP'), ('*', 'X'), ('stressing', 'VERB'), ('improved', 'VERB'), ('test', 'NOUN'), ('scores', 'NOUN'), ('so', 'ADP'), ('much', 'ADJ'), ('.', '.'), ('Sandoz', 'NUM'), ('Ltd.', 'NOUN'), ('has', 'VERB'), ('licensed', 'VERB'), ('certain', 'ADJ'), ('manufacturing', 'NOUN'), ('and', 'CONJ'), ('marketing', 'NOUN'), ('rights', 'NOUN'), ('for', 'ADP'), ('Interleukin-3', 'NOUN'), ('from', 'ADP'), ('Genetics', 'NOUN'), ('Institute', 'NOUN'), ('and', 'CONJ'), ('is', 'VERB'), ('conducting', 'VERB'), ('preclinical', 'NUM'), ('studies', 'NOUN'), ('with', 'ADP'), ('it', 'PRON'), ('.', '.'), ('A', 'DET'), ('House', 'NOUN'), ('aide', 'NOUN'), ('suggested', 'VERB'), ('that', 'ADP'), ('Mr.', 'NOUN'), ('Phelan', 'NOUN'), ('was', 'VERB'), ('so', 'ADV'), ('``', '.'), ('vague', 'NUM'), ('and', 'CONJ'), ('mushy', 'NUM'), (\"''\", '.'), ('that', 'DET'), ('it', 'PRON'), ('was', 'VERB'), ('the', 'DET'), ('kind', 'NOUN'), ('of', 'ADP'), ('meeting', 'NOUN'), ('where', 'ADV'), ('people', 'NOUN'), ('of', 'ADP'), ('all', 'DET'), ('viewpoints', 'NUM'), ('could', 'VERB'), ('``', '.'), ('come', 'VERB'), ('out', 'PRT'), ('*-2', 'X'), ('feeling', 'VERB'), ('good', 'ADJ'), ('*T*-1', 'X'), ('.', '.'), (\"''\", '.'), ('Wine', 'NOUN'), ('merchants', 'NOUN'), ('ca', 'VERB'), (\"n't\", 'ADV'), ('keep', 'VERB'), ('Roederer', 'NOUN'), ('Cristal', 'NOUN'), ('in', 'ADP'), ('stock', 'NOUN'), (',', '.'), ('but', 'CONJ'), ('they', 'PRON'), ('have', 'VERB'), ('*-1', 'X'), ('to', 'PRT'), ('push', 'VERB'), ('Salon', 'NOUN'), ('le', 'NUM'), ('Mesnil', 'NOUN'), (',', '.'), ('*-2', 'X'), ('even', 'ADV'), ('lowering', 'VERB'), ('the', 'DET'), ('price', 'NOUN'), ('from', 'ADP'), ('$', '.'), ('115', 'NUM'), ('*U*', 'X'), ('to', 'PRT'), ('$', '.'), ('90', 'NUM'), ('*U*', 'X'), ('.', '.'), ('Many', 'ADJ'), ('people', 'NOUN'), (',', '.'), ('including', 'VERB'), ('the', 'DET'), ('Big', 'NOUN'), ('Board', 'NOUN'), (',', '.'), ('think', 'VERB'), ('that', 'ADP'), ('it', 'PRON'), (\"'s\", 'VERB'), ('too', 'ADV'), ('late', 'ADJ'), ('*', 'X'), ('to', 'PRT'), ('put', 'VERB'), ('the', 'DET'), ('genie', 'NUM'), ('back', 'PRT'), ('in', 'ADP'), ('the', 'DET'), ('bottle', 'NOUN'), ('.', '.'), ('The', 'DET'), ('len', 'NUM'), (\"'s\", 'PRT'), ('foldability', 'NUM'), ('enables', 'VERB'), ('it', 'PRON'), ('to', 'PRT'), ('be', 'VERB'), ('inserted', 'NUM'), ('*-1', 'X'), ('in', 'ADP'), ('smaller', 'ADJ'), ('incisions', 'NUM'), ('than', 'ADP'), ('*', 'X'), ('are', 'VERB'), ('now', 'ADV'), ('possible', 'ADJ'), ('for', 'ADP'), ('cataract', 'NOUN'), ('surgery', 'NOUN'), (',', '.'), ('the', 'DET'), ('eye', 'NUM'), ('care', 'NOUN'), ('and', 'CONJ'), ('skin', 'NOUN'), ('care', 'VERB'), ('concern', 'NOUN'), ('said', 'VERB'), ('0', 'X'), ('*T*-3', 'X'), ('.', '.'), ('If', 'ADP'), ('the', 'DET'), ('debts', 'NOUN'), ('are', 'VERB'), ('repaid', 'VERB'), ('*-49', 'X'), (',', '.'), ('it', 'PRON'), ('could', 'VERB'), ('clear', 'ADJ'), ('the', 'DET'), ('way', 'NOUN'), ('0', 'X'), ('for', 'ADP'), ('Soviet', 'ADJ'), ('bonds', 'NOUN'), ('to', 'PRT'), ('be', 'VERB'), ('sold', 'VERB'), ('*-50', 'X'), ('in', 'ADP'), ('the', 'DET'), ('U.S.', 'NOUN'), ('*T*-1', 'X'), ('.', '.'), ('On', 'ADP'), ('the', 'DET'), ('one', 'NUM'), ('hand', 'NOUN'), (',', '.'), ('Brazil', 'NOUN'), ('started', 'VERB'), ('an', 'DET'), ('ethanol', 'NUM'), ('program', 'NOUN'), ('about', 'ADP'), ('15', 'NUM'), ('years', 'NOUN'), ('ago', 'ADP'), ('*-1', 'X'), ('to', 'PRT'), ('fuel', 'NOUN'), ('a', 'DET'), ('huge', 'ADJ'), ('portion', 'NOUN'), ('of', 'ADP'), ('its', 'PRON'), ('national', 'ADJ'), ('fleet', 'NUM'), ('of', 'ADP'), ('cars', 'NOUN'), ('and', 'CONJ'), ('is', 'VERB'), ('now', 'ADV'), ('committed', 'VERB'), ('to', 'PRT'), ('this', 'DET'), ('program', 'NOUN'), ('.', '.'), ('Lucille', 'NUM'), ('Gorman', 'NOUN'), (',', '.'), ('an', 'DET'), ('84-year-old', 'NUM'), ('Chicago', 'NOUN'), ('housewife', 'NUM'), (',', '.'), ('has', 'VERB'), ('become', 'VERB'), ('amazingly', 'NUM'), ('immune', 'ADJ'), ('to', 'PRT'), ('stock-market', 'NOUN'), ('jolts', 'NUM'), ('.', '.'), ('DISCOUNT', 'NUM'), ('RATE', 'NOUN'), (':', '.'), ('7', 'NUM'), ('%', 'NOUN'), ('.', '.'), ('But', 'CONJ'), ('with', 'ADP'), ('the', 'DET'), ('end', 'NOUN'), ('of', 'ADP'), ('the', 'DET'), ('year', 'NOUN'), ('in', 'ADP'), ('sight', 'NUM'), (',', '.'), ('money', 'NOUN'), ('managers', 'NOUN'), ('are', 'VERB'), ('eager', 'ADJ'), ('*-1', 'X'), ('to', 'PRT'), ('take', 'VERB'), ('profits', 'NOUN'), ('and', 'CONJ'), ('cut', 'VERB'), ('their', 'PRON'), ('risks', 'NOUN'), ('of', 'ADP'), ('*-2', 'X'), ('losing', 'VERB'), ('what', 'PRON'), ('for', 'ADP'), ('many', 'ADJ'), ('*T*-178', 'NUM'), ('have', 'VERB'), ('been', 'VERB'), ('exceptionally', 'ADV'), ('good', 'ADJ'), ('returns', 'NOUN'), ('in', 'ADP'), ('Ms.', 'NOUN'), ('Kirkpatrick', 'NUM'), (',', '.'), ('the', 'DET'), ('Journal', 'NOUN'), (\"'s\", 'PRT'), ('deputy', 'NOUN'), ('editorial', 'NOUN'), ('features', 'NOUN'), ('editor', 'NOUN'), (',', '.'), ('worked', 'VERB'), ('in', 'ADP'), ('Tokyo', 'NOUN'), ('for', 'ADP'), ('three', 'NUM'), ('years', 'NOUN'), ('.', '.'), ('Also', 'ADV'), (',', '.'), ('Mr.', 'NOUN'), ('Otero', 'NOUN'), ('was', 'VERB'), ('barred', 'VERB'), ('*-154', 'NUM'), ('from', 'ADP'), ('association', 'NOUN'), ('with', 'ADP'), ('any', 'DET'), ('NASD', 'NOUN'), ('member', 'NOUN'), ('.', '.'), ('Sumitomo', 'NUM'), ('Metal', 'NUM'), ('Mining', 'NOUN'), ('fell', 'VERB'), ('five', 'NUM'), ('yen', 'NOUN'), ('to', 'PRT'), ('692', 'NUM'), ('and', 'CONJ'), ('Nippon', 'NOUN'), ('Mining', 'NOUN'), ('added', 'VERB'), ('15', 'NUM'), ('to', 'PRT'), ('960', 'NUM'), ('.', '.'), ('Prosecutors', 'NOUN'), ('need', 'VERB'), ('court', 'NOUN'), ('permission', 'NOUN'), ('*-1', 'X'), ('to', 'PRT'), ('obtain', 'VERB'), ('the', 'DET'), ('tax', 'NOUN'), ('returns', 'NOUN'), ('of', 'ADP'), ('an', 'DET'), ('individual', 'ADJ'), ('or', 'CONJ'), ('a', 'DET'), ('business', 'NOUN'), ('.', '.'), ('The', 'DET'), ('Purchasing', 'NOUN'), ('Management', 'NOUN'), ('Association', 'NOUN'), ('of', 'ADP'), ('Chicago', 'NOUN'), (\"'s\", 'PRT'), ('October', 'NOUN'), ('index', 'NOUN'), ('rose', 'VERB'), ('to', 'PRT'), ('51.6', 'NUM'), ('%', 'NOUN'), ('after', 'ADP'), ('three', 'NUM'), ('previous', 'ADJ'), ('months', 'NOUN'), ('of', 'ADP'), ('readings', 'NUM'), ('below', 'ADP'), ('50', 'NUM'), ('%', 'NOUN'), ('.', '.'), ('Among', 'ADP'), ('the', 'DET'), ('lot', 'NOUN'), ('of', 'ADP'), ('them', 'PRON'), (',', '.'), ('not', 'ADV'), ('one', 'NUM'), ('is', 'VERB'), ('wrestling', 'NUM'), ('with', 'ADP'), ('good', 'ADJ'), ('and', 'CONJ'), ('evil', 'ADJ'), (',', '.'), ('or', 'CONJ'), ('especially', 'ADV'), ('intelligent', 'NUM'), ('or', 'CONJ'), ('even', 'ADV'), ('temporarily', 'ADV'), ('insane', 'NUM'), ('.', '.'), ('They', 'PRON'), ('take', 'VERB'), ('place', 'NOUN'), ('in', 'ADP'), ('government', 'NOUN'), ('programs', 'NOUN'), ('that', 'ADP'), ('*T*-1', 'X'), ('seem', 'VERB'), ('tailor-made', 'NUM'), ('for', 'ADP'), ('corruption', 'NOUN'), ('.', '.'), ('But', 'CONJ'), ('some', 'DET'), ('investors', 'NOUN'), ('have', 'VERB'), ('used', 'VERB'), ('such', 'ADJ'), ('filings', 'NOUN'), ('*-1', 'X'), ('to', 'PRT'), ('boost', 'VERB'), ('the', 'DET'), ('value', 'NOUN'), ('of', 'ADP'), ('their', 'PRON'), ('stock', 'NOUN'), ('holdings', 'NOUN'), (',', '.'), ('which', 'DET'), ('--', '.'), ('without', 'ADP'), ('*-2', 'X'), ('buying', 'VERB'), ('more', 'ADV'), ('stock', 'NOUN'), ('--', '.'), ('they', 'PRON'), ('then', 'ADV'), ('sold', 'VERB'), ('*T*-3', 'X'), ('.', '.'), ('The', 'DET'), ('purhasing', 'NUM'), ('managers', 'NOUN'), (\"'\", 'PRT'), ('report', 'VERB'), ('also', 'ADV'), ('added', 'VERB'), ('evidence', 'NOUN'), ('that', 'ADP'), ('inflation', 'NOUN'), ('is', 'VERB'), ('under', 'ADP'), ('control', 'NOUN'), ('.', '.'), ('I', 'PRON'), ('mention', 'VERB'), ('the', 'DET'), ('picture', 'NOUN'), ('only', 'ADV'), ('because', 'ADP'), ('many', 'ADJ'), ('bad', 'ADJ'), ('movies', 'NUM'), ('have', 'VERB'), ('a', 'DET'), ('bright', 'ADJ'), ('spot', 'NOUN'), (',', '.'), ('and', 'CONJ'), ('this', 'DET'), ('one', 'NUM'), ('has', 'VERB'), ('Gregory', 'NOUN'), ('Peck', 'NUM'), (',', '.'), ('in', 'ADP'), ('a', 'DET'), ('marvelously', 'NUM'), ('loose', 'NUM'), ('and', 'CONJ'), ('energetic', 'ADJ'), ('portrayal', 'NUM'), ('of', 'ADP'), ('an', 'DET'), ('old', 'ADJ'), ('man', 'NOUN'), ('who', 'PRON'), ('*T*-71', 'X'), ('wants', 'VERB'), ('*-1', 'X'), ('to', 'PRT'), ('die', 'VERB'), ('the', 'DET'), ('way', 'NOUN'), ('0', 'X'), ('he', 'PRON'), ('wants', 'VERB'), ('*-2', 'X'), ('to', 'PRT'), ('die', 'VERB'), ('*T*-3', 'X'), ('.', '.'), ('The', 'DET'), ('company', 'NOUN'), (\"'s\", 'PRT'), ('work', 'VERB'), ('force', 'VERB'), ('will', 'VERB'), ('fall', 'VERB'), ('to', 'PRT'), ('about', 'ADP'), ('400', 'NUM'), ('people', 'NOUN'), ('.', '.'), ('Cataracts', 'NUM'), ('refer', 'NUM'), ('to', 'PRT'), ('a', 'DET'), ('clouding', 'NUM'), ('of', 'ADP'), ('the', 'DET'), ('eye', 'NUM'), (\"'s\", 'PRT'), ('natural', 'ADJ'), ('lens', 'NOUN'), ('.', '.'), ('The', 'DET'), ('securities', 'NOUN'), ('0', 'X'), ('*T*-1', 'X'), ('to', 'PRT'), ('be', 'VERB'), ('sold', 'VERB'), ('*-107', 'NUM'), ('next', 'ADJ'), ('week', 'NOUN'), ('will', 'VERB'), ('raise', 'VERB'), ('about', 'ADP'), ('$', '.'), ('10', 'NUM'), ('billion', 'NUM'), ('*U*', 'X'), ('in', 'ADP'), ('cash', 'NOUN'), ('and', 'CONJ'), ('redeem', 'VERB'), ('$', '.'), ('20', 'NUM'), ('billion', 'NUM'), ('*U*', 'X'), ('in', 'ADP'), ('maturing', 'NUM'), ('notes', 'NOUN'), ('.', '.'), ('Despite', 'ADP'), ('the', 'DET'), ('enormous', 'ADJ'), ('sums', 'NOUN'), ('of', 'ADP'), ('money', 'NOUN'), ('0', 'X'), ('they', 'PRON'), (\"'re\", 'VERB'), ('paid', 'VERB'), ('*T*-1', 'X'), ('*-2', 'X'), ('to', 'PRT'), ('stand', 'VERB'), ('up', 'ADV'), ('at', 'ADP'), ('a', 'DET'), ('Japanese', 'ADJ'), ('plate', 'NOUN'), (',', '.'), ('a', 'DET'), ('good', 'ADJ'), ('number', 'NOUN'), ('decide', 'VERB'), ('0', 'X'), ('it', 'PRON'), (\"'s\", 'VERB'), ('not', 'ADV'), ('worth', 'ADJ'), ('it', 'PRON'), ('and', 'CONJ'), ('run', 'VERB'), ('for', 'ADP'), ('home', 'NOUN'), ('.', '.'), ('Ringers', 'NOUN'), (',', '.'), ('she', 'PRON'), ('added', 'VERB'), ('0', 'X'), ('*T*-2', 'X'), (',', '.'), ('are', 'VERB'), ('``', '.'), ('filled', 'NUM'), ('*-1', 'X'), ('with', 'ADP'), ('the', 'DET'), ('solemn', 'NUM'), ('intoxication', 'NUM'), ('that', 'ADP'), ('*T*-226', 'NUM'), ('comes', 'VERB'), ('of', 'ADP'), ('intricate', 'NUM'), ('ritual', 'NUM'), ('faultlessly', 'NUM'), ('performed', 'VERB'), ('*', 'X'), ('.', '.'), (\"''\", '.'), ('He', 'PRON'), ('says', 'VERB'), ('0', 'X'), ('Campbell', 'NOUN'), ('was', 'VERB'), (\"n't\", 'ADV'), ('even', 'ADV'), ('contacted', 'VERB'), ('*-1', 'X'), ('by', 'ADP'), ('the', 'DET'), ('magazine', 'NOUN'), ('for', 'ADP'), ('the', 'DET'), ('opportunity', 'NOUN'), ('*', 'X'), ('to', 'PRT'), ('comment', 'VERB'), ('.', '.'), ('We', 'PRON'), (\"'re\", 'VERB'), ('talking', 'VERB'), ('about', 'ADP'), ('years', 'NOUN'), ('ago', 'ADP'), ('before', 'ADP'), ('anyone', 'NOUN'), ('heard', 'VERB'), ('of', 'ADP'), ('asbestos', 'NOUN'), ('having', 'VERB'), ('any', 'DET'), ('questionable', 'ADJ'), ('properties', 'NUM'), ('.', '.'), ('Indexing', 'NUM'), ('--', '.'), ('Many', 'ADJ'), ('investors', 'NOUN'), (',', '.'), ('mainly', 'ADV'), ('institutions', 'NOUN'), (',', '.'), ('follow', 'VERB'), ('an', 'DET'), ('investment', 'NOUN'), ('strategy', 'NOUN'), ('of', 'ADP'), ('*', 'X'), ('buying', 'VERB'), ('and', 'CONJ'), ('holding', 'VERB'), ('a', 'DET'), ('mix', 'NOUN'), ('of', 'ADP'), ('stocks', 'NOUN'), ('0', 'X'), ('*T*-1', 'X'), ('to', 'PRT'), ('match', 'VERB'), ('the', 'DET'), ('performance', 'NOUN'), ('of', 'ADP'), ('a', 'DET'), ('broad', 'ADJ'), ('stock-market', 'NOUN'), ('barometer', 'NUM'), ('such', 'ADJ'), ('as', 'ADP'), ('the', 'DET'), ('S&P', 'NOUN'), ('500', 'NUM'), ('.', '.'), ('You', 'PRON'), ('will', 'VERB'), ('not', 'ADV'), ('panic', 'NOUN'), (',', '.'), ('``', '.'), ('I', 'PRON'), (\"'ve\", 'VERB'), ('never', 'ADV'), ('seen', 'VERB'), ('so', 'ADV'), ('many', 'ADJ'), ('people', 'NOUN'), ('crying', 'NUM'), ('in', 'ADP'), ('one', 'NUM'), ('place', 'NOUN'), ('at', 'ADP'), ('one', 'NUM'), ('time', 'NOUN'), (',', '.'), (\"''\", '.'), ('said', 'VERB'), ('*T*-1', 'X'), ('Bill', 'NOUN'), ('Johnson', 'NOUN'), (',', '.'), ('an', 'DET'), ('assistant', 'NOUN'), ('city', 'NOUN'), ('editor', 'NOUN'), ('.', '.'), ('At', 'ADP'), ('St.', 'NOUN'), ('Mary', 'NOUN'), (\"'s\", 'PRT'), ('Church', 'NOUN'), ('in', 'ADP'), ('Ilminster', 'NUM'), (',', '.'), ('Somerset', 'NUM'), (',', '.'), ('the', 'DET'), ('bells', 'NOUN'), ('have', 'VERB'), ('fallen', 'VERB'), ('*-1', 'X'), ('silent', 'ADJ'), ('following', 'NOUN'), ('a', 'DET'), ('dust-up', 'NUM'), ('over', 'ADP'), ('church', 'NOUN'), ('attendance', 'NUM'), ('.', '.'), ('The', 'DET'), ('Fed', 'NOUN'), ('cut', 'VERB'), ('the', 'DET'), ('key', 'ADJ'), ('federal', 'ADJ'), ('funds', 'NOUN'), ('interest', 'NOUN'), ('rate', 'NOUN'), ('by', 'ADP'), ('about', 'ADP'), ('0.25', 'NUM'), ('percentage', 'NOUN'), ('point', 'NOUN'), ('to', 'PRT'), ('8.75', 'NUM'), ('%', 'NOUN'), ('after', 'ADP'), ('the', 'DET'), ('Oct.', 'NOUN'), ('13', 'NUM'), ('stock', 'NOUN'), ('market', 'NOUN'), ('plunge', 'NOUN'), (',', '.'), ('but', 'CONJ'), ('has', 'VERB'), ('shown', 'NUM'), ('no', 'X'), ('sign', 'VERB'), ('of', 'ADP'), ('movement', 'NOUN'), ('since', 'ADP'), ('.', '.'), ('Video', 'NUM'), ('Tip', 'NUM'), (':', '.'), ('Before', 'ADP'), ('*-1', 'X'), ('seeing', 'VERB'), ('``', '.'), ('Sidewalk', 'NOUN'), ('Stories', 'NOUN'), (',', '.'), (\"''\", '.'), ('*', 'X'), ('take', 'VERB'), ('a', 'DET'), ('look', 'NOUN'), ('at', 'ADP'), ('``', '.'), ('City', 'NOUN'), ('Lights', 'NOUN'), (',', '.'), (\"''\", '.'), ('Chaplin', 'NOUN'), (\"'s\", 'PRT'), ('Tramp', 'NOUN'), ('at', 'ADP'), ('his', 'PRON'), ('finest', 'NUM'), ('.', '.'), ('Primerica', 'NOUN'), (',', '.'), ('which', 'DET'), ('*T*-1', 'X'), ('had', 'VERB'), ('owned', 'VERB'), ('nearly', 'ADV'), ('70', 'NUM'), ('%', 'NOUN'), ('of', 'ADP'), ('Williams', 'NOUN'), (',', '.'), ('will', 'VERB'), ('pay', 'VERB'), ('about', 'ADP'), ('16.7', 'NUM'), ('million', 'NUM'), ('shares', 'NOUN'), (',', '.'), ('currently', 'ADV'), ('valued', 'VERB'), ('*', 'X'), ('at', 'ADP'), ('almost', 'ADV'), ('$', '.'), ('472', 'NUM'), ('million', 'NUM'), ('*U*', 'X'), (',', '.'), ('for', 'ADP'), ('the', 'DET'), ('rest', 'NOUN'), ('of', 'ADP'), ('Williams', 'NOUN'), ('.', '.'), ('``', '.'), ('That', 'DET'), ('pretty', 'ADV'), ('much', 'ADV'), ('defeats', 'NUM'), ('any', 'DET'), ('inkling', 'NUM'), ('that', 'ADP'), ('she', 'PRON'), ('was', 'VERB'), ('out', 'PRT'), ('*-1', 'X'), ('to', 'PRT'), ('help', 'VERB'), ('the', 'DET'), ('poor', 'ADJ'), ('underprivileged', 'NUM'), ('child', 'NOUN'), (',', '.'), (\"''\", '.'), ('says', 'VERB'), ('Joe', 'NOUN'), ('Watson', 'NOUN'), (',', '.'), ('the', 'DET'), ('prosecutor', 'NUM'), ('in', 'ADP'), ('the', 'DET'), ('case', 'NOUN'), (',', '.'), ('who', 'PRON'), ('*T*-96', 'NUM'), ('is', 'VERB'), ('also', 'ADV'), ('president', 'NOUN'), ('of', 'ADP'), ('Greenville', 'NOUN'), ('High', 'NOUN'), ('School', 'NOUN'), (\"'s\", 'PRT'), ('alumni', 'NUM'), ('association', 'NOUN'), ('.', '.'), ('The', 'DET'), ('competition', 'NOUN'), ('has', 'VERB'), ('cultivated', 'NUM'), ('a', 'DET'), ('much', 'ADJ'), ('savvier', 'NUM'), ('consumer', 'NOUN'), ('.', '.'), ('But', 'CONJ'), ('it', 'PRON'), ('does', 'VERB'), (\"n't\", 'ADV'), ('take', 'VERB'), ('much', 'ADV'), ('*', 'X'), ('to', 'PRT'), ('get', 'VERB'), ('burned', 'NUM'), ('*-1', 'X'), ('.', '.'), ('The', 'DET'), ('target', 'NOUN'), ('of', 'ADP'), ('their', 'PRON'), ('wrath', 'NUM'), ('?', '.'), ('The', 'DET'), ('Soviets', 'NOUN'), (',', '.'), ('who', 'PRON'), ('*T*-12', 'X'), ('normally', 'ADV'), ('have', 'VERB'), ('few', 'ADJ'), ('clients', 'NOUN'), ('other', 'ADJ'), ('than', 'ADP'), ('the', 'DET'), ('state', 'NOUN'), (',', '.'), ('will', 'VERB'), ('get', 'VERB'), ('``', '.'), ('exposure', 'NOUN'), ('to', 'PRT'), ('a', 'DET'), ('market', 'NOUN'), ('system', 'NOUN'), (',', '.'), (\"''\", '.'), ('he', 'PRON'), ('says', 'VERB'), ('0', 'X'), ('*T*-1', 'X'), ('.', '.'), ('Rep.', 'NOUN'), ('Jerry', 'NOUN'), ('Lewis', 'NOUN'), (',', '.'), ('a', 'DET'), ('conservative', 'ADJ'), ('Californian', 'NUM'), (',', '.'), ('added', 'VERB'), ('a', 'DET'), ('provision', 'NOUN'), ('of', 'ADP'), ('his', 'PRON'), ('own', 'ADJ'), ('intended', 'VERB'), ('*', 'X'), ('to', 'PRT'), ('assist', 'VERB'), ('Bolivia', 'NUM'), (',', '.'), ('and', 'CONJ'), ('the', 'DET'), ('Senate', 'NOUN'), ('then', 'ADV'), ('broadened', 'NUM'), ('the', 'DET'), ('list', 'NOUN'), ('further', 'ADV'), ('by', 'ADP'), ('*-1', 'X'), ('including', 'VERB'), ('all', 'DET'), ('countries', 'NOUN'), ('in', 'ADP'), ('the', 'DET'), ('U.S.', 'NOUN'), ('Caribbean', 'NOUN'), ('Basin', 'NOUN'), ('initiate', 'NUM'), ('as', 'ADP'), ('well', 'ADV'), ('as', 'ADP'), ('the', 'DET'), ('Philippines', 'NOUN'), ('-', '.'), ('*-1', 'X'), ('backed', 'VERB'), ('*', 'X'), ('by', 'ADP'), ('the', 'DET'), ('powerful', 'ADJ'), ('Hawaii', 'NOUN'), ('Democrat', 'NOUN'), ('Sen.', 'NOUN'), ('Daniel', 'NOUN'), ('Inouye', 'NOUN'), ('.', '.'), ('Maxwell', 'NOUN'), ('R.D.', 'NUM'), ('Vos', 'NUM'), ('Brooklyn', 'NOUN'), (',', '.'), ('N.Y', 'NUM'), ('.', '.'), ('But', 'CONJ'), ('its', 'PRON'), ('purchases', 'NOUN'), ('apparently', 'ADV'), ('were', 'VERB'), ('delayed', 'NUM'), ('*-1', 'X'), ('by', 'ADP'), ('a', 'DET'), ('reorganization', 'NOUN'), ('of', 'ADP'), ('its', 'PRON'), ('agricultural', 'ADJ'), ('bureaucracy', 'NOUN'), ('as', 'ADP'), ('well', 'ADV'), ('as', 'ADP'), ('budget', 'NOUN'), ('problems', 'NOUN'), ('.', '.'), ('Above', 'NUM'), ('all', 'DET'), (',', '.'), ('Mr.', 'NOUN'), ('Oxnard', 'NOUN'), ('noted', 'VERB'), ('0', 'X'), ('*T*-1', 'X'), (',', '.'), ('the', 'DET'), ('situation', 'NOUN'), ('is', 'VERB'), ('extremely', 'ADV'), ('confused', 'ADJ'), ('.', '.'), ('You', 'PRON'), ('look', 'VERB'), ('around', 'ADP'), ('at', 'ADP'), ('professional', 'ADJ'), ('ballplayers', 'NOUN'), ('or', 'CONJ'), ('accountants', 'NUM'), ('...', '.'), ('and', 'CONJ'), ('nobody', 'NOUN'), ('blinks', 'NUM'), ('an', 'DET'), ('eye', 'NUM'), ('.', '.'), ('Volume', 'NOUN'), ('in', 'ADP'), ('the', 'DET'), ('second', 'ADJ'), ('section', 'NOUN'), ('was', 'VERB'), ('estimated', 'VERB'), ('*-1', 'X'), ('at', 'ADP'), ('18', 'NUM'), ('million', 'NUM'), ('shares', 'NOUN'), (',', '.'), ('up', 'ADV'), ('from', 'ADP'), ('14', 'NUM'), ('million', 'NUM'), ('Tuesday', 'NOUN'), ('.', '.'), ('A', 'DET'), ('federal', 'ADJ'), ('appeals', 'NOUN'), ('court', 'NOUN'), ('upheld', 'VERB'), ('a', 'DET'), ('lower', 'ADJ'), ('court', 'NOUN'), ('ruling', 'NOUN'), ('that', 'ADP'), ('the', 'DET'), ('U.S.', 'NOUN'), ('can', 'VERB'), ('bar', 'NOUN'), ('the', 'DET'), ('use', 'NOUN'), ('of', 'ADP'), ('federal', 'ADJ'), ('funds', 'NOUN'), ('for', 'ADP'), ('family-planning', 'ADJ'), ('programs', 'NOUN'), ('that', 'ADP'), ('*T*-1', 'X'), ('include', 'VERB'), ('abortion-related', 'NUM'), ('services', 'NOUN'), ('.', '.'), ('Prudential-Bache', 'NOUN'), ('Securities', 'NOUN'), ('boosted', 'VERB'), ('the', 'DET'), ('stock', 'NOUN'), (\"'s\", 'PRT'), ('short-term', 'ADJ'), ('investment', 'NOUN'), ('rating', 'NOUN'), ('in', 'ADP'), ('response', 'NOUN'), ('to', 'PRT'), ('the', 'DET'), ('departure', 'NOUN'), (';', '.'), ('analyst', 'NOUN'), ('John', 'NOUN'), ('McMillin', 'NOUN'), ('said', 'VERB'), ('0', 'X'), ('he', 'PRON'), ('believes', 'VERB'), ('0', 'X'), ('the', 'DET'), ('company', 'NOUN'), ('will', 'VERB'), ('turn', 'VERB'), ('to', 'PRT'), ('new', 'ADJ'), ('management', 'NOUN'), ('``', '.'), ('that', 'DET'), ('*T*-1', 'X'), (\"'s\", 'PRT'), ('more', 'ADJ'), ('financially', 'ADV'), ('oriented', 'VERB'), ('.', '.'), (\"''\", '.'), ('*-1', 'X'), ('To', 'PRT'), ('further', 'ADJ'), ('load', 'NOUN'), ('the', 'DET'), ('stakes', 'NOUN'), (',', '.'), ('Mr.', 'NOUN'), ('Lane', 'NOUN'), ('dreamed', 'NUM'), ('up', 'PRT'), ('a', 'DET'), ('highly', 'ADV'), ('improbable', 'NUM'), ('romance', 'NOUN'), ('for', 'ADP'), ('the', 'DET'), ('Artist', 'NOUN'), (',', '.'), ('with', 'ADP'), ('a', 'DET'), ('young', 'ADJ'), ('woman', 'NOUN'), ('who', 'PRON'), ('*T*-68', 'X'), ('owns', 'VERB'), ('her', 'PRON'), ('own', 'ADJ'), ('children', 'NOUN'), (\"'s\", 'PRT'), ('shop', 'NUM'), ('and', 'CONJ'), ('who', 'PRON'), ('*T*-69', 'X'), ('lives', 'VERB'), ('in', 'ADP'), ('an', 'DET'), ('expensive', 'ADJ'), ('high-rise', 'NUM'), ('apartment', 'NOUN'), ('building', 'NOUN'), ('.', '.'), ('*', 'X'), ('Do', 'VERB'), (\"n't\", 'ADV'), ('wait', 'VERB'), ('--', '.'), ('a', 'DET'), ('savings', 'NOUN'), ('institution', 'NOUN'), ('needs', 'VERB'), ('your', 'PRON'), ('help', 'VERB'), ('now', 'ADV'), ('!', '.'), ('The', 'DET'), ('magazine', 'NOUN'), (\"'s\", 'PRT'), ('editors', 'NOUN'), ('ran', 'VERB'), ('a', 'DET'), ('giant', 'ADJ'), ('diagram', 'NUM'), ('of', 'ADP'), ('the', 'DET'), ('product', 'NOUN'), ('with', 'ADP'), ('arrows', 'NUM'), ('pointing', 'VERB'), ('to', 'PRT'), ('the', 'DET'), ('packaging', 'NOUN'), (\"'s\", 'PRT'), ('polystyrene', 'NUM'), ('foam', 'NUM'), (',', '.'), ('polyproplene', 'NUM'), ('and', 'CONJ'), ('polyester', 'NUM'), ('film', 'NOUN'), ('--', '.'), ('all', 'DET'), ('plastic', 'ADJ'), ('items', 'NOUN'), ('0', 'X'), ('they', 'PRON'), ('say', 'VERB'), ('0', 'X'), ('*T*-1', 'X'), ('are', 'VERB'), ('non-biodegradable', 'NUM'), ('.', '.'), ('Still', 'ADV'), (',', '.'), ('many', 'ADJ'), ('economists', 'NOUN'), ('are', 'VERB'), (\"n't\", 'ADV'), ('predicting', 'VERB'), ('a', 'DET'), ('recession', 'NOUN'), ('anytime', 'ADV'), ('soon', 'ADV'), ('.', '.'), ('Mrs.', 'NOUN'), ('Ward', 'NOUN'), ('took', 'VERB'), ('over', 'ADP'), ('in', 'ADP'), ('1986', 'NUM'), (',', '.'), ('*-1', 'X'), ('becoming', 'VERB'), ('the', 'DET'), ('school', 'NOUN'), (\"'s\", 'PRT'), ('seventh', 'NUM'), ('principal', 'NOUN'), ('in', 'ADP'), ('15', 'NUM'), ('years', 'NOUN'), ('.', '.'), ('The', 'DET'), (\"'82\", 'NUM'), ('Salon', 'NOUN'), ('is', 'VERB'), ('$', '.'), ('115', 'NUM'), ('*U*', 'X'), ('.', '.'), ('Researchers', 'NUM'), ('at', 'ADP'), ('American', 'ADJ'), ('Telephone', 'NOUN'), ('&', 'CONJ'), ('Telegraph', 'NOUN'), ('Co.', 'NOUN'), (\"'s\", 'PRT'), ('Bell', 'NOUN'), ('Laboratories', 'NOUN'), ('reported', 'VERB'), ('0', 'X'), ('they', 'PRON'), ('raised', 'VERB'), ('the', 'DET'), ('electrical', 'ADJ'), ('current-carrying', 'ADJ'), ('capacity', 'NOUN'), ('of', 'ADP'), ('new', 'ADJ'), ('superconductor', 'NOUN'), ('crystals', 'NOUN'), ('by', 'ADP'), ('a', 'DET'), ('factor', 'NOUN'), ('of', 'ADP'), ('100', 'NUM'), (',', '.'), ('*-1', 'X'), ('moving', 'VERB'), ('the', 'DET'), ('materials', 'NOUN'), ('closer', 'ADV'), ('to', 'PRT'), ('commercial', 'ADJ'), ('use', 'NOUN'), ('.', '.'), ('We', 'PRON'), ('got', 'VERB'), ('our', 'PRON'), ('two', 'NUM'), ('six-packs', 'NOUN'), ('--', '.'), ('and', 'CONJ'), ('they', 'PRON'), (\"'re\", 'VERB'), ('gone', 'VERB'), ('.', '.'), (\"''\", '.'), ('``', '.'), ('The', 'DET'), ('big', 'ADJ'), ('problem', 'NOUN'), ('is', 'VERB'), ('that', 'ADP'), ('USX', 'NOUN'), ('management', 'NOUN'), ('has', 'VERB'), ('proved', 'VERB'), ('*-1', 'X'), ('unwilling', 'NUM'), ('*-2', 'X'), ('to', 'PRT'), ('devote', 'VERB'), ('the', 'DET'), ('necessary', 'ADJ'), ('resources', 'NOUN'), ('and', 'CONJ'), ('manpower', 'NUM'), ('to', 'PRT'), ('*', 'X'), ('removing', 'NUM'), ('hazards', 'NOUN'), ('and', 'CONJ'), ('to', 'PRT'), ('*', 'X'), ('safeguarding', 'NUM'), ('safety', 'NOUN'), ('and', 'CONJ'), ('health', 'NOUN'), ('in', 'ADP'), ('the', 'DET'), ('plants', 'NOUN'), (',', '.'), (\"''\", '.'), ('said', 'VERB'), ('*T*-3', 'X'), ('Linda', 'NOUN'), ('Anku', 'NUM'), (',', '.'), ('OSHA', 'NOUN'), ('regional', 'ADJ'), ('administrator', 'NOUN'), ('in', 'ADP'), ('Philadelphia', 'NOUN'), ('.', '.'), ('Ketchum', 'NUM'), ('Communications', 'NOUN'), (',', '.'), ('Pittsburgh', 'NOUN'), (',', '.'), ('acquired', 'VERB'), ('Braun', 'NUM'), ('&', 'CONJ'), ('Co.', 'NOUN'), (',', '.'), ('a', 'DET'), ('Los', 'NOUN'), ('Angeles', 'NOUN'), ('investor-relations', 'NUM'), ('and', 'CONJ'), ('marketing-communications', 'NUM'), ('firm', 'NOUN'), ('.', '.'), ('He', 'PRON'), ('said', 'VERB'), ('0', 'X'), ('the', 'DET'), ('exchange', 'NOUN'), ('is', 'VERB'), ('``', '.'), ('headed', 'NUM'), ('for', 'ADP'), ('a', 'DET'), ('real', 'ADJ'), ('crisis', 'NOUN'), (\"''\", '.'), ('if', 'ADP'), ('program', 'NOUN'), ('trading', 'NOUN'), ('is', 'VERB'), (\"n't\", 'ADV'), ('curbed', 'NUM'), ('*-1', 'X'), ('.', '.'), ('-LRB-', '.'), ('Few', 'ADJ'), (',', '.'), ('if', 'ADP'), ('any', 'DET'), (',', '.'), ('index-fund', 'NOUN'), ('managers', 'NOUN'), ('will', 'VERB'), ('risk', 'VERB'), ('*-1', 'X'), ('leveraging', 'NUM'), ('performance', 'NOUN'), ('by', 'ADP'), ('*-1', 'X'), ('owning', 'NUM'), ('more', 'ADJ'), ('than', 'ADP'), ('100', 'NUM'), ('%', 'NOUN'), ('exposure', 'NOUN'), ('to', 'PRT'), ('stocks', 'NOUN'), (',', '.'), ('and', 'CONJ'), ('equally', 'ADV'), ('few', 'ADJ'), ('will', 'VERB'), ('want', 'VERB'), ('*-2', 'X'), ('to', 'PRT'), ('own', 'ADJ'), ('less', 'ADJ'), ('than', 'ADP'), ('a', 'DET'), ('100', 'NUM'), ('%', 'NOUN'), ('position', 'NOUN'), ('should', 'VERB'), ('stocks', 'NOUN'), ('rise', 'VERB'), ('.', '.'), ('-RRB-', '.'), ('The', 'DET'), ('Polish', 'ADJ'), ('government', 'NOUN'), ('increased', 'VERB'), ('home', 'NOUN'), ('electricity', 'NOUN'), ('charges', 'NOUN'), ('by', 'ADP'), ('150', 'NUM'), ('%', 'NOUN'), ('and', 'CONJ'), ('doubled', 'VERB'), ('gas', 'NOUN'), ('prices', 'NOUN'), ('.', '.'), ('Hearst', 'NOUN'), ('had', 'VERB'), ('flirted', 'NUM'), ('with', 'ADP'), ('a', 'DET'), ('conversion', 'NOUN'), ('to', 'PRT'), ('tabloid', 'ADJ'), ('format', 'NOUN'), ('for', 'ADP'), ('years', 'NOUN'), ('but', 'CONJ'), ('never', 'ADV'), ('executed', 'VERB'), ('the', 'DET'), ('plan', 'NOUN'), ('.', '.'), ('Other', 'ADJ'), ('major', 'ADJ'), ('Japanese', 'ADJ'), ('computer', 'NOUN'), ('companies', 'NOUN'), ('contacted', 'VERB'), ('*', 'X'), ('yesterday', 'NOUN'), ('said', 'VERB'), ('0', 'X'), ('they', 'PRON'), ('have', 'VERB'), ('never', 'ADV'), ('made', 'VERB'), ('such', 'ADJ'), ('bids', 'NOUN'), ('.', '.'), ('Many', 'ADJ'), ('auto', 'NOUN'), ('dealers', 'NOUN'), ('now', 'ADV'), ('let', 'VERB'), ('car', 'NOUN'), ('buyers', 'NOUN'), ('charge', 'NOUN'), ('part', 'NOUN'), ('or', 'CONJ'), ('all', 'DET'), ('of', 'ADP'), ('their', 'PRON'), ('purchase', 'NOUN'), ('on', 'ADP'), ('the', 'DET'), ('American', 'ADJ'), ('Express', 'NOUN'), ('card', 'NOUN'), (',', '.'), ('but', 'CONJ'), ('few', 'ADJ'), ('card', 'NOUN'), ('holders', 'NOUN'), ('realize', 'VERB'), ('this', 'DET'), (',', '.'), ('Mr.', 'NOUN'), ('Riese', 'NOUN'), ('says', 'VERB'), ('0', 'X'), ('*T*-1', 'X'), ('.', '.'), ('Virginia', 'NOUN'), (':', '.'), ('But', 'CONJ'), ('the', 'DET'), ('Army', 'NOUN'), ('Corps', 'NOUN'), ('of', 'ADP'), ('Engineers', 'NOUN'), ('expects', 'VERB'), ('the', 'DET'), ('river', 'NOUN'), ('level', 'NOUN'), ('to', 'PRT'), ('continue', 'VERB'), ('*-1', 'X'), ('falling', 'VERB'), ('this', 'DET'), ('month', 'NOUN'), ('.', '.'), ('``', '.'), ('What', 'PRON'), ('*T*-14', 'X'), ('matters', 'NOUN'), ('is', 'VERB'), ('what', 'PRON'), ('advertisers', 'NOUN'), ('are', 'VERB'), ('paying', 'VERB'), ('*T*-15', 'X'), ('per', 'ADP'), ('page', 'NOUN'), (',', '.'), ('and', 'CONJ'), ('in', 'ADP'), ('that', 'DET'), ('department', 'NOUN'), ('we', 'PRON'), ('are', 'VERB'), ('doing', 'VERB'), ('fine', 'NOUN'), ('this', 'DET'), ('fall', 'NOUN'), (',', '.'), (\"''\", '.'), ('said', 'VERB'), ('*T*-1', 'X'), ('Mr.', 'NOUN'), ('Spoon', 'NOUN'), ('.', '.'), ('Hudson', 'NOUN'), ('General', 'NOUN'), ('Corp.', 'NOUN'), (\"'s\", 'PRT'), ('president', 'NOUN'), ('and', 'CONJ'), ('chief', 'NOUN'), ('executive', 'NOUN'), ('officer', 'NOUN'), (',', '.'), ('Alan', 'NOUN'), ('J.', 'NOUN'), ('Stearn', 'NOUN'), (',', '.'), ('resigned', 'VERB'), ('.', '.'), ('Also', 'ADV'), (',', '.'), ('Mr.', 'NOUN'), ('Vargas', 'NOUN'), ('was', 'VERB'), ('barred', 'VERB'), ('*-152', 'NUM'), ('from', 'ADP'), ('association', 'NOUN'), ('with', 'ADP'), ('any', 'DET'), ('NASD', 'NOUN'), ('member', 'NOUN'), ('.', '.'), ('Bell', 'NOUN'), (\"'s\", 'PRT'), ('father-in-law', 'NUM'), (',', '.'), ('Gardner', 'NUM'), ('G.', 'NOUN'), ('Hubbard', 'NUM'), (',', '.'), ('wealthy', 'NUM'), ('and', 'CONJ'), ('well-connected', 'NUM'), (',', '.'), ('obtained', 'VERB'), ('financing', 'VERB'), ('0', 'X'), ('*T*-1', 'X'), ('to', 'PRT'), ('start', 'VERB'), ('the', 'DET'), ('American', 'ADJ'), ('Bell', 'NOUN'), ('Telephone', 'NOUN'), ('Co.', 'NOUN'), ('in', 'ADP'), ('Boston', 'NOUN'), (',', '.'), ('which', 'DET'), ('*T*-2', 'X'), ('even', 'ADV'), ('had', 'VERB'), ('a', 'DET'), ('subsidiary', 'NOUN'), ('in', 'ADP'), ('New', 'NOUN'), ('York', 'NOUN'), ('called', 'VERB'), ('*', 'X'), ('the', 'DET'), ('Telephone', 'NOUN'), ('Co.', 'NOUN'), ('of', 'ADP'), ('New', 'NOUN'), ('York', 'NOUN'), ('.', '.'), ('But', 'CONJ'), ('to', 'PRT'), ('Moon', 'NUM'), ('Landrieu', 'NUM'), (',', '.'), ('the', 'DET'), ('former', 'ADJ'), ('New', 'NOUN'), ('Orleans', 'NOUN'), ('mayor', 'NOUN'), ('who', 'PRON'), ('*T*-1', 'X'), ('helped', 'VERB'), ('*-3', 'X'), ('build', 'VERB'), ('that', 'ADP'), ('city', 'NOUN'), (\"'s\", 'PRT'), ('cavernous', 'NUM'), (',', '.'), ('money-losing', 'NUM'), ('Superdome', 'NOUN'), (',', '.'), ('questions', 'NOUN'), ('of', 'ADP'), ('who', 'PRON'), ('*T*-2', 'X'), ('benefits', 'NOUN'), ('or', 'CONJ'), ('the', 'DET'), ('bottom', 'NOUN'), ('line', 'NOUN'), ('are', 'VERB'), ('of', 'ADP'), ('little', 'ADJ'), ('relevance', 'NUM'), ('.', '.'), ('In', 'ADP'), ('Tokyo', 'NOUN'), ('Thursday', 'NOUN'), (',', '.'), ('the', 'DET'), ('U.S.', 'NOUN'), ('currency', 'NOUN'), ('opened', 'VERB'), ('for', 'ADP'), ('trading', 'NOUN'), ('at', 'ADP'), ('143.93', 'NUM'), ('yen', 'NOUN'), (',', '.'), ('up', 'ADV'), ('from', 'ADP'), ('Wednesday', 'NOUN'), (\"'s\", 'PRT'), ('Tokyo', 'NOUN'), ('close', 'VERB'), ('of', 'ADP'), ('143.08', 'NUM'), ('yen', 'NOUN'), ('.', '.'), ('Banks', 'NOUN'), ('could', 'VERB'), ('seek', 'VERB'), ('*-1', 'X'), ('to', 'PRT'), ('recover', 'VERB'), ('payments', 'NOUN'), ('to', 'PRT'), ('local', 'ADJ'), ('authorities', 'NOUN'), ('in', 'ADP'), ('instances', 'NOUN'), ('where', 'ADV'), ('the', 'DET'), ('banks', 'NOUN'), ('made', 'VERB'), ('net', 'ADJ'), ('payments', 'NOUN'), ('to', 'PRT'), ('councils', 'NOUN'), ('*T*-2', 'X'), ('.', '.'), ('He', 'PRON'), ('had', 'VERB'), ('been', 'VERB'), ('a', 'DET'), ('sales', 'NOUN'), ('and', 'CONJ'), ('marketing', 'NOUN'), ('executive', 'NOUN'), ('with', 'ADP'), ('Chrysler', 'NOUN'), ('for', 'ADP'), ('20', 'NUM'), ('years', 'NOUN'), ('.', '.'), ('A', 'DET'), ('spokesman', 'NOUN'), ('for', 'ADP'), ('the', 'DET'), ('state', 'NOUN'), (',', '.'), ('however', 'ADV'), (',', '.'), ('calls', 'VERB'), ('the', 'DET'), ('idea', 'NOUN'), ('``', '.'), ('not', 'ADV'), ('effective', 'ADJ'), ('or', 'CONJ'), ('cost', 'NOUN'), ('efficient', 'ADJ'), ('.', '.'), ('While', 'ADP'), ('the', 'DET'), ('new', 'ADJ'), ('proposal', 'NOUN'), ('might', 'VERB'), ('appeal', 'NOUN'), ('to', 'PRT'), ('the', 'DET'), ('dirtiest', 'ADJ'), ('utilities', 'NOUN'), (',', '.'), ('it', 'PRON'), ('might', 'VERB'), ('not', 'ADV'), ('win', 'VERB'), ('the', 'DET'), ('support', 'NOUN'), ('of', 'ADP'), ('utilities', 'NOUN'), (',', '.'), ('many', 'ADJ'), ('in', 'ADP'), ('the', 'DET'), ('West', 'NOUN'), (',', '.'), ('that', 'DET'), ('*T*-1', 'X'), ('already', 'ADV'), ('have', 'VERB'), ('added', 'VERB'), ('expensive', 'ADJ'), ('cleanup', 'NUM'), ('equipment', 'NOUN'), ('or', 'CONJ'), ('burn', 'NUM'), ('cleaner-burning', 'NUM'), ('fuels', 'NUM'), ('.', '.'), ('SCI', 'NOUN'), ('Systems', 'NOUN'), ('slipped', 'VERB'), ('7\\\\/8', 'NUM'), ('to', 'PRT'), ('10', 'NUM'), ('on', 'ADP'), ('volume', 'NOUN'), ('of', 'ADP'), ('858,000', 'NUM'), ('shares', 'NOUN'), ('.', '.'), ('He', 'PRON'), ('also', 'ADV'), ('considers', 'VERB'), ('the', 'DET'), ('market', 'NOUN'), ('overvalued', 'NUM'), ('and', 'CONJ'), ('cites', 'VERB'), ('the', 'DET'), ('troubles', 'NOUN'), ('in', 'ADP'), ('junk', 'NOUN'), ('bonds', 'NOUN'), ('.', '.'), ('Paris', 'NUM'), (',', '.'), ('Brussels', 'NUM'), (',', '.'), ('and', 'CONJ'), ('Milan', 'NUM'), ('were', 'VERB'), ('closed', 'VERB'), ('for', 'ADP'), ('a', 'DET'), ('holiday', 'NOUN'), ('.', '.'), ('Such', 'ADJ'), ('laws', 'NOUN'), ('violate', 'VERB'), ('the', 'DET'), ('provision', 'NOUN'), ('in', 'ADP'), ('Article', 'NOUN'), ('II', 'NOUN'), ('that', 'ADP'), ('*T*-1', 'X'), ('requires', 'VERB'), ('the', 'DET'), ('president', 'NOUN'), ('to', 'PRT'), ('make', 'VERB'), ('recommendations', 'NOUN'), ('to', 'PRT'), ('Congress', 'NOUN'), (',', '.'), ('but', 'CONJ'), ('which', 'DET'), ('*T*-41', 'X'), ('gives', 'VERB'), ('the', 'DET'), ('president', 'NOUN'), ('the', 'DET'), ('discretion', 'NUM'), ('0', 'X'), ('*', 'X'), ('to', 'PRT'), ('select', 'NUM'), ('the', 'DET'), ('subject', 'ADJ'), ('matter', 'NOUN'), ('of', 'ADP'), ('those', 'DET'), ('recommendations', 'NOUN'), ('*T*-2', 'X'), ('.', '.'), ('London', 'NOUN'), ('shares', 'NOUN'), ('finished', 'VERB'), ('moderately', 'ADV'), ('higher', 'ADJ'), ('.', '.'), ('In', 'ADP'), ('the', 'DET'), ('first', 'ADJ'), ('nine', 'NUM'), ('months', 'NOUN'), (',', '.'), ('net', 'ADJ'), ('was', 'VERB'), ('$', '.'), ('306', 'NUM'), ('million', 'NUM'), ('*U*', 'X'), (',', '.'), ('compared', 'VERB'), ('with', 'ADP'), ('a', 'DET'), ('loss', 'NOUN'), ('of', 'ADP'), ('$', '.'), ('195', 'NUM'), ('million', 'NUM'), ('*U*', 'X'), ('in', 'ADP'), ('the', 'DET'), ('1988', 'NUM'), ('period', 'NOUN'), ('.', '.'), ('The', 'DET'), ('White', 'NOUN'), ('House', 'NOUN'), ('previously', 'ADV'), ('insisted', 'VERB'), ('on', 'ADP'), ('an', 'DET'), ('unrestricted', 'NUM'), ('six-month', 'ADJ'), ('training', 'NOUN'), ('wage', 'NOUN'), ('that', 'ADP'), ('*T*-1', 'X'), ('could', 'VERB'), ('be', 'VERB'), ('paid', 'VERB'), ('*-165', 'NUM'), ('any', 'DET'), ('time', 'NOUN'), ('0', 'X'), ('a', 'DET'), ('worker', 'NOUN'), ('of', 'ADP'), ('any', 'DET'), ('age', 'NOUN'), ('took', 'VERB'), ('a', 'DET'), ('new', 'ADJ'), ('job', 'NOUN'), ('*T*-2', 'X'), ('.', '.'), ('Sterling', 'NOUN'), (\"'s\", 'PRT'), ('firm', 'NOUN'), ('tone', 'NOUN'), (',', '.'), ('combined', 'VERB'), ('with', 'ADP'), ('a', 'DET'), ('steady', 'ADJ'), ('opening', 'VERB'), ('on', 'ADP'), ('Wall', 'NOUN'), ('Street', 'NOUN'), (',', '.'), ('also', 'ADV'), ('tempted', 'NUM'), ('some', 'DET'), ('investors', 'NOUN'), ('to', 'PRT'), ('come', 'VERB'), ('back', 'ADV'), ('to', 'PRT'), ('the', 'DET'), ('market', 'NOUN'), (',', '.'), ('dealers', 'NOUN'), ('said', 'VERB'), ('0', 'X'), ('*T*-1', 'X'), ('.', '.'), ('The', 'DET'), ('Dow', 'NOUN'), ('Jones', 'NOUN'), ('Industrial', 'NOUN'), ('Average', 'NOUN'), ('finished', 'VERB'), ('less', 'ADV'), ('than', 'ADP'), ('a', 'DET'), ('point', 'NOUN'), ('higher', 'ADJ'), ('*-1', 'X'), ('to', 'PRT'), ('close', 'VERB'), ('at', 'ADP'), ('2645.90', 'NUM'), ('in', 'ADP'), ('moderate', 'ADJ'), ('trading', 'NOUN'), ('.', '.'), ('But', 'CONJ'), ('by', 'ADP'), ('the', 'DET'), ('early', 'ADJ'), ('1980s', 'NUM'), (',', '.'), ('its', 'PRON'), ('glory', 'NUM'), ('*PPA*-1', 'X'), ('had', 'VERB'), ('faded', 'NUM'), ('like', 'ADP'), ('the', 'DET'), ('yellow', 'NUM'), ('bricks', 'NUM'), ('of', 'ADP'), ('its', 'PRON'), ('broad', 'ADJ'), ('facade', 'NUM'), ('.', '.'), ('The', 'DET'), ('record', 'NOUN'), ('price', 'NOUN'), ('for', 'ADP'), ('a', 'DET'), ('full', 'ADJ'), ('membership', 'NOUN'), ('on', 'ADP'), ('the', 'DET'), ('exchange', 'NOUN'), ('is', 'VERB'), ('$', '.'), ('550,000', 'NUM'), ('*U*', 'X'), (',', '.'), ('*-2', 'X'), ('set', 'VERB'), ('*-1', 'X'), ('Aug.', 'NOUN'), ('31', 'NUM'), (',', '.'), ('1987', 'NUM'), ('.', '.'), ('Four', 'NUM'), ('of', 'ADP'), ('the', 'DET'), ('five', 'NUM'), ('surviving', 'VERB'), ('workers', 'NOUN'), ('have', 'VERB'), ('asbestos-related', 'ADJ'), ('diseases', 'NOUN'), (',', '.'), ('including', 'VERB'), ('three', 'NUM'), ('with', 'ADP'), ('recently', 'ADV'), ('diagnosed', 'NUM'), ('cancer', 'NOUN'), ('.', '.'), ('The', 'DET'), ('earnings', 'NOUN'), ('growth', 'NOUN'), ('also', 'ADV'), ('was', 'VERB'), ('fueled', 'VERB'), ('*-1', 'X'), ('by', 'ADP'), ('the', 'DET'), ('company', 'NOUN'), (\"'s\", 'PRT'), ('ability', 'NOUN'), ('*', 'X'), ('to', 'PRT'), ('cut', 'VERB'), ('net', 'ADJ'), ('financing', 'NOUN'), ('spending', 'NOUN'), ('by', 'ADP'), ('half', 'DET'), ('to', 'PRT'), ('around', 'ADP'), ('15', 'NUM'), ('million', 'NUM'), ('guilders', 'NOUN'), ('.', '.'), ('Mr.', 'NOUN'), ('Reupke', 'NOUN'), (',', '.'), ('52', 'NUM'), ('years', 'NOUN'), ('old', 'ADJ'), ('and', 'CONJ'), ('a', 'DET'), ('27-year', 'NUM'), ('Reuters', 'NOUN'), ('veteran', 'NOUN'), (',', '.'), ('had', 'VERB'), ('been', 'VERB'), ('the', 'DET'), ('information-services', 'NUM'), ('company', 'NOUN'), (\"'s\", 'PRT'), ('general', 'ADJ'), ('manager', 'NOUN'), ('for', 'ADP'), ('only', 'ADV'), ('six', 'NUM'), ('months', 'NOUN'), ('.', '.'), ('It', 'PRON'), ('was', 'VERB'), ('censorship', 'NOUN'), ('.', '.'), ('*-1', 'X'), ('To', 'PRT'), ('capture', 'VERB'), ('the', 'DET'), ('investment', 'NOUN'), (',', '.'), ('Southeast', 'NOUN'), ('Asian', 'ADJ'), ('nations', 'NOUN'), ('will', 'VERB'), ('move', 'VERB'), ('*-1', 'X'), ('to', 'PRT'), ('accommodate', 'VERB'), ('Japanese', 'ADJ'), ('business', 'NOUN'), ('.', '.'), ('By', 'ADP'), ('1997', 'NUM'), (',', '.'), ('almost', 'ADV'), ('all', 'DET'), ('remaining', 'VERB'), ('uses', 'VERB'), ('of', 'ADP'), ('cancer-causing', 'NUM'), ('asbestos', 'NOUN'), ('will', 'VERB'), ('be', 'VERB'), ('outlawed', 'NUM'), ('*-6', 'X'), ('.', '.'), ('He', 'PRON'), ('also', 'ADV'), ('rejected', 'VERB'), ('reports', 'NOUN'), ('that', 'ADP'), ('his', 'PRON'), ('departure', 'NOUN'), ('stemmed', 'NUM'), ('from', 'ADP'), ('disappointment', 'NOUN'), ('0', 'X'), ('the', 'DET'), ('general', 'ADJ'), ('manager', 'NOUN'), (\"'s\", 'PRT'), ('post', 'VERB'), ('had', 'VERB'), (\"n't\", 'ADV'), ('also', 'ADV'), ('led', 'VERB'), ('to', 'PRT'), ('a', 'DET'), ('board', 'NOUN'), ('directorship', 'NUM'), ('at', 'ADP'), ('the', 'DET'), ('London-based', 'ADJ'), ('news', 'NOUN'), ('organization', 'NOUN'), ('.', '.'), ('This', 'DET'), ('democracy', 'NOUN'), ('is', 'VERB'), ('suddenly', 'ADV'), ('a', 'DET'), ('little', 'ADJ'), ('more', 'ADJ'), ('democratic', 'ADJ'), ('.', '.'), ('Mr.', 'NOUN'), ('van', 'NOUN'), ('Dover', 'NOUN'), ('added', 'VERB'), ('that', 'ADP'), ('researchers', 'NOUN'), ('are', 'VERB'), ('trying', 'VERB'), ('*-2', 'X'), ('to', 'PRT'), ('determine', 'VERB'), ('precisely', 'ADV'), ('what', 'PRON'), ('crystal', 'NOUN'), ('changes', 'NOUN'), ('*T*-1', 'X'), ('solved', 'VERB'), ('the', 'DET'), ('problem', 'NOUN'), ('.', '.'), ('It', 'PRON'), (\"'s\", 'VERB'), ('a', 'DET'), ('classic', 'ADJ'), ('situation', 'NOUN'), ('of', 'ADP'), ('ads', 'NOUN'), ('that', 'ADP'), ('*T*-75', 'X'), ('are', 'VERB'), ('true', 'ADJ'), ('but', 'CONJ'), ('not', 'ADV'), ('always', 'ADV'), ('fully', 'ADV'), ('accurate', 'ADJ'), ('.', '.'), ('Mr.', 'NOUN'), ('Stronach', 'NOUN'), (',', '.'), ('founder', 'NOUN'), ('and', 'CONJ'), ('controlling', 'VERB'), ('shareholder', 'NOUN'), ('of', 'ADP'), ('Magna', 'NOUN'), (',', '.'), ('resigned', 'VERB'), ('as', 'ADP'), ('chief', 'NOUN'), ('executive', 'NOUN'), ('officer', 'NOUN'), ('last', 'ADJ'), ('year', 'NOUN'), ('*-1', 'X'), ('to', 'PRT'), ('seek', 'VERB'), (',', '.'), ('unsuccessfully', 'ADV'), (',', '.'), ('a', 'DET'), ('seat', 'NOUN'), ('in', 'ADP'), ('Canada', 'NOUN'), (\"'s\", 'PRT'), ('Parliament', 'NOUN'), ('.', '.'), ('``', '.'), ('A', 'DET'), ('lot', 'NOUN'), ('of', 'ADP'), ('the', 'DET'), ('stocks', 'NOUN'), ('that', 'ADP'), ('*T*-117', 'NUM'), ('have', 'VERB'), ('been', 'VERB'), ('under', 'ADP'), ('water', 'NOUN'), ('finally', 'ADV'), ('saw', 'VERB'), ('a', 'DET'), ('reason', 'NOUN'), ('0', 'X'), ('*', 'X'), ('to', 'PRT'), ('uptick', 'NOUN'), ('*T*-1', 'X'), (',', '.'), (\"''\", '.'), ('said', 'VERB'), ('*T*-2', 'X'), ('George', 'NOUN'), ('Jennison', 'NOUN'), (',', '.'), ('head', 'NOUN'), ('trader', 'NOUN'), ('of', 'ADP'), ('banking', 'NOUN'), ('issues', 'NOUN'), ('in', 'ADP'), ('Shearson', 'NOUN'), ('Lehman', 'NOUN'), ('Hutton', 'NOUN'), (\"'s\", 'PRT'), ('OTC', 'NOUN'), ('department', 'NOUN'), ('.', '.'), ('*-2', 'X'), ('Also', 'ADV'), ('in', 'ADP'), ('New', 'NOUN'), ('York', 'NOUN'), (',', '.'), ('Israel', 'NOUN'), ('Silverman', 'NUM'), (',', '.'), ('an', 'DET'), ('insurance-company', 'NUM'), ('lawyer', 'NOUN'), (',', '.'), ('comments', 'NOUN'), ('that', 'ADP'), ('program', 'NOUN'), ('trading', 'NOUN'), ('``', '.'), ('increases', 'NOUN'), ('volatility', 'NOUN'), (',', '.'), ('but', 'CONJ'), ('I', 'PRON'), ('do', 'VERB'), (\"n't\", 'ADV'), ('think', 'VERB'), ('0', 'X'), ('it', 'PRON'), ('should', 'VERB'), ('be', 'VERB'), ('banned', 'VERB'), ('*-1', 'X'), ('.', '.'), ('you', 'PRON'), ('will', 'VERB'), ('not', 'ADV'), ('put', 'VERB'), ('the', 'DET'), ('financial', 'ADJ'), ('system', 'NOUN'), ('in', 'ADP'), ('jeopardy', 'NUM'), ('.', '.'), (\"'\", '.'), (\"''\", '.'), ('NEW', 'NUM'), ('ACCOUNT', 'NUM'), (':', '.'), ('But', 'CONJ'), ('``', '.'), ('because', 'ADP'), ('it', 'PRON'), (\"'s\", 'VERB'), ('all', 'DET'), ('0', 'X'), ('we', 'PRON'), (\"'ve\", 'VERB'), ('got', 'VERB'), ('*T*-1', 'X'), (',', '.'), ('I', 'PRON'), (\"'m\", 'VERB'), ('going', 'VERB'), ('*-2', 'X'), ('to', 'PRT'), ('vote', 'VERB'), ('for', 'ADP'), ('it', 'PRON'), ('.', '.'), (\"''\", '.'), ('In', 'ADP'), ('national', 'ADJ'), ('over-the-counter', 'ADJ'), ('trading', 'NOUN'), ('yesterday', 'NOUN'), (',', '.'), ('POP', 'NOUN'), ('plunged', 'VERB'), ('$', '.'), ('4', 'NUM'), ('*U*', 'X'), ('to', 'PRT'), ('$', '.'), ('14.75', 'NUM'), ('*U*', 'X'), ('.', '.'), ('Lord', 'NOUN'), ('Chilver', 'NUM'), (',', '.'), ('63-year-old', 'NUM'), ('chairman', 'NOUN'), ('of', 'ADP'), ('English', 'ADJ'), ('China', 'NOUN'), ('Clays', 'NUM'), ('PLC', 'NOUN'), (',', '.'), ('was', 'VERB'), ('named', 'VERB'), ('*-39', 'X'), ('a', 'DET'), ('nonexecutive', 'ADJ'), ('director', 'NOUN'), ('of', 'ADP'), ('this', 'DET'), ('British', 'ADJ'), ('chemical', 'NOUN'), ('company', 'NOUN'), ('.', '.'), ('CoreStates', 'NUM'), ('Financial', 'NOUN'), ('Corp.', 'NOUN'), (',', '.'), ('Philadelphia', 'NOUN'), (',', '.'), ('named', 'VERB'), ('Earle', 'NUM'), ('Palmer', 'NUM'), ('Brown', 'NOUN'), ('&', 'CONJ'), ('Spiro', 'NUM'), (',', '.'), ('Philadelphia', 'NOUN'), (',', '.'), ('as', 'ADP'), ('agency', 'NOUN'), ('of', 'ADP'), ('record', 'NOUN'), ('for', 'ADP'), ('its', 'PRON'), ('$', '.'), ('5', 'NUM'), ('million', 'NUM'), ('*U*', 'X'), ('account', 'VERB'), ('.', '.'), ('Once', 'ADV'), ('there', 'DET'), (',', '.'), ('what', 'PRON'), ('ways', 'NOUN'), ('of', 'ADP'), ('escape', 'NUM'), ('*ICH*-2', 'X'), ('are', 'VERB'), ('*T*-1', 'X'), ('open', 'VERB'), ('to', 'PRT'), ('them', 'PRON'), ('other', 'ADJ'), ('than', 'ADP'), ('drink', 'VERB'), (',', '.'), ('drugs', 'NOUN'), ('or', 'CONJ'), ('insanity', 'NUM'), ('?', '.'), ('The', 'DET'), ('board', 'NOUN'), ('is', 'VERB'), ('dominated', 'VERB'), ('*-41', 'X'), ('by', 'ADP'), ('the', 'DET'), ('heirs', 'NUM'), ('of', 'ADP'), ('the', 'DET'), ('late', 'ADJ'), ('John', 'NOUN'), ('T.', 'NOUN'), ('Dorrance', 'NOUN'), ('Jr.', 'NOUN'), (',', '.'), ('who', 'PRON'), ('*T*-31', 'X'), ('controlled', 'VERB'), ('about', 'ADP'), ('58', 'NUM'), ('%', 'NOUN'), ('of', 'ADP'), ('Campbell', 'NOUN'), (\"'s\", 'PRT'), ('stock', 'NOUN'), ('when', 'ADV'), ('he', 'PRON'), ('died', 'VERB'), ('in', 'ADP'), ('April', 'NOUN'), ('*T*-1', 'X'), ('.', '.'), ('Nylev', 'NUM'), ('Municipal', 'NOUN'), ('Fund', 'NOUN'), ('Inc.', 'NOUN'), (',', '.'), ('offering', 'NOUN'), ('of', 'ADP'), ('five', 'NUM'), ('million', 'NUM'), ('common', 'ADJ'), ('shares', 'NOUN'), ('.', '.'), ('Elsewhere', 'ADV'), (':', '.'), ('Farmers', 'NOUN'), ('are', 'VERB'), ('in', 'ADP'), ('the', 'DET'), ('best', 'ADJ'), ('position', 'NOUN'), ('of', 'ADP'), ('many', 'ADJ'), ('years', 'NOUN'), ('0', 'X'), ('*', 'X'), ('to', 'PRT'), ('push', 'VERB'), ('up', 'ADV'), ('corn', 'NOUN'), ('prices', 'NOUN'), ('*T*-1', 'X'), ('.', '.'), ('They', 'PRON'), ('suffered', 'VERB'), ('from', 'ADP'), ('malnutrition', 'NUM'), (',', '.'), ('chest', 'NUM'), ('diseases', 'NOUN'), (',', '.'), ('cardiovascular', 'NUM'), ('disorders', 'NOUN'), (',', '.'), ('skin', 'NOUN'), ('problems', 'NOUN'), (',', '.'), ('infectious', 'NUM'), ('diseases', 'NOUN'), ('and', 'CONJ'), ('the', 'DET'), ('aftereffects', 'NUM'), ('of', 'ADP'), ('assaults', 'NUM'), ('and', 'CONJ'), ('rape', 'NOUN'), ('.', '.'), ('Mrs.', 'NOUN'), ('Ward', 'NOUN'), ('says', 'VERB'), ('0', 'X'), ('she', 'PRON'), ('often', 'ADV'), ('defended', 'VERB'), ('her', 'PRON'), ('to', 'PRT'), ('colleagues', 'NOUN'), ('who', 'PRON'), ('*T*-91', 'NUM'), ('called', 'VERB'), ('her', 'PRON'), ('a', 'DET'), ('grandstander', 'NUM'), ('.', '.'), ('Jaguar', 'NOUN'), (',', '.'), ('a', 'DET'), ('U.K.', 'NOUN'), ('luxury', 'NUM'), ('auto', 'NOUN'), ('maker', 'NOUN'), ('being', 'VERB'), ('pursued', 'VERB'), ('*', 'X'), ('by', 'ADP'), ('Ford', 'NOUN'), ('Motor', 'NOUN'), ('and', 'CONJ'), ('General', 'NOUN'), ('Motors', 'NOUN'), (',', '.'), ('gained', 'VERB'), ('10', 'NUM'), ('pence', 'NOUN'), ('-LRB-', '.'), ('16', 'NUM'), ('cents', 'NOUN'), ('-RRB-', '.'), ('a', 'DET'), ('share', 'NOUN'), ('*-1', 'X'), ('to', 'PRT'), ('close', 'VERB'), ('at', 'ADP'), ('879', 'NUM'), ('pence', 'NOUN'), ('-LRB-', '.'), ('$', '.'), ('13.90', 'NUM'), ('*U*', 'X'), ('-RRB-', '.'), ('.', '.'), ('The', 'DET'), ('big', 'ADJ'), ('problem', 'NOUN'), (',', '.'), ('however', 'ADV'), (',', '.'), ('is', 'VERB'), ('that', 'ADP'), ('there', 'DET'), (\"'s\", 'VERB'), ('no', 'DET'), ('guarantee', 'VERB'), ('that', 'ADP'), ('this', 'DET'), ('reasoning', 'NOUN'), ('will', 'VERB'), ('be', 'VERB'), ('limited', 'VERB'), ('*-1', 'X'), ('to', 'PRT'), ('DES', 'NOUN'), ('or', 'CONJ'), ('to', 'PRT'), ('drugs', 'NOUN'), ('.', '.'), ('Some', 'DET'), ('think', 'VERB'), ('0', 'X'), ('Columbia', 'NOUN'), (\"'s\", 'PRT'), ('thrift', 'NOUN'), (',', '.'), ('which', 'DET'), ('*T*-1', 'X'), ('now', 'ADV'), ('is', 'VERB'), ('seeking', 'VERB'), ('a', 'DET'), ('new', 'ADJ'), ('chief', 'NOUN'), ('operating', 'NOUN'), ('officer', 'NOUN'), (',', '.'), ('might', 'VERB'), ('be', 'VERB'), ('capitalized', 'VERB'), ('*-3', 'X'), ('at', 'ADP'), (',', '.'), ('say', 'VERB'), ('$', '.'), ('300', 'NUM'), ('million', 'NUM'), ('*U*', 'X'), (',', '.'), ('and', 'CONJ'), ('shopped', 'NUM'), ('*-3', 'X'), ('to', 'PRT'), ('a', 'DET'), ('commercial', 'ADJ'), ('bank', 'NOUN'), ('that', 'ADP'), ('*T*-2', 'X'), ('wants', 'VERB'), ('a', 'DET'), ('California', 'NOUN'), ('presence', 'NOUN'), ('.', '.'), ('As', 'ADP'), ('a', 'DET'), ('result', 'NOUN'), (',', '.'), ('Ms.', 'NOUN'), ('Ganes', 'NOUN'), ('said', 'VERB'), ('0', 'X'), ('*T*-2', 'X'), (',', '.'), ('it', 'PRON'), ('is', 'VERB'), ('believed', 'VERB'), ('that', 'ADP'), ('little', 'ADJ'), ('or', 'CONJ'), ('no', 'DET'), ('sugar', 'NOUN'), ('from', 'ADP'), ('the', 'DET'), ('1989-90', 'NUM'), ('crop', 'NOUN'), ('has', 'VERB'), ('been', 'VERB'), ('shipped', 'VERB'), ('*-1', 'X'), ('yet', 'ADV'), (',', '.'), ('even', 'ADV'), ('though', 'ADP'), ('the', 'DET'), ('crop', 'NOUN'), ('year', 'NOUN'), ('is', 'VERB'), ('six', 'NUM'), ('months', 'NOUN'), ('old', 'ADJ'), ('.', '.'), ('The', 'DET'), ('survey', 'NOUN'), ('found', 'VERB'), ('that', 'ADP'), ('nearly', 'ADV'), ('half', 'DET'), ('of', 'ADP'), ('Hong', 'NOUN'), ('Kong', 'NOUN'), ('consumers', 'NOUN'), ('espouse', 'NUM'), ('what', 'PRON'), ('it', 'PRON'), ('identified', 'VERB'), ('*T*-61', 'X'), ('as', 'ADP'), ('materialistic', 'ADJ'), ('values', 'NOUN'), (',', '.'), ('compared', 'VERB'), ('with', 'ADP'), ('about', 'ADP'), ('one-third', 'NOUN'), ('in', 'ADP'), ('Japan', 'NOUN'), ('and', 'CONJ'), ('the', 'DET'), ('U.S.', 'NOUN'), ('.', '.'), ('The', 'DET'), ('results', 'NOUN'), ('reflected', 'VERB'), ('a', 'DET'), ('24', 'NUM'), ('%', 'NOUN'), ('gain', 'NOUN'), ('in', 'ADP'), ('income', 'NOUN'), ('from', 'ADP'), ('its', 'PRON'), ('finance', 'VERB'), ('businesses', 'NOUN'), (',', '.'), ('and', 'CONJ'), ('a', 'DET'), ('15', 'NUM'), ('%', 'NOUN'), ('slide', 'NOUN'), ('in', 'ADP'), ('income', 'NOUN'), ('from', 'ADP'), ('insurance', 'NOUN'), ('operations', 'NOUN'), ('.', '.'), ('Because', 'ADP'), ('of', 'ADP'), ('deteriorating', 'NUM'), ('hearing', 'NOUN'), (',', '.'), ('she', 'PRON'), ('told', 'VERB'), ('colleagues', 'NOUN'), ('0', 'X'), ('she', 'PRON'), ('feared', 'VERB'), ('0', 'X'), ('she', 'PRON'), ('might', 'VERB'), ('not', 'ADV'), ('be', 'VERB'), ('able', 'ADJ'), ('*-1', 'X'), ('to', 'PRT'), ('teach', 'VERB'), ('much', 'ADV'), ('longer', 'ADV'), ('.', '.'), ('A.', 'NOUN'), ('Donald', 'NOUN'), ('Anderson', 'NUM'), (',', '.'), ('a', 'DET'), ('59-year-old', 'NUM'), ('Los', 'NOUN'), ('Angeles', 'NOUN'), ('investor', 'NOUN'), ('who', 'PRON'), ('*T*-1', 'X'), ('says', 'VERB'), ('0', 'X'), ('the', 'DET'), ('stock', 'NOUN'), ('market', 'NOUN'), (\"'s\", 'PRT'), ('``', '.'), ('fluctuations', 'NUM'), ('and', 'CONJ'), ('gyrations', 'NOUN'), ('give', 'VERB'), ('me', 'PRON'), ('the', 'DET'), ('heebie-jeebies', 'NUM'), (',', '.'), (\"''\", '.'), ('does', 'VERB'), (\"n't\", 'ADV'), ('see', 'VERB'), ('much', 'ADV'), ('point', 'VERB'), ('in', 'ADP'), ('*', 'X'), ('outlawing', 'NUM'), ('program', 'NOUN'), ('trading', 'NOUN'), ('.', '.'), ('The', 'DET'), ('council', 'NOUN'), ('backed', 'VERB'), ('the', 'DET'), ('audit', 'VERB'), ('commission', 'NOUN'), (\"'s\", 'PRT'), ('stand', 'VERB'), ('that', 'ADP'), ('the', 'DET'), ('swap', 'NOUN'), ('transactions', 'NOUN'), ('are', 'VERB'), ('illegal', 'ADJ'), ('.', '.'), ('She', 'PRON'), ('had', 'VERB'), ('gone', 'VERB'), ('so', 'ADV'), ('far', 'ADV'), ('as', 'ADP'), ('*-1', 'X'), ('to', 'PRT'), ('display', 'NUM'), ('the', 'DET'), ('questions', 'NOUN'), ('on', 'ADP'), ('an', 'DET'), ('overhead', 'ADJ'), ('projector', 'NUM'), ('and', 'CONJ'), ('underline', 'NUM'), ('the', 'DET'), ('answers', 'NOUN'), ('.', '.'), ('According', 'VERB'), ('to', 'PRT'), ('Ms.', 'NOUN'), ('Poore', 'NOUN'), (',', '.'), ('Old-House', 'NUM'), ('Journal', 'NOUN'), ('Corp.', 'NOUN'), (',', '.'), ('her', 'PRON'), ('publishing', 'VERB'), ('company', 'NOUN'), (',', '.'), ('printed', 'VERB'), ('and', 'CONJ'), ('sold', 'VERB'), ('all', 'DET'), ('126,000', 'NUM'), ('copies', 'NOUN'), ('of', 'ADP'), ('the', 'DET'), ('premiere', 'NOUN'), ('issue', 'NOUN'), ('.', '.'), ('``', '.'), ('This', 'DET'), ('stadium', 'NOUN'), ('shows', 'VERB'), ('that', 'ADP'), ('anything', 'NOUN'), ('0', 'X'), ('government', 'NOUN'), ('can', 'VERB'), ('do', 'VERB'), ('*T*-2', 'X'), (',', '.'), ('we', 'PRON'), ('can', 'VERB'), ('do', 'VERB'), ('*-3', 'X'), ('better', 'ADV'), (',', '.'), (\"''\", '.'), ('Mr.', 'NOUN'), ('Robbie', 'NOUN'), ('says', 'VERB'), ('*T*-1', 'X'), ('.', '.'), ('``', '.'), ('My', 'PRON'), ('stocks', 'NOUN'), ('are', 'VERB'), ('all', 'DET'), ('blue', 'ADJ'), ('chips', 'NOUN'), (',', '.'), (\"''\", '.'), ('she', 'PRON'), ('says', 'VERB'), ('*T*-1', 'X'), ('.', '.'), ('Both', 'DET'), ('contracts', 'NOUN'), ('have', 'VERB'), ('gained', 'VERB'), ('a', 'DET'), ('following', 'VERB'), ('since', 'ADP'), ('the', 'DET'), ('1987', 'NUM'), ('global', 'ADJ'), ('market', 'NOUN'), ('crash', 'NOUN'), ('.', '.'), ('A', 'DET'), ('few', 'ADJ'), ('years', 'NOUN'), ('ago', 'ADP'), (',', '.'), ('the', 'DET'), ('company', 'NOUN'), ('offered', 'VERB'), ('two', 'NUM'), ('round-trip', 'NUM'), ('tickets', 'NOUN'), ('on', 'ADP'), ('Trans', 'NUM'), ('World', 'NOUN'), ('Airlines', 'NOUN'), ('to', 'PRT'), ('buyers', 'NOUN'), ('of', 'ADP'), ('its', 'PRON'), ('Riviera', 'NOUN'), ('luxury', 'NUM'), ('car', 'NOUN'), ('.', '.'), ('With', 'ADP'), ('prices', 'NOUN'), ('soaring', 'NUM'), (',', '.'), ('they', 'PRON'), ('were', 'VERB'), ('able', 'ADJ'), ('*-1', 'X'), ('to', 'PRT'), ('sell', 'VERB'), ('the', 'DET'), ('reclaimed', 'NUM'), ('commodities', 'NOUN'), ('at', 'ADP'), ('``', '.'), ('considerable', 'ADJ'), ('profit', 'NOUN'), (',', '.'), (\"''\", '.'), ('the', 'DET'), ('agency', 'NOUN'), (\"'s\", 'PRT'), ('240-page', 'NUM'), ('report', 'NOUN'), ('said', 'VERB'), ('0', 'X'), ('*T*-2', 'X'), ('.', '.'), ('This', 'DET'), ('interpretation', 'NOUN'), ('was', 'VERB'), ('officially', 'ADV'), ('endorsed', 'VERB'), ('*-1', 'X'), ('by', 'ADP'), ('Congress', 'NOUN'), ('in', 'ADP'), ('1987', 'NUM'), ('in', 'ADP'), ('the', 'DET'), ('Iran-Contra', 'NUM'), ('Report', 'NOUN'), ('.', '.'), ('BTR', 'NOUN'), ('PLC', 'NOUN'), (',', '.'), ('a', 'DET'), ('U.K.', 'NOUN'), ('industrial', 'ADJ'), ('conglomerate', 'NOUN'), (',', '.'), ('said', 'VERB'), ('in', 'ADP'), ('June', 'NOUN'), ('0', 'X'), ('it', 'PRON'), ('had', 'VERB'), ('sold', 'VERB'), ('its', 'PRON'), ('National', 'NOUN'), ('Tyre', 'NOUN'), ('Service', 'NOUN'), ('business', 'NOUN'), ('to', 'PRT'), ('Michelin', 'NOUN'), ('Investment', 'NOUN'), ('Ltd.', 'NOUN'), (',', '.'), ('a', 'DET'), ('U.K.', 'NOUN'), ('unit', 'NOUN'), ('of', 'ADP'), ('the', 'DET'), ('tire', 'NOUN'), ('maker', 'NOUN'), (',', '.'), ('for', 'ADP'), ('#', '.'), ('140', 'NUM'), ('million', 'NUM'), ('*U*', 'X'), ('-LRB-', '.'), ('$', '.'), ('221.4', 'NUM'), ('million', 'NUM'), ('*U*', 'X'), ('-RRB-', '.'), ('.', '.'), ('Next', 'NUM'), ('week', 'NOUN'), (',', '.'), ('the', 'DET'), ('Philippine', 'NUM'), ('Fund', 'NOUN'), (\"'s\", 'PRT'), ('launch', 'VERB'), ('will', 'VERB'), ('be', 'VERB'), ('capped', 'ADJ'), ('*-46', 'X'), ('by', 'ADP'), ('a', 'DET'), ('visit', 'NOUN'), ('by', 'ADP'), ('Philippine', 'NUM'), ('President', 'NOUN'), ('Corazon', 'NUM'), ('Aquino', 'NUM'), ('--', '.'), ('the', 'DET'), ('first', 'ADJ'), ('time', 'NOUN'), ('0', 'X'), ('a', 'DET'), ('head', 'NOUN'), ('of', 'ADP'), ('state', 'NOUN'), ('has', 'VERB'), ('kicked', 'VERB'), ('off', 'PRT'), ('an', 'DET'), ('issue', 'NOUN'), ('at', 'ADP'), ('the', 'DET'), ('Big', 'NOUN'), ('Board', 'NOUN'), ('here', 'ADV'), ('*T*-1', 'X'), ('.', '.'), ('``', '.'), ('In', 'ADP'), ('addition', 'NOUN'), (',', '.'), ('recent', 'ADJ'), ('industry', 'NOUN'), ('forecasts', 'NOUN'), ('for', 'ADP'), ('1990', 'NUM'), ('indicate', 'VERB'), ('a', 'DET'), ('slow', 'ADJ'), ('environment', 'NOUN'), (',', '.'), ('at', 'ADP'), ('least', 'ADJ'), ('until', 'ADP'), ('midyear', 'NUM'), ('.', '.'), (\"''\", '.'), ('Spending', 'NUM'), ('on', 'ADP'), ('private', 'ADJ'), (',', '.'), ('nonresidential', 'NUM'), ('construction', 'NOUN'), ('was', 'VERB'), ('off', 'PRT'), ('2.6', 'NUM'), ('%', 'NOUN'), ('to', 'PRT'), ('an', 'DET'), ('annual', 'ADJ'), ('rate', 'NOUN'), ('of', 'ADP'), ('$', '.'), ('99.1', 'NUM'), ('billion', 'NUM'), ('*U*', 'X'), ('with', 'ADP'), ('no', 'DET'), ('sector', 'NOUN'), ('showing', 'VERB'), ('strength', 'NOUN'), ('.', '.'), ('Trading', 'NOUN'), ('is', 'VERB'), ('expected', 'VERB'), ('*-1', 'X'), ('to', 'PRT'), ('remain', 'VERB'), ('subdued', 'VERB'), ('as', 'ADP'), ('the', 'DET'), ('market', 'NOUN'), ('awaits', 'NUM'), ('tomorrow', 'NOUN'), (\"'s\", 'PRT'), ('release', 'NOUN'), ('of', 'ADP'), ('the', 'DET'), ('jobs', 'NOUN'), ('data', 'NOUN'), ('with', 'ADP'), ('the', 'DET'), ('hope', 'NOUN'), ('that', 'ADP'), ('it', 'PRON'), ('will', 'VERB'), ('point', 'NOUN'), ('toward', 'ADP'), ('a', 'DET'), ('decline', 'NOUN'), ('in', 'ADP'), ('interest', 'NOUN'), ('rates', 'NOUN'), ('.', '.'), ('Aerospace', 'NUM'), ('earnings', 'NOUN'), ('sagged', 'NUM'), ('37', 'NUM'), ('%', 'NOUN'), ('for', 'ADP'), ('the', 'DET'), ('quarter', 'NOUN'), ('and', 'CONJ'), ('15', 'NUM'), ('%', 'NOUN'), ('for', 'ADP'), ('the', 'DET'), ('year', 'NOUN'), (',', '.'), ('largely', 'ADV'), ('due', 'ADJ'), ('to', 'PRT'), ('lower', 'ADJ'), ('B-1B', 'ADJ'), ('program', 'NOUN'), ('profit', 'NOUN'), (';', '.'), ('the', 'DET'), ('last', 'ADJ'), ('of', 'ADP'), ('the', 'DET'), ('bombers', 'NUM'), ('rolled', 'VERB'), ('out', 'PRT'), ('in', 'ADP'), ('April', 'NOUN'), ('1988', 'NUM'), ('.', '.'), ('Nissan', 'NOUN'), ('Motor', 'NOUN'), ('Co.', 'NOUN'), (',', '.'), ('Japan', 'NOUN'), (\"'s\", 'PRT'), ('second-largest', 'ADJ'), ('car', 'NOUN'), ('maker', 'NOUN'), (',', '.'), ('announced', 'VERB'), ('Wednesday', 'NOUN'), ('that', 'ADP'), ('the', 'DET'), ('parent', 'NOUN'), ('concern', 'NOUN'), (\"'s\", 'PRT'), ('pretax', 'NOUN'), ('earnings', 'NOUN'), ('in', 'ADP'), ('the', 'DET'), ('first', 'ADJ'), ('half', 'NOUN'), ('ended', 'VERB'), ('last', 'ADJ'), ('Sept.', 'NOUN'), ('30', 'NUM'), ('rose', 'VERB'), ('14', 'NUM'), ('%', 'NOUN'), ('to', 'PRT'), ('88.32', 'NUM'), ('billion', 'NUM'), ('yen', 'NOUN'), ('-LRB-', '.'), ('$', '.'), ('618.1', 'NUM'), ('million', 'NUM'), ('*U*', 'X'), ('-RRB-', '.'), ('from', 'ADP'), ('77.6', 'NUM'), ('billion', 'NUM'), ('yen', 'NOUN'), ('a', 'DET'), ('year', 'NOUN'), ('earlier', 'ADV'), ('.', '.'), ('But', 'CONJ'), ('regulators', 'NOUN'), ('are', 'VERB'), ('wary', 'ADJ'), ('.', '.'), ('Sales', 'NOUN'), ('for', 'ADP'), ('the', 'DET'), ('year', 'NOUN'), ('rose', 'VERB'), ('5', 'NUM'), ('%', 'NOUN'), ('to', 'PRT'), ('$', '.'), ('12.52', 'NUM'), ('billion', 'NUM'), ('*U*', 'X'), ('from', 'ADP'), ('$', '.'), ('11.95', 'NUM'), ('billion', 'NUM'), ('*U*', 'X'), ('in', 'ADP'), ('fiscal', 'ADJ'), ('1988', 'NUM'), ('.', '.'), ('The', 'DET'), ('White', 'NOUN'), ('House', 'NOUN'), ('said', 'VERB'), ('0', 'X'), ('the', 'DET'), ('shipboard', 'NUM'), ('meetings', 'NOUN'), ('next', 'ADP'), ('month', 'NOUN'), ('between', 'ADP'), ('Bush', 'NOUN'), ('and', 'CONJ'), ('Soviet', 'ADJ'), ('leader', 'NOUN'), ('Gorbachev', 'NOUN'), ('will', 'VERB'), ('take', 'VERB'), ('place', 'NOUN'), ('in', 'ADP'), ('the', 'DET'), ('waters', 'NOUN'), ('off', 'PRT'), ('Malta', 'NUM'), ('.', '.'), ('NCNB', 'NUM'), ('Corp.', 'NOUN'), ('of', 'ADP'), ('Charlotte', 'NOUN'), (',', '.'), ('N.C.', 'NOUN'), (',', '.'), ('recently', 'ADV'), ('introduced', 'VERB'), ('its', 'PRON'), ('Financial', 'NOUN'), ('Connections', 'NUM'), ('Program', 'NOUN'), ('aimed', 'VERB'), ('*', 'X'), ('at', 'ADP'), ('young', 'ADJ'), ('adults', 'NUM'), ('just', 'ADV'), ('starting', 'VERB'), ('careers', 'NOUN'), ('.', '.'), ('As', 'ADP'), ('partisans', 'NOUN'), ('of', 'ADP'), ('congressional', 'ADJ'), ('power', 'NOUN'), ('understand', 'VERB'), (',', '.'), ('a', 'DET'), ('``', '.'), ('power', 'NOUN'), ('of', 'ADP'), ('the', 'DET'), ('purse', 'NOUN'), (\"''\", '.'), ('so', 'ADV'), ('broadly', 'NUM'), ('construed', 'NUM'), ('*', 'X'), ('would', 'VERB'), ('emasculate', 'NUM'), ('the', 'DET'), ('presidency', 'NOUN'), ('and', 'CONJ'), ('swallow', 'NUM'), ('the', 'DET'), ('principle', 'NOUN'), ('of', 'ADP'), ('separation', 'NOUN'), ('of', 'ADP'), ('powers', 'NOUN'), ('.', '.'), ('The', 'DET'), ('bids', 'NOUN'), (',', '.'), ('he', 'PRON'), ('added', 'VERB'), ('0', 'X'), ('*T*-1', 'X'), (',', '.'), ('were', 'VERB'), ('``', '.'), ('contrary', 'NOUN'), ('to', 'PRT'), ('common', 'ADJ'), ('sense', 'NOUN'), ('.', '.'), (\"''\", '.'), ('It', 'PRON'), (\"'s\", 'VERB'), ('hardly', 'ADV'), ('a', 'DET'), ('question', 'NOUN'), ('of', 'ADP'), ('quality', 'NOUN'), ('--', '.'), ('the', 'DET'), ('1982', 'NUM'), ('Salon', 'NOUN'), ('is', 'VERB'), ('a', 'DET'), ('beautiful', 'ADJ'), ('wine', 'NOUN'), (',', '.'), ('but', 'CONJ'), (',', '.'), ('as', 'ADP'), ('Mr.', 'NOUN'), ('Pratt', 'NOUN'), ('noted', 'VERB'), ('0', 'X'), ('*T*-1', 'X'), (',', '.'), ('people', 'NOUN'), ('have', 'VERB'), ('their', 'PRON'), ('own', 'ADJ'), ('ideas', 'NOUN'), ('about', 'ADP'), ('value', 'NOUN'), ('.', '.')]\n"
     ]
    }
   ],
   "source": [
    "time_taken = test_evaluate(Viterbi, valdn_tagged_words)[0]\n",
    "valdn_seq_Viterbi = test_evaluate(Viterbi, valdn_tagged_words)[1]\n",
    "print(\"Evaluation time taken (in seconds) for Viterbi algorithm on validation set: \",time_taken)\n",
    "print(valdn_seq_Viterbi)\n"
   ]
  },
  {
   "cell_type": "code",
   "execution_count": 37,
   "metadata": {},
   "outputs": [
    {
     "name": "stdout",
     "output_type": "stream",
     "text": [
      "Accuracy of Vanilla Viterbi over Validation Data : 91.03 %\n"
     ]
    }
   ],
   "source": [
    "accu = get_accuracy(valdn_seq_Viterbi, valdn_run_base)\n",
    "print(\"Accuracy of Vanilla Viterbi over Validation Data :\", round(accu * 100,2),\"%\")"
   ]
  },
  {
   "cell_type": "code",
   "execution_count": 38,
   "metadata": {},
   "outputs": [
    {
     "name": "stdout",
     "output_type": "stream",
     "text": [
      "Vanilla Viterbi - Incorrect Tagged words - Validation Data\n"
     ]
    },
    {
     "data": {
      "text/plain": [
       "[[('to', 'PRT'), (('book', 'NOUN'), ('book', 'VERB'))],\n",
       " [('leaving', 'VERB'), (('stocks', 'NOUN'), ('stocks', 'ADV'))],\n",
       " [('stocks', 'ADV'), (('up', 'PRT'), ('up', 'ADP'))],\n",
       " [('carried', 'VERB'), (('over', 'ADP'), ('over', 'PRT'))],\n",
       " [('apparently', 'ADV'), (('ignored', 'NUM'), ('ignored', 'VERB'))],\n",
       " [('Chilean', 'ADJ'), (('mine', 'NOUN'), ('mine', 'ADJ'))],\n",
       " [('the', 'DET'), (('Palestinian', 'ADJ'), ('Palestinian', 'NOUN'))],\n",
       " [('committee', 'NOUN'), (('first', 'ADJ'), ('first', 'ADV'))],\n",
       " [('.', '.'), (('Preston', 'NUM'), ('Preston', 'NOUN'))],\n",
       " [('Foster', 'NOUN'), (('Birmingham', 'NUM'), ('Birmingham', 'NOUN'))],\n",
       " [(',', '.'), (('Ala', 'NUM'), ('Ala', 'NOUN'))],\n",
       " [('has', 'VERB'), (('clamped', 'NUM'), ('clamped', 'VERB'))],\n",
       " [('their', 'PRON'), (('ankle', 'NUM'), ('ankle', 'NOUN'))],\n",
       " [('the', 'DET'), (('third-largest', 'NUM'), ('third-largest', 'ADJ'))],\n",
       " [('the', 'DET'), (('fifth-largest', 'NUM'), ('fifth-largest', 'ADJ'))],\n",
       " [('Charles', 'NOUN'), (('Z.', 'NUM'), ('Z.', 'NOUN'))],\n",
       " [('Z.', 'NOUN'), (('Wick', 'NUM'), ('Wick', 'NOUN'))],\n",
       " [('he', 'PRON'), (('argues', 'NUM'), ('argues', 'VERB'))],\n",
       " [('*', 'X'), (('Sit', 'NUM'), ('Sit', 'VERB'))],\n",
       " [('Sit', 'VERB'), (('down', 'PRT'), ('down', 'ADV'))],\n",
       " [('The', 'DET'), (('British', 'ADJ'), ('British', 'NOUN'))],\n",
       " [('to', 'PRT'), (('halt', 'NOUN'), ('halt', 'VERB'))],\n",
       " [('Dow', 'NOUN'), (('slides', 'NOUN'), ('slides', 'VERB'))],\n",
       " [('where', 'ADV'), (('most', 'ADJ'), ('most', 'ADV'))],\n",
       " [('as', 'ADP'), (('athletic', 'NUM'), ('athletic', 'ADJ'))],\n",
       " [('*-2', 'X'), (('to', 'PRT'), ('to', 'ADJ'))],\n",
       " [('1990', 'NUM'), (('better', 'ADJ'), ('better', 'ADV'))],\n",
       " [('*ICH*-1', 'X'), (('illustrates', 'NUM'), ('illustrates', 'VERB'))],\n",
       " [(\"'s\", 'PRT'), (('attempt', 'VERB'), ('attempt', 'NOUN'))],\n",
       " [('to', 'PRT'), (('usurp', 'NUM'), ('usurp', 'VERB'))],\n",
       " [('usurp', 'VERB'), (('executive', 'NOUN'), ('executive', 'ADJ'))],\n",
       " [('the', 'DET'), (('executive-office', 'NUM'), ('executive-office', 'NOUN'))],\n",
       " [(',', '.'), (('administer', 'NUM'), ('administer', 'VERB'))],\n",
       " [('been', 'VERB'), (('disapproved', 'NUM'), ('disapproved', 'VERB'))],\n",
       " [('disapproved', 'VERB'), (('*-58', 'NUM'), ('*-58', 'X'))],\n",
       " [('of', 'ADP'), (('disapproval', 'NUM'), ('disapproval', 'NOUN'))],\n",
       " [('in', 'ADP'), (('accordance', 'NUM'), ('accordance', 'NOUN'))],\n",
       " [('the', 'DET'), (('applicable', 'NUM'), ('applicable', 'ADJ'))],\n",
       " [(\"''\", '.'), (('Mead', 'NUM'), ('Mead', 'NOUN'))],\n",
       " [('Federal', 'NOUN'), (('Paper', 'NUM'), ('Paper', 'NOUN'))],\n",
       " [('Scott', 'NOUN'), (('Paper', 'NUM'), ('Paper', 'NOUN'))],\n",
       " [('International', 'NOUN'), (('Paper', 'NUM'), ('Paper', 'NOUN'))],\n",
       " [('and', 'CONJ'),\n",
       "  (('Louisiana-Pacific', 'NUM'), ('Louisiana-Pacific', 'NOUN'))],\n",
       " [('Peter', 'NOUN'), (('DeFazio', 'NUM'), ('DeFazio', 'NOUN'))],\n",
       " [('previous', 'ADJ'), (('criteria', 'NUM'), ('criteria', 'NOUN'))],\n",
       " [('.', '.'), (('Proper', 'NUM'), ('Proper', 'ADJ'))],\n",
       " [('Proper', 'ADJ'), (('English', 'NOUN'), ('English', 'ADJ'))],\n",
       " [('``', '.'), (('rounds', 'NUM'), ('rounds', 'NOUN'))],\n",
       " [('the', 'DET'), (('highest-pitched', 'NUM'), ('highest-pitched', 'ADJ'))],\n",
       " [('simple', 'ADJ'), (('descending', 'NUM'), ('descending', 'VERB'))],\n",
       " [(',', '.'), (('as', 'ADP'), ('as', 'ADV'))],\n",
       " [('the', 'DET'), (('62-year-old', 'NUM'), ('62-year-old', 'ADJ'))],\n",
       " [('chief', 'NOUN'), (('executive', 'NOUN'), ('executive', 'ADJ'))],\n",
       " [('the', 'DET'), (('forest-product', 'NUM'), ('forest-product', 'NOUN'))],\n",
       " [(\"'s\", 'PRT'), (('unsolicited', 'NUM'), ('unsolicited', 'ADJ'))],\n",
       " [('*U*', 'X'), (('bid', 'VERB'), ('bid', 'NOUN'))],\n",
       " [('companies', 'NOUN'), (('that', 'ADP'), ('that', 'DET'))],\n",
       " [('have', 'VERB'), (('diversified', 'ADJ'), ('diversified', 'VERB'))],\n",
       " [('all', 'DET'), (('that', 'ADP'), ('that', 'DET'))],\n",
       " [('that', 'DET'), (('impressive', 'NUM'), ('impressive', 'ADJ'))],\n",
       " [('will', 'VERB'), (('issue', 'NOUN'), ('issue', 'VERB'))],\n",
       " [('of', 'ADP'), (('29year', 'NUM'), ('29year', 'ADJ'))],\n",
       " [(',', '.'), (('nine-month', 'NUM'), ('nine-month', 'ADJ'))],\n",
       " [('bond', 'NOUN'), (('that', 'ADP'), ('that', 'DET'))],\n",
       " [('.', '.'), (('ECONOMIC', 'NUM'), ('ECONOMIC', 'ADJ'))],\n",
       " [('ECONOMIC', 'ADJ'), (('GROWTH', 'NUM'), ('GROWTH', 'NOUN'))],\n",
       " [('GROWTH', 'NOUN'), (('APPEARS', 'NUM'), ('APPEARS', 'VERB'))],\n",
       " [('leveling', 'VERB'), (('off', 'PRT'), ('off', 'ADP'))],\n",
       " [(\"'s\", 'VERB'), (('that', 'ADP'), ('that', 'DET'))],\n",
       " [('Michelin', 'NOUN'), (('S.A', 'NUM'), ('S.A', 'NOUN'))],\n",
       " [(',', '.'), (('U.S.-Japanese', 'NUM'), ('U.S.-Japanese', 'ADJ'))],\n",
       " [('economic', 'ADJ'), (('behemoth', 'NUM'), ('behemoth', 'NOUN'))],\n",
       " [('which', 'DET'), (('*T*-174', 'NUM'), ('*T*-174', 'X'))],\n",
       " [('operates', 'VERB'), (('hotels', 'NUM'), ('hotels', 'NOUN'))],\n",
       " [('rights', 'NOUN'), (('that', 'ADP'), ('that', 'DET'))],\n",
       " [('that', 'DET'), (('*T*-175', 'NUM'), ('*T*-175', 'X'))],\n",
       " [('by', 'ADP'), (('masters', 'NUM'), ('masters', 'NOUN'))],\n",
       " [('.', '.'), (('Tiny', 'NUM'), ('Tiny', 'NOUN'))],\n",
       " [('Tiny', 'NOUN'), (('Tots', 'NUM'), ('Tots', 'NOUN'))],\n",
       " [('is', 'VERB'), (('up', 'ADV'), ('up', 'ADP'))],\n",
       " [('the', 'DET'), (('past', 'ADJ'), ('past', 'NOUN'))],\n",
       " [('*T*-2', 'X'), (('Kelli', 'NUM'), ('Kelli', 'NOUN'))],\n",
       " [('Kelli', 'NOUN'), (('Green', 'NUM'), ('Green', 'NOUN'))],\n",
       " [('Greenville', 'NOUN'), (('senior', 'ADJ'), ('senior', 'NOUN'))],\n",
       " [('to', 'PRT'), (('speculate', 'NUM'), ('speculate', 'VERB'))],\n",
       " [('Japan', 'NOUN'), (('yen-support', 'NUM'), ('yen-support', 'ADJ'))],\n",
       " [('yen-support', 'ADJ'), (('intervention', 'NUM'), ('intervention', 'NOUN'))],\n",
       " [('in', 'ADP'), (('excess', 'ADJ'), ('excess', 'NOUN'))],\n",
       " [('or', 'CONJ'), (('about', 'ADP'), ('about', 'ADV'))],\n",
       " [('stepping', 'VERB'), (('up', 'ADV'), ('up', 'PRT'))],\n",
       " [('no', 'DET'), (('smiles', 'NUM'), ('smiles', 'NOUN'))],\n",
       " [(',', '.'), (('Mont', 'NUM'), ('Mont', 'NOUN'))],\n",
       " [('the', 'DET'), (('exits', 'NUM'), ('exits', 'NOUN'))],\n",
       " [('market', 'NOUN'), (('rebound', 'VERB'), ('rebound', 'NOUN'))],\n",
       " [('rebound', 'NOUN'), (('pushes', 'NUM'), ('pushes', 'VERB'))],\n",
       " [('*-1', 'X'), (('Left', 'NUM'), ('Left', 'VERB'))],\n",
       " [('and', 'CONJ'), (('more', 'ADJ'), ('more', 'ADV'))],\n",
       " [('scores', 'NOUN'), (('so', 'ADP'), ('so', 'ADV'))],\n",
       " [('so', 'ADV'), (('much', 'ADJ'), ('much', 'ADV'))],\n",
       " [('.', '.'), (('Sandoz', 'NUM'), ('Sandoz', 'NOUN'))],\n",
       " [('conducting', 'VERB'), (('preclinical', 'NUM'), ('preclinical', 'ADJ'))],\n",
       " [('``', '.'), (('vague', 'NUM'), ('vague', 'ADJ'))],\n",
       " [('and', 'CONJ'), (('mushy', 'NUM'), ('mushy', 'ADJ'))],\n",
       " [(\"''\", '.'), (('that', 'DET'), ('that', 'ADP'))],\n",
       " [('all', 'DET'), (('viewpoints', 'NUM'), ('viewpoints', 'NOUN'))],\n",
       " [('come', 'VERB'), (('out', 'PRT'), ('out', 'ADV'))],\n",
       " [('Salon', 'NOUN'), (('le', 'NUM'), ('le', 'DET'))],\n",
       " [('the', 'DET'), (('genie', 'NUM'), ('genie', 'NOUN'))],\n",
       " [('genie', 'NOUN'), (('back', 'PRT'), ('back', 'ADV'))],\n",
       " [('The', 'DET'), (('len', 'NUM'), ('len', 'NOUN'))],\n",
       " [(\"'s\", 'PRT'), (('foldability', 'NUM'), ('foldability', 'NOUN'))],\n",
       " [('be', 'VERB'), (('inserted', 'NUM'), ('inserted', 'VERB'))],\n",
       " [('smaller', 'ADJ'), (('incisions', 'NUM'), ('incisions', 'NOUN'))],\n",
       " [('the', 'DET'), (('eye', 'NUM'), ('eye', 'NOUN'))],\n",
       " [('skin', 'NOUN'), (('care', 'VERB'), ('care', 'NOUN'))],\n",
       " [('could', 'VERB'), (('clear', 'ADJ'), ('clear', 'VERB'))],\n",
       " [('an', 'DET'), (('ethanol', 'NUM'), ('ethanol', 'NOUN'))],\n",
       " [('to', 'PRT'), (('fuel', 'NOUN'), ('fuel', 'VERB'))],\n",
       " [('national', 'ADJ'), (('fleet', 'NUM'), ('fleet', 'NOUN'))],\n",
       " [('.', '.'), (('Lucille', 'NUM'), ('Lucille', 'NOUN'))],\n",
       " [('an', 'DET'), (('84-year-old', 'NUM'), ('84-year-old', 'ADJ'))],\n",
       " [('Chicago', 'NOUN'), (('housewife', 'NUM'), ('housewife', 'NOUN'))],\n",
       " [('become', 'VERB'), (('amazingly', 'NUM'), ('amazingly', 'ADV'))],\n",
       " [('stock-market', 'NOUN'), (('jolts', 'NUM'), ('jolts', 'NOUN'))],\n",
       " [('.', '.'), (('DISCOUNT', 'NUM'), ('DISCOUNT', 'NOUN'))],\n",
       " [('in', 'ADP'), (('sight', 'NUM'), ('sight', 'NOUN'))],\n",
       " [('many', 'ADJ'), (('*T*-178', 'NUM'), ('*T*-178', 'X'))],\n",
       " [('Ms.', 'NOUN'), (('Kirkpatrick', 'NUM'), ('Kirkpatrick', 'NOUN'))],\n",
       " [('barred', 'VERB'), (('*-154', 'NUM'), ('*-154', 'X'))],\n",
       " [('.', '.'), (('Sumitomo', 'NUM'), ('Sumitomo', 'NOUN'))],\n",
       " [('Sumitomo', 'NOUN'), (('Metal', 'NUM'), ('Metal', 'NOUN'))],\n",
       " [('an', 'DET'), (('individual', 'ADJ'), ('individual', 'NOUN'))],\n",
       " [('of', 'ADP'), (('readings', 'NUM'), ('readings', 'NOUN'))],\n",
       " [('is', 'VERB'), (('wrestling', 'NUM'), ('wrestling', 'VERB'))],\n",
       " [('especially', 'ADV'), (('intelligent', 'NUM'), ('intelligent', 'ADJ'))],\n",
       " [('temporarily', 'ADV'), (('insane', 'NUM'), ('insane', 'ADJ'))],\n",
       " [('programs', 'NOUN'), (('that', 'ADP'), ('that', 'DET'))],\n",
       " [('seem', 'VERB'), (('tailor-made', 'NUM'), ('tailor-made', 'ADJ'))],\n",
       " [('buying', 'VERB'), (('more', 'ADV'), ('more', 'ADJ'))],\n",
       " [('The', 'DET'), (('purhasing', 'NUM'), ('purhasing', 'NOUN'))],\n",
       " [(\"'\", 'PRT'), (('report', 'VERB'), ('report', 'NOUN'))],\n",
       " [('bad', 'ADJ'), (('movies', 'NUM'), ('movies', 'NOUN'))],\n",
       " [('Gregory', 'NOUN'), (('Peck', 'NUM'), ('Peck', 'NOUN'))],\n",
       " [('a', 'DET'), (('marvelously', 'NUM'), ('marvelously', 'ADV'))],\n",
       " [('marvelously', 'ADV'), (('loose', 'NUM'), ('loose', 'ADJ'))],\n",
       " [('energetic', 'ADJ'), (('portrayal', 'NUM'), ('portrayal', 'NOUN'))],\n",
       " [(\"'s\", 'PRT'), (('work', 'VERB'), ('work', 'NOUN'))],\n",
       " [('work', 'NOUN'), (('force', 'VERB'), ('force', 'NOUN'))],\n",
       " [('.', '.'), (('Cataracts', 'NUM'), ('Cataracts', 'NOUN'))],\n",
       " [('Cataracts', 'NOUN'), (('refer', 'NUM'), ('refer', 'VERB'))],\n",
       " [('a', 'DET'), (('clouding', 'NUM'), ('clouding', 'NOUN'))],\n",
       " [('the', 'DET'), (('eye', 'NUM'), ('eye', 'NOUN'))],\n",
       " [('sold', 'VERB'), (('*-107', 'NUM'), ('*-107', 'X'))],\n",
       " [('raise', 'VERB'), (('about', 'ADP'), ('about', 'ADV'))],\n",
       " [('in', 'ADP'), (('maturing', 'NUM'), ('maturing', 'VERB'))],\n",
       " [('stand', 'VERB'), (('up', 'ADV'), ('up', 'PRT'))],\n",
       " [('``', '.'), (('filled', 'NUM'), ('filled', 'VERB'))],\n",
       " [('the', 'DET'), (('solemn', 'NUM'), ('solemn', 'ADJ'))],\n",
       " [('solemn', 'ADJ'), (('intoxication', 'NUM'), ('intoxication', 'NOUN'))],\n",
       " [('intoxication', 'NOUN'), (('that', 'ADP'), ('that', 'DET'))],\n",
       " [('that', 'DET'), (('*T*-226', 'NUM'), ('*T*-226', 'X'))],\n",
       " [('of', 'ADP'), (('intricate', 'NUM'), ('intricate', 'ADJ'))],\n",
       " [('intricate', 'ADJ'), (('ritual', 'NUM'), ('ritual', 'NOUN'))],\n",
       " [('ritual', 'NOUN'), (('faultlessly', 'NUM'), ('faultlessly', 'ADV'))],\n",
       " [('questionable', 'ADJ'), (('properties', 'NUM'), ('properties', 'NOUN'))],\n",
       " [('.', '.'), (('Indexing', 'NUM'), ('Indexing', 'NOUN'))],\n",
       " [('stock-market', 'NOUN'), (('barometer', 'NUM'), ('barometer', 'NOUN'))],\n",
       " [('not', 'ADV'), (('panic', 'NOUN'), ('panic', 'VERB'))],\n",
       " [('seen', 'VERB'), (('so', 'ADV'), ('so', 'ADP'))],\n",
       " [('people', 'NOUN'), (('crying', 'NUM'), ('crying', 'VERB'))],\n",
       " [('an', 'DET'), (('assistant', 'NOUN'), ('assistant', 'ADJ'))],\n",
       " [('in', 'ADP'), (('Ilminster', 'NUM'), ('Ilminster', 'NOUN'))],\n",
       " [(',', '.'), (('Somerset', 'NUM'), ('Somerset', 'NOUN'))],\n",
       " [('silent', 'ADJ'), (('following', 'NOUN'), ('following', 'VERB'))],\n",
       " [('a', 'DET'), (('dust-up', 'NUM'), ('dust-up', 'NOUN'))],\n",
       " [('church', 'NOUN'), (('attendance', 'NUM'), ('attendance', 'NOUN'))],\n",
       " [('by', 'ADP'), (('about', 'ADP'), ('about', 'ADV'))],\n",
       " [('has', 'VERB'), (('shown', 'NUM'), ('shown', 'VERB'))],\n",
       " [('shown', 'VERB'), (('no', 'X'), ('no', 'DET'))],\n",
       " [('no', 'DET'), (('sign', 'VERB'), ('sign', 'NOUN'))],\n",
       " [('.', '.'), (('Video', 'NUM'), ('Video', 'NOUN'))],\n",
       " [('Video', 'NOUN'), (('Tip', 'NUM'), ('Tip', 'NOUN'))],\n",
       " [('his', 'PRON'), (('finest', 'NUM'), ('finest', 'ADJ'))],\n",
       " [('much', 'ADV'), (('defeats', 'NUM'), ('defeats', 'VERB'))],\n",
       " [('any', 'DET'), (('inkling', 'NUM'), ('inkling', 'NOUN'))],\n",
       " [('poor', 'ADJ'), (('underprivileged', 'NUM'), ('underprivileged', 'ADJ'))],\n",
       " [('the', 'DET'), (('prosecutor', 'NUM'), ('prosecutor', 'NOUN'))],\n",
       " [('who', 'PRON'), (('*T*-96', 'NUM'), ('*T*-96', 'X'))],\n",
       " [(\"'s\", 'PRT'), (('alumni', 'NUM'), ('alumni', 'NOUN'))],\n",
       " [('has', 'VERB'), (('cultivated', 'NUM'), ('cultivated', 'VERB'))],\n",
       " [('a', 'DET'), (('much', 'ADJ'), ('much', 'ADV'))],\n",
       " [('much', 'ADV'), (('savvier', 'NUM'), ('savvier', 'ADJ'))],\n",
       " [('take', 'VERB'), (('much', 'ADV'), ('much', 'ADJ'))],\n",
       " [('get', 'VERB'), (('burned', 'NUM'), ('burned', 'VERB'))],\n",
       " [('their', 'PRON'), (('wrath', 'NUM'), ('wrath', 'NOUN'))],\n",
       " [('conservative', 'ADJ'), (('Californian', 'NUM'), ('Californian', 'NOUN'))],\n",
       " [('assist', 'VERB'), (('Bolivia', 'NUM'), ('Bolivia', 'NOUN'))],\n",
       " [('then', 'ADV'), (('broadened', 'NUM'), ('broadened', 'VERB'))],\n",
       " [('Basin', 'NOUN'), (('initiate', 'NUM'), ('initiate', 'NOUN'))],\n",
       " [('initiate', 'NOUN'), (('as', 'ADP'), ('as', 'ADV'))],\n",
       " [('Maxwell', 'NOUN'), (('R.D.', 'NUM'), ('R.D.', 'NOUN'))],\n",
       " [('R.D.', 'NOUN'), (('Vos', 'NUM'), ('Vos', 'NOUN'))],\n",
       " [(',', '.'), (('N.Y', 'NUM'), ('N.Y', 'NOUN'))],\n",
       " [('were', 'VERB'), (('delayed', 'NUM'), ('delayed', 'VERB'))],\n",
       " [('bureaucracy', 'NOUN'), (('as', 'ADP'), ('as', 'ADV'))],\n",
       " [('.', '.'), (('Above', 'NUM'), ('Above', 'ADP'))],\n",
       " [('extremely', 'ADV'), (('confused', 'ADJ'), ('confused', 'VERB'))],\n",
       " [('look', 'VERB'), (('around', 'ADP'), ('around', 'PRT'))],\n",
       " [('or', 'CONJ'), (('accountants', 'NUM'), ('accountants', 'NOUN'))],\n",
       " [('nobody', 'NOUN'), (('blinks', 'NUM'), ('blinks', 'VERB'))],\n",
       " [('an', 'DET'), (('eye', 'NUM'), ('eye', 'NOUN'))],\n",
       " [('can', 'VERB'), (('bar', 'NOUN'), ('bar', 'VERB'))],\n",
       " [('programs', 'NOUN'), (('that', 'ADP'), ('that', 'DET'))],\n",
       " [('include', 'VERB'),\n",
       "  (('abortion-related', 'NUM'), ('abortion-related', 'ADJ'))],\n",
       " [('*T*-1', 'X'), ((\"'s\", 'PRT'), (\"'s\", 'VERB'))],\n",
       " [(\"'s\", 'VERB'), (('more', 'ADJ'), ('more', 'ADV'))],\n",
       " [('To', 'PRT'), (('further', 'ADJ'), ('further', 'ADV'))],\n",
       " [('further', 'ADV'), (('load', 'NOUN'), ('load', 'VERB'))],\n",
       " [('Lane', 'NOUN'), (('dreamed', 'NUM'), ('dreamed', 'VERB'))],\n",
       " [('highly', 'ADV'), (('improbable', 'NUM'), ('improbable', 'ADJ'))],\n",
       " [(\"'s\", 'PRT'), (('shop', 'NUM'), ('shop', 'NOUN'))],\n",
       " [('expensive', 'ADJ'), (('high-rise', 'NUM'), ('high-rise', 'ADJ'))],\n",
       " [('your', 'PRON'), (('help', 'VERB'), ('help', 'NOUN'))],\n",
       " [('giant', 'ADJ'), (('diagram', 'NUM'), ('diagram', 'NOUN'))],\n",
       " [('with', 'ADP'), (('arrows', 'NUM'), ('arrows', 'NOUN'))],\n",
       " [(\"'s\", 'PRT'), (('polystyrene', 'NUM'), ('polystyrene', 'NOUN'))],\n",
       " [('polystyrene', 'NOUN'), (('foam', 'NUM'), ('foam', 'NOUN'))],\n",
       " [(',', '.'), (('polyproplene', 'NUM'), ('polyproplene', 'NOUN'))],\n",
       " [('and', 'CONJ'), (('polyester', 'NUM'), ('polyester', 'NOUN'))],\n",
       " [('all', 'DET'), (('plastic', 'ADJ'), ('plastic', 'NOUN'))],\n",
       " [('are', 'VERB'),\n",
       "  (('non-biodegradable', 'NUM'), ('non-biodegradable', 'ADJ'))],\n",
       " [('took', 'VERB'), (('over', 'ADP'), ('over', 'PRT'))],\n",
       " [(\"'s\", 'PRT'), (('seventh', 'NUM'), ('seventh', 'ADJ'))],\n",
       " [('.', '.'), (('Researchers', 'NUM'), ('Researchers', 'NOUN'))],\n",
       " [('at', 'ADP'), (('American', 'ADJ'), ('American', 'NOUN'))],\n",
       " [('materials', 'NOUN'), (('closer', 'ADV'), ('closer', 'ADJ'))],\n",
       " [('*-1', 'X'), (('unwilling', 'NUM'), ('unwilling', 'ADJ'))],\n",
       " [('and', 'CONJ'), (('manpower', 'NUM'), ('manpower', 'NOUN'))],\n",
       " [('*', 'X'), (('removing', 'NUM'), ('removing', 'VERB'))],\n",
       " [('*', 'X'), (('safeguarding', 'NUM'), ('safeguarding', 'VERB'))],\n",
       " [('Linda', 'NOUN'), (('Anku', 'NUM'), ('Anku', 'NOUN'))],\n",
       " [('.', '.'), (('Ketchum', 'NUM'), ('Ketchum', 'NOUN'))],\n",
       " [('acquired', 'VERB'), (('Braun', 'NUM'), ('Braun', 'NOUN'))],\n",
       " [('Angeles', 'NOUN'),\n",
       "  (('investor-relations', 'NUM'), ('investor-relations', 'NOUN'))],\n",
       " [('and', 'CONJ'),\n",
       "  (('marketing-communications', 'NUM'), ('marketing-communications', 'NOUN'))],\n",
       " [('``', '.'), (('headed', 'NUM'), ('headed', 'VERB'))],\n",
       " [(\"n't\", 'ADV'), (('curbed', 'NUM'), ('curbed', 'VERB'))],\n",
       " [(',', '.'), (('index-fund', 'NOUN'), ('index-fund', 'ADJ'))],\n",
       " [('*-1', 'X'), (('leveraging', 'NUM'), ('leveraging', 'VERB'))],\n",
       " [('*-1', 'X'), (('owning', 'NUM'), ('owning', 'VERB'))],\n",
       " [('to', 'PRT'), (('own', 'ADJ'), ('own', 'VERB'))],\n",
       " [('had', 'VERB'), (('flirted', 'NUM'), ('flirted', 'VERB'))],\n",
       " [('buyers', 'NOUN'), (('charge', 'NOUN'), ('charge', 'VERB'))],\n",
       " [('the', 'DET'), (('American', 'ADJ'), ('American', 'NOUN'))],\n",
       " [('*T*-14', 'X'), (('matters', 'NOUN'), ('matters', 'VERB'))],\n",
       " [('doing', 'VERB'), (('fine', 'NOUN'), ('fine', 'ADV'))],\n",
       " [('and', 'CONJ'), (('chief', 'NOUN'), ('chief', 'ADJ'))],\n",
       " [('barred', 'VERB'), (('*-152', 'NUM'), ('*-152', 'X'))],\n",
       " [(\"'s\", 'PRT'), (('father-in-law', 'NUM'), ('father-in-law', 'NOUN'))],\n",
       " [(',', '.'), (('Gardner', 'NUM'), ('Gardner', 'NOUN'))],\n",
       " [('G.', 'NOUN'), (('Hubbard', 'NUM'), ('Hubbard', 'NOUN'))],\n",
       " [(',', '.'), (('wealthy', 'NUM'), ('wealthy', 'ADJ'))],\n",
       " [('and', 'CONJ'), (('well-connected', 'NUM'), ('well-connected', 'ADJ'))],\n",
       " [('obtained', 'VERB'), (('financing', 'VERB'), ('financing', 'NOUN'))],\n",
       " [('the', 'DET'), (('American', 'ADJ'), ('American', 'NOUN'))],\n",
       " [('to', 'PRT'), (('Moon', 'NUM'), ('Moon', 'NOUN'))],\n",
       " [('Moon', 'NOUN'), (('Landrieu', 'NUM'), ('Landrieu', 'NOUN'))],\n",
       " [('build', 'VERB'), (('that', 'ADP'), ('that', 'DET'))],\n",
       " [(\"'s\", 'PRT'), (('cavernous', 'NUM'), ('cavernous', 'ADJ'))],\n",
       " [(',', '.'), (('money-losing', 'NUM'), ('money-losing', 'ADJ'))],\n",
       " [('*T*-2', 'X'), (('benefits', 'NOUN'), ('benefits', 'VERB'))],\n",
       " [('little', 'ADJ'), (('relevance', 'NUM'), ('relevance', 'NOUN'))],\n",
       " [('the', 'DET'), (('U.S.', 'NOUN'), ('U.S.', 'ADJ'))],\n",
       " [('Tokyo', 'NOUN'), (('close', 'VERB'), ('close', 'NOUN'))],\n",
       " [('might', 'VERB'), (('appeal', 'NOUN'), ('appeal', 'VERB'))],\n",
       " [('expensive', 'ADJ'), (('cleanup', 'NUM'), ('cleanup', 'NOUN'))],\n",
       " [('or', 'CONJ'), (('burn', 'NUM'), ('burn', 'VERB'))],\n",
       " [('burn', 'VERB'), (('cleaner-burning', 'NUM'), ('cleaner-burning', 'ADJ'))],\n",
       " [('cleaner-burning', 'ADJ'), (('fuels', 'NUM'), ('fuels', 'NOUN'))],\n",
       " [('market', 'NOUN'), (('overvalued', 'NUM'), ('overvalued', 'VERB'))],\n",
       " [('.', '.'), (('Paris', 'NUM'), ('Paris', 'NOUN'))],\n",
       " [(',', '.'), (('Brussels', 'NUM'), ('Brussels', 'NOUN'))],\n",
       " [('and', 'CONJ'), (('Milan', 'NUM'), ('Milan', 'NOUN'))],\n",
       " [('II', 'NOUN'), (('that', 'ADP'), ('that', 'DET'))],\n",
       " [('the', 'DET'), (('discretion', 'NUM'), ('discretion', 'NOUN'))],\n",
       " [('to', 'PRT'), (('select', 'NUM'), ('select', 'VERB'))],\n",
       " [(',', '.'), (('net', 'ADJ'), ('net', 'NOUN'))],\n",
       " [('an', 'DET'), (('unrestricted', 'NUM'), ('unrestricted', 'ADJ'))],\n",
       " [('wage', 'NOUN'), (('that', 'ADP'), ('that', 'DET'))],\n",
       " [('paid', 'VERB'), (('*-165', 'NUM'), ('*-165', 'X'))],\n",
       " [(\"'s\", 'PRT'), (('firm', 'NOUN'), ('firm', 'ADJ'))],\n",
       " [('steady', 'ADJ'), (('opening', 'VERB'), ('opening', 'NOUN'))],\n",
       " [('also', 'ADV'), (('tempted', 'NUM'), ('tempted', 'VERB'))],\n",
       " [('finished', 'VERB'), (('less', 'ADV'), ('less', 'ADJ'))],\n",
       " [('point', 'NOUN'), (('higher', 'ADJ'), ('higher', 'ADV'))],\n",
       " [('moderate', 'ADJ'), (('trading', 'NOUN'), ('trading', 'VERB'))],\n",
       " [('early', 'ADJ'), (('1980s', 'NUM'), ('1980s', 'NOUN'))],\n",
       " [('its', 'PRON'), (('glory', 'NUM'), ('glory', 'NOUN'))],\n",
       " [('had', 'VERB'), (('faded', 'NUM'), ('faded', 'VERB'))],\n",
       " [('the', 'DET'), (('yellow', 'NUM'), ('yellow', 'ADJ'))],\n",
       " [('yellow', 'ADJ'), (('bricks', 'NUM'), ('bricks', 'NOUN'))],\n",
       " [('broad', 'ADJ'), (('facade', 'NUM'), ('facade', 'NOUN'))],\n",
       " [('The', 'DET'), (('record', 'NOUN'), ('record', 'ADJ'))],\n",
       " [('recently', 'ADV'), (('diagnosed', 'NUM'), ('diagnosed', 'VERB'))],\n",
       " [('by', 'ADP'), (('half', 'DET'), ('half', 'NOUN'))],\n",
       " [('a', 'DET'), (('27-year', 'NUM'), ('27-year', 'ADJ'))],\n",
       " [('the', 'DET'),\n",
       "  (('information-services', 'NUM'), ('information-services', 'NOUN'))],\n",
       " [(',', '.'), (('Southeast', 'NOUN'), ('Southeast', 'ADJ'))],\n",
       " [('remaining', 'VERB'), (('uses', 'VERB'), ('uses', 'NOUN'))],\n",
       " [('of', 'ADP'), (('cancer-causing', 'NUM'), ('cancer-causing', 'ADJ'))],\n",
       " [('be', 'VERB'), (('outlawed', 'NUM'), ('outlawed', 'VERB'))],\n",
       " [('departure', 'NOUN'), (('stemmed', 'NUM'), ('stemmed', 'VERB'))],\n",
       " [(\"'s\", 'PRT'), (('post', 'VERB'), ('post', 'NOUN'))],\n",
       " [('board', 'NOUN'), (('directorship', 'NUM'), ('directorship', 'NOUN'))],\n",
       " [('a', 'DET'), (('little', 'ADJ'), ('little', 'ADV'))],\n",
       " [('little', 'ADV'), (('more', 'ADJ'), ('more', 'ADV'))],\n",
       " [('precisely', 'ADV'), (('what', 'PRON'), ('what', 'DET'))],\n",
       " [('ads', 'NOUN'), (('that', 'ADP'), ('that', 'DET'))],\n",
       " [('stocks', 'NOUN'), (('that', 'ADP'), ('that', 'DET'))],\n",
       " [('that', 'DET'), (('*T*-117', 'NUM'), ('*T*-117', 'X'))],\n",
       " [('to', 'PRT'), (('uptick', 'NOUN'), ('uptick', 'VERB'))],\n",
       " [(',', '.'), (('head', 'NOUN'), ('head', 'ADJ'))],\n",
       " [('Israel', 'NOUN'), (('Silverman', 'NUM'), ('Silverman', 'NOUN'))],\n",
       " [('an', 'DET'),\n",
       "  (('insurance-company', 'NUM'), ('insurance-company', 'NOUN'))],\n",
       " [(',', '.'), (('comments', 'NOUN'), ('comments', 'VERB'))],\n",
       " [('``', '.'), (('increases', 'NOUN'), ('increases', 'VERB'))],\n",
       " [('in', 'ADP'), (('jeopardy', 'NUM'), ('jeopardy', 'NOUN'))],\n",
       " [(\"''\", '.'), (('NEW', 'NUM'), ('NEW', 'NOUN'))],\n",
       " [('NEW', 'NOUN'), (('ACCOUNT', 'NUM'), ('ACCOUNT', 'NOUN'))],\n",
       " [('Lord', 'NOUN'), (('Chilver', 'NUM'), ('Chilver', 'NOUN'))],\n",
       " [(',', '.'), (('63-year-old', 'NUM'), ('63-year-old', 'ADJ'))],\n",
       " [('of', 'ADP'), (('English', 'ADJ'), ('English', 'NOUN'))],\n",
       " [('China', 'NOUN'), (('Clays', 'NUM'), ('Clays', 'NOUN'))],\n",
       " [('.', '.'), (('CoreStates', 'NUM'), ('CoreStates', 'NOUN'))],\n",
       " [('named', 'VERB'), (('Earle', 'NUM'), ('Earle', 'NOUN'))],\n",
       " [('Earle', 'NOUN'), (('Palmer', 'NUM'), ('Palmer', 'NOUN'))],\n",
       " [('&', 'CONJ'), (('Spiro', 'NUM'), ('Spiro', 'NOUN'))],\n",
       " [('*U*', 'X'), (('account', 'VERB'), ('account', 'NOUN'))],\n",
       " [('Once', 'ADV'), (('there', 'DET'), ('there', 'ADV'))],\n",
       " [(',', '.'), (('what', 'PRON'), ('what', 'DET'))],\n",
       " [('of', 'ADP'), (('escape', 'NUM'), ('escape', 'NOUN'))],\n",
       " [('*T*-1', 'X'), (('open', 'VERB'), ('open', 'ADJ'))],\n",
       " [('than', 'ADP'), (('drink', 'VERB'), ('drink', 'NOUN'))],\n",
       " [('or', 'CONJ'), (('insanity', 'NUM'), ('insanity', 'NOUN'))],\n",
       " [('the', 'DET'), (('heirs', 'NUM'), ('heirs', 'NOUN'))],\n",
       " [('.', '.'), (('Nylev', 'NUM'), ('Nylev', 'NOUN'))],\n",
       " [('push', 'VERB'), (('up', 'ADV'), ('up', 'ADP'))],\n",
       " [('from', 'ADP'), (('malnutrition', 'NUM'), ('malnutrition', 'NOUN'))],\n",
       " [(',', '.'), (('chest', 'NUM'), ('chest', 'NOUN'))],\n",
       " [(',', '.'), (('cardiovascular', 'NUM'), ('cardiovascular', 'ADJ'))],\n",
       " [(',', '.'), (('infectious', 'NUM'), ('infectious', 'ADJ'))],\n",
       " [('the', 'DET'), (('aftereffects', 'NUM'), ('aftereffects', 'NOUN'))],\n",
       " [('of', 'ADP'), (('assaults', 'NUM'), ('assaults', 'NOUN'))],\n",
       " [('who', 'PRON'), (('*T*-91', 'NUM'), ('*T*-91', 'X'))],\n",
       " [('a', 'DET'), (('grandstander', 'NUM'), ('grandstander', 'NOUN'))],\n",
       " [('U.K.', 'NOUN'), (('luxury', 'NUM'), ('luxury', 'NOUN'))],\n",
       " [('no', 'DET'), (('guarantee', 'VERB'), ('guarantee', 'NOUN'))],\n",
       " [('chief', 'NOUN'), (('operating', 'NOUN'), ('operating', 'VERB'))],\n",
       " [('and', 'CONJ'), (('shopped', 'NUM'), ('shopped', 'VERB'))],\n",
       " [('bank', 'NOUN'), (('that', 'ADP'), ('that', 'DET'))],\n",
       " [('nearly', 'ADV'), (('half', 'DET'), ('half', 'NOUN'))],\n",
       " [('consumers', 'NOUN'), (('espouse', 'NUM'), ('espouse', 'VERB'))],\n",
       " [('with', 'ADP'), (('about', 'ADP'), ('about', 'ADV'))],\n",
       " [('about', 'ADV'), (('one-third', 'NOUN'), ('one-third', 'ADJ'))],\n",
       " [('its', 'PRON'), (('finance', 'VERB'), ('finance', 'NOUN'))],\n",
       " [('of', 'ADP'), (('deteriorating', 'NUM'), ('deteriorating', 'VERB'))],\n",
       " [('Donald', 'NOUN'), (('Anderson', 'NUM'), ('Anderson', 'NOUN'))],\n",
       " [('a', 'DET'), (('59-year-old', 'NUM'), ('59-year-old', 'ADJ'))],\n",
       " [('``', '.'), (('fluctuations', 'NUM'), ('fluctuations', 'NOUN'))],\n",
       " [('the', 'DET'), (('heebie-jeebies', 'NUM'), ('heebie-jeebies', 'NOUN'))],\n",
       " [('see', 'VERB'), (('much', 'ADV'), ('much', 'ADJ'))],\n",
       " [('much', 'ADJ'), (('point', 'VERB'), ('point', 'NOUN'))],\n",
       " [('*', 'X'), (('outlawing', 'NUM'), ('outlawing', 'VERB'))],\n",
       " [('the', 'DET'), (('audit', 'VERB'), ('audit', 'NOUN'))],\n",
       " [(\"'s\", 'PRT'), (('stand', 'VERB'), ('stand', 'NOUN'))],\n",
       " [('to', 'PRT'), (('display', 'NUM'), ('display', 'VERB'))],\n",
       " [('overhead', 'ADJ'), (('projector', 'NUM'), ('projector', 'NOUN'))],\n",
       " [('and', 'CONJ'), (('underline', 'NUM'), ('underline', 'VERB'))],\n",
       " [(',', '.'), (('Old-House', 'NUM'), ('Old-House', 'NOUN'))],\n",
       " [('her', 'PRON'), (('publishing', 'VERB'), ('publishing', 'NOUN'))],\n",
       " [('are', 'VERB'), (('all', 'DET'), ('all', 'ADV'))],\n",
       " [('a', 'DET'), (('following', 'VERB'), ('following', 'NOUN'))],\n",
       " [('two', 'NUM'), (('round-trip', 'NUM'), ('round-trip', 'ADJ'))],\n",
       " [('on', 'ADP'), (('Trans', 'NUM'), ('Trans', 'NOUN'))],\n",
       " [('Riviera', 'NOUN'), (('luxury', 'NUM'), ('luxury', 'NOUN'))],\n",
       " [('prices', 'NOUN'), (('soaring', 'NUM'), ('soaring', 'VERB'))],\n",
       " [('the', 'DET'), (('reclaimed', 'NUM'), ('reclaimed', 'VERB'))],\n",
       " [(\"'s\", 'PRT'), (('240-page', 'NUM'), ('240-page', 'ADJ'))],\n",
       " [('the', 'DET'), (('Iran-Contra', 'NUM'), ('Iran-Contra', 'NOUN'))],\n",
       " [('.', '.'), (('Next', 'NUM'), ('Next', 'ADJ'))],\n",
       " [('the', 'DET'), (('Philippine', 'NUM'), ('Philippine', 'NOUN'))],\n",
       " [(\"'s\", 'PRT'), (('launch', 'VERB'), ('launch', 'NOUN'))],\n",
       " [('be', 'VERB'), (('capped', 'ADJ'), ('capped', 'VERB'))],\n",
       " [('by', 'ADP'), (('Philippine', 'NUM'), ('Philippine', 'ADJ'))],\n",
       " [('President', 'NOUN'), (('Corazon', 'NUM'), ('Corazon', 'NOUN'))],\n",
       " [('Corazon', 'NOUN'), (('Aquino', 'NUM'), ('Aquino', 'NOUN'))],\n",
       " [('--', '.'), (('the', 'DET'), ('the', 'NOUN'))],\n",
       " [('until', 'ADP'), (('midyear', 'NUM'), ('midyear', 'NOUN'))],\n",
       " [(\"''\", '.'), (('Spending', 'NUM'), ('Spending', 'NOUN'))],\n",
       " [(',', '.'), (('nonresidential', 'NUM'), ('nonresidential', 'ADJ'))],\n",
       " [('was', 'VERB'), (('off', 'PRT'), ('off', 'ADJ'))],\n",
       " [('market', 'NOUN'), (('awaits', 'NUM'), ('awaits', 'VERB'))],\n",
       " [('will', 'VERB'), (('point', 'NOUN'), ('point', 'VERB'))],\n",
       " [('.', '.'), (('Aerospace', 'NUM'), ('Aerospace', 'NOUN'))],\n",
       " [('earnings', 'NOUN'), (('sagged', 'NUM'), ('sagged', 'VERB'))],\n",
       " [('lower', 'ADJ'), (('B-1B', 'ADJ'), ('B-1B', 'NOUN'))],\n",
       " [('the', 'DET'), (('bombers', 'NUM'), ('bombers', 'NOUN'))],\n",
       " [('rolled', 'VERB'), (('out', 'PRT'), ('out', 'ADP'))],\n",
       " [('first', 'ADJ'), (('half', 'NOUN'), ('half', 'DET'))],\n",
       " [('year', 'NOUN'), (('earlier', 'ADV'), ('earlier', 'ADJ'))],\n",
       " [('the', 'DET'), (('shipboard', 'NUM'), ('shipboard', 'NOUN'))],\n",
       " [('meetings', 'NOUN'), (('next', 'ADP'), ('next', 'ADJ'))],\n",
       " [('and', 'CONJ'), (('Soviet', 'ADJ'), ('Soviet', 'NOUN'))],\n",
       " [('waters', 'NOUN'), (('off', 'PRT'), ('off', 'ADP'))],\n",
       " [('off', 'ADP'), (('Malta', 'NUM'), ('Malta', 'NOUN'))],\n",
       " [('.', '.'), (('NCNB', 'NUM'), ('NCNB', 'NOUN'))],\n",
       " [('Financial', 'NOUN'), (('Connections', 'NUM'), ('Connections', 'NOUN'))],\n",
       " [('young', 'ADJ'), (('adults', 'NUM'), ('adults', 'NOUN'))],\n",
       " [('so', 'ADV'), (('broadly', 'NUM'), ('broadly', 'ADV'))],\n",
       " [('broadly', 'ADV'), (('construed', 'NUM'), ('construed', 'VERB'))],\n",
       " [('would', 'VERB'), (('emasculate', 'NUM'), ('emasculate', 'VERB'))],\n",
       " [('and', 'CONJ'), (('swallow', 'NUM'), ('swallow', 'VERB'))],\n",
       " [('``', '.'), (('contrary', 'NOUN'), ('contrary', 'ADJ'))],\n",
       " [('--', '.'), (('the', 'DET'), ('the', 'NUM'))]]"
      ]
     },
     "execution_count": 38,
     "metadata": {},
     "output_type": "execute_result"
    }
   ],
   "source": [
    "print(\"Vanilla Viterbi - Incorrect Tagged words - Validation Data\")\n",
    "get_incorrect_tagged_cases(valdn_seq_Viterbi, valdn_run_base)"
   ]
  },
  {
   "cell_type": "markdown",
   "metadata": {},
   "source": [
    "### Observation of Unknown words:"
   ]
  },
  {
   "cell_type": "markdown",
   "metadata": {},
   "source": [
    "<b> From the above list of incorrectly tagged words i.e the list of words unknown to the trained corpus: </b> <br> <br>\n",
    "Three incorrect tags are given for example\n",
    "- NOUN <b> 'Birmingham' </b> incorrectly identified as 'NUM ('Birmingham', 'NUM')\n",
    "- VERB <b> 'safeguarding' </b> incorrectly identified as 'NUM' ('safeguarding', 'NUM')\n",
    "- VERB <b> 'ignored' </b> incorrectly identified as 'NUM' - ('ignored', 'NUM')\n",
    "\n",
    "Since 'NUM' is the first tag, 'NUM' is mostly assigned as POS tag for most of the unknown words."
   ]
  },
  {
   "cell_type": "markdown",
   "metadata": {},
   "source": [
    "### Evaluation of Vanilla Viterbi Algorithm over Sample Test File"
   ]
  },
  {
   "cell_type": "code",
   "execution_count": 39,
   "metadata": {},
   "outputs": [
    {
     "name": "stdout",
     "output_type": "stream",
     "text": [
      "Evaluation time taken (in seconds) for Vanilla Viterbi on Sample Test File:  117.91891193389893\n",
      "[('Android', 'NUM'), ('is', 'VERB'), ('a', 'DET'), ('mobile', 'ADJ'), ('operating', 'NOUN'), ('system', 'NOUN'), ('developed', 'VERB'), ('by', 'ADP'), ('Google', 'NUM'), ('.', '.'), ('Android', 'NUM'), ('has', 'VERB'), ('been', 'VERB'), ('the', 'DET'), ('best-selling', 'ADJ'), ('OS', 'NUM'), ('worldwide', 'NUM'), ('on', 'ADP'), ('smartphones', 'NUM'), ('since', 'ADP'), ('2011', 'NUM'), ('and', 'CONJ'), ('on', 'ADP'), ('tablets', 'NOUN'), ('since', 'ADP'), ('2013', 'NUM'), ('.', '.'), ('Google', 'NUM'), ('and', 'CONJ'), ('Twitter', 'NUM'), ('made', 'VERB'), ('a', 'DET'), ('deal', 'NOUN'), ('in', 'ADP'), ('2015', 'NUM'), ('that', 'ADP'), ('gave', 'VERB'), ('Google', 'NUM'), ('access', 'NOUN'), ('to', 'PRT'), ('Twitter', 'NUM'), (\"'s\", 'PRT'), ('firehose', 'NUM'), ('.', '.'), ('Twitter', 'NUM'), ('is', 'VERB'), ('an', 'DET'), ('online', 'NUM'), ('news', 'NOUN'), ('and', 'CONJ'), ('social', 'ADJ'), ('networking', 'NOUN'), ('service', 'NOUN'), ('on', 'ADP'), ('which', 'DET'), ('users', 'NOUN'), ('post', 'NOUN'), ('and', 'CONJ'), ('interact', 'NUM'), ('with', 'ADP'), ('messages', 'NUM'), ('known', 'VERB'), ('as', 'ADP'), ('tweets', 'NUM'), ('.', '.'), ('Before', 'ADP'), ('entering', 'VERB'), ('politics', 'NOUN'), (',', '.'), ('Donald', 'NOUN'), ('Trump', 'NOUN'), ('was', 'VERB'), ('a', 'DET'), ('domineering', 'NUM'), ('businessman', 'NOUN'), ('and', 'CONJ'), ('a', 'DET'), ('television', 'NOUN'), ('personality', 'NUM'), ('.', '.'), ('The', 'DET'), ('2018', 'NUM'), ('FIFA', 'NUM'), ('World', 'NOUN'), ('Cup', 'NUM'), ('is', 'VERB'), ('the', 'DET'), ('21st', 'NUM'), ('FIFA', 'NUM'), ('World', 'NOUN'), ('Cup', 'NUM'), (',', '.'), ('an', 'DET'), ('international', 'ADJ'), ('football', 'NOUN'), ('tournament', 'NUM'), ('contested', 'NUM'), ('once', 'ADV'), ('every', 'DET'), ('four', 'NUM'), ('years', 'NOUN'), ('.', '.'), ('This', 'DET'), ('is', 'VERB'), ('the', 'DET'), ('first', 'ADJ'), ('World', 'NOUN'), ('Cup', 'NUM'), ('to', 'PRT'), ('be', 'VERB'), ('held', 'VERB'), ('in', 'ADP'), ('Eastern', 'NOUN'), ('Europe', 'NOUN'), ('and', 'CONJ'), ('the', 'DET'), ('11th', 'ADJ'), ('time', 'NOUN'), ('that', 'ADP'), ('it', 'PRON'), ('has', 'VERB'), ('been', 'VERB'), ('held', 'VERB'), ('in', 'ADP'), ('Europe', 'NOUN'), ('.', '.'), ('Show', 'NOUN'), ('me', 'PRON'), ('the', 'DET'), ('cheapest', 'ADJ'), ('round', 'NOUN'), ('trips', 'NUM'), ('from', 'ADP'), ('Dallas', 'NOUN'), ('to', 'PRT'), ('Atlanta', 'NOUN'), ('I', 'PRON'), ('would', 'VERB'), ('like', 'ADP'), ('to', 'PRT'), ('see', 'VERB'), ('flights', 'NOUN'), ('from', 'ADP'), ('Denver', 'NOUN'), ('to', 'PRT'), ('Philadelphia', 'NOUN'), ('.', '.'), ('Show', 'NOUN'), ('me', 'PRON'), ('the', 'DET'), ('price', 'NOUN'), ('of', 'ADP'), ('the', 'DET'), ('flights', 'NOUN'), ('leaving', 'VERB'), ('Atlanta', 'NOUN'), ('at', 'ADP'), ('about', 'ADP'), ('3', 'NUM'), ('in', 'ADP'), ('the', 'DET'), ('afternoon', 'NOUN'), ('and', 'CONJ'), ('arriving', 'NUM'), ('in', 'ADP'), ('San', 'NOUN'), ('Francisco', 'NOUN'), ('.', '.'), ('NASA', 'NUM'), ('invited', 'NUM'), ('social', 'ADJ'), ('media', 'NOUN'), ('users', 'NOUN'), ('to', 'PRT'), ('experience', 'NOUN'), ('the', 'DET'), ('launch', 'NOUN'), ('of', 'ADP'), ('ICESAT-2', 'NUM'), ('Satellite', 'NUM'), ('.', '.')]\n"
     ]
    }
   ],
   "source": [
    "time_taken = test_evaluate(Viterbi, samp_file_words)[0]\n",
    "sample_seq_Viterbi = test_evaluate(Viterbi, samp_file_words)[1]\n",
    "print(\"Evaluation time taken (in seconds) for Vanilla Viterbi on Sample Test File: \",time_taken)\n",
    "print(sample_seq_Viterbi)"
   ]
  },
  {
   "cell_type": "code",
   "execution_count": 40,
   "metadata": {},
   "outputs": [
    {
     "name": "stdout",
     "output_type": "stream",
     "text": [
      "Accuracy of Vanilla Viterbi Evaluation over Sample Test Data : 79.01 %\n"
     ]
    }
   ],
   "source": [
    "accu = get_accuracy(sample_seq_Viterbi, sample_tagged_words)\n",
    "print(\"Accuracy of Vanilla Viterbi Evaluation over Sample Test Data :\", round(accu * 100,2),\"%\")"
   ]
  },
  {
   "cell_type": "code",
   "execution_count": 41,
   "metadata": {},
   "outputs": [
    {
     "name": "stdout",
     "output_type": "stream",
     "text": [
      "Vanilla Viterbi - Incorrect Tagged words - Sample Test Data\n"
     ]
    },
    {
     "data": {
      "text/plain": [
       "[[('.', '.'), (('Android', 'NUM'), ('Android', 'NOUN'))],\n",
       " [('by', 'ADP'), (('Google', 'NUM'), ('Google', 'NOUN'))],\n",
       " [('.', '.'), (('Android', 'NUM'), ('Android', 'NOUN'))],\n",
       " [('best-selling', 'ADJ'), (('OS', 'NUM'), ('OS', 'NOUN'))],\n",
       " [('OS', 'NOUN'), (('worldwide', 'NUM'), ('worldwide', 'NOUN'))],\n",
       " [('on', 'ADP'), (('smartphones', 'NUM'), ('smartphones', 'NOUN'))],\n",
       " [('.', '.'), (('Google', 'NUM'), ('Google', 'NOUN'))],\n",
       " [('and', 'CONJ'), (('Twitter', 'NUM'), ('Twitter', 'NOUN'))],\n",
       " [('2015', 'NUM'), (('that', 'ADP'), ('that', 'DET'))],\n",
       " [('gave', 'VERB'), (('Google', 'NUM'), ('Google', 'NOUN'))],\n",
       " [('to', 'PRT'), (('Twitter', 'NUM'), ('Twitter', 'NOUN'))],\n",
       " [(\"'s\", 'PRT'), (('firehose', 'NUM'), ('firehose', 'NOUN'))],\n",
       " [('.', '.'), (('Twitter', 'NUM'), ('Twitter', 'NOUN'))],\n",
       " [('an', 'DET'), (('online', 'NUM'), ('online', 'ADJ'))],\n",
       " [('and', 'CONJ'), (('interact', 'NUM'), ('interact', 'NOUN'))],\n",
       " [('with', 'ADP'), (('messages', 'NUM'), ('messages', 'NOUN'))],\n",
       " [('as', 'ADP'), (('tweets', 'NUM'), ('tweets', 'NOUN'))],\n",
       " [('a', 'DET'), (('domineering', 'NUM'), ('domineering', 'ADJ'))],\n",
       " [('television', 'NOUN'), (('personality', 'NUM'), ('personality', 'NOUN'))],\n",
       " [('2018', 'NUM'), (('FIFA', 'NUM'), ('FIFA', 'NOUN'))],\n",
       " [('World', 'NOUN'), (('Cup', 'NUM'), ('Cup', 'NOUN'))],\n",
       " [('21st', 'NUM'), (('FIFA', 'NUM'), ('FIFA', 'NOUN'))],\n",
       " [('World', 'NOUN'), (('Cup', 'NUM'), ('Cup', 'NOUN'))],\n",
       " [('football', 'NOUN'), (('tournament', 'NUM'), ('tournament', 'NOUN'))],\n",
       " [('tournament', 'NOUN'), (('contested', 'NUM'), ('contested', 'VERB'))],\n",
       " [('World', 'NOUN'), (('Cup', 'NUM'), ('Cup', 'NOUN'))],\n",
       " [('the', 'DET'), (('11th', 'ADJ'), ('11th', 'NUM'))],\n",
       " [('.', '.'), (('Show', 'NOUN'), ('Show', 'VERB'))],\n",
       " [('round', 'NOUN'), (('trips', 'NUM'), ('trips', 'NOUN'))],\n",
       " [('would', 'VERB'), (('like', 'ADP'), ('like', 'VERB'))],\n",
       " [('.', '.'), (('Show', 'NOUN'), ('Show', 'VERB'))],\n",
       " [('at', 'ADP'), (('about', 'ADP'), ('about', 'ADV'))],\n",
       " [('and', 'CONJ'), (('arriving', 'NUM'), ('arriving', 'NOUN'))],\n",
       " [('.', '.'), (('NASA', 'NUM'), ('NASA', 'NOUN'))],\n",
       " [('NASA', 'NOUN'), (('invited', 'NUM'), ('invited', 'VERB'))],\n",
       " [('to', 'PRT'), (('experience', 'NOUN'), ('experience', 'VERB'))],\n",
       " [('of', 'ADP'), (('ICESAT-2', 'NUM'), ('ICESAT-2', 'NOUN'))],\n",
       " [('ICESAT-2', 'NOUN'), (('Satellite', 'NUM'), ('Satellite', 'NOUN'))]]"
      ]
     },
     "execution_count": 41,
     "metadata": {},
     "output_type": "execute_result"
    }
   ],
   "source": [
    "print(\"Vanilla Viterbi - Incorrect Tagged words - Sample Test Data\")\n",
    "get_incorrect_tagged_cases(sample_seq_Viterbi, sample_tagged_words)"
   ]
  },
  {
   "cell_type": "markdown",
   "metadata": {},
   "source": [
    "### Observation of Unknown words:"
   ]
  },
  {
   "cell_type": "markdown",
   "metadata": {},
   "source": [
    "<b> From the above list of incorrectly tagged words i.e the list of words unknown to the trained corpus: </b> <br> <br>\n",
    "Three incorrect tags are given for example\n",
    "- NOUN <b> 'Android' </b> incorrectly identified as 'NUM' - ('Android', 'NUM')\n",
    "- NOUN <b> 'tournament' </b> incorrectly identified as 'NUM' ('tournament', 'NUM')\n",
    "- NOUN <b> 'Satellite' </b> incorrectly identified as 'NUM' ('Satellite', 'NUM')\n",
    "\n",
    "Since 'NUM' is the first tag, 'NUM' is mostly assigned as POS tag for most of the unknown words."
   ]
  },
  {
   "cell_type": "markdown",
   "metadata": {},
   "source": [
    "## Solve the problem of unknown words"
   ]
  },
  {
   "cell_type": "markdown",
   "metadata": {},
   "source": [
    "<b> Disadvantage with Vanilla Viterbi Algorithm: </b>\n",
    "- The Algorithm learns from the HMM model parameters (Emission and Transition probabilities) obtained from a trained corpus.\n",
    "- If the word to be tagged is not known to the trained corpus, the first tag is assigned by default, which is not correct.\n",
    "- This leads to a dropped accuracy"
   ]
  },
  {
   "cell_type": "markdown",
   "metadata": {},
   "source": [
    "<b> Modifications to overcome the drawback of Vanilla Viterbi Algorithm: <br>\n",
    "Modification 1 : </b>\n",
    "- The POS tag of unknown words can be assigned using only the maximum likelihood of transition probabilities and omitting emission probability.\n",
    "- Thus the probability of the word emitted in the corpus is ignored.\n",
    "\n",
    "<b> Modification 2 : </b>\n",
    "- The unknown words are marked with tag 'UNK'\n",
    "- The POS tags for the unknown words are assigned using regular expression based rules."
   ]
  },
  {
   "cell_type": "markdown",
   "metadata": {},
   "source": [
    "### Modification 1 - Viterbi modified to consider only the max likelihood of transition probabilities of Unknown Words"
   ]
  },
  {
   "cell_type": "code",
   "execution_count": 42,
   "metadata": {},
   "outputs": [],
   "source": [
    "# Modified Viterbi Heuristic - Using only the transition probability of unknown words\n",
    "def Viterbi_Using_Transition(words, train_bag = train_tagged_words):\n",
    "    state = []\n",
    "    T = list(set([pair[1] for pair in train_bag]))\n",
    "    \n",
    "    for key, word in enumerate(words):\n",
    "        #initialise list of probability column for a given observation\n",
    "        p = [] \n",
    "        \n",
    "        #initialise list of transition probability column for a given observation \n",
    "        trans_prob = []\n",
    "        for tag in T:\n",
    "            if key == 0:\n",
    "                transition_p = tags_df.loc['.', tag]\n",
    "            else:\n",
    "                transition_p = tags_df.loc[state[-1], tag]\n",
    "            trans_prob.append(transition_p) \n",
    "            \n",
    "            # compute emission and state probabilities \n",
    "            emission_p = word_given_tag(words[key], tag)[0]/word_given_tag(words[key], tag)[1]\n",
    "            state_probability = emission_p * transition_p   \n",
    "            p.append(state_probability)\n",
    "            \n",
    "        # getting state for which probability is maximum\n",
    "        pmax = max(p)  \n",
    "        \n",
    "        # if the word is not present in the trained corpus, we take the maximum of transition probability of that word\n",
    "        # And assign the respective Tag\n",
    "        if pmax==0:\n",
    "            pmax = max(trans_prob)\n",
    "            state_max = T[trans_prob.index(pmax)] \n",
    "        else:                      \n",
    "            state_max = T[p.index(pmax)] \n",
    "        state.append(state_max) \n",
    "    return list(zip(words, state))\n"
   ]
  },
  {
   "cell_type": "markdown",
   "metadata": {},
   "source": [
    "### Modification 2 - Viterbi Modification using rule based POS Tagging of unknown words "
   ]
  },
  {
   "cell_type": "code",
   "execution_count": 43,
   "metadata": {},
   "outputs": [],
   "source": [
    "def get_rule_based_tag(words,state):\n",
    "    \n",
    "    patterns = [\n",
    "                    (r'.*ing$', 'VERB'),              # Verb\n",
    "                    (r'.*ed$', 'VERB'),               # Verb\n",
    "                    (r'.*es$', 'VERB'),               # Verb\n",
    "                    (r'.*ould$', 'X'),              # modals marked as X\n",
    "                    (r'.*\\'s$', 'NOUN'),              # nouns\n",
    "                    (r'.*s$', 'NOUN'),                # nouns\n",
    "                    (r'^-?[0-9]+(.[0-9]+)?$', 'NUM'), # numbers\n",
    "                    (r'.*', 'NOUN')                   # noun\n",
    "                ]\n",
    "\n",
    "    \n",
    "    regexp_tagger = nltk.RegexpTagger(patterns)\n",
    "    \n",
    "    for i,j in enumerate(state):\n",
    "        #Rule-based tagging done only for new 'unknown' words.\n",
    "        if j == \"UNK\":\n",
    "            state[i] = regexp_tagger.tag([words[i]])[0][1]\n",
    "    return words,state"
   ]
  },
  {
   "cell_type": "code",
   "execution_count": 44,
   "metadata": {},
   "outputs": [],
   "source": [
    "# Modified Viterbi Heuristic with Rule Based\n",
    "def Viterbi_Using_Rule_Based(words, train_bag = train_tagged_words):\n",
    "    state = []\n",
    "    T = list(set([pair[1] for pair in train_bag]))\n",
    "    \n",
    "    for key, word in enumerate(words):\n",
    "        #initialise list of probability column for a given observation\n",
    "        p = [] \n",
    "        for tag in T:\n",
    "            if key == 0:\n",
    "                transition_p = tags_df.loc['.', tag]\n",
    "            else: \n",
    "                # If the previous tag is 'UNK' set the transition probability to 1\n",
    "                # Thus the emission probability alone will be taken for the unknown words\n",
    "                if state[-1] == 'UNK':\n",
    "                    transition_p = 1\n",
    "                else:             \n",
    "                    transition_p = tags_df.loc[state[-1], tag]\n",
    "                \n",
    "           \n",
    "            emission_p = word_given_tag(words[key], tag)[0]/word_given_tag(words[key], tag)[1]\n",
    "            state_probability = emission_p * transition_p\n",
    "            p.append(state_probability)   \n",
    "        pmax = max(p)\n",
    "\n",
    "        if pmax == 0:\n",
    "            # set the tag 'UNK' for unknown words\n",
    "            state_max = \"UNK\"\n",
    "        else:\n",
    "            state_max = T[p.index(pmax)]\n",
    "        state.append(state_max)\n",
    "    \n",
    "    # Get the tag of unknown words using rule based POS tagging\n",
    "    word, state = get_rule_based_tag(words, state) \n",
    "    return list(zip(words, state))"
   ]
  },
  {
   "cell_type": "markdown",
   "metadata": {},
   "source": [
    "## Evaluating tagging accuracies"
   ]
  },
  {
   "cell_type": "markdown",
   "metadata": {},
   "source": [
    "### Modification 1 - Viterbi modified Using only  the maximum likelihood of Transition Probabilities of unknown words"
   ]
  },
  {
   "cell_type": "markdown",
   "metadata": {},
   "source": [
    "### Evaluation - over Validation Set"
   ]
  },
  {
   "cell_type": "code",
   "execution_count": 45,
   "metadata": {},
   "outputs": [
    {
     "name": "stdout",
     "output_type": "stream",
     "text": [
      "Evaluation time taken (in seconds) for Viterbi modified using transition probability on validation set:  2249.7652378082275\n",
      "[('Investors', 'NOUN'), ('took', 'VERB'), ('advantage', 'NOUN'), ('of', 'ADP'), ('Tuesday', 'NOUN'), (\"'s\", 'PRT'), ('stock', 'NOUN'), ('rally', 'NOUN'), ('*-1', 'X'), ('to', 'PRT'), ('book', 'NOUN'), ('some', 'DET'), ('profits', 'NOUN'), ('yesterday', 'NOUN'), (',', '.'), ('*-1', 'X'), ('leaving', 'VERB'), ('stocks', 'NOUN'), ('up', 'PRT'), ('fractionally', 'ADV'), ('.', '.'), ('Buying', 'VERB'), ('for', 'ADP'), ('the', 'DET'), ('most', 'ADJ'), ('part', 'NOUN'), ('carried', 'VERB'), ('over', 'ADP'), ('from', 'ADP'), ('the', 'DET'), ('previous', 'ADJ'), ('session', 'NOUN'), (',', '.'), ('and', 'CONJ'), ('traders', 'NOUN'), ('apparently', 'ADV'), ('ignored', 'VERB'), ('reports', 'NOUN'), ('that', 'ADP'), ('a', 'DET'), ('Chilean', 'ADJ'), ('mine', 'NOUN'), ('strike', 'NOUN'), ('may', 'VERB'), ('have', 'VERB'), ('ended', 'VERB'), ('almost', 'ADV'), ('before', 'ADP'), ('it', 'PRON'), ('began', 'VERB'), (',', '.'), ('an', 'DET'), ('analyst', 'NOUN'), ('said', 'VERB'), ('0', 'X'), ('*T*-1', 'X'), ('.', '.'), ('An', 'DET'), ('official', 'NOUN'), ('of', 'ADP'), ('the', 'DET'), ('Palestinian', 'ADJ'), ('Olympic', 'NOUN'), ('Committee', 'NOUN'), ('said', 'VERB'), ('0', 'X'), ('the', 'DET'), ('committee', 'NOUN'), ('first', 'ADJ'), ('applied', 'VERB'), ('for', 'ADP'), ('membership', 'NOUN'), ('in', 'ADP'), ('1979', 'NUM'), ('and', 'CONJ'), ('renewed', 'VERB'), ('its', 'PRON'), ('application', 'NOUN'), ('in', 'ADP'), ('August', 'NOUN'), ('of', 'ADP'), ('this', 'DET'), ('year', 'NOUN'), ('.', '.'), ('``', '.'), ('If', 'ADP'), ('I', 'PRON'), ('were', 'VERB'), ('choosing', 'VERB'), ('the', 'DET'), ('people', 'NOUN'), ('of', 'ADP'), ('tomorrow', 'NOUN'), (',', '.'), ('I', 'PRON'), ('would', 'VERB'), ('have', 'VERB'), ('chosen', 'VERB'), ('the', 'DET'), ('people', 'NOUN'), ('who', 'PRON'), ('*T*-1', 'X'), ('are', 'VERB'), ('now', 'ADV'), ('on', 'ADP'), ('the', 'DET'), ('board', 'NOUN'), (',', '.'), (\"''\", '.'), ('he', 'PRON'), ('said', 'VERB'), ('*T*-2', 'X'), ('.', '.'), ('Preston', 'NOUN'), ('G.', 'NOUN'), ('Foster', 'NOUN'), ('Birmingham', 'NOUN'), (',', '.'), ('Ala', 'NOUN'), ('.', '.'), ('``', '.'), ('He', 'PRON'), ('has', 'VERB'), ('clamped', 'X'), ('on', 'ADP'), ('their', 'PRON'), ('ankle', 'VERB'), ('like', 'ADP'), ('a', 'DET'), ('pit', 'NOUN'), ('bull', 'NOUN'), (',', '.'), (\"''\", '.'), ('says', 'VERB'), ('*T*-1', 'X'), ('Paul', 'NOUN'), ('Leming', 'NOUN'), (',', '.'), ('a', 'DET'), ('vice', 'NOUN'), ('president', 'NOUN'), ('with', 'ADP'), ('Morgan', 'NOUN'), ('Stanley', 'NOUN'), ('&', 'CONJ'), ('Co', 'NOUN'), ('.', '.'), ('Brazil', 'NOUN'), ('is', 'VERB'), ('the', 'DET'), ('third-largest', 'NOUN'), ('producer', 'NOUN'), ('*RNR*-1', 'X'), ('and', 'CONJ'), ('the', 'DET'), ('fifth-largest', 'NOUN'), ('exporter', 'NOUN'), ('*RNR*-1', 'X'), ('of', 'ADP'), ('sugar', 'NOUN'), ('in', 'ADP'), ('the', 'DET'), ('world', 'NOUN'), ('.', '.'), ('The', 'DET'), ('man', 'NOUN'), ('was', 'VERB'), ('Charles', 'NOUN'), ('Z.', 'NOUN'), ('Wick', 'NOUN'), ('.', '.'), ('Reed', 'NOUN'), ('International', 'NOUN'), ('PLC', 'NOUN'), ('said', 'VERB'), ('that', 'ADP'), ('net', 'ADJ'), ('income', 'NOUN'), ('for', 'ADP'), ('the', 'DET'), ('six', 'NUM'), ('months', 'NOUN'), ('ended', 'VERB'), ('Oct.', 'NOUN'), ('1', 'NUM'), ('slipped', 'VERB'), ('5', 'NUM'), ('%', 'NOUN'), ('to', 'PRT'), ('#', '.'), ('89.7', 'NOUN'), ('million', 'NUM'), ('*U*', 'X'), ('-LRB-', '.'), ('$', '.'), ('141.9', 'NOUN'), ('million', 'NUM'), ('*U*', 'X'), ('-RRB-', '.'), (',', '.'), ('or', 'CONJ'), ('16', 'NUM'), ('pence', 'NOUN'), ('a', 'DET'), ('share', 'NOUN'), (',', '.'), ('from', 'ADP'), ('#', '.'), ('94.8', 'NOUN'), ('million', 'NUM'), ('*U*', 'X'), ('-LRB-', '.'), ('$', '.'), ('149.9', 'NOUN'), ('million', 'NUM'), ('*U*', 'X'), ('-RRB-', '.'), (',', '.'), ('or', 'CONJ'), ('17.3', 'NUM'), ('pence', 'NOUN'), ('a', 'DET'), ('share', 'NOUN'), ('.', '.'), ('South', 'NOUN'), ('Carolina', 'NOUN'), (\"'s\", 'PRT'), ('reforms', 'NOUN'), ('were', 'VERB'), ('designed', 'VERB'), ('*-1', 'X'), ('for', 'ADP'), ('schools', 'NOUN'), ('like', 'ADP'), ('Greenville', 'NOUN'), ('High', 'NOUN'), ('School', 'NOUN'), ('.', '.'), ('The', 'DET'), ('other', 'ADJ'), ('side', 'NOUN'), (',', '.'), ('he', 'PRON'), ('argues', 'VERB'), ('0', 'X'), ('*T*-1', 'X'), (',', '.'), ('``', '.'), ('knows', 'VERB'), ('0', 'X'), ('Giuliani', 'NOUN'), ('has', 'VERB'), ('always', 'ADV'), ('been', 'VERB'), ('pro-choice', 'ADJ'), (',', '.'), ('even', 'ADV'), ('though', 'ADP'), ('he', 'PRON'), ('has', 'VERB'), ('personal', 'ADJ'), ('reservations', 'NOUN'), ('.', '.'), ('`', '.'), ('*', 'X'), ('Sit', 'VERB'), ('down', 'ADV'), ('!', '.'), ('The', 'DET'), ('British', 'ADJ'), ('Department', 'NOUN'), ('of', 'ADP'), ('Trade', 'NOUN'), ('and', 'CONJ'), ('Industry', 'NOUN'), ('ordered', 'VERB'), ('an', 'DET'), ('investigation', 'NOUN'), ('of', 'ADP'), ('the', 'DET'), ('competitive', 'ADJ'), ('impact', 'NOUN'), ('of', 'ADP'), ('Michelin', 'NOUN'), ('Tyre', 'NOUN'), ('PLC', 'NOUN'), (\"'s\", 'PRT'), ('planned', 'VERB'), ('acquisition', 'NOUN'), ('of', 'ADP'), ('National', 'NOUN'), ('Tyre', 'NOUN'), ('Service', 'NOUN'), ('Ltd', 'NOUN'), ('.', '.'), ('United', 'NOUN'), ('Illuminating', 'NOUN'), ('is', 'VERB'), ('based', 'VERB'), ('*-13', 'X'), ('in', 'ADP'), ('New', 'NOUN'), ('Haven', 'NOUN'), (',', '.'), ('Conn.', 'NOUN'), (',', '.'), ('and', 'CONJ'), ('Northeast', 'NOUN'), ('is', 'VERB'), ('based', 'VERB'), ('*-14', 'X'), ('in', 'ADP'), ('Hartford', 'NOUN'), (',', '.'), ('Conn', 'NOUN'), ('.', '.'), ('That', 'DET'), ('settlement', 'NOUN'), ('was', 'VERB'), ('in', 'ADP'), ('April', 'NOUN'), ('1987', 'NUM'), ('.', '.'), ('Also', 'ADV'), (',', '.'), ('the', 'DET'), ('reforms', 'NOUN'), ('allow', 'VERB'), ('the', 'DET'), ('Big', 'NOUN'), ('Board', 'NOUN'), ('to', 'PRT'), ('halt', 'NOUN'), ('trading', 'NOUN'), ('for', 'ADP'), ('one', 'NUM'), ('hour', 'NOUN'), ('if', 'ADP'), ('the', 'DET'), ('Dow', 'NOUN'), ('Jones', 'NOUN'), ('Industrial', 'NOUN'), ('Average', 'NOUN'), ('falls', 'VERB'), ('250', 'NUM'), ('points', 'NOUN'), (',', '.'), ('and', 'CONJ'), ('for', 'ADP'), ('two', 'NUM'), ('more', 'ADJ'), ('hours', 'NOUN'), ('if', 'ADP'), ('the', 'DET'), ('Dow', 'NOUN'), ('slides', 'NOUN'), ('an', 'DET'), ('additional', 'ADJ'), ('150', 'NUM'), ('points', 'NOUN'), ('on', 'ADP'), ('the', 'DET'), ('same', 'ADJ'), ('day', 'NOUN'), ('.', '.'), ('Currently', 'ADV'), (',', '.'), ('both', 'DET'), ('Massachusetts', 'NOUN'), ('and', 'CONJ'), ('Connecticut', 'NOUN'), (',', '.'), ('where', 'ADV'), ('most', 'ADJ'), ('of', 'ADP'), ('Bank', 'NOUN'), ('of', 'ADP'), ('New', 'NOUN'), ('England', 'NOUN'), (\"'s\", 'PRT'), ('operations', 'NOUN'), ('are', 'VERB'), ('*T*-1', 'X'), (',', '.'), ('allow', 'VERB'), ('interstate', 'ADJ'), ('banking', 'NOUN'), ('only', 'ADV'), ('within', 'ADP'), ('New', 'NOUN'), ('England', 'NOUN'), ('.', '.'), ('She', 'PRON'), ('says', 'VERB'), ('0', 'X'), ('individual', 'ADJ'), ('Barnett', 'NOUN'), ('branches', 'NOUN'), ('can', 'VERB'), ('add', 'VERB'), ('different', 'ADJ'), ('benefits', 'NOUN'), ('*ICH*-1', 'X'), ('to', 'PRT'), ('their', 'PRON'), ('Seniors', 'NOUN'), ('Partners', 'NOUN'), ('package', 'NOUN'), ('--', '.'), ('such', 'ADJ'), ('as', 'ADP'), ('athletic', 'DET'), ('activities', 'NOUN'), ('or', 'CONJ'), ('travel', 'NOUN'), ('clubs', 'NOUN'), ('--', '.'), ('*-2', 'X'), ('to', 'PRT'), ('appeal', 'NOUN'), ('to', 'PRT'), ('local', 'ADJ'), ('market', 'NOUN'), ('interests', 'NOUN'), ('.', '.'), ('Last', 'ADJ'), ('year', 'NOUN'), (',', '.'), ('DSM', 'NOUN'), ('had', 'VERB'), ('71', 'NUM'), ('million', 'NUM'), ('guilders', 'NOUN'), ('of', 'ADP'), ('extraordinary', 'ADJ'), ('charges', 'NOUN'), ('for', 'ADP'), ('the', 'DET'), ('restructuring', 'NOUN'), ('program', 'NOUN'), ('and', 'CONJ'), ('other', 'ADJ'), ('transactions', 'NOUN'), ('.', '.'), ('Futures', 'NOUN'), ('prices', 'NOUN'), ('rose', 'VERB'), (',', '.'), ('*-1', 'X'), ('extending', 'VERB'), ('Tuesday', 'NOUN'), (\"'s\", 'PRT'), ('gains', 'NOUN'), ('.', '.'), ('Perhaps', 'ADV'), ('none', 'NOUN'), ('of', 'ADP'), ('the', 'DET'), ('unconstitutional', 'ADJ'), ('conditions', 'NOUN'), ('contained', 'VERB'), ('*', 'X'), ('in', 'ADP'), ('the', 'DET'), ('appropriations', 'NOUN'), ('bills', 'NOUN'), ('for', 'ADP'), ('fiscal', 'ADJ'), ('1990', 'NUM'), ('better', 'ADJ'), ('*ICH*-1', 'X'), ('illustrates', 'VERB'), ('Congress', 'NOUN'), (\"'s\", 'PRT'), ('attempt', 'VERB'), ('*', 'X'), ('to', 'PRT'), ('usurp', 'VERB'), ('executive', 'ADJ'), ('power', 'NOUN'), ('than', 'ADP'), ('Section', 'NOUN'), ('609', 'NOUN'), ('of', 'ADP'), ('the', 'DET'), ('executive-office', 'NOUN'), ('bill', 'NOUN'), (':', '.'), ('``', '.'), ('None', 'NOUN'), ('of', 'ADP'), ('the', 'DET'), ('funds', 'NOUN'), ('made', 'VERB'), ('*', 'X'), ('available', 'ADJ'), ('pursuant', 'ADJ'), ('to', 'PRT'), ('the', 'DET'), ('provisions', 'NOUN'), ('of', 'ADP'), ('this', 'DET'), ('Act', 'NOUN'), ('shall', 'VERB'), ('be', 'VERB'), ('used', 'VERB'), ('*-2', 'X'), ('*', 'X'), ('to', 'PRT'), ('implement', 'VERB'), (',', '.'), ('administer', 'NOUN'), (',', '.'), ('or', 'CONJ'), ('enforce', 'VERB'), ('any', 'DET'), ('regulation', 'NOUN'), ('which', 'DET'), ('*T*-3', 'X'), ('has', 'VERB'), ('been', 'VERB'), ('disapproved', 'X'), ('*-58', 'VERB'), ('pursuant', 'ADJ'), ('to', 'PRT'), ('a', 'DET'), ('resolution', 'NOUN'), ('of', 'ADP'), ('disapproval', 'DET'), ('duly', 'ADV'), ('adopted', 'VERB'), ('*', 'X'), ('in', 'ADP'), ('accordance', 'DET'), ('with', 'ADP'), ('the', 'DET'), ('applicable', 'NOUN'), ('law', 'NOUN'), ('of', 'ADP'), ('the', 'DET'), ('United', 'NOUN'), ('States', 'NOUN'), ('.', '.'), (\"''\", '.'), ('Mead', 'NOUN'), ('rose', 'VERB'), ('3\\\\/4', 'NUM'), ('to', 'PRT'), ('39', 'NUM'), ('1\\\\/2', 'NUM'), (',', '.'), ('Federal', 'NOUN'), ('Paper', 'NOUN'), ('Board', 'NOUN'), ('added', 'VERB'), ('1\\\\/2', 'NUM'), ('to', 'PRT'), ('24', 'NUM'), ('3\\\\/8', 'NUM'), ('and', 'CONJ'), ('Scott', 'NOUN'), ('Paper', 'NOUN'), ('gained', 'VERB'), ('1\\\\/2', 'NUM'), ('to', 'PRT'), ('48', 'NUM'), ('3\\\\/8', 'NUM'), (',', '.'), ('while', 'ADP'), ('International', 'NOUN'), ('Paper', 'NOUN'), ('fell', 'VERB'), ('7\\\\/8', 'NUM'), ('to', 'PRT'), ('48', 'NUM'), ('7\\\\/8', 'NUM'), (',', '.'), ('Champion', 'NOUN'), ('International', 'NOUN'), ('lost', 'VERB'), ('3\\\\/8', 'NUM'), ('to', 'PRT'), ('31', 'NUM'), ('1\\\\/2', 'NUM'), ('and', 'CONJ'), ('Louisiana-Pacific', 'NOUN'), ('dropped', 'VERB'), ('1\\\\/8', 'NUM'), ('to', 'PRT'), ('40', 'NUM'), ('1\\\\/4', 'NUM'), ('.', '.'), ('In', 'ADP'), ('composite', 'ADJ'), ('trading', 'NOUN'), ('on', 'ADP'), ('the', 'DET'), ('New', 'NOUN'), ('York', 'NOUN'), ('Stock', 'NOUN'), ('Exchange', 'NOUN'), ('yesterday', 'NOUN'), (',', '.'), ('Comprehensive', 'NOUN'), ('Care', 'NOUN'), ('closed', 'VERB'), ('at', 'ADP'), ('$', '.'), ('3.75', 'NUM'), ('*U*', 'X'), ('a', 'DET'), ('share', 'NOUN'), (',', '.'), ('up', 'ADV'), ('12.5', 'NUM'), ('cents', 'NOUN'), ('.', '.'), ('Campbell', 'NOUN'), ('Soup', 'NOUN'), (',', '.'), ('not', 'ADV'), ('surprisingly', 'ADV'), (',', '.'), ('does', 'VERB'), (\"n't\", 'ADV'), ('have', 'VERB'), ('any', 'DET'), ('plans', 'NOUN'), ('*', 'X'), ('to', 'PRT'), ('advertise', 'VERB'), ('in', 'ADP'), ('the', 'DET'), ('magazine', 'NOUN'), (',', '.'), ('according', 'VERB'), ('to', 'PRT'), ('its', 'PRON'), ('spokesman', 'NOUN'), ('.', '.'), ('I', 'PRON'), ('believe', 'VERB'), ('0', 'X'), ('you', 'PRON'), ('have', 'VERB'), ('*-1', 'X'), ('to', 'PRT'), ('use', 'VERB'), ('the', 'DET'), ('system', 'NOUN'), ('*-2', 'X'), ('to', 'PRT'), ('change', 'VERB'), ('it', 'PRON'), ('.', '.'), ('Five', 'NOUN'), ('things', 'NOUN'), ('0', 'X'), ('you', 'PRON'), ('can', 'VERB'), ('do', 'VERB'), ('*T*-1', 'X'), ('for', 'ADP'), ('$', '.'), ('15,000', 'NUM'), ('*U*', 'X'), ('or', 'CONJ'), ('less', 'ADJ'), (':', '.'), ('The', 'DET'), ('House', 'NOUN'), ('approved', 'VERB'), ('an', 'DET'), ('amendment', 'NOUN'), ('offered', 'VERB'), ('*', 'X'), ('by', 'ADP'), ('Rep.', 'NOUN'), ('Peter', 'NOUN'), ('DeFazio', 'NOUN'), ('-LRB-', '.'), ('D.', 'NOUN'), (',', '.'), ('Ore.', 'NOUN'), ('-RRB-', '.'), ('that', 'DET'), ('*T*-1', 'X'), ('would', 'VERB'), (',', '.'), ('in', 'ADP'), ('addition', 'NOUN'), ('to', 'PRT'), ('the', 'DET'), ('previous', 'ADJ'), ('criteria', 'NOUN'), (',', '.'), ('also', 'ADV'), ('require', 'VERB'), ('the', 'DET'), ('department', 'NOUN'), ('to', 'PRT'), ('block', 'VERB'), ('the', 'DET'), ('acquisition', 'NOUN'), ('of', 'ADP'), ('an', 'DET'), ('airline', 'NOUN'), ('if', 'ADP'), ('the', 'DET'), ('added', 'VERB'), ('debt', 'NOUN'), ('incurred', 'VERB'), ('*', 'X'), ('were', 'VERB'), ('likely', 'ADJ'), ('*-2', 'X'), ('to', 'PRT'), ('result', 'VERB'), ('in', 'ADP'), ('a', 'DET'), ('reduction', 'NOUN'), ('in', 'ADP'), ('the', 'DET'), ('number', 'NOUN'), ('of', 'ADP'), ('the', 'DET'), ('carrier', 'NOUN'), (\"'s\", 'PRT'), ('employees', 'NOUN'), (',', '.'), ('or', 'CONJ'), ('their', 'PRON'), ('wages', 'NOUN'), ('or', 'CONJ'), ('benefits', 'NOUN'), ('.', '.'), ('Proper', 'NOUN'), ('English', 'NOUN'), ('bells', 'NOUN'), ('are', 'VERB'), ('started', 'VERB'), ('*-1', 'X'), ('off', 'PRT'), ('in', 'ADP'), ('``', '.'), ('rounds', 'NOUN'), (',', '.'), (\"''\", '.'), ('from', 'ADP'), ('the', 'DET'), ('highest-pitched', 'NOUN'), ('bell', 'NOUN'), ('to', 'PRT'), ('the', 'DET'), ('lowest', 'ADJ'), ('--', '.'), ('a', 'DET'), ('simple', 'ADJ'), ('descending', 'NOUN'), ('scale', 'NOUN'), ('using', 'VERB'), (',', '.'), ('in', 'ADP'), ('larger', 'ADJ'), ('churches', 'NOUN'), (',', '.'), ('as', 'ADP'), ('many', 'ADJ'), ('as', 'ADP'), ('12', 'NUM'), ('bells', 'NOUN'), ('.', '.'), ('The', 'DET'), ('other', 'ADJ'), ('concern', 'NOUN'), ('was', 'VERB'), (\"n't\", 'ADV'), ('identified', 'VERB'), ('.', '.'), ('Mr.', 'NOUN'), ('Hahn', 'NOUN'), (',', '.'), ('the', 'DET'), ('62-year-old', 'NOUN'), ('chairman', 'NOUN'), ('and', 'CONJ'), ('chief', 'NOUN'), ('executive', 'NOUN'), ('officer', 'NOUN'), ('of', 'ADP'), ('Georgia-Pacific', 'NOUN'), ('Corp.', 'NOUN'), ('is', 'VERB'), ('leading', 'VERB'), ('the', 'DET'), ('forest-product', 'NOUN'), ('concern', 'NOUN'), (\"'s\", 'PRT'), ('unsolicited', 'VERB'), ('$', '.'), ('3.19', 'NOUN'), ('billion', 'NUM'), ('*U*', 'X'), ('bid', 'VERB'), ('for', 'ADP'), ('Great', 'NOUN'), ('Northern', 'NOUN'), ('Nekoosa', 'NOUN'), ('Corp', 'NOUN'), ('.', '.'), ('``', '.'), ('The', 'DET'), ('record', 'NOUN'), ('of', 'ADP'), ('companies', 'NOUN'), ('that', 'ADP'), ('*T*-8', 'X'), ('have', 'VERB'), ('diversified', 'ADJ'), ('is', 'VERB'), (\"n't\", 'ADV'), ('all', 'DET'), ('that', 'ADP'), ('impressive', 'DET'), (',', '.'), (\"''\", '.'), ('he', 'PRON'), ('says', 'VERB'), ('*T*-1', 'X'), ('.', '.'), ('But', 'CONJ'), ('rather', 'ADV'), ('than', 'ADP'), ('*', 'X'), ('sell', 'VERB'), ('new', 'ADJ'), ('30-year', 'ADJ'), ('bonds', 'NOUN'), (',', '.'), ('the', 'DET'), ('Treasury', 'NOUN'), ('will', 'VERB'), ('issue', 'NOUN'), ('$', '.'), ('10', 'NUM'), ('billion', 'NUM'), ('*U*', 'X'), ('of', 'ADP'), ('29year', 'DET'), (',', '.'), ('nine-month', 'NOUN'), ('bonds', 'NOUN'), ('--', '.'), ('*-2', 'X'), ('essentially', 'ADV'), ('increasing', 'VERB'), ('the', 'DET'), ('size', 'NOUN'), ('of', 'ADP'), ('the', 'DET'), ('current', 'ADJ'), ('benchmark', 'NOUN'), ('30-year', 'ADJ'), ('bond', 'NOUN'), ('that', 'ADP'), ('*T*-3', 'X'), ('was', 'VERB'), ('sold', 'VERB'), ('*-1', 'X'), ('at', 'ADP'), ('the', 'DET'), ('previous', 'ADJ'), ('refunding', 'NOUN'), ('in', 'ADP'), ('August', 'NOUN'), ('.', '.'), ('ECONOMIC', 'NOUN'), ('GROWTH', 'NOUN'), ('APPEARS', 'NOUN'), ('*-1', 'X'), ('to', 'PRT'), ('be', 'VERB'), ('leveling', 'VERB'), ('off', 'PRT'), (',', '.'), ('latest', 'ADJ'), ('reports', 'NOUN'), ('suggest', 'VERB'), ('0', 'X'), ('*T*-2', 'X'), ('.', '.'), ('And', 'CONJ'), (',', '.'), ('of', 'ADP'), ('course', 'NOUN'), (',', '.'), ('there', 'DET'), (\"'s\", 'VERB'), ('that', 'ADP'), ('word', 'NOUN'), ('``', '.'), ('dissemination', 'NOUN'), ('.', '.'), (\"''\", '.'), ('Michelin', 'NOUN'), ('Tyre', 'NOUN'), ('is', 'VERB'), ('a', 'DET'), ('unit', 'NOUN'), ('of', 'ADP'), ('France', 'NOUN'), (\"'s\", 'PRT'), ('Michelin', 'NOUN'), ('S.A', 'NOUN'), ('.', '.'), ('In', 'ADP'), ('the', 'DET'), ('coming', 'VERB'), ('decade', 'NOUN'), (',', '.'), ('analysts', 'NOUN'), ('say', 'VERB'), ('0', 'X'), ('*T*-2', 'X'), (',', '.'), ('U.S.-Japanese', 'NOUN'), ('relations', 'NOUN'), ('will', 'VERB'), ('be', 'VERB'), ('tested', 'VERB'), ('*-1', 'X'), ('as', 'ADP'), ('Tokyo', 'NOUN'), ('comes', 'VERB'), ('to', 'PRT'), ('terms', 'NOUN'), ('with', 'ADP'), ('its', 'PRON'), ('new', 'ADJ'), ('status', 'NOUN'), ('as', 'ADP'), ('the', 'DET'), ('region', 'NOUN'), (\"'s\", 'PRT'), ('economic', 'ADJ'), ('behemoth', 'NOUN'), ('.', '.'), ('Integra', 'NOUN'), (',', '.'), ('which', 'DET'), ('*T*-174', 'NOUN'), ('owns', 'VERB'), ('and', 'CONJ'), ('operates', 'VERB'), ('hotels', 'X'), (',', '.'), ('said', 'VERB'), ('that', 'ADP'), ('Hallwood', 'NOUN'), ('Group', 'NOUN'), ('Inc.', 'NOUN'), ('has', 'VERB'), ('agreed', 'VERB'), ('*-1', 'X'), ('to', 'PRT'), ('exercise', 'VERB'), ('any', 'DET'), ('rights', 'NOUN'), ('that', 'ADP'), ('*T*-175', 'DET'), ('are', 'VERB'), (\"n't\", 'ADV'), ('exercised', 'VERB'), ('*-2', 'X'), ('by', 'ADP'), ('other', 'ADJ'), ('shareholders', 'NOUN'), ('.', '.'), ('A', 'DET'), ('seat', 'NOUN'), ('on', 'ADP'), ('the', 'DET'), ('Chicago', 'NOUN'), ('Board', 'NOUN'), ('of', 'ADP'), ('Trade', 'NOUN'), ('was', 'VERB'), ('sold', 'VERB'), ('*-1', 'X'), ('for', 'ADP'), ('$', '.'), ('350,000', 'NUM'), ('*U*', 'X'), (',', '.'), ('down', 'ADV'), ('$', '.'), ('16,000', 'NUM'), ('*U*', 'X'), ('from', 'ADP'), ('the', 'DET'), ('previous', 'ADJ'), ('sale', 'NOUN'), ('last', 'ADJ'), ('Friday', 'NOUN'), ('.', '.'), ('Most', 'ADJ'), ('in', 'ADP'), ('demand', 'NOUN'), (':', '.'), ('classic', 'ADJ'), ('photographs', 'NOUN'), ('by', 'ADP'), ('masters', 'DET'), ('such', 'ADJ'), ('as', 'ADP'), ('Stieglitz', 'NOUN'), ('and', 'CONJ'), ('Man', 'NOUN'), ('Ray', 'NOUN'), ('.', '.'), ('Not', 'ADV'), ('only', 'ADV'), ('is', 'VERB'), ('development', 'NOUN'), ('of', 'ADP'), ('the', 'DET'), ('new', 'ADJ'), ('company', 'NOUN'), (\"'s\", 'PRT'), ('initial', 'ADJ'), ('machine', 'NOUN'), ('tied', 'VERB'), ('*-1', 'X'), ('directly', 'ADV'), ('to', 'PRT'), ('Mr.', 'NOUN'), ('Cray', 'NOUN'), (',', '.'), ('so', 'ADV'), ('is', 'VERB'), ('*T*-2', 'X'), ('its', 'PRON'), ('balance', 'NOUN'), ('sheet', 'NOUN'), ('.', '.'), ('Tiny', 'NOUN'), ('Tots', 'NOUN'), ('Inc.', 'NOUN'), (',', '.'), ('Campbell', 'NOUN'), (',', '.'), ('Calif.', 'NOUN'), (',', '.'), ('says', 'VERB'), ('0', 'X'), ('business', 'NOUN'), ('is', 'VERB'), ('up', 'ADV'), ('35', 'NUM'), ('%', 'NOUN'), ('in', 'ADP'), ('the', 'DET'), ('past', 'ADJ'), ('year', 'NOUN'), ('.', '.'), ('``', '.'), ('She', 'PRON'), ('taught', 'VERB'), ('us', 'PRON'), ('more', 'ADJ'), ('in', 'ADP'), ('Western', 'ADJ'), ('Civilization', 'NOUN'), ('than', 'ADP'), ('I', 'PRON'), (\"'ve\", 'VERB'), ('ever', 'ADV'), ('learned', 'VERB'), ('in', 'ADP'), ('other', 'ADJ'), ('classes', 'NOUN'), (',', '.'), (\"''\", '.'), ('says', 'VERB'), ('*T*-2', 'X'), ('Kelli', 'VERB'), ('Green', 'X'), (',', '.'), ('a', 'DET'), ('Greenville', 'NOUN'), ('senior', 'ADJ'), ('.', '.'), ('A', 'DET'), ('spokesman', 'NOUN'), ('declined', 'VERB'), ('*-1', 'X'), ('to', 'PRT'), ('speculate', 'VERB'), ('about', 'ADP'), ('possible', 'ADJ'), ('reductions', 'NOUN'), ('in', 'ADP'), ('force', 'NOUN'), ('.', '.'), ('And', 'CONJ'), ('consumer', 'NOUN'), ('groups', 'NOUN'), ('hope', 'VERB'), ('that', 'ADP'), ('Judge', 'NOUN'), ('Curry', 'NOUN'), (\"'s\", 'PRT'), ('Byron', 'NOUN'), ('1', 'NUM'), ('order', 'NOUN'), ('may', 'VERB'), ('set', 'VERB'), ('a', 'DET'), ('precedent', 'NOUN'), ('for', 'ADP'), ('a', 'DET'), ('second', 'ADJ'), ('nuclear', 'ADJ'), ('rate', 'NOUN'), ('case', 'NOUN'), ('involving', 'VERB'), ('Commonwealth', 'NOUN'), ('Edison', 'NOUN'), (\"'s\", 'PRT'), ('Braidwood', 'NOUN'), ('2', 'NUM'), ('plant', 'NOUN'), ('.', '.'), ('Heritage', 'NOUN'), ('owns', 'VERB'), ('and', 'CONJ'), ('operates', 'VERB'), ('television', 'NOUN'), ('and', 'CONJ'), ('radio', 'NOUN'), ('stations', 'NOUN'), ('and', 'CONJ'), ('in-store', 'ADJ'), ('advertising', 'NOUN'), ('and', 'CONJ'), ('promotion', 'NOUN'), ('programs', 'NOUN'), ('.', '.'), ('The', 'DET'), ('protracted', 'ADJ'), ('downturn', 'NOUN'), ('reflects', 'VERB'), ('the', 'DET'), ('intensity', 'NOUN'), ('of', 'ADP'), ('Bank', 'NOUN'), ('of', 'ADP'), ('Japan', 'NOUN'), ('yen-support', 'NOUN'), ('intervention', 'NOUN'), ('since', 'ADP'), ('June', 'NOUN'), (',', '.'), ('when', 'ADV'), ('the', 'DET'), ('U.S.', 'NOUN'), ('currency', 'NOUN'), ('temporarily', 'ADV'), ('surged', 'VERB'), ('above', 'ADP'), ('the', 'DET'), ('150.00', 'NOUN'), ('yen', 'NOUN'), ('level', 'NOUN'), ('*T*-1', 'X'), ('.', '.'), ('Any', 'DET'), ('money', 'NOUN'), ('in', 'ADP'), ('excess', 'ADJ'), ('of', 'ADP'), ('$', '.'), ('40', 'NUM'), ('million', 'NUM'), ('*U*', 'X'), ('collected', 'VERB'), ('*', 'X'), ('from', 'ADP'), ('the', 'DET'), ('fees', 'NOUN'), ('in', 'ADP'), ('fiscal', 'ADJ'), ('1990', 'NUM'), ('would', 'VERB'), ('go', 'VERB'), ('to', 'PRT'), ('the', 'DET'), ('Treasury', 'NOUN'), ('at', 'ADP'), ('large', 'ADJ'), ('.', '.'), ('Investor', 'NOUN'), ('Harold', 'NOUN'), ('Simmons', 'NOUN'), ('and', 'CONJ'), ('NL', 'NOUN'), ('Industries', 'NOUN'), ('Inc.', 'NOUN'), ('offered', 'VERB'), ('*-1', 'X'), ('to', 'PRT'), ('acquire', 'VERB'), ('Georgia', 'NOUN'), ('Gulf', 'NOUN'), ('Corp.', 'NOUN'), ('for', 'ADP'), ('$', '.'), ('50', 'NUM'), ('*U*', 'X'), ('a', 'DET'), ('share', 'NOUN'), (',', '.'), ('or', 'CONJ'), ('about', 'ADP'), ('$', '.'), ('1.1', 'NUM'), ('billion', 'NUM'), ('*U*', 'X'), (',', '.'), ('*-1', 'X'), ('stepping', 'VERB'), ('up', 'ADV'), ('the', 'DET'), ('pressure', 'NOUN'), ('on', 'ADP'), ('the', 'DET'), ('commodity', 'NOUN'), ('chemicals', 'NOUN'), ('concern', 'NOUN'), ('.', '.'), ('``', '.'), ('There', 'DET'), ('are', 'VERB'), ('no', 'DET'), ('smiles', 'NOUN'), ('about', 'ADP'), ('this', 'DET'), ('bill', 'NOUN'), (',', '.'), (\"''\", '.'), ('Rep.', 'NOUN'), ('Pat', 'NOUN'), ('Williams', 'NOUN'), ('-LRB-', '.'), ('D.', 'NOUN'), (',', '.'), ('Mont', 'NOUN'), ('.', '.'), ('-RRB-', '.'), ('said', 'VERB'), ('*T*-1', 'X'), ('during', 'ADP'), ('House', 'NOUN'), ('floor', 'NOUN'), ('debate', 'NOUN'), ('yesterday', 'NOUN'), ('.', '.'), ('Some', 'DET'), ('analysts', 'NOUN'), ('say', 'VERB'), ('0', 'X'), ('investors', 'NOUN'), ('should', 'VERB'), ('run', 'VERB'), ('for', 'ADP'), ('the', 'DET'), ('exits', 'NOUN'), ('if', 'ADP'), ('a', 'DET'), ('sustained', 'VERB'), ('market', 'NOUN'), ('rebound', 'VERB'), ('pushes', 'X'), ('the', 'DET'), ('yield', 'NOUN'), ('below', 'ADP'), ('3', 'NUM'), ('%', 'NOUN'), ('.', '.'), ('*-1', 'X'), ('Left', 'VERB'), ('*-3', 'X'), ('to', 'PRT'), ('its', 'PRON'), ('own', 'ADJ'), ('devices', 'NOUN'), (',', '.'), ('index', 'NOUN'), ('arbitrage', 'NOUN'), ('will', 'VERB'), ('become', 'VERB'), ('more', 'ADV'), ('and', 'CONJ'), ('more', 'ADJ'), ('efficient', 'ADJ'), (',', '.'), ('*-1', 'X'), ('making', 'VERB'), ('it', 'PRON'), ('harder', 'ADJ'), ('and', 'CONJ'), ('harder', 'ADJ'), ('0', 'X'), ('*', 'X'), ('to', 'PRT'), ('do', 'VERB'), ('*T*-2', 'X'), ('profitably', 'ADV'), ('.', '.'), ('The', 'DET'), ('banks', 'NOUN'), ('have', 'VERB'), ('28', 'NUM'), ('days', 'NOUN'), ('0', 'X'), ('*', 'X'), ('to', 'PRT'), ('file', 'VERB'), ('an', 'DET'), ('appeal', 'NOUN'), ('against', 'ADP'), ('the', 'DET'), ('ruling', 'NOUN'), ('*T*-2', 'X'), ('and', 'CONJ'), ('are', 'VERB'), ('expected', 'VERB'), ('*-1', 'X'), ('to', 'PRT'), ('do', 'VERB'), ('so', 'ADV'), ('shortly', 'ADV'), ('.', '.'), ('Critics', 'NOUN'), ('say', 'VERB'), ('0', 'X'), ('South', 'NOUN'), ('Carolina', 'NOUN'), ('is', 'VERB'), ('paying', 'VERB'), ('a', 'DET'), ('price', 'NOUN'), ('by', 'ADP'), ('*', 'X'), ('stressing', 'VERB'), ('improved', 'VERB'), ('test', 'NOUN'), ('scores', 'NOUN'), ('so', 'ADP'), ('much', 'ADJ'), ('.', '.'), ('Sandoz', 'NOUN'), ('Ltd.', 'NOUN'), ('has', 'VERB'), ('licensed', 'VERB'), ('certain', 'ADJ'), ('manufacturing', 'NOUN'), ('and', 'CONJ'), ('marketing', 'NOUN'), ('rights', 'NOUN'), ('for', 'ADP'), ('Interleukin-3', 'NOUN'), ('from', 'ADP'), ('Genetics', 'NOUN'), ('Institute', 'NOUN'), ('and', 'CONJ'), ('is', 'VERB'), ('conducting', 'VERB'), ('preclinical', 'X'), ('studies', 'NOUN'), ('with', 'ADP'), ('it', 'PRON'), ('.', '.'), ('A', 'DET'), ('House', 'NOUN'), ('aide', 'NOUN'), ('suggested', 'VERB'), ('that', 'ADP'), ('Mr.', 'NOUN'), ('Phelan', 'NOUN'), ('was', 'VERB'), ('so', 'ADV'), ('``', '.'), ('vague', 'NOUN'), ('and', 'CONJ'), ('mushy', 'NOUN'), (\"''\", '.'), ('that', 'DET'), ('it', 'PRON'), ('was', 'VERB'), ('the', 'DET'), ('kind', 'NOUN'), ('of', 'ADP'), ('meeting', 'NOUN'), ('where', 'ADV'), ('people', 'NOUN'), ('of', 'ADP'), ('all', 'DET'), ('viewpoints', 'NOUN'), ('could', 'VERB'), ('``', '.'), ('come', 'VERB'), ('out', 'PRT'), ('*-2', 'X'), ('feeling', 'VERB'), ('good', 'ADJ'), ('*T*-1', 'X'), ('.', '.'), (\"''\", '.'), ('Wine', 'NOUN'), ('merchants', 'NOUN'), ('ca', 'VERB'), (\"n't\", 'ADV'), ('keep', 'VERB'), ('Roederer', 'NOUN'), ('Cristal', 'NOUN'), ('in', 'ADP'), ('stock', 'NOUN'), (',', '.'), ('but', 'CONJ'), ('they', 'PRON'), ('have', 'VERB'), ('*-1', 'X'), ('to', 'PRT'), ('push', 'VERB'), ('Salon', 'NOUN'), ('le', 'NOUN'), ('Mesnil', 'NOUN'), (',', '.'), ('*-2', 'X'), ('even', 'ADV'), ('lowering', 'VERB'), ('the', 'DET'), ('price', 'NOUN'), ('from', 'ADP'), ('$', '.'), ('115', 'NOUN'), ('*U*', 'X'), ('to', 'PRT'), ('$', '.'), ('90', 'NUM'), ('*U*', 'X'), ('.', '.'), ('Many', 'ADJ'), ('people', 'NOUN'), (',', '.'), ('including', 'VERB'), ('the', 'DET'), ('Big', 'NOUN'), ('Board', 'NOUN'), (',', '.'), ('think', 'VERB'), ('that', 'ADP'), ('it', 'PRON'), (\"'s\", 'VERB'), ('too', 'ADV'), ('late', 'ADJ'), ('*', 'X'), ('to', 'PRT'), ('put', 'VERB'), ('the', 'DET'), ('genie', 'NOUN'), ('back', 'PRT'), ('in', 'ADP'), ('the', 'DET'), ('bottle', 'NOUN'), ('.', '.'), ('The', 'DET'), ('len', 'NOUN'), (\"'s\", 'PRT'), ('foldability', 'VERB'), ('enables', 'VERB'), ('it', 'PRON'), ('to', 'PRT'), ('be', 'VERB'), ('inserted', 'X'), ('*-1', 'X'), ('in', 'ADP'), ('smaller', 'ADJ'), ('incisions', 'NOUN'), ('than', 'ADP'), ('*', 'X'), ('are', 'VERB'), ('now', 'ADV'), ('possible', 'ADJ'), ('for', 'ADP'), ('cataract', 'NOUN'), ('surgery', 'NOUN'), (',', '.'), ('the', 'DET'), ('eye', 'NOUN'), ('care', 'VERB'), ('and', 'CONJ'), ('skin', 'NOUN'), ('care', 'VERB'), ('concern', 'NOUN'), ('said', 'VERB'), ('0', 'X'), ('*T*-3', 'X'), ('.', '.'), ('If', 'ADP'), ('the', 'DET'), ('debts', 'NOUN'), ('are', 'VERB'), ('repaid', 'VERB'), ('*-49', 'X'), (',', '.'), ('it', 'PRON'), ('could', 'VERB'), ('clear', 'ADJ'), ('the', 'DET'), ('way', 'NOUN'), ('0', 'X'), ('for', 'ADP'), ('Soviet', 'ADJ'), ('bonds', 'NOUN'), ('to', 'PRT'), ('be', 'VERB'), ('sold', 'VERB'), ('*-50', 'X'), ('in', 'ADP'), ('the', 'DET'), ('U.S.', 'NOUN'), ('*T*-1', 'X'), ('.', '.'), ('On', 'ADP'), ('the', 'DET'), ('one', 'NUM'), ('hand', 'NOUN'), (',', '.'), ('Brazil', 'NOUN'), ('started', 'VERB'), ('an', 'DET'), ('ethanol', 'NOUN'), ('program', 'NOUN'), ('about', 'ADP'), ('15', 'NUM'), ('years', 'NOUN'), ('ago', 'ADP'), ('*-1', 'X'), ('to', 'PRT'), ('fuel', 'NOUN'), ('a', 'DET'), ('huge', 'ADJ'), ('portion', 'NOUN'), ('of', 'ADP'), ('its', 'PRON'), ('national', 'ADJ'), ('fleet', 'NOUN'), ('of', 'ADP'), ('cars', 'NOUN'), ('and', 'CONJ'), ('is', 'VERB'), ('now', 'ADV'), ('committed', 'VERB'), ('to', 'PRT'), ('this', 'DET'), ('program', 'NOUN'), ('.', '.'), ('Lucille', 'NOUN'), ('Gorman', 'NOUN'), (',', '.'), ('an', 'DET'), ('84-year-old', 'NOUN'), ('Chicago', 'NOUN'), ('housewife', 'NOUN'), (',', '.'), ('has', 'VERB'), ('become', 'VERB'), ('amazingly', 'X'), ('immune', 'ADJ'), ('to', 'PRT'), ('stock-market', 'NOUN'), ('jolts', 'NOUN'), ('.', '.'), ('DISCOUNT', 'NOUN'), ('RATE', 'NOUN'), (':', '.'), ('7', 'NUM'), ('%', 'NOUN'), ('.', '.'), ('But', 'CONJ'), ('with', 'ADP'), ('the', 'DET'), ('end', 'NOUN'), ('of', 'ADP'), ('the', 'DET'), ('year', 'NOUN'), ('in', 'ADP'), ('sight', 'DET'), (',', '.'), ('money', 'NOUN'), ('managers', 'NOUN'), ('are', 'VERB'), ('eager', 'ADJ'), ('*-1', 'X'), ('to', 'PRT'), ('take', 'VERB'), ('profits', 'NOUN'), ('and', 'CONJ'), ('cut', 'VERB'), ('their', 'PRON'), ('risks', 'NOUN'), ('of', 'ADP'), ('*-2', 'X'), ('losing', 'VERB'), ('what', 'PRON'), ('for', 'ADP'), ('many', 'ADJ'), ('*T*-178', 'NOUN'), ('have', 'VERB'), ('been', 'VERB'), ('exceptionally', 'ADV'), ('good', 'ADJ'), ('returns', 'NOUN'), ('in', 'ADP'), ('Ms.', 'NOUN'), ('Kirkpatrick', 'NOUN'), (',', '.'), ('the', 'DET'), ('Journal', 'NOUN'), (\"'s\", 'PRT'), ('deputy', 'NOUN'), ('editorial', 'NOUN'), ('features', 'NOUN'), ('editor', 'NOUN'), (',', '.'), ('worked', 'VERB'), ('in', 'ADP'), ('Tokyo', 'NOUN'), ('for', 'ADP'), ('three', 'NUM'), ('years', 'NOUN'), ('.', '.'), ('Also', 'ADV'), (',', '.'), ('Mr.', 'NOUN'), ('Otero', 'NOUN'), ('was', 'VERB'), ('barred', 'VERB'), ('*-154', 'X'), ('from', 'ADP'), ('association', 'NOUN'), ('with', 'ADP'), ('any', 'DET'), ('NASD', 'NOUN'), ('member', 'NOUN'), ('.', '.'), ('Sumitomo', 'NOUN'), ('Metal', 'NOUN'), ('Mining', 'NOUN'), ('fell', 'VERB'), ('five', 'NUM'), ('yen', 'NOUN'), ('to', 'PRT'), ('692', 'VERB'), ('and', 'CONJ'), ('Nippon', 'NOUN'), ('Mining', 'NOUN'), ('added', 'VERB'), ('15', 'NUM'), ('to', 'PRT'), ('960', 'VERB'), ('.', '.'), ('Prosecutors', 'NOUN'), ('need', 'VERB'), ('court', 'NOUN'), ('permission', 'NOUN'), ('*-1', 'X'), ('to', 'PRT'), ('obtain', 'VERB'), ('the', 'DET'), ('tax', 'NOUN'), ('returns', 'NOUN'), ('of', 'ADP'), ('an', 'DET'), ('individual', 'ADJ'), ('or', 'CONJ'), ('a', 'DET'), ('business', 'NOUN'), ('.', '.'), ('The', 'DET'), ('Purchasing', 'NOUN'), ('Management', 'NOUN'), ('Association', 'NOUN'), ('of', 'ADP'), ('Chicago', 'NOUN'), (\"'s\", 'PRT'), ('October', 'NOUN'), ('index', 'NOUN'), ('rose', 'VERB'), ('to', 'PRT'), ('51.6', 'VERB'), ('%', 'NOUN'), ('after', 'ADP'), ('three', 'NUM'), ('previous', 'ADJ'), ('months', 'NOUN'), ('of', 'ADP'), ('readings', 'DET'), ('below', 'ADP'), ('50', 'NUM'), ('%', 'NOUN'), ('.', '.'), ('Among', 'ADP'), ('the', 'DET'), ('lot', 'NOUN'), ('of', 'ADP'), ('them', 'PRON'), (',', '.'), ('not', 'ADV'), ('one', 'NUM'), ('is', 'VERB'), ('wrestling', 'X'), ('with', 'ADP'), ('good', 'ADJ'), ('and', 'CONJ'), ('evil', 'ADJ'), (',', '.'), ('or', 'CONJ'), ('especially', 'ADV'), ('intelligent', 'VERB'), ('or', 'CONJ'), ('even', 'ADV'), ('temporarily', 'ADV'), ('insane', 'VERB'), ('.', '.'), ('They', 'PRON'), ('take', 'VERB'), ('place', 'NOUN'), ('in', 'ADP'), ('government', 'NOUN'), ('programs', 'NOUN'), ('that', 'ADP'), ('*T*-1', 'X'), ('seem', 'VERB'), ('tailor-made', 'X'), ('for', 'ADP'), ('corruption', 'NOUN'), ('.', '.'), ('But', 'CONJ'), ('some', 'DET'), ('investors', 'NOUN'), ('have', 'VERB'), ('used', 'VERB'), ('such', 'ADJ'), ('filings', 'NOUN'), ('*-1', 'X'), ('to', 'PRT'), ('boost', 'VERB'), ('the', 'DET'), ('value', 'NOUN'), ('of', 'ADP'), ('their', 'PRON'), ('stock', 'NOUN'), ('holdings', 'NOUN'), (',', '.'), ('which', 'DET'), ('--', '.'), ('without', 'ADP'), ('*-2', 'X'), ('buying', 'VERB'), ('more', 'ADV'), ('stock', 'NOUN'), ('--', '.'), ('they', 'PRON'), ('then', 'ADV'), ('sold', 'VERB'), ('*T*-3', 'X'), ('.', '.'), ('The', 'DET'), ('purhasing', 'NOUN'), ('managers', 'NOUN'), (\"'\", 'PRT'), ('report', 'VERB'), ('also', 'ADV'), ('added', 'VERB'), ('evidence', 'NOUN'), ('that', 'ADP'), ('inflation', 'NOUN'), ('is', 'VERB'), ('under', 'ADP'), ('control', 'NOUN'), ('.', '.'), ('I', 'PRON'), ('mention', 'VERB'), ('the', 'DET'), ('picture', 'NOUN'), ('only', 'ADV'), ('because', 'ADP'), ('many', 'ADJ'), ('bad', 'ADJ'), ('movies', 'NOUN'), ('have', 'VERB'), ('a', 'DET'), ('bright', 'ADJ'), ('spot', 'NOUN'), (',', '.'), ('and', 'CONJ'), ('this', 'DET'), ('one', 'NUM'), ('has', 'VERB'), ('Gregory', 'NOUN'), ('Peck', 'NOUN'), (',', '.'), ('in', 'ADP'), ('a', 'DET'), ('marvelously', 'NOUN'), ('loose', 'NOUN'), ('and', 'CONJ'), ('energetic', 'ADJ'), ('portrayal', 'NOUN'), ('of', 'ADP'), ('an', 'DET'), ('old', 'ADJ'), ('man', 'NOUN'), ('who', 'PRON'), ('*T*-71', 'X'), ('wants', 'VERB'), ('*-1', 'X'), ('to', 'PRT'), ('die', 'VERB'), ('the', 'DET'), ('way', 'NOUN'), ('0', 'X'), ('he', 'PRON'), ('wants', 'VERB'), ('*-2', 'X'), ('to', 'PRT'), ('die', 'VERB'), ('*T*-3', 'X'), ('.', '.'), ('The', 'DET'), ('company', 'NOUN'), (\"'s\", 'PRT'), ('work', 'VERB'), ('force', 'VERB'), ('will', 'VERB'), ('fall', 'VERB'), ('to', 'PRT'), ('about', 'ADP'), ('400', 'NUM'), ('people', 'NOUN'), ('.', '.'), ('Cataracts', 'NOUN'), ('refer', 'NOUN'), ('to', 'PRT'), ('a', 'DET'), ('clouding', 'NOUN'), ('of', 'ADP'), ('the', 'DET'), ('eye', 'NOUN'), (\"'s\", 'PRT'), ('natural', 'ADJ'), ('lens', 'NOUN'), ('.', '.'), ('The', 'DET'), ('securities', 'NOUN'), ('0', 'X'), ('*T*-1', 'X'), ('to', 'PRT'), ('be', 'VERB'), ('sold', 'VERB'), ('*-107', 'X'), ('next', 'ADJ'), ('week', 'NOUN'), ('will', 'VERB'), ('raise', 'VERB'), ('about', 'ADP'), ('$', '.'), ('10', 'NUM'), ('billion', 'NUM'), ('*U*', 'X'), ('in', 'ADP'), ('cash', 'NOUN'), ('and', 'CONJ'), ('redeem', 'VERB'), ('$', '.'), ('20', 'NUM'), ('billion', 'NUM'), ('*U*', 'X'), ('in', 'ADP'), ('maturing', 'DET'), ('notes', 'NOUN'), ('.', '.'), ('Despite', 'ADP'), ('the', 'DET'), ('enormous', 'ADJ'), ('sums', 'NOUN'), ('of', 'ADP'), ('money', 'NOUN'), ('0', 'X'), ('they', 'PRON'), (\"'re\", 'VERB'), ('paid', 'VERB'), ('*T*-1', 'X'), ('*-2', 'X'), ('to', 'PRT'), ('stand', 'VERB'), ('up', 'ADV'), ('at', 'ADP'), ('a', 'DET'), ('Japanese', 'ADJ'), ('plate', 'NOUN'), (',', '.'), ('a', 'DET'), ('good', 'ADJ'), ('number', 'NOUN'), ('decide', 'VERB'), ('0', 'X'), ('it', 'PRON'), (\"'s\", 'VERB'), ('not', 'ADV'), ('worth', 'ADJ'), ('it', 'PRON'), ('and', 'CONJ'), ('run', 'VERB'), ('for', 'ADP'), ('home', 'NOUN'), ('.', '.'), ('Ringers', 'NOUN'), (',', '.'), ('she', 'PRON'), ('added', 'VERB'), ('0', 'X'), ('*T*-2', 'X'), (',', '.'), ('are', 'VERB'), ('``', '.'), ('filled', 'NOUN'), ('*-1', 'X'), ('with', 'ADP'), ('the', 'DET'), ('solemn', 'NOUN'), ('intoxication', 'NOUN'), ('that', 'ADP'), ('*T*-226', 'DET'), ('comes', 'VERB'), ('of', 'ADP'), ('intricate', 'DET'), ('ritual', 'NOUN'), ('faultlessly', 'NOUN'), ('performed', 'VERB'), ('*', 'X'), ('.', '.'), (\"''\", '.'), ('He', 'PRON'), ('says', 'VERB'), ('0', 'X'), ('Campbell', 'NOUN'), ('was', 'VERB'), (\"n't\", 'ADV'), ('even', 'ADV'), ('contacted', 'VERB'), ('*-1', 'X'), ('by', 'ADP'), ('the', 'DET'), ('magazine', 'NOUN'), ('for', 'ADP'), ('the', 'DET'), ('opportunity', 'NOUN'), ('*', 'X'), ('to', 'PRT'), ('comment', 'VERB'), ('.', '.'), ('We', 'PRON'), (\"'re\", 'VERB'), ('talking', 'VERB'), ('about', 'ADP'), ('years', 'NOUN'), ('ago', 'ADP'), ('before', 'ADP'), ('anyone', 'NOUN'), ('heard', 'VERB'), ('of', 'ADP'), ('asbestos', 'NOUN'), ('having', 'VERB'), ('any', 'DET'), ('questionable', 'ADJ'), ('properties', 'NOUN'), ('.', '.'), ('Indexing', 'NOUN'), ('--', '.'), ('Many', 'ADJ'), ('investors', 'NOUN'), (',', '.'), ('mainly', 'ADV'), ('institutions', 'NOUN'), (',', '.'), ('follow', 'VERB'), ('an', 'DET'), ('investment', 'NOUN'), ('strategy', 'NOUN'), ('of', 'ADP'), ('*', 'X'), ('buying', 'VERB'), ('and', 'CONJ'), ('holding', 'VERB'), ('a', 'DET'), ('mix', 'NOUN'), ('of', 'ADP'), ('stocks', 'NOUN'), ('0', 'X'), ('*T*-1', 'X'), ('to', 'PRT'), ('match', 'VERB'), ('the', 'DET'), ('performance', 'NOUN'), ('of', 'ADP'), ('a', 'DET'), ('broad', 'ADJ'), ('stock-market', 'NOUN'), ('barometer', 'NOUN'), ('such', 'ADJ'), ('as', 'ADP'), ('the', 'DET'), ('S&P', 'NOUN'), ('500', 'NUM'), ('.', '.'), ('You', 'PRON'), ('will', 'VERB'), ('not', 'ADV'), ('panic', 'NOUN'), (',', '.'), ('``', '.'), ('I', 'PRON'), (\"'ve\", 'VERB'), ('never', 'ADV'), ('seen', 'VERB'), ('so', 'ADV'), ('many', 'ADJ'), ('people', 'NOUN'), ('crying', 'NOUN'), ('in', 'ADP'), ('one', 'NUM'), ('place', 'NOUN'), ('at', 'ADP'), ('one', 'NUM'), ('time', 'NOUN'), (',', '.'), (\"''\", '.'), ('said', 'VERB'), ('*T*-1', 'X'), ('Bill', 'NOUN'), ('Johnson', 'NOUN'), (',', '.'), ('an', 'DET'), ('assistant', 'NOUN'), ('city', 'NOUN'), ('editor', 'NOUN'), ('.', '.'), ('At', 'ADP'), ('St.', 'NOUN'), ('Mary', 'NOUN'), (\"'s\", 'PRT'), ('Church', 'NOUN'), ('in', 'ADP'), ('Ilminster', 'DET'), (',', '.'), ('Somerset', 'NOUN'), (',', '.'), ('the', 'DET'), ('bells', 'NOUN'), ('have', 'VERB'), ('fallen', 'VERB'), ('*-1', 'X'), ('silent', 'ADJ'), ('following', 'NOUN'), ('a', 'DET'), ('dust-up', 'NOUN'), ('over', 'ADP'), ('church', 'NOUN'), ('attendance', 'NOUN'), ('.', '.'), ('The', 'DET'), ('Fed', 'NOUN'), ('cut', 'VERB'), ('the', 'DET'), ('key', 'ADJ'), ('federal', 'ADJ'), ('funds', 'NOUN'), ('interest', 'NOUN'), ('rate', 'NOUN'), ('by', 'ADP'), ('about', 'ADP'), ('0.25', 'NUM'), ('percentage', 'NOUN'), ('point', 'NOUN'), ('to', 'PRT'), ('8.75', 'VERB'), ('%', 'NOUN'), ('after', 'ADP'), ('the', 'DET'), ('Oct.', 'NOUN'), ('13', 'NUM'), ('stock', 'NOUN'), ('market', 'NOUN'), ('plunge', 'NOUN'), (',', '.'), ('but', 'CONJ'), ('has', 'VERB'), ('shown', 'X'), ('no', 'DET'), ('sign', 'NOUN'), ('of', 'ADP'), ('movement', 'NOUN'), ('since', 'ADP'), ('.', '.'), ('Video', 'NOUN'), ('Tip', 'NOUN'), (':', '.'), ('Before', 'ADP'), ('*-1', 'X'), ('seeing', 'VERB'), ('``', '.'), ('Sidewalk', 'NOUN'), ('Stories', 'NOUN'), (',', '.'), (\"''\", '.'), ('*', 'X'), ('take', 'VERB'), ('a', 'DET'), ('look', 'NOUN'), ('at', 'ADP'), ('``', '.'), ('City', 'NOUN'), ('Lights', 'NOUN'), (',', '.'), (\"''\", '.'), ('Chaplin', 'NOUN'), (\"'s\", 'PRT'), ('Tramp', 'NOUN'), ('at', 'ADP'), ('his', 'PRON'), ('finest', 'VERB'), ('.', '.'), ('Primerica', 'NOUN'), (',', '.'), ('which', 'DET'), ('*T*-1', 'X'), ('had', 'VERB'), ('owned', 'VERB'), ('nearly', 'ADV'), ('70', 'NUM'), ('%', 'NOUN'), ('of', 'ADP'), ('Williams', 'NOUN'), (',', '.'), ('will', 'VERB'), ('pay', 'VERB'), ('about', 'ADP'), ('16.7', 'NUM'), ('million', 'NUM'), ('shares', 'NOUN'), (',', '.'), ('currently', 'ADV'), ('valued', 'VERB'), ('*', 'X'), ('at', 'ADP'), ('almost', 'ADV'), ('$', '.'), ('472', 'NOUN'), ('million', 'NUM'), ('*U*', 'X'), (',', '.'), ('for', 'ADP'), ('the', 'DET'), ('rest', 'NOUN'), ('of', 'ADP'), ('Williams', 'NOUN'), ('.', '.'), ('``', '.'), ('That', 'DET'), ('pretty', 'ADV'), ('much', 'ADV'), ('defeats', 'VERB'), ('any', 'DET'), ('inkling', 'NOUN'), ('that', 'ADP'), ('she', 'PRON'), ('was', 'VERB'), ('out', 'PRT'), ('*-1', 'X'), ('to', 'PRT'), ('help', 'VERB'), ('the', 'DET'), ('poor', 'ADJ'), ('underprivileged', 'NOUN'), ('child', 'NOUN'), (',', '.'), (\"''\", '.'), ('says', 'VERB'), ('Joe', 'NOUN'), ('Watson', 'NOUN'), (',', '.'), ('the', 'DET'), ('prosecutor', 'NOUN'), ('in', 'ADP'), ('the', 'DET'), ('case', 'NOUN'), (',', '.'), ('who', 'PRON'), ('*T*-96', 'VERB'), ('is', 'VERB'), ('also', 'ADV'), ('president', 'NOUN'), ('of', 'ADP'), ('Greenville', 'NOUN'), ('High', 'NOUN'), ('School', 'NOUN'), (\"'s\", 'PRT'), ('alumni', 'VERB'), ('association', 'NOUN'), ('.', '.'), ('The', 'DET'), ('competition', 'NOUN'), ('has', 'VERB'), ('cultivated', 'X'), ('a', 'DET'), ('much', 'ADJ'), ('savvier', 'NOUN'), ('consumer', 'NOUN'), ('.', '.'), ('But', 'CONJ'), ('it', 'PRON'), ('does', 'VERB'), (\"n't\", 'ADV'), ('take', 'VERB'), ('much', 'ADV'), ('*', 'X'), ('to', 'PRT'), ('get', 'VERB'), ('burned', 'X'), ('*-1', 'X'), ('.', '.'), ('The', 'DET'), ('target', 'NOUN'), ('of', 'ADP'), ('their', 'PRON'), ('wrath', 'VERB'), ('?', '.'), ('The', 'DET'), ('Soviets', 'NOUN'), (',', '.'), ('who', 'PRON'), ('*T*-12', 'X'), ('normally', 'ADV'), ('have', 'VERB'), ('few', 'ADJ'), ('clients', 'NOUN'), ('other', 'ADJ'), ('than', 'ADP'), ('the', 'DET'), ('state', 'NOUN'), (',', '.'), ('will', 'VERB'), ('get', 'VERB'), ('``', '.'), ('exposure', 'NOUN'), ('to', 'PRT'), ('a', 'DET'), ('market', 'NOUN'), ('system', 'NOUN'), (',', '.'), (\"''\", '.'), ('he', 'PRON'), ('says', 'VERB'), ('0', 'X'), ('*T*-1', 'X'), ('.', '.'), ('Rep.', 'NOUN'), ('Jerry', 'NOUN'), ('Lewis', 'NOUN'), (',', '.'), ('a', 'DET'), ('conservative', 'ADJ'), ('Californian', 'NOUN'), (',', '.'), ('added', 'VERB'), ('a', 'DET'), ('provision', 'NOUN'), ('of', 'ADP'), ('his', 'PRON'), ('own', 'ADJ'), ('intended', 'VERB'), ('*', 'X'), ('to', 'PRT'), ('assist', 'VERB'), ('Bolivia', 'X'), (',', '.'), ('and', 'CONJ'), ('the', 'DET'), ('Senate', 'NOUN'), ('then', 'ADV'), ('broadened', 'VERB'), ('the', 'DET'), ('list', 'NOUN'), ('further', 'ADV'), ('by', 'ADP'), ('*-1', 'X'), ('including', 'VERB'), ('all', 'DET'), ('countries', 'NOUN'), ('in', 'ADP'), ('the', 'DET'), ('U.S.', 'NOUN'), ('Caribbean', 'NOUN'), ('Basin', 'NOUN'), ('initiate', 'NOUN'), ('as', 'ADP'), ('well', 'ADV'), ('as', 'ADP'), ('the', 'DET'), ('Philippines', 'NOUN'), ('-', '.'), ('*-1', 'X'), ('backed', 'VERB'), ('*', 'X'), ('by', 'ADP'), ('the', 'DET'), ('powerful', 'ADJ'), ('Hawaii', 'NOUN'), ('Democrat', 'NOUN'), ('Sen.', 'NOUN'), ('Daniel', 'NOUN'), ('Inouye', 'NOUN'), ('.', '.'), ('Maxwell', 'NOUN'), ('R.D.', 'NOUN'), ('Vos', 'NOUN'), ('Brooklyn', 'NOUN'), (',', '.'), ('N.Y', 'NOUN'), ('.', '.'), ('But', 'CONJ'), ('its', 'PRON'), ('purchases', 'NOUN'), ('apparently', 'ADV'), ('were', 'VERB'), ('delayed', 'X'), ('*-1', 'X'), ('by', 'ADP'), ('a', 'DET'), ('reorganization', 'NOUN'), ('of', 'ADP'), ('its', 'PRON'), ('agricultural', 'ADJ'), ('bureaucracy', 'NOUN'), ('as', 'ADP'), ('well', 'ADV'), ('as', 'ADP'), ('budget', 'NOUN'), ('problems', 'NOUN'), ('.', '.'), ('Above', 'NOUN'), ('all', 'DET'), (',', '.'), ('Mr.', 'NOUN'), ('Oxnard', 'NOUN'), ('noted', 'VERB'), ('0', 'X'), ('*T*-1', 'X'), (',', '.'), ('the', 'DET'), ('situation', 'NOUN'), ('is', 'VERB'), ('extremely', 'ADV'), ('confused', 'ADJ'), ('.', '.'), ('You', 'PRON'), ('look', 'VERB'), ('around', 'ADP'), ('at', 'ADP'), ('professional', 'ADJ'), ('ballplayers', 'NOUN'), ('or', 'CONJ'), ('accountants', 'NOUN'), ('...', '.'), ('and', 'CONJ'), ('nobody', 'NOUN'), ('blinks', 'NOUN'), ('an', 'DET'), ('eye', 'NOUN'), ('.', '.'), ('Volume', 'NOUN'), ('in', 'ADP'), ('the', 'DET'), ('second', 'ADJ'), ('section', 'NOUN'), ('was', 'VERB'), ('estimated', 'VERB'), ('*-1', 'X'), ('at', 'ADP'), ('18', 'NUM'), ('million', 'NUM'), ('shares', 'NOUN'), (',', '.'), ('up', 'ADV'), ('from', 'ADP'), ('14', 'NUM'), ('million', 'NUM'), ('Tuesday', 'NOUN'), ('.', '.'), ('A', 'DET'), ('federal', 'ADJ'), ('appeals', 'NOUN'), ('court', 'NOUN'), ('upheld', 'VERB'), ('a', 'DET'), ('lower', 'ADJ'), ('court', 'NOUN'), ('ruling', 'NOUN'), ('that', 'ADP'), ('the', 'DET'), ('U.S.', 'NOUN'), ('can', 'VERB'), ('bar', 'NOUN'), ('the', 'DET'), ('use', 'NOUN'), ('of', 'ADP'), ('federal', 'ADJ'), ('funds', 'NOUN'), ('for', 'ADP'), ('family-planning', 'ADJ'), ('programs', 'NOUN'), ('that', 'ADP'), ('*T*-1', 'X'), ('include', 'VERB'), ('abortion-related', 'X'), ('services', 'NOUN'), ('.', '.'), ('Prudential-Bache', 'NOUN'), ('Securities', 'NOUN'), ('boosted', 'VERB'), ('the', 'DET'), ('stock', 'NOUN'), (\"'s\", 'PRT'), ('short-term', 'ADJ'), ('investment', 'NOUN'), ('rating', 'NOUN'), ('in', 'ADP'), ('response', 'NOUN'), ('to', 'PRT'), ('the', 'DET'), ('departure', 'NOUN'), (';', '.'), ('analyst', 'NOUN'), ('John', 'NOUN'), ('McMillin', 'NOUN'), ('said', 'VERB'), ('0', 'X'), ('he', 'PRON'), ('believes', 'VERB'), ('0', 'X'), ('the', 'DET'), ('company', 'NOUN'), ('will', 'VERB'), ('turn', 'VERB'), ('to', 'PRT'), ('new', 'ADJ'), ('management', 'NOUN'), ('``', '.'), ('that', 'DET'), ('*T*-1', 'X'), (\"'s\", 'PRT'), ('more', 'ADJ'), ('financially', 'ADV'), ('oriented', 'VERB'), ('.', '.'), (\"''\", '.'), ('*-1', 'X'), ('To', 'PRT'), ('further', 'ADJ'), ('load', 'NOUN'), ('the', 'DET'), ('stakes', 'NOUN'), (',', '.'), ('Mr.', 'NOUN'), ('Lane', 'NOUN'), ('dreamed', 'NOUN'), ('up', 'PRT'), ('a', 'DET'), ('highly', 'ADV'), ('improbable', 'VERB'), ('romance', 'NOUN'), ('for', 'ADP'), ('the', 'DET'), ('Artist', 'NOUN'), (',', '.'), ('with', 'ADP'), ('a', 'DET'), ('young', 'ADJ'), ('woman', 'NOUN'), ('who', 'PRON'), ('*T*-68', 'X'), ('owns', 'VERB'), ('her', 'PRON'), ('own', 'ADJ'), ('children', 'NOUN'), (\"'s\", 'PRT'), ('shop', 'VERB'), ('and', 'CONJ'), ('who', 'PRON'), ('*T*-69', 'X'), ('lives', 'VERB'), ('in', 'ADP'), ('an', 'DET'), ('expensive', 'ADJ'), ('high-rise', 'NOUN'), ('apartment', 'NOUN'), ('building', 'NOUN'), ('.', '.'), ('*', 'X'), ('Do', 'VERB'), (\"n't\", 'ADV'), ('wait', 'VERB'), ('--', '.'), ('a', 'DET'), ('savings', 'NOUN'), ('institution', 'NOUN'), ('needs', 'VERB'), ('your', 'PRON'), ('help', 'VERB'), ('now', 'ADV'), ('!', '.'), ('The', 'DET'), ('magazine', 'NOUN'), (\"'s\", 'PRT'), ('editors', 'NOUN'), ('ran', 'VERB'), ('a', 'DET'), ('giant', 'ADJ'), ('diagram', 'NOUN'), ('of', 'ADP'), ('the', 'DET'), ('product', 'NOUN'), ('with', 'ADP'), ('arrows', 'DET'), ('pointing', 'VERB'), ('to', 'PRT'), ('the', 'DET'), ('packaging', 'NOUN'), (\"'s\", 'PRT'), ('polystyrene', 'VERB'), ('foam', 'X'), (',', '.'), ('polyproplene', 'NOUN'), ('and', 'CONJ'), ('polyester', 'NOUN'), ('film', 'NOUN'), ('--', '.'), ('all', 'DET'), ('plastic', 'ADJ'), ('items', 'NOUN'), ('0', 'X'), ('they', 'PRON'), ('say', 'VERB'), ('0', 'X'), ('*T*-1', 'X'), ('are', 'VERB'), ('non-biodegradable', 'X'), ('.', '.'), ('Still', 'ADV'), (',', '.'), ('many', 'ADJ'), ('economists', 'NOUN'), ('are', 'VERB'), (\"n't\", 'ADV'), ('predicting', 'VERB'), ('a', 'DET'), ('recession', 'NOUN'), ('anytime', 'ADV'), ('soon', 'ADV'), ('.', '.'), ('Mrs.', 'NOUN'), ('Ward', 'NOUN'), ('took', 'VERB'), ('over', 'ADP'), ('in', 'ADP'), ('1986', 'NUM'), (',', '.'), ('*-1', 'X'), ('becoming', 'VERB'), ('the', 'DET'), ('school', 'NOUN'), (\"'s\", 'PRT'), ('seventh', 'VERB'), ('principal', 'ADJ'), ('in', 'ADP'), ('15', 'NUM'), ('years', 'NOUN'), ('.', '.'), ('The', 'DET'), (\"'82\", 'NOUN'), ('Salon', 'NOUN'), ('is', 'VERB'), ('$', '.'), ('115', 'NOUN'), ('*U*', 'X'), ('.', '.'), ('Researchers', 'NOUN'), ('at', 'ADP'), ('American', 'ADJ'), ('Telephone', 'NOUN'), ('&', 'CONJ'), ('Telegraph', 'NOUN'), ('Co.', 'NOUN'), (\"'s\", 'PRT'), ('Bell', 'NOUN'), ('Laboratories', 'NOUN'), ('reported', 'VERB'), ('0', 'X'), ('they', 'PRON'), ('raised', 'VERB'), ('the', 'DET'), ('electrical', 'ADJ'), ('current-carrying', 'ADJ'), ('capacity', 'NOUN'), ('of', 'ADP'), ('new', 'ADJ'), ('superconductor', 'NOUN'), ('crystals', 'NOUN'), ('by', 'ADP'), ('a', 'DET'), ('factor', 'NOUN'), ('of', 'ADP'), ('100', 'NUM'), (',', '.'), ('*-1', 'X'), ('moving', 'VERB'), ('the', 'DET'), ('materials', 'NOUN'), ('closer', 'ADV'), ('to', 'PRT'), ('commercial', 'ADJ'), ('use', 'NOUN'), ('.', '.'), ('We', 'PRON'), ('got', 'VERB'), ('our', 'PRON'), ('two', 'NUM'), ('six-packs', 'NOUN'), ('--', '.'), ('and', 'CONJ'), ('they', 'PRON'), (\"'re\", 'VERB'), ('gone', 'VERB'), ('.', '.'), (\"''\", '.'), ('``', '.'), ('The', 'DET'), ('big', 'ADJ'), ('problem', 'NOUN'), ('is', 'VERB'), ('that', 'ADP'), ('USX', 'NOUN'), ('management', 'NOUN'), ('has', 'VERB'), ('proved', 'VERB'), ('*-1', 'X'), ('unwilling', 'VERB'), ('*-2', 'X'), ('to', 'PRT'), ('devote', 'VERB'), ('the', 'DET'), ('necessary', 'ADJ'), ('resources', 'NOUN'), ('and', 'CONJ'), ('manpower', 'NOUN'), ('to', 'PRT'), ('*', 'X'), ('removing', 'VERB'), ('hazards', 'NOUN'), ('and', 'CONJ'), ('to', 'PRT'), ('*', 'X'), ('safeguarding', 'VERB'), ('safety', 'NOUN'), ('and', 'CONJ'), ('health', 'NOUN'), ('in', 'ADP'), ('the', 'DET'), ('plants', 'NOUN'), (',', '.'), (\"''\", '.'), ('said', 'VERB'), ('*T*-3', 'X'), ('Linda', 'NOUN'), ('Anku', 'NOUN'), (',', '.'), ('OSHA', 'NOUN'), ('regional', 'ADJ'), ('administrator', 'NOUN'), ('in', 'ADP'), ('Philadelphia', 'NOUN'), ('.', '.'), ('Ketchum', 'NOUN'), ('Communications', 'NOUN'), (',', '.'), ('Pittsburgh', 'NOUN'), (',', '.'), ('acquired', 'VERB'), ('Braun', 'X'), ('&', 'CONJ'), ('Co.', 'NOUN'), (',', '.'), ('a', 'DET'), ('Los', 'NOUN'), ('Angeles', 'NOUN'), ('investor-relations', 'NOUN'), ('and', 'CONJ'), ('marketing-communications', 'NOUN'), ('firm', 'NOUN'), ('.', '.'), ('He', 'PRON'), ('said', 'VERB'), ('0', 'X'), ('the', 'DET'), ('exchange', 'NOUN'), ('is', 'VERB'), ('``', '.'), ('headed', 'NOUN'), ('for', 'ADP'), ('a', 'DET'), ('real', 'ADJ'), ('crisis', 'NOUN'), (\"''\", '.'), ('if', 'ADP'), ('program', 'NOUN'), ('trading', 'NOUN'), ('is', 'VERB'), (\"n't\", 'ADV'), ('curbed', 'VERB'), ('*-1', 'X'), ('.', '.'), ('-LRB-', '.'), ('Few', 'ADJ'), (',', '.'), ('if', 'ADP'), ('any', 'DET'), (',', '.'), ('index-fund', 'NOUN'), ('managers', 'NOUN'), ('will', 'VERB'), ('risk', 'VERB'), ('*-1', 'X'), ('leveraging', 'VERB'), ('performance', 'NOUN'), ('by', 'ADP'), ('*-1', 'X'), ('owning', 'VERB'), ('more', 'ADV'), ('than', 'ADP'), ('100', 'NUM'), ('%', 'NOUN'), ('exposure', 'NOUN'), ('to', 'PRT'), ('stocks', 'NOUN'), (',', '.'), ('and', 'CONJ'), ('equally', 'ADV'), ('few', 'ADJ'), ('will', 'VERB'), ('want', 'VERB'), ('*-2', 'X'), ('to', 'PRT'), ('own', 'ADJ'), ('less', 'ADJ'), ('than', 'ADP'), ('a', 'DET'), ('100', 'NUM'), ('%', 'NOUN'), ('position', 'NOUN'), ('should', 'VERB'), ('stocks', 'NOUN'), ('rise', 'VERB'), ('.', '.'), ('-RRB-', '.'), ('The', 'DET'), ('Polish', 'ADJ'), ('government', 'NOUN'), ('increased', 'VERB'), ('home', 'NOUN'), ('electricity', 'NOUN'), ('charges', 'NOUN'), ('by', 'ADP'), ('150', 'NUM'), ('%', 'NOUN'), ('and', 'CONJ'), ('doubled', 'VERB'), ('gas', 'NOUN'), ('prices', 'NOUN'), ('.', '.'), ('Hearst', 'NOUN'), ('had', 'VERB'), ('flirted', 'X'), ('with', 'ADP'), ('a', 'DET'), ('conversion', 'NOUN'), ('to', 'PRT'), ('tabloid', 'ADJ'), ('format', 'NOUN'), ('for', 'ADP'), ('years', 'NOUN'), ('but', 'CONJ'), ('never', 'ADV'), ('executed', 'VERB'), ('the', 'DET'), ('plan', 'NOUN'), ('.', '.'), ('Other', 'ADJ'), ('major', 'ADJ'), ('Japanese', 'ADJ'), ('computer', 'NOUN'), ('companies', 'NOUN'), ('contacted', 'VERB'), ('*', 'X'), ('yesterday', 'NOUN'), ('said', 'VERB'), ('0', 'X'), ('they', 'PRON'), ('have', 'VERB'), ('never', 'ADV'), ('made', 'VERB'), ('such', 'ADJ'), ('bids', 'NOUN'), ('.', '.'), ('Many', 'ADJ'), ('auto', 'NOUN'), ('dealers', 'NOUN'), ('now', 'ADV'), ('let', 'VERB'), ('car', 'NOUN'), ('buyers', 'NOUN'), ('charge', 'NOUN'), ('part', 'NOUN'), ('or', 'CONJ'), ('all', 'DET'), ('of', 'ADP'), ('their', 'PRON'), ('purchase', 'NOUN'), ('on', 'ADP'), ('the', 'DET'), ('American', 'ADJ'), ('Express', 'NOUN'), ('card', 'NOUN'), (',', '.'), ('but', 'CONJ'), ('few', 'ADJ'), ('card', 'NOUN'), ('holders', 'NOUN'), ('realize', 'VERB'), ('this', 'DET'), (',', '.'), ('Mr.', 'NOUN'), ('Riese', 'NOUN'), ('says', 'VERB'), ('0', 'X'), ('*T*-1', 'X'), ('.', '.'), ('Virginia', 'NOUN'), (':', '.'), ('But', 'CONJ'), ('the', 'DET'), ('Army', 'NOUN'), ('Corps', 'NOUN'), ('of', 'ADP'), ('Engineers', 'NOUN'), ('expects', 'VERB'), ('the', 'DET'), ('river', 'NOUN'), ('level', 'NOUN'), ('to', 'PRT'), ('continue', 'VERB'), ('*-1', 'X'), ('falling', 'VERB'), ('this', 'DET'), ('month', 'NOUN'), ('.', '.'), ('``', '.'), ('What', 'PRON'), ('*T*-14', 'X'), ('matters', 'NOUN'), ('is', 'VERB'), ('what', 'PRON'), ('advertisers', 'NOUN'), ('are', 'VERB'), ('paying', 'VERB'), ('*T*-15', 'X'), ('per', 'ADP'), ('page', 'NOUN'), (',', '.'), ('and', 'CONJ'), ('in', 'ADP'), ('that', 'DET'), ('department', 'NOUN'), ('we', 'PRON'), ('are', 'VERB'), ('doing', 'VERB'), ('fine', 'NOUN'), ('this', 'DET'), ('fall', 'NOUN'), (',', '.'), (\"''\", '.'), ('said', 'VERB'), ('*T*-1', 'X'), ('Mr.', 'NOUN'), ('Spoon', 'NOUN'), ('.', '.'), ('Hudson', 'NOUN'), ('General', 'NOUN'), ('Corp.', 'NOUN'), (\"'s\", 'PRT'), ('president', 'NOUN'), ('and', 'CONJ'), ('chief', 'NOUN'), ('executive', 'NOUN'), ('officer', 'NOUN'), (',', '.'), ('Alan', 'NOUN'), ('J.', 'NOUN'), ('Stearn', 'NOUN'), (',', '.'), ('resigned', 'VERB'), ('.', '.'), ('Also', 'ADV'), (',', '.'), ('Mr.', 'NOUN'), ('Vargas', 'NOUN'), ('was', 'VERB'), ('barred', 'VERB'), ('*-152', 'X'), ('from', 'ADP'), ('association', 'NOUN'), ('with', 'ADP'), ('any', 'DET'), ('NASD', 'NOUN'), ('member', 'NOUN'), ('.', '.'), ('Bell', 'NOUN'), (\"'s\", 'PRT'), ('father-in-law', 'VERB'), (',', '.'), ('Gardner', 'NOUN'), ('G.', 'NOUN'), ('Hubbard', 'NOUN'), (',', '.'), ('wealthy', 'NOUN'), ('and', 'CONJ'), ('well-connected', 'NOUN'), (',', '.'), ('obtained', 'VERB'), ('financing', 'VERB'), ('0', 'X'), ('*T*-1', 'X'), ('to', 'PRT'), ('start', 'VERB'), ('the', 'DET'), ('American', 'ADJ'), ('Bell', 'NOUN'), ('Telephone', 'NOUN'), ('Co.', 'NOUN'), ('in', 'ADP'), ('Boston', 'NOUN'), (',', '.'), ('which', 'DET'), ('*T*-2', 'X'), ('even', 'ADV'), ('had', 'VERB'), ('a', 'DET'), ('subsidiary', 'NOUN'), ('in', 'ADP'), ('New', 'NOUN'), ('York', 'NOUN'), ('called', 'VERB'), ('*', 'X'), ('the', 'DET'), ('Telephone', 'NOUN'), ('Co.', 'NOUN'), ('of', 'ADP'), ('New', 'NOUN'), ('York', 'NOUN'), ('.', '.'), ('But', 'CONJ'), ('to', 'PRT'), ('Moon', 'VERB'), ('Landrieu', 'X'), (',', '.'), ('the', 'DET'), ('former', 'ADJ'), ('New', 'NOUN'), ('Orleans', 'NOUN'), ('mayor', 'NOUN'), ('who', 'PRON'), ('*T*-1', 'X'), ('helped', 'VERB'), ('*-3', 'X'), ('build', 'VERB'), ('that', 'ADP'), ('city', 'NOUN'), (\"'s\", 'PRT'), ('cavernous', 'VERB'), (',', '.'), ('money-losing', 'NOUN'), ('Superdome', 'NOUN'), (',', '.'), ('questions', 'NOUN'), ('of', 'ADP'), ('who', 'PRON'), ('*T*-2', 'X'), ('benefits', 'NOUN'), ('or', 'CONJ'), ('the', 'DET'), ('bottom', 'NOUN'), ('line', 'NOUN'), ('are', 'VERB'), ('of', 'ADP'), ('little', 'ADJ'), ('relevance', 'NOUN'), ('.', '.'), ('In', 'ADP'), ('Tokyo', 'NOUN'), ('Thursday', 'NOUN'), (',', '.'), ('the', 'DET'), ('U.S.', 'NOUN'), ('currency', 'NOUN'), ('opened', 'VERB'), ('for', 'ADP'), ('trading', 'NOUN'), ('at', 'ADP'), ('143.93', 'DET'), ('yen', 'NOUN'), (',', '.'), ('up', 'ADV'), ('from', 'ADP'), ('Wednesday', 'NOUN'), (\"'s\", 'PRT'), ('Tokyo', 'NOUN'), ('close', 'VERB'), ('of', 'ADP'), ('143.08', 'DET'), ('yen', 'NOUN'), ('.', '.'), ('Banks', 'NOUN'), ('could', 'VERB'), ('seek', 'VERB'), ('*-1', 'X'), ('to', 'PRT'), ('recover', 'VERB'), ('payments', 'NOUN'), ('to', 'PRT'), ('local', 'ADJ'), ('authorities', 'NOUN'), ('in', 'ADP'), ('instances', 'NOUN'), ('where', 'ADV'), ('the', 'DET'), ('banks', 'NOUN'), ('made', 'VERB'), ('net', 'ADJ'), ('payments', 'NOUN'), ('to', 'PRT'), ('councils', 'NOUN'), ('*T*-2', 'X'), ('.', '.'), ('He', 'PRON'), ('had', 'VERB'), ('been', 'VERB'), ('a', 'DET'), ('sales', 'NOUN'), ('and', 'CONJ'), ('marketing', 'NOUN'), ('executive', 'NOUN'), ('with', 'ADP'), ('Chrysler', 'NOUN'), ('for', 'ADP'), ('20', 'NUM'), ('years', 'NOUN'), ('.', '.'), ('A', 'DET'), ('spokesman', 'NOUN'), ('for', 'ADP'), ('the', 'DET'), ('state', 'NOUN'), (',', '.'), ('however', 'ADV'), (',', '.'), ('calls', 'VERB'), ('the', 'DET'), ('idea', 'NOUN'), ('``', '.'), ('not', 'ADV'), ('effective', 'ADJ'), ('or', 'CONJ'), ('cost', 'NOUN'), ('efficient', 'ADJ'), ('.', '.'), ('While', 'ADP'), ('the', 'DET'), ('new', 'ADJ'), ('proposal', 'NOUN'), ('might', 'VERB'), ('appeal', 'NOUN'), ('to', 'PRT'), ('the', 'DET'), ('dirtiest', 'ADJ'), ('utilities', 'NOUN'), (',', '.'), ('it', 'PRON'), ('might', 'VERB'), ('not', 'ADV'), ('win', 'VERB'), ('the', 'DET'), ('support', 'NOUN'), ('of', 'ADP'), ('utilities', 'NOUN'), (',', '.'), ('many', 'ADJ'), ('in', 'ADP'), ('the', 'DET'), ('West', 'NOUN'), (',', '.'), ('that', 'DET'), ('*T*-1', 'X'), ('already', 'ADV'), ('have', 'VERB'), ('added', 'VERB'), ('expensive', 'ADJ'), ('cleanup', 'NOUN'), ('equipment', 'NOUN'), ('or', 'CONJ'), ('burn', 'NOUN'), ('cleaner-burning', 'NOUN'), ('fuels', 'NOUN'), ('.', '.'), ('SCI', 'NOUN'), ('Systems', 'NOUN'), ('slipped', 'VERB'), ('7\\\\/8', 'NUM'), ('to', 'PRT'), ('10', 'NUM'), ('on', 'ADP'), ('volume', 'NOUN'), ('of', 'ADP'), ('858,000', 'DET'), ('shares', 'NOUN'), ('.', '.'), ('He', 'PRON'), ('also', 'ADV'), ('considers', 'VERB'), ('the', 'DET'), ('market', 'NOUN'), ('overvalued', 'NOUN'), ('and', 'CONJ'), ('cites', 'VERB'), ('the', 'DET'), ('troubles', 'NOUN'), ('in', 'ADP'), ('junk', 'NOUN'), ('bonds', 'NOUN'), ('.', '.'), ('Paris', 'NOUN'), (',', '.'), ('Brussels', 'NOUN'), (',', '.'), ('and', 'CONJ'), ('Milan', 'NOUN'), ('were', 'VERB'), ('closed', 'VERB'), ('for', 'ADP'), ('a', 'DET'), ('holiday', 'NOUN'), ('.', '.'), ('Such', 'ADJ'), ('laws', 'NOUN'), ('violate', 'VERB'), ('the', 'DET'), ('provision', 'NOUN'), ('in', 'ADP'), ('Article', 'NOUN'), ('II', 'NOUN'), ('that', 'ADP'), ('*T*-1', 'X'), ('requires', 'VERB'), ('the', 'DET'), ('president', 'NOUN'), ('to', 'PRT'), ('make', 'VERB'), ('recommendations', 'NOUN'), ('to', 'PRT'), ('Congress', 'NOUN'), (',', '.'), ('but', 'CONJ'), ('which', 'DET'), ('*T*-41', 'X'), ('gives', 'VERB'), ('the', 'DET'), ('president', 'NOUN'), ('the', 'DET'), ('discretion', 'NOUN'), ('0', 'X'), ('*', 'X'), ('to', 'PRT'), ('select', 'VERB'), ('the', 'DET'), ('subject', 'ADJ'), ('matter', 'NOUN'), ('of', 'ADP'), ('those', 'DET'), ('recommendations', 'NOUN'), ('*T*-2', 'X'), ('.', '.'), ('London', 'NOUN'), ('shares', 'NOUN'), ('finished', 'VERB'), ('moderately', 'ADV'), ('higher', 'ADJ'), ('.', '.'), ('In', 'ADP'), ('the', 'DET'), ('first', 'ADJ'), ('nine', 'NUM'), ('months', 'NOUN'), (',', '.'), ('net', 'ADJ'), ('was', 'VERB'), ('$', '.'), ('306', 'NOUN'), ('million', 'NUM'), ('*U*', 'X'), (',', '.'), ('compared', 'VERB'), ('with', 'ADP'), ('a', 'DET'), ('loss', 'NOUN'), ('of', 'ADP'), ('$', '.'), ('195', 'NUM'), ('million', 'NUM'), ('*U*', 'X'), ('in', 'ADP'), ('the', 'DET'), ('1988', 'NUM'), ('period', 'NOUN'), ('.', '.'), ('The', 'DET'), ('White', 'NOUN'), ('House', 'NOUN'), ('previously', 'ADV'), ('insisted', 'VERB'), ('on', 'ADP'), ('an', 'DET'), ('unrestricted', 'NOUN'), ('six-month', 'ADJ'), ('training', 'NOUN'), ('wage', 'NOUN'), ('that', 'ADP'), ('*T*-1', 'X'), ('could', 'VERB'), ('be', 'VERB'), ('paid', 'VERB'), ('*-165', 'X'), ('any', 'DET'), ('time', 'NOUN'), ('0', 'X'), ('a', 'DET'), ('worker', 'NOUN'), ('of', 'ADP'), ('any', 'DET'), ('age', 'NOUN'), ('took', 'VERB'), ('a', 'DET'), ('new', 'ADJ'), ('job', 'NOUN'), ('*T*-2', 'X'), ('.', '.'), ('Sterling', 'NOUN'), (\"'s\", 'PRT'), ('firm', 'NOUN'), ('tone', 'NOUN'), (',', '.'), ('combined', 'VERB'), ('with', 'ADP'), ('a', 'DET'), ('steady', 'ADJ'), ('opening', 'VERB'), ('on', 'ADP'), ('Wall', 'NOUN'), ('Street', 'NOUN'), (',', '.'), ('also', 'ADV'), ('tempted', 'VERB'), ('some', 'DET'), ('investors', 'NOUN'), ('to', 'PRT'), ('come', 'VERB'), ('back', 'ADV'), ('to', 'PRT'), ('the', 'DET'), ('market', 'NOUN'), (',', '.'), ('dealers', 'NOUN'), ('said', 'VERB'), ('0', 'X'), ('*T*-1', 'X'), ('.', '.'), ('The', 'DET'), ('Dow', 'NOUN'), ('Jones', 'NOUN'), ('Industrial', 'NOUN'), ('Average', 'NOUN'), ('finished', 'VERB'), ('less', 'ADV'), ('than', 'ADP'), ('a', 'DET'), ('point', 'NOUN'), ('higher', 'ADJ'), ('*-1', 'X'), ('to', 'PRT'), ('close', 'VERB'), ('at', 'ADP'), ('2645.90', 'NUM'), ('in', 'ADP'), ('moderate', 'ADJ'), ('trading', 'NOUN'), ('.', '.'), ('But', 'CONJ'), ('by', 'ADP'), ('the', 'DET'), ('early', 'ADJ'), ('1980s', 'NUM'), (',', '.'), ('its', 'PRON'), ('glory', 'VERB'), ('*PPA*-1', 'X'), ('had', 'VERB'), ('faded', 'X'), ('like', 'ADP'), ('the', 'DET'), ('yellow', 'NOUN'), ('bricks', 'NOUN'), ('of', 'ADP'), ('its', 'PRON'), ('broad', 'ADJ'), ('facade', 'NOUN'), ('.', '.'), ('The', 'DET'), ('record', 'NOUN'), ('price', 'NOUN'), ('for', 'ADP'), ('a', 'DET'), ('full', 'ADJ'), ('membership', 'NOUN'), ('on', 'ADP'), ('the', 'DET'), ('exchange', 'NOUN'), ('is', 'VERB'), ('$', '.'), ('550,000', 'NOUN'), ('*U*', 'X'), (',', '.'), ('*-2', 'X'), ('set', 'VERB'), ('*-1', 'X'), ('Aug.', 'NOUN'), ('31', 'NUM'), (',', '.'), ('1987', 'NUM'), ('.', '.'), ('Four', 'NOUN'), ('of', 'ADP'), ('the', 'DET'), ('five', 'NUM'), ('surviving', 'VERB'), ('workers', 'NOUN'), ('have', 'VERB'), ('asbestos-related', 'ADJ'), ('diseases', 'NOUN'), (',', '.'), ('including', 'VERB'), ('three', 'NUM'), ('with', 'ADP'), ('recently', 'ADV'), ('diagnosed', 'VERB'), ('cancer', 'NOUN'), ('.', '.'), ('The', 'DET'), ('earnings', 'NOUN'), ('growth', 'NOUN'), ('also', 'ADV'), ('was', 'VERB'), ('fueled', 'VERB'), ('*-1', 'X'), ('by', 'ADP'), ('the', 'DET'), ('company', 'NOUN'), (\"'s\", 'PRT'), ('ability', 'NOUN'), ('*', 'X'), ('to', 'PRT'), ('cut', 'VERB'), ('net', 'ADJ'), ('financing', 'NOUN'), ('spending', 'NOUN'), ('by', 'ADP'), ('half', 'DET'), ('to', 'PRT'), ('around', 'ADP'), ('15', 'NUM'), ('million', 'NUM'), ('guilders', 'NOUN'), ('.', '.'), ('Mr.', 'NOUN'), ('Reupke', 'NOUN'), (',', '.'), ('52', 'NUM'), ('years', 'NOUN'), ('old', 'ADJ'), ('and', 'CONJ'), ('a', 'DET'), ('27-year', 'NOUN'), ('Reuters', 'NOUN'), ('veteran', 'NOUN'), (',', '.'), ('had', 'VERB'), ('been', 'VERB'), ('the', 'DET'), ('information-services', 'NOUN'), ('company', 'NOUN'), (\"'s\", 'PRT'), ('general', 'ADJ'), ('manager', 'NOUN'), ('for', 'ADP'), ('only', 'ADV'), ('six', 'NUM'), ('months', 'NOUN'), ('.', '.'), ('It', 'PRON'), ('was', 'VERB'), ('censorship', 'NOUN'), ('.', '.'), ('*-1', 'X'), ('To', 'PRT'), ('capture', 'VERB'), ('the', 'DET'), ('investment', 'NOUN'), (',', '.'), ('Southeast', 'NOUN'), ('Asian', 'ADJ'), ('nations', 'NOUN'), ('will', 'VERB'), ('move', 'VERB'), ('*-1', 'X'), ('to', 'PRT'), ('accommodate', 'VERB'), ('Japanese', 'ADJ'), ('business', 'NOUN'), ('.', '.'), ('By', 'ADP'), ('1997', 'DET'), (',', '.'), ('almost', 'ADV'), ('all', 'DET'), ('remaining', 'VERB'), ('uses', 'VERB'), ('of', 'ADP'), ('cancer-causing', 'DET'), ('asbestos', 'NOUN'), ('will', 'VERB'), ('be', 'VERB'), ('outlawed', 'X'), ('*-6', 'X'), ('.', '.'), ('He', 'PRON'), ('also', 'ADV'), ('rejected', 'VERB'), ('reports', 'NOUN'), ('that', 'ADP'), ('his', 'PRON'), ('departure', 'NOUN'), ('stemmed', 'NOUN'), ('from', 'ADP'), ('disappointment', 'NOUN'), ('0', 'X'), ('the', 'DET'), ('general', 'ADJ'), ('manager', 'NOUN'), (\"'s\", 'PRT'), ('post', 'VERB'), ('had', 'VERB'), (\"n't\", 'ADV'), ('also', 'ADV'), ('led', 'VERB'), ('to', 'PRT'), ('a', 'DET'), ('board', 'NOUN'), ('directorship', 'NOUN'), ('at', 'ADP'), ('the', 'DET'), ('London-based', 'ADJ'), ('news', 'NOUN'), ('organization', 'NOUN'), ('.', '.'), ('This', 'DET'), ('democracy', 'NOUN'), ('is', 'VERB'), ('suddenly', 'ADV'), ('a', 'DET'), ('little', 'ADJ'), ('more', 'ADJ'), ('democratic', 'ADJ'), ('.', '.'), ('Mr.', 'NOUN'), ('van', 'NOUN'), ('Dover', 'NOUN'), ('added', 'VERB'), ('that', 'ADP'), ('researchers', 'NOUN'), ('are', 'VERB'), ('trying', 'VERB'), ('*-2', 'X'), ('to', 'PRT'), ('determine', 'VERB'), ('precisely', 'ADV'), ('what', 'PRON'), ('crystal', 'NOUN'), ('changes', 'NOUN'), ('*T*-1', 'X'), ('solved', 'VERB'), ('the', 'DET'), ('problem', 'NOUN'), ('.', '.'), ('It', 'PRON'), (\"'s\", 'VERB'), ('a', 'DET'), ('classic', 'ADJ'), ('situation', 'NOUN'), ('of', 'ADP'), ('ads', 'NOUN'), ('that', 'ADP'), ('*T*-75', 'X'), ('are', 'VERB'), ('true', 'ADJ'), ('but', 'CONJ'), ('not', 'ADV'), ('always', 'ADV'), ('fully', 'ADV'), ('accurate', 'ADJ'), ('.', '.'), ('Mr.', 'NOUN'), ('Stronach', 'NOUN'), (',', '.'), ('founder', 'NOUN'), ('and', 'CONJ'), ('controlling', 'VERB'), ('shareholder', 'NOUN'), ('of', 'ADP'), ('Magna', 'NOUN'), (',', '.'), ('resigned', 'VERB'), ('as', 'ADP'), ('chief', 'NOUN'), ('executive', 'NOUN'), ('officer', 'NOUN'), ('last', 'ADJ'), ('year', 'NOUN'), ('*-1', 'X'), ('to', 'PRT'), ('seek', 'VERB'), (',', '.'), ('unsuccessfully', 'ADV'), (',', '.'), ('a', 'DET'), ('seat', 'NOUN'), ('in', 'ADP'), ('Canada', 'NOUN'), (\"'s\", 'PRT'), ('Parliament', 'NOUN'), ('.', '.'), ('``', '.'), ('A', 'DET'), ('lot', 'NOUN'), ('of', 'ADP'), ('the', 'DET'), ('stocks', 'NOUN'), ('that', 'ADP'), ('*T*-117', 'DET'), ('have', 'VERB'), ('been', 'VERB'), ('under', 'ADP'), ('water', 'NOUN'), ('finally', 'ADV'), ('saw', 'VERB'), ('a', 'DET'), ('reason', 'NOUN'), ('0', 'X'), ('*', 'X'), ('to', 'PRT'), ('uptick', 'NOUN'), ('*T*-1', 'X'), (',', '.'), (\"''\", '.'), ('said', 'VERB'), ('*T*-2', 'X'), ('George', 'NOUN'), ('Jennison', 'NOUN'), (',', '.'), ('head', 'NOUN'), ('trader', 'NOUN'), ('of', 'ADP'), ('banking', 'NOUN'), ('issues', 'NOUN'), ('in', 'ADP'), ('Shearson', 'NOUN'), ('Lehman', 'NOUN'), ('Hutton', 'NOUN'), (\"'s\", 'PRT'), ('OTC', 'NOUN'), ('department', 'NOUN'), ('.', '.'), ('*-2', 'X'), ('Also', 'ADV'), ('in', 'ADP'), ('New', 'NOUN'), ('York', 'NOUN'), (',', '.'), ('Israel', 'NOUN'), ('Silverman', 'NOUN'), (',', '.'), ('an', 'DET'), ('insurance-company', 'NOUN'), ('lawyer', 'NOUN'), (',', '.'), ('comments', 'NOUN'), ('that', 'ADP'), ('program', 'NOUN'), ('trading', 'NOUN'), ('``', '.'), ('increases', 'NOUN'), ('volatility', 'NOUN'), (',', '.'), ('but', 'CONJ'), ('I', 'PRON'), ('do', 'VERB'), (\"n't\", 'ADV'), ('think', 'VERB'), ('0', 'X'), ('it', 'PRON'), ('should', 'VERB'), ('be', 'VERB'), ('banned', 'VERB'), ('*-1', 'X'), ('.', '.'), ('you', 'PRON'), ('will', 'VERB'), ('not', 'ADV'), ('put', 'VERB'), ('the', 'DET'), ('financial', 'ADJ'), ('system', 'NOUN'), ('in', 'ADP'), ('jeopardy', 'DET'), ('.', '.'), (\"'\", '.'), (\"''\", '.'), ('NEW', 'NOUN'), ('ACCOUNT', 'NOUN'), (':', '.'), ('But', 'CONJ'), ('``', '.'), ('because', 'ADP'), ('it', 'PRON'), (\"'s\", 'VERB'), ('all', 'DET'), ('0', 'X'), ('we', 'PRON'), (\"'ve\", 'VERB'), ('got', 'VERB'), ('*T*-1', 'X'), (',', '.'), ('I', 'PRON'), (\"'m\", 'VERB'), ('going', 'VERB'), ('*-2', 'X'), ('to', 'PRT'), ('vote', 'VERB'), ('for', 'ADP'), ('it', 'PRON'), ('.', '.'), (\"''\", '.'), ('In', 'ADP'), ('national', 'ADJ'), ('over-the-counter', 'ADJ'), ('trading', 'NOUN'), ('yesterday', 'NOUN'), (',', '.'), ('POP', 'NOUN'), ('plunged', 'VERB'), ('$', '.'), ('4', 'NUM'), ('*U*', 'X'), ('to', 'PRT'), ('$', '.'), ('14.75', 'NOUN'), ('*U*', 'X'), ('.', '.'), ('Lord', 'NOUN'), ('Chilver', 'NOUN'), (',', '.'), ('63-year-old', 'NOUN'), ('chairman', 'NOUN'), ('of', 'ADP'), ('English', 'ADJ'), ('China', 'NOUN'), ('Clays', 'NOUN'), ('PLC', 'NOUN'), (',', '.'), ('was', 'VERB'), ('named', 'VERB'), ('*-39', 'X'), ('a', 'DET'), ('nonexecutive', 'ADJ'), ('director', 'NOUN'), ('of', 'ADP'), ('this', 'DET'), ('British', 'ADJ'), ('chemical', 'NOUN'), ('company', 'NOUN'), ('.', '.'), ('CoreStates', 'NOUN'), ('Financial', 'NOUN'), ('Corp.', 'NOUN'), (',', '.'), ('Philadelphia', 'NOUN'), (',', '.'), ('named', 'VERB'), ('Earle', 'X'), ('Palmer', 'VERB'), ('Brown', 'NOUN'), ('&', 'CONJ'), ('Spiro', 'NOUN'), (',', '.'), ('Philadelphia', 'NOUN'), (',', '.'), ('as', 'ADP'), ('agency', 'NOUN'), ('of', 'ADP'), ('record', 'NOUN'), ('for', 'ADP'), ('its', 'PRON'), ('$', '.'), ('5', 'NUM'), ('million', 'NUM'), ('*U*', 'X'), ('account', 'VERB'), ('.', '.'), ('Once', 'ADV'), ('there', 'DET'), (',', '.'), ('what', 'PRON'), ('ways', 'NOUN'), ('of', 'ADP'), ('escape', 'DET'), ('*ICH*-2', 'X'), ('are', 'VERB'), ('*T*-1', 'X'), ('open', 'VERB'), ('to', 'PRT'), ('them', 'PRON'), ('other', 'ADJ'), ('than', 'ADP'), ('drink', 'VERB'), (',', '.'), ('drugs', 'NOUN'), ('or', 'CONJ'), ('insanity', 'NOUN'), ('?', '.'), ('The', 'DET'), ('board', 'NOUN'), ('is', 'VERB'), ('dominated', 'VERB'), ('*-41', 'X'), ('by', 'ADP'), ('the', 'DET'), ('heirs', 'NOUN'), ('of', 'ADP'), ('the', 'DET'), ('late', 'ADJ'), ('John', 'NOUN'), ('T.', 'NOUN'), ('Dorrance', 'NOUN'), ('Jr.', 'NOUN'), (',', '.'), ('who', 'PRON'), ('*T*-31', 'X'), ('controlled', 'VERB'), ('about', 'ADP'), ('58', 'NUM'), ('%', 'NOUN'), ('of', 'ADP'), ('Campbell', 'NOUN'), (\"'s\", 'PRT'), ('stock', 'NOUN'), ('when', 'ADV'), ('he', 'PRON'), ('died', 'VERB'), ('in', 'ADP'), ('April', 'NOUN'), ('*T*-1', 'X'), ('.', '.'), ('Nylev', 'NOUN'), ('Municipal', 'NOUN'), ('Fund', 'NOUN'), ('Inc.', 'NOUN'), (',', '.'), ('offering', 'NOUN'), ('of', 'ADP'), ('five', 'NUM'), ('million', 'NUM'), ('common', 'ADJ'), ('shares', 'NOUN'), ('.', '.'), ('Elsewhere', 'ADV'), (':', '.'), ('Farmers', 'NOUN'), ('are', 'VERB'), ('in', 'ADP'), ('the', 'DET'), ('best', 'ADJ'), ('position', 'NOUN'), ('of', 'ADP'), ('many', 'ADJ'), ('years', 'NOUN'), ('0', 'X'), ('*', 'X'), ('to', 'PRT'), ('push', 'VERB'), ('up', 'ADV'), ('corn', 'NOUN'), ('prices', 'NOUN'), ('*T*-1', 'X'), ('.', '.'), ('They', 'PRON'), ('suffered', 'VERB'), ('from', 'ADP'), ('malnutrition', 'DET'), (',', '.'), ('chest', 'NOUN'), ('diseases', 'NOUN'), (',', '.'), ('cardiovascular', 'NOUN'), ('disorders', 'NOUN'), (',', '.'), ('skin', 'NOUN'), ('problems', 'NOUN'), (',', '.'), ('infectious', 'NOUN'), ('diseases', 'NOUN'), ('and', 'CONJ'), ('the', 'DET'), ('aftereffects', 'NOUN'), ('of', 'ADP'), ('assaults', 'DET'), ('and', 'CONJ'), ('rape', 'NOUN'), ('.', '.'), ('Mrs.', 'NOUN'), ('Ward', 'NOUN'), ('says', 'VERB'), ('0', 'X'), ('she', 'PRON'), ('often', 'ADV'), ('defended', 'VERB'), ('her', 'PRON'), ('to', 'PRT'), ('colleagues', 'NOUN'), ('who', 'PRON'), ('*T*-91', 'VERB'), ('called', 'VERB'), ('her', 'PRON'), ('a', 'DET'), ('grandstander', 'NOUN'), ('.', '.'), ('Jaguar', 'NOUN'), (',', '.'), ('a', 'DET'), ('U.K.', 'NOUN'), ('luxury', 'NOUN'), ('auto', 'NOUN'), ('maker', 'NOUN'), ('being', 'VERB'), ('pursued', 'VERB'), ('*', 'X'), ('by', 'ADP'), ('Ford', 'NOUN'), ('Motor', 'NOUN'), ('and', 'CONJ'), ('General', 'NOUN'), ('Motors', 'NOUN'), (',', '.'), ('gained', 'VERB'), ('10', 'NUM'), ('pence', 'NOUN'), ('-LRB-', '.'), ('16', 'NUM'), ('cents', 'NOUN'), ('-RRB-', '.'), ('a', 'DET'), ('share', 'NOUN'), ('*-1', 'X'), ('to', 'PRT'), ('close', 'VERB'), ('at', 'ADP'), ('879', 'DET'), ('pence', 'NOUN'), ('-LRB-', '.'), ('$', '.'), ('13.90', 'NOUN'), ('*U*', 'X'), ('-RRB-', '.'), ('.', '.'), ('The', 'DET'), ('big', 'ADJ'), ('problem', 'NOUN'), (',', '.'), ('however', 'ADV'), (',', '.'), ('is', 'VERB'), ('that', 'ADP'), ('there', 'DET'), (\"'s\", 'VERB'), ('no', 'DET'), ('guarantee', 'VERB'), ('that', 'ADP'), ('this', 'DET'), ('reasoning', 'NOUN'), ('will', 'VERB'), ('be', 'VERB'), ('limited', 'VERB'), ('*-1', 'X'), ('to', 'PRT'), ('DES', 'NOUN'), ('or', 'CONJ'), ('to', 'PRT'), ('drugs', 'NOUN'), ('.', '.'), ('Some', 'DET'), ('think', 'VERB'), ('0', 'X'), ('Columbia', 'NOUN'), (\"'s\", 'PRT'), ('thrift', 'NOUN'), (',', '.'), ('which', 'DET'), ('*T*-1', 'X'), ('now', 'ADV'), ('is', 'VERB'), ('seeking', 'VERB'), ('a', 'DET'), ('new', 'ADJ'), ('chief', 'NOUN'), ('operating', 'NOUN'), ('officer', 'NOUN'), (',', '.'), ('might', 'VERB'), ('be', 'VERB'), ('capitalized', 'VERB'), ('*-3', 'X'), ('at', 'ADP'), (',', '.'), ('say', 'VERB'), ('$', '.'), ('300', 'NUM'), ('million', 'NUM'), ('*U*', 'X'), (',', '.'), ('and', 'CONJ'), ('shopped', 'NOUN'), ('*-3', 'X'), ('to', 'PRT'), ('a', 'DET'), ('commercial', 'ADJ'), ('bank', 'NOUN'), ('that', 'ADP'), ('*T*-2', 'X'), ('wants', 'VERB'), ('a', 'DET'), ('California', 'NOUN'), ('presence', 'NOUN'), ('.', '.'), ('As', 'ADP'), ('a', 'DET'), ('result', 'NOUN'), (',', '.'), ('Ms.', 'NOUN'), ('Ganes', 'NOUN'), ('said', 'VERB'), ('0', 'X'), ('*T*-2', 'X'), (',', '.'), ('it', 'PRON'), ('is', 'VERB'), ('believed', 'VERB'), ('that', 'ADP'), ('little', 'ADJ'), ('or', 'CONJ'), ('no', 'DET'), ('sugar', 'NOUN'), ('from', 'ADP'), ('the', 'DET'), ('1989-90', 'NUM'), ('crop', 'NOUN'), ('has', 'VERB'), ('been', 'VERB'), ('shipped', 'VERB'), ('*-1', 'X'), ('yet', 'ADV'), (',', '.'), ('even', 'ADV'), ('though', 'ADP'), ('the', 'DET'), ('crop', 'NOUN'), ('year', 'NOUN'), ('is', 'VERB'), ('six', 'NUM'), ('months', 'NOUN'), ('old', 'ADJ'), ('.', '.'), ('The', 'DET'), ('survey', 'NOUN'), ('found', 'VERB'), ('that', 'ADP'), ('nearly', 'ADV'), ('half', 'DET'), ('of', 'ADP'), ('Hong', 'NOUN'), ('Kong', 'NOUN'), ('consumers', 'NOUN'), ('espouse', 'NOUN'), ('what', 'PRON'), ('it', 'PRON'), ('identified', 'VERB'), ('*T*-61', 'X'), ('as', 'ADP'), ('materialistic', 'ADJ'), ('values', 'NOUN'), (',', '.'), ('compared', 'VERB'), ('with', 'ADP'), ('about', 'ADP'), ('one-third', 'NOUN'), ('in', 'ADP'), ('Japan', 'NOUN'), ('and', 'CONJ'), ('the', 'DET'), ('U.S.', 'NOUN'), ('.', '.'), ('The', 'DET'), ('results', 'NOUN'), ('reflected', 'VERB'), ('a', 'DET'), ('24', 'NUM'), ('%', 'NOUN'), ('gain', 'NOUN'), ('in', 'ADP'), ('income', 'NOUN'), ('from', 'ADP'), ('its', 'PRON'), ('finance', 'VERB'), ('businesses', 'NOUN'), (',', '.'), ('and', 'CONJ'), ('a', 'DET'), ('15', 'NUM'), ('%', 'NOUN'), ('slide', 'NOUN'), ('in', 'ADP'), ('income', 'NOUN'), ('from', 'ADP'), ('insurance', 'NOUN'), ('operations', 'NOUN'), ('.', '.'), ('Because', 'ADP'), ('of', 'ADP'), ('deteriorating', 'DET'), ('hearing', 'NOUN'), (',', '.'), ('she', 'PRON'), ('told', 'VERB'), ('colleagues', 'NOUN'), ('0', 'X'), ('she', 'PRON'), ('feared', 'VERB'), ('0', 'X'), ('she', 'PRON'), ('might', 'VERB'), ('not', 'ADV'), ('be', 'VERB'), ('able', 'ADJ'), ('*-1', 'X'), ('to', 'PRT'), ('teach', 'VERB'), ('much', 'ADV'), ('longer', 'ADV'), ('.', '.'), ('A.', 'NOUN'), ('Donald', 'NOUN'), ('Anderson', 'NOUN'), (',', '.'), ('a', 'DET'), ('59-year-old', 'NOUN'), ('Los', 'NOUN'), ('Angeles', 'NOUN'), ('investor', 'NOUN'), ('who', 'PRON'), ('*T*-1', 'X'), ('says', 'VERB'), ('0', 'X'), ('the', 'DET'), ('stock', 'NOUN'), ('market', 'NOUN'), (\"'s\", 'PRT'), ('``', '.'), ('fluctuations', 'NOUN'), ('and', 'CONJ'), ('gyrations', 'NOUN'), ('give', 'VERB'), ('me', 'PRON'), ('the', 'DET'), ('heebie-jeebies', 'NOUN'), (',', '.'), (\"''\", '.'), ('does', 'VERB'), (\"n't\", 'ADV'), ('see', 'VERB'), ('much', 'ADV'), ('point', 'VERB'), ('in', 'ADP'), ('*', 'X'), ('outlawing', 'VERB'), ('program', 'NOUN'), ('trading', 'NOUN'), ('.', '.'), ('The', 'DET'), ('council', 'NOUN'), ('backed', 'VERB'), ('the', 'DET'), ('audit', 'VERB'), ('commission', 'NOUN'), (\"'s\", 'PRT'), ('stand', 'VERB'), ('that', 'ADP'), ('the', 'DET'), ('swap', 'NOUN'), ('transactions', 'NOUN'), ('are', 'VERB'), ('illegal', 'ADJ'), ('.', '.'), ('She', 'PRON'), ('had', 'VERB'), ('gone', 'VERB'), ('so', 'ADV'), ('far', 'ADV'), ('as', 'ADP'), ('*-1', 'X'), ('to', 'PRT'), ('display', 'VERB'), ('the', 'DET'), ('questions', 'NOUN'), ('on', 'ADP'), ('an', 'DET'), ('overhead', 'ADJ'), ('projector', 'NOUN'), ('and', 'CONJ'), ('underline', 'NOUN'), ('the', 'DET'), ('answers', 'NOUN'), ('.', '.'), ('According', 'VERB'), ('to', 'PRT'), ('Ms.', 'NOUN'), ('Poore', 'NOUN'), (',', '.'), ('Old-House', 'NOUN'), ('Journal', 'NOUN'), ('Corp.', 'NOUN'), (',', '.'), ('her', 'PRON'), ('publishing', 'VERB'), ('company', 'NOUN'), (',', '.'), ('printed', 'VERB'), ('and', 'CONJ'), ('sold', 'VERB'), ('all', 'DET'), ('126,000', 'NOUN'), ('copies', 'NOUN'), ('of', 'ADP'), ('the', 'DET'), ('premiere', 'NOUN'), ('issue', 'NOUN'), ('.', '.'), ('``', '.'), ('This', 'DET'), ('stadium', 'NOUN'), ('shows', 'VERB'), ('that', 'ADP'), ('anything', 'NOUN'), ('0', 'X'), ('government', 'NOUN'), ('can', 'VERB'), ('do', 'VERB'), ('*T*-2', 'X'), (',', '.'), ('we', 'PRON'), ('can', 'VERB'), ('do', 'VERB'), ('*-3', 'X'), ('better', 'ADV'), (',', '.'), (\"''\", '.'), ('Mr.', 'NOUN'), ('Robbie', 'NOUN'), ('says', 'VERB'), ('*T*-1', 'X'), ('.', '.'), ('``', '.'), ('My', 'PRON'), ('stocks', 'NOUN'), ('are', 'VERB'), ('all', 'DET'), ('blue', 'ADJ'), ('chips', 'NOUN'), (',', '.'), (\"''\", '.'), ('she', 'PRON'), ('says', 'VERB'), ('*T*-1', 'X'), ('.', '.'), ('Both', 'DET'), ('contracts', 'NOUN'), ('have', 'VERB'), ('gained', 'VERB'), ('a', 'DET'), ('following', 'VERB'), ('since', 'ADP'), ('the', 'DET'), ('1987', 'NUM'), ('global', 'ADJ'), ('market', 'NOUN'), ('crash', 'NOUN'), ('.', '.'), ('A', 'DET'), ('few', 'ADJ'), ('years', 'NOUN'), ('ago', 'ADP'), (',', '.'), ('the', 'DET'), ('company', 'NOUN'), ('offered', 'VERB'), ('two', 'NUM'), ('round-trip', 'NOUN'), ('tickets', 'NOUN'), ('on', 'ADP'), ('Trans', 'DET'), ('World', 'NOUN'), ('Airlines', 'NOUN'), ('to', 'PRT'), ('buyers', 'NOUN'), ('of', 'ADP'), ('its', 'PRON'), ('Riviera', 'NOUN'), ('luxury', 'NOUN'), ('car', 'NOUN'), ('.', '.'), ('With', 'ADP'), ('prices', 'NOUN'), ('soaring', 'NOUN'), (',', '.'), ('they', 'PRON'), ('were', 'VERB'), ('able', 'ADJ'), ('*-1', 'X'), ('to', 'PRT'), ('sell', 'VERB'), ('the', 'DET'), ('reclaimed', 'NOUN'), ('commodities', 'NOUN'), ('at', 'ADP'), ('``', '.'), ('considerable', 'ADJ'), ('profit', 'NOUN'), (',', '.'), (\"''\", '.'), ('the', 'DET'), ('agency', 'NOUN'), (\"'s\", 'PRT'), ('240-page', 'VERB'), ('report', 'VERB'), ('said', 'VERB'), ('0', 'X'), ('*T*-2', 'X'), ('.', '.'), ('This', 'DET'), ('interpretation', 'NOUN'), ('was', 'VERB'), ('officially', 'ADV'), ('endorsed', 'VERB'), ('*-1', 'X'), ('by', 'ADP'), ('Congress', 'NOUN'), ('in', 'ADP'), ('1987', 'NUM'), ('in', 'ADP'), ('the', 'DET'), ('Iran-Contra', 'NOUN'), ('Report', 'NOUN'), ('.', '.'), ('BTR', 'NOUN'), ('PLC', 'NOUN'), (',', '.'), ('a', 'DET'), ('U.K.', 'NOUN'), ('industrial', 'ADJ'), ('conglomerate', 'NOUN'), (',', '.'), ('said', 'VERB'), ('in', 'ADP'), ('June', 'NOUN'), ('0', 'X'), ('it', 'PRON'), ('had', 'VERB'), ('sold', 'VERB'), ('its', 'PRON'), ('National', 'NOUN'), ('Tyre', 'NOUN'), ('Service', 'NOUN'), ('business', 'NOUN'), ('to', 'PRT'), ('Michelin', 'NOUN'), ('Investment', 'NOUN'), ('Ltd.', 'NOUN'), (',', '.'), ('a', 'DET'), ('U.K.', 'NOUN'), ('unit', 'NOUN'), ('of', 'ADP'), ('the', 'DET'), ('tire', 'NOUN'), ('maker', 'NOUN'), (',', '.'), ('for', 'ADP'), ('#', '.'), ('140', 'NUM'), ('million', 'NUM'), ('*U*', 'X'), ('-LRB-', '.'), ('$', '.'), ('221.4', 'NOUN'), ('million', 'NUM'), ('*U*', 'X'), ('-RRB-', '.'), ('.', '.'), ('Next', 'NOUN'), ('week', 'NOUN'), (',', '.'), ('the', 'DET'), ('Philippine', 'NOUN'), ('Fund', 'NOUN'), (\"'s\", 'PRT'), ('launch', 'VERB'), ('will', 'VERB'), ('be', 'VERB'), ('capped', 'ADJ'), ('*-46', 'X'), ('by', 'ADP'), ('a', 'DET'), ('visit', 'NOUN'), ('by', 'ADP'), ('Philippine', 'DET'), ('President', 'NOUN'), ('Corazon', 'NOUN'), ('Aquino', 'NOUN'), ('--', '.'), ('the', 'DET'), ('first', 'ADJ'), ('time', 'NOUN'), ('0', 'X'), ('a', 'DET'), ('head', 'NOUN'), ('of', 'ADP'), ('state', 'NOUN'), ('has', 'VERB'), ('kicked', 'VERB'), ('off', 'PRT'), ('an', 'DET'), ('issue', 'NOUN'), ('at', 'ADP'), ('the', 'DET'), ('Big', 'NOUN'), ('Board', 'NOUN'), ('here', 'ADV'), ('*T*-1', 'X'), ('.', '.'), ('``', '.'), ('In', 'ADP'), ('addition', 'NOUN'), (',', '.'), ('recent', 'ADJ'), ('industry', 'NOUN'), ('forecasts', 'NOUN'), ('for', 'ADP'), ('1990', 'NUM'), ('indicate', 'VERB'), ('a', 'DET'), ('slow', 'ADJ'), ('environment', 'NOUN'), (',', '.'), ('at', 'ADP'), ('least', 'ADJ'), ('until', 'ADP'), ('midyear', 'DET'), ('.', '.'), (\"''\", '.'), ('Spending', 'NOUN'), ('on', 'ADP'), ('private', 'ADJ'), (',', '.'), ('nonresidential', 'NOUN'), ('construction', 'NOUN'), ('was', 'VERB'), ('off', 'PRT'), ('2.6', 'NUM'), ('%', 'NOUN'), ('to', 'PRT'), ('an', 'DET'), ('annual', 'ADJ'), ('rate', 'NOUN'), ('of', 'ADP'), ('$', '.'), ('99.1', 'NOUN'), ('billion', 'NUM'), ('*U*', 'X'), ('with', 'ADP'), ('no', 'DET'), ('sector', 'NOUN'), ('showing', 'VERB'), ('strength', 'NOUN'), ('.', '.'), ('Trading', 'NOUN'), ('is', 'VERB'), ('expected', 'VERB'), ('*-1', 'X'), ('to', 'PRT'), ('remain', 'VERB'), ('subdued', 'VERB'), ('as', 'ADP'), ('the', 'DET'), ('market', 'NOUN'), ('awaits', 'NOUN'), ('tomorrow', 'NOUN'), (\"'s\", 'PRT'), ('release', 'NOUN'), ('of', 'ADP'), ('the', 'DET'), ('jobs', 'NOUN'), ('data', 'NOUN'), ('with', 'ADP'), ('the', 'DET'), ('hope', 'NOUN'), ('that', 'ADP'), ('it', 'PRON'), ('will', 'VERB'), ('point', 'NOUN'), ('toward', 'ADP'), ('a', 'DET'), ('decline', 'NOUN'), ('in', 'ADP'), ('interest', 'NOUN'), ('rates', 'NOUN'), ('.', '.'), ('Aerospace', 'NOUN'), ('earnings', 'NOUN'), ('sagged', 'NOUN'), ('37', 'NUM'), ('%', 'NOUN'), ('for', 'ADP'), ('the', 'DET'), ('quarter', 'NOUN'), ('and', 'CONJ'), ('15', 'NUM'), ('%', 'NOUN'), ('for', 'ADP'), ('the', 'DET'), ('year', 'NOUN'), (',', '.'), ('largely', 'ADV'), ('due', 'ADJ'), ('to', 'PRT'), ('lower', 'ADJ'), ('B-1B', 'ADJ'), ('program', 'NOUN'), ('profit', 'NOUN'), (';', '.'), ('the', 'DET'), ('last', 'ADJ'), ('of', 'ADP'), ('the', 'DET'), ('bombers', 'NOUN'), ('rolled', 'VERB'), ('out', 'PRT'), ('in', 'ADP'), ('April', 'NOUN'), ('1988', 'NUM'), ('.', '.'), ('Nissan', 'NOUN'), ('Motor', 'NOUN'), ('Co.', 'NOUN'), (',', '.'), ('Japan', 'NOUN'), (\"'s\", 'PRT'), ('second-largest', 'ADJ'), ('car', 'NOUN'), ('maker', 'NOUN'), (',', '.'), ('announced', 'VERB'), ('Wednesday', 'NOUN'), ('that', 'ADP'), ('the', 'DET'), ('parent', 'NOUN'), ('concern', 'NOUN'), (\"'s\", 'PRT'), ('pretax', 'NOUN'), ('earnings', 'NOUN'), ('in', 'ADP'), ('the', 'DET'), ('first', 'ADJ'), ('half', 'NOUN'), ('ended', 'VERB'), ('last', 'ADJ'), ('Sept.', 'NOUN'), ('30', 'NUM'), ('rose', 'VERB'), ('14', 'NUM'), ('%', 'NOUN'), ('to', 'PRT'), ('88.32', 'VERB'), ('billion', 'NUM'), ('yen', 'NOUN'), ('-LRB-', '.'), ('$', '.'), ('618.1', 'NOUN'), ('million', 'NUM'), ('*U*', 'X'), ('-RRB-', '.'), ('from', 'ADP'), ('77.6', 'DET'), ('billion', 'NUM'), ('yen', 'NOUN'), ('a', 'DET'), ('year', 'NOUN'), ('earlier', 'ADV'), ('.', '.'), ('But', 'CONJ'), ('regulators', 'NOUN'), ('are', 'VERB'), ('wary', 'ADJ'), ('.', '.'), ('Sales', 'NOUN'), ('for', 'ADP'), ('the', 'DET'), ('year', 'NOUN'), ('rose', 'VERB'), ('5', 'NUM'), ('%', 'NOUN'), ('to', 'PRT'), ('$', '.'), ('12.52', 'NOUN'), ('billion', 'NUM'), ('*U*', 'X'), ('from', 'ADP'), ('$', '.'), ('11.95', 'NOUN'), ('billion', 'NUM'), ('*U*', 'X'), ('in', 'ADP'), ('fiscal', 'ADJ'), ('1988', 'NUM'), ('.', '.'), ('The', 'DET'), ('White', 'NOUN'), ('House', 'NOUN'), ('said', 'VERB'), ('0', 'X'), ('the', 'DET'), ('shipboard', 'NOUN'), ('meetings', 'NOUN'), ('next', 'ADP'), ('month', 'NOUN'), ('between', 'ADP'), ('Bush', 'NOUN'), ('and', 'CONJ'), ('Soviet', 'ADJ'), ('leader', 'NOUN'), ('Gorbachev', 'NOUN'), ('will', 'VERB'), ('take', 'VERB'), ('place', 'NOUN'), ('in', 'ADP'), ('the', 'DET'), ('waters', 'NOUN'), ('off', 'PRT'), ('Malta', 'VERB'), ('.', '.'), ('NCNB', 'NOUN'), ('Corp.', 'NOUN'), ('of', 'ADP'), ('Charlotte', 'NOUN'), (',', '.'), ('N.C.', 'NOUN'), (',', '.'), ('recently', 'ADV'), ('introduced', 'VERB'), ('its', 'PRON'), ('Financial', 'NOUN'), ('Connections', 'NOUN'), ('Program', 'NOUN'), ('aimed', 'VERB'), ('*', 'X'), ('at', 'ADP'), ('young', 'ADJ'), ('adults', 'NOUN'), ('just', 'ADV'), ('starting', 'VERB'), ('careers', 'NOUN'), ('.', '.'), ('As', 'ADP'), ('partisans', 'NOUN'), ('of', 'ADP'), ('congressional', 'ADJ'), ('power', 'NOUN'), ('understand', 'VERB'), (',', '.'), ('a', 'DET'), ('``', '.'), ('power', 'NOUN'), ('of', 'ADP'), ('the', 'DET'), ('purse', 'NOUN'), (\"''\", '.'), ('so', 'ADV'), ('broadly', 'VERB'), ('construed', 'X'), ('*', 'X'), ('would', 'VERB'), ('emasculate', 'X'), ('the', 'DET'), ('presidency', 'NOUN'), ('and', 'CONJ'), ('swallow', 'NOUN'), ('the', 'DET'), ('principle', 'NOUN'), ('of', 'ADP'), ('separation', 'NOUN'), ('of', 'ADP'), ('powers', 'NOUN'), ('.', '.'), ('The', 'DET'), ('bids', 'NOUN'), (',', '.'), ('he', 'PRON'), ('added', 'VERB'), ('0', 'X'), ('*T*-1', 'X'), (',', '.'), ('were', 'VERB'), ('``', '.'), ('contrary', 'NOUN'), ('to', 'PRT'), ('common', 'ADJ'), ('sense', 'NOUN'), ('.', '.'), (\"''\", '.'), ('It', 'PRON'), (\"'s\", 'VERB'), ('hardly', 'ADV'), ('a', 'DET'), ('question', 'NOUN'), ('of', 'ADP'), ('quality', 'NOUN'), ('--', '.'), ('the', 'DET'), ('1982', 'NUM'), ('Salon', 'NOUN'), ('is', 'VERB'), ('a', 'DET'), ('beautiful', 'ADJ'), ('wine', 'NOUN'), (',', '.'), ('but', 'CONJ'), (',', '.'), ('as', 'ADP'), ('Mr.', 'NOUN'), ('Pratt', 'NOUN'), ('noted', 'VERB'), ('0', 'X'), ('*T*-1', 'X'), (',', '.'), ('people', 'NOUN'), ('have', 'VERB'), ('their', 'PRON'), ('own', 'ADJ'), ('ideas', 'NOUN'), ('about', 'ADP'), ('value', 'NOUN'), ('.', '.')]\n"
     ]
    }
   ],
   "source": [
    "time_taken = test_evaluate(Viterbi_Using_Transition, valdn_tagged_words)[0]\n",
    "valdn_seq_mod1 = test_evaluate(Viterbi_Using_Transition, valdn_tagged_words)[1]\n",
    "print(\"Evaluation time taken (in seconds) for Viterbi modified using transition probability on validation set: \",time_taken)\n",
    "print(valdn_seq_mod1)"
   ]
  },
  {
   "cell_type": "markdown",
   "metadata": {},
   "source": [
    "### Calculating Accuracy of Validation Data"
   ]
  },
  {
   "cell_type": "code",
   "execution_count": 46,
   "metadata": {},
   "outputs": [
    {
     "name": "stdout",
     "output_type": "stream",
     "text": [
      "Accuracy of Viterbi modified using Transition Probability over Validation Data : 93.31 %\n"
     ]
    }
   ],
   "source": [
    "accu = get_accuracy(valdn_seq_mod1, valdn_run_base)\n",
    "print(\"Accuracy of Viterbi modified using Transition Probability over Validation Data :\", round(accu * 100,2),\"%\")"
   ]
  },
  {
   "cell_type": "markdown",
   "metadata": {},
   "source": [
    "### Validation Data - TEST CASES\n",
    "### Word Tags corrected by Viterbi modified using only transition probabilities of unknown words"
   ]
  },
  {
   "cell_type": "markdown",
   "metadata": {},
   "source": [
    "#### TEST CASE 1"
   ]
  },
  {
   "cell_type": "code",
   "execution_count": 66,
   "metadata": {
    "scrolled": true
   },
   "outputs": [
    {
     "name": "stdout",
     "output_type": "stream",
     "text": [
      "Word - \"Birmingham\" corrected by Viterbi Modified using transition probabilities of unknown words\n",
      "Viterbi - Incorrect word Tag:  ('Birmingham', 'NUM')\n",
      "Viterbi Modified using transition probabilities of unknown words - Corrected word Tag:  ('Birmingham', 'NOUN')\n"
     ]
    }
   ],
   "source": [
    "# Test Case 1\n",
    "print(\"Word - \\\"Birmingham\\\" corrected by Viterbi Modified using transition probabilities of unknown words\")\n",
    "print(\"Viterbi - Incorrect word Tag: \",get_tag(\"Birmingham\", valdn_seq_Viterbi))\n",
    "print(\"Viterbi Modified using transition probabilities of unknown words - Corrected word Tag: \",get_tag(\"Birmingham\", valdn_seq_mod1))"
   ]
  },
  {
   "cell_type": "markdown",
   "metadata": {},
   "source": [
    "#### POS tag of the word Birmingham being name of a place is corrected to 'NOUN' tag"
   ]
  },
  {
   "cell_type": "markdown",
   "metadata": {},
   "source": [
    "#### TEST CASE 2"
   ]
  },
  {
   "cell_type": "code",
   "execution_count": 67,
   "metadata": {
    "scrolled": true
   },
   "outputs": [
    {
     "name": "stdout",
     "output_type": "stream",
     "text": [
      "Word - \"safeguarding\" corrected by Viterbi Modified using transition probabilities of unknown words\n",
      "Viterbi - Incorrect word Tag:  ('safeguarding', 'NUM')\n",
      "Viterbi Modified using transition probabilities of unknown words - Corrected word Tag:  ('safeguarding', 'VERB')\n"
     ]
    }
   ],
   "source": [
    "# Test Case 2\n",
    "print(\"Word - \\\"safeguarding\\\" corrected by Viterbi Modified using transition probabilities of unknown words\")\n",
    "print(\"Viterbi - Incorrect word Tag: \",get_tag(\"safeguarding\", valdn_seq_Viterbi))\n",
    "print(\"Viterbi Modified using transition probabilities of unknown words - Corrected word Tag: \",get_tag(\"safeguarding\", valdn_seq_mod1))"
   ]
  },
  {
   "cell_type": "markdown",
   "metadata": {},
   "source": [
    "#### The POS tag of the word 'safeguarding' is corrected to 'VERB' tag"
   ]
  },
  {
   "cell_type": "markdown",
   "metadata": {},
   "source": [
    "#### TEST CASE 3"
   ]
  },
  {
   "cell_type": "code",
   "execution_count": 68,
   "metadata": {},
   "outputs": [
    {
     "name": "stdout",
     "output_type": "stream",
     "text": [
      "Word - \"ignored\" corrected by Viterbi Modified using transition probabilities of unknown words\n",
      "Viterbi - Incorrect word Tag:  ('ignored', 'NUM')\n",
      "Viterbi Modified using transition probabilities of unknown words - Corrected word Tag:  ('ignored', 'VERB')\n"
     ]
    }
   ],
   "source": [
    "# Test Case 3\n",
    "print(\"Word - \\\"ignored\\\" corrected by Viterbi Modified using transition probabilities of unknown words\")\n",
    "print(\"Viterbi - Incorrect word Tag: \",get_tag(\"ignored\", valdn_seq_Viterbi))\n",
    "print(\"Viterbi Modified using transition probabilities of unknown words - Corrected word Tag: \",get_tag(\"ignored\", valdn_seq_mod1))"
   ]
  },
  {
   "cell_type": "markdown",
   "metadata": {},
   "source": [
    "#### The POS tag of the word 'ignored' is corrected to 'VERB' tag"
   ]
  },
  {
   "cell_type": "markdown",
   "metadata": {},
   "source": [
    "### Viterbi modified Using only Transition Probability of unknown words"
   ]
  },
  {
   "cell_type": "markdown",
   "metadata": {},
   "source": [
    "### Evaluation on sample data set"
   ]
  },
  {
   "cell_type": "code",
   "execution_count": 50,
   "metadata": {},
   "outputs": [
    {
     "name": "stdout",
     "output_type": "stream",
     "text": [
      "Evaluation time taken (in seconds) for Viterbi using transition probability on sample test data:  67.8572587966919\n",
      "[('Android', 'NOUN'), ('is', 'VERB'), ('a', 'DET'), ('mobile', 'ADJ'), ('operating', 'NOUN'), ('system', 'NOUN'), ('developed', 'VERB'), ('by', 'ADP'), ('Google', 'DET'), ('.', '.'), ('Android', 'NOUN'), ('has', 'VERB'), ('been', 'VERB'), ('the', 'DET'), ('best-selling', 'ADJ'), ('OS', 'NOUN'), ('worldwide', 'NOUN'), ('on', 'ADP'), ('smartphones', 'DET'), ('since', 'ADP'), ('2011', 'DET'), ('and', 'CONJ'), ('on', 'ADP'), ('tablets', 'NOUN'), ('since', 'ADP'), ('2013', 'DET'), ('.', '.'), ('Google', 'NOUN'), ('and', 'CONJ'), ('Twitter', 'NOUN'), ('made', 'VERB'), ('a', 'DET'), ('deal', 'NOUN'), ('in', 'ADP'), ('2015', 'DET'), ('that', 'ADP'), ('gave', 'VERB'), ('Google', 'X'), ('access', 'NOUN'), ('to', 'PRT'), ('Twitter', 'VERB'), (\"'s\", 'PRT'), ('firehose', 'VERB'), ('.', '.'), ('Twitter', 'NOUN'), ('is', 'VERB'), ('an', 'DET'), ('online', 'NOUN'), ('news', 'NOUN'), ('and', 'CONJ'), ('social', 'ADJ'), ('networking', 'NOUN'), ('service', 'NOUN'), ('on', 'ADP'), ('which', 'DET'), ('users', 'NOUN'), ('post', 'NOUN'), ('and', 'CONJ'), ('interact', 'NOUN'), ('with', 'ADP'), ('messages', 'DET'), ('known', 'VERB'), ('as', 'ADP'), ('tweets', 'DET'), ('.', '.'), ('Before', 'ADP'), ('entering', 'VERB'), ('politics', 'NOUN'), (',', '.'), ('Donald', 'NOUN'), ('Trump', 'NOUN'), ('was', 'VERB'), ('a', 'DET'), ('domineering', 'NOUN'), ('businessman', 'NOUN'), ('and', 'CONJ'), ('a', 'DET'), ('television', 'NOUN'), ('personality', 'NOUN'), ('.', '.'), ('The', 'DET'), ('2018', 'NOUN'), ('FIFA', 'NOUN'), ('World', 'NOUN'), ('Cup', 'NOUN'), ('is', 'VERB'), ('the', 'DET'), ('21st', 'NOUN'), ('FIFA', 'NOUN'), ('World', 'NOUN'), ('Cup', 'NOUN'), (',', '.'), ('an', 'DET'), ('international', 'ADJ'), ('football', 'NOUN'), ('tournament', 'NOUN'), ('contested', 'NOUN'), ('once', 'ADV'), ('every', 'DET'), ('four', 'NUM'), ('years', 'NOUN'), ('.', '.'), ('This', 'DET'), ('is', 'VERB'), ('the', 'DET'), ('first', 'ADJ'), ('World', 'NOUN'), ('Cup', 'NOUN'), ('to', 'PRT'), ('be', 'VERB'), ('held', 'VERB'), ('in', 'ADP'), ('Eastern', 'NOUN'), ('Europe', 'NOUN'), ('and', 'CONJ'), ('the', 'DET'), ('11th', 'ADJ'), ('time', 'NOUN'), ('that', 'ADP'), ('it', 'PRON'), ('has', 'VERB'), ('been', 'VERB'), ('held', 'VERB'), ('in', 'ADP'), ('Europe', 'NOUN'), ('.', '.'), ('Show', 'NOUN'), ('me', 'PRON'), ('the', 'DET'), ('cheapest', 'ADJ'), ('round', 'NOUN'), ('trips', 'NOUN'), ('from', 'ADP'), ('Dallas', 'NOUN'), ('to', 'PRT'), ('Atlanta', 'NOUN'), ('I', 'PRON'), ('would', 'VERB'), ('like', 'ADP'), ('to', 'PRT'), ('see', 'VERB'), ('flights', 'NOUN'), ('from', 'ADP'), ('Denver', 'NOUN'), ('to', 'PRT'), ('Philadelphia', 'NOUN'), ('.', '.'), ('Show', 'NOUN'), ('me', 'PRON'), ('the', 'DET'), ('price', 'NOUN'), ('of', 'ADP'), ('the', 'DET'), ('flights', 'NOUN'), ('leaving', 'VERB'), ('Atlanta', 'NOUN'), ('at', 'ADP'), ('about', 'ADP'), ('3', 'NUM'), ('in', 'ADP'), ('the', 'DET'), ('afternoon', 'NOUN'), ('and', 'CONJ'), ('arriving', 'NOUN'), ('in', 'ADP'), ('San', 'NOUN'), ('Francisco', 'NOUN'), ('.', '.'), ('NASA', 'NOUN'), ('invited', 'NOUN'), ('social', 'ADJ'), ('media', 'NOUN'), ('users', 'NOUN'), ('to', 'PRT'), ('experience', 'NOUN'), ('the', 'DET'), ('launch', 'NOUN'), ('of', 'ADP'), ('ICESAT-2', 'DET'), ('Satellite', 'NOUN'), ('.', '.')]\n"
     ]
    }
   ],
   "source": [
    "time_taken = test_evaluate(Viterbi_Using_Transition, samp_file_words)[0]\n",
    "sample_seq_mod1 = test_evaluate(Viterbi_Using_Transition, samp_file_words)[1]\n",
    "print(\"Evaluation time taken (in seconds) for Viterbi using transition probability on sample test data: \",time_taken)\n",
    "print(sample_seq_mod1)"
   ]
  },
  {
   "cell_type": "markdown",
   "metadata": {},
   "source": [
    "### Calculating accuracy on sample test data"
   ]
  },
  {
   "cell_type": "code",
   "execution_count": 51,
   "metadata": {},
   "outputs": [
    {
     "name": "stdout",
     "output_type": "stream",
     "text": [
      "Accuracy of Viterbi Modified Using Transition probability over Sample Test Data : 86.74 %\n"
     ]
    }
   ],
   "source": [
    "accu = get_accuracy(sample_seq_mod1, sample_tagged_words)   \n",
    "print(\"Accuracy of Viterbi Modified Using Transition probability over Sample Test Data :\", round(accu * 100,2),\"%\")"
   ]
  },
  {
   "cell_type": "markdown",
   "metadata": {},
   "source": [
    "### Sample Test Data  - TEST CASES\n",
    "### Word Tags corrected by Viterbi modified using only transition probabilities of unknown words"
   ]
  },
  {
   "cell_type": "markdown",
   "metadata": {},
   "source": [
    "#### TEST CASE 1"
   ]
  },
  {
   "cell_type": "code",
   "execution_count": 69,
   "metadata": {},
   "outputs": [
    {
     "name": "stdout",
     "output_type": "stream",
     "text": [
      "Word - \"Android\" corrected by Viterbi Modified using transition probabilities of unknown words\n",
      "Viterbi - Incorrect word Tag:  ('Android', 'NUM')\n",
      "Viterbi Modified using transition probabilities of unknown words - Corrected word Tag:  ('Android', 'NOUN')\n"
     ]
    }
   ],
   "source": [
    "# Test Case 1\n",
    "print(\"Word - \\\"Android\\\" corrected by Viterbi Modified using transition probabilities of unknown words\")\n",
    "print(\"Viterbi - Incorrect word Tag: \",get_tag(\"Android\", sample_seq_Viterbi))\n",
    "print(\"Viterbi Modified using transition probabilities of unknown words - Corrected word Tag: \",get_tag(\"Android\", sample_seq_mod1))"
   ]
  },
  {
   "cell_type": "markdown",
   "metadata": {},
   "source": [
    "#### The POS tag of the word 'Android' corrected to 'NOUN' tag"
   ]
  },
  {
   "cell_type": "markdown",
   "metadata": {},
   "source": [
    "#### TEST CASE 2"
   ]
  },
  {
   "cell_type": "code",
   "execution_count": 73,
   "metadata": {},
   "outputs": [
    {
     "name": "stdout",
     "output_type": "stream",
     "text": [
      "Word - \"tournament\" corrected by Viterbi Modified using transition probabilities of unknown words\n",
      "Viterbi - Incorrect word Tag:  ('tournament', 'NUM')\n",
      "Viterbi Modified using transition probabilities of unknown words - Corrected word Tag:  ('tournament', 'NOUN')\n"
     ]
    }
   ],
   "source": [
    "# Test Case 2\n",
    "print(\"Word - \\\"tournament\\\" corrected by Viterbi Modified using transition probabilities of unknown words\")\n",
    "print(\"Viterbi - Incorrect word Tag: \",get_tag(\"tournament\", sample_seq_Viterbi))\n",
    "print(\"Viterbi Modified using transition probabilities of unknown words - Corrected word Tag: \",get_tag(\"tournament\", sample_seq_mod1))"
   ]
  },
  {
   "cell_type": "markdown",
   "metadata": {},
   "source": [
    "#### The POS tag of the word 'tournament' corrected to 'NOUN' tag"
   ]
  },
  {
   "cell_type": "markdown",
   "metadata": {},
   "source": [
    "#### TEST CASE 3"
   ]
  },
  {
   "cell_type": "code",
   "execution_count": 74,
   "metadata": {},
   "outputs": [
    {
     "name": "stdout",
     "output_type": "stream",
     "text": [
      "Word - \"Satellite\" corrected by Viterbi Modified using transition probabilities of unknown words\n",
      "Viterbi - Incorrect word Tag:  ('Satellite', 'NUM')\n",
      "Viterbi Modified using transition probabilities of unknown words - Corrected word Tag:  ('Satellite', 'NOUN')\n"
     ]
    }
   ],
   "source": [
    "# Test Case 3\n",
    "print(\"Word - \\\"Satellite\\\" corrected by Viterbi Modified using transition probabilities of unknown words\")\n",
    "print(\"Viterbi - Incorrect word Tag: \",get_tag(\"Satellite\", sample_seq_Viterbi))\n",
    "print(\"Viterbi Modified using transition probabilities of unknown words - Corrected word Tag: \",get_tag(\"Satellite\", sample_seq_mod1))"
   ]
  },
  {
   "cell_type": "markdown",
   "metadata": {},
   "source": [
    "#### The POS tag of the word 'Satellite' corrected to NOUN"
   ]
  },
  {
   "cell_type": "markdown",
   "metadata": {},
   "source": [
    "## Modification2 - Viterbi modified for POS Tagging of unknown words using rule based approach "
   ]
  },
  {
   "cell_type": "markdown",
   "metadata": {},
   "source": [
    "### Evaluation on Validation Set"
   ]
  },
  {
   "cell_type": "code",
   "execution_count": 55,
   "metadata": {},
   "outputs": [
    {
     "name": "stdout",
     "output_type": "stream",
     "text": [
      "Evaluation time taken (in seconds) for Viterbi using rule based tagging on validation data:  1779.8907177448273\n",
      "[('Investors', 'NOUN'), ('took', 'VERB'), ('advantage', 'NOUN'), ('of', 'ADP'), ('Tuesday', 'NOUN'), (\"'s\", 'PRT'), ('stock', 'NOUN'), ('rally', 'NOUN'), ('*-1', 'X'), ('to', 'PRT'), ('book', 'NOUN'), ('some', 'DET'), ('profits', 'NOUN'), ('yesterday', 'NOUN'), (',', '.'), ('*-1', 'X'), ('leaving', 'VERB'), ('stocks', 'NOUN'), ('up', 'PRT'), ('fractionally', 'ADV'), ('.', '.'), ('Buying', 'VERB'), ('for', 'ADP'), ('the', 'DET'), ('most', 'ADJ'), ('part', 'NOUN'), ('carried', 'VERB'), ('over', 'ADP'), ('from', 'ADP'), ('the', 'DET'), ('previous', 'ADJ'), ('session', 'NOUN'), (',', '.'), ('and', 'CONJ'), ('traders', 'NOUN'), ('apparently', 'ADV'), ('ignored', 'VERB'), ('reports', 'NOUN'), ('that', 'ADP'), ('a', 'DET'), ('Chilean', 'ADJ'), ('mine', 'NOUN'), ('strike', 'NOUN'), ('may', 'VERB'), ('have', 'VERB'), ('ended', 'VERB'), ('almost', 'ADV'), ('before', 'ADP'), ('it', 'PRON'), ('began', 'VERB'), (',', '.'), ('an', 'DET'), ('analyst', 'NOUN'), ('said', 'VERB'), ('0', 'X'), ('*T*-1', 'X'), ('.', '.'), ('An', 'DET'), ('official', 'NOUN'), ('of', 'ADP'), ('the', 'DET'), ('Palestinian', 'ADJ'), ('Olympic', 'NOUN'), ('Committee', 'NOUN'), ('said', 'VERB'), ('0', 'X'), ('the', 'DET'), ('committee', 'NOUN'), ('first', 'ADJ'), ('applied', 'VERB'), ('for', 'ADP'), ('membership', 'NOUN'), ('in', 'ADP'), ('1979', 'NUM'), ('and', 'CONJ'), ('renewed', 'VERB'), ('its', 'PRON'), ('application', 'NOUN'), ('in', 'ADP'), ('August', 'NOUN'), ('of', 'ADP'), ('this', 'DET'), ('year', 'NOUN'), ('.', '.'), ('``', '.'), ('If', 'ADP'), ('I', 'PRON'), ('were', 'VERB'), ('choosing', 'VERB'), ('the', 'DET'), ('people', 'NOUN'), ('of', 'ADP'), ('tomorrow', 'NOUN'), (',', '.'), ('I', 'PRON'), ('would', 'VERB'), ('have', 'VERB'), ('chosen', 'VERB'), ('the', 'DET'), ('people', 'NOUN'), ('who', 'PRON'), ('*T*-1', 'X'), ('are', 'VERB'), ('now', 'ADV'), ('on', 'ADP'), ('the', 'DET'), ('board', 'NOUN'), (',', '.'), (\"''\", '.'), ('he', 'PRON'), ('said', 'VERB'), ('*T*-2', 'X'), ('.', '.'), ('Preston', 'NOUN'), ('G.', 'NOUN'), ('Foster', 'NOUN'), ('Birmingham', 'NOUN'), (',', '.'), ('Ala', 'NOUN'), ('.', '.'), ('``', '.'), ('He', 'PRON'), ('has', 'VERB'), ('clamped', 'VERB'), ('on', 'ADP'), ('their', 'PRON'), ('ankle', 'NOUN'), ('like', 'ADP'), ('a', 'DET'), ('pit', 'NOUN'), ('bull', 'NOUN'), (',', '.'), (\"''\", '.'), ('says', 'VERB'), ('*T*-1', 'X'), ('Paul', 'NOUN'), ('Leming', 'NOUN'), (',', '.'), ('a', 'DET'), ('vice', 'NOUN'), ('president', 'NOUN'), ('with', 'ADP'), ('Morgan', 'NOUN'), ('Stanley', 'NOUN'), ('&', 'CONJ'), ('Co', 'NOUN'), ('.', '.'), ('Brazil', 'NOUN'), ('is', 'VERB'), ('the', 'DET'), ('third-largest', 'NOUN'), ('producer', 'NOUN'), ('*RNR*-1', 'X'), ('and', 'CONJ'), ('the', 'DET'), ('fifth-largest', 'NOUN'), ('exporter', 'NOUN'), ('*RNR*-1', 'X'), ('of', 'ADP'), ('sugar', 'NOUN'), ('in', 'ADP'), ('the', 'DET'), ('world', 'NOUN'), ('.', '.'), ('The', 'DET'), ('man', 'NOUN'), ('was', 'VERB'), ('Charles', 'NOUN'), ('Z.', 'NOUN'), ('Wick', 'NOUN'), ('.', '.'), ('Reed', 'NOUN'), ('International', 'NOUN'), ('PLC', 'NOUN'), ('said', 'VERB'), ('that', 'ADP'), ('net', 'ADJ'), ('income', 'NOUN'), ('for', 'ADP'), ('the', 'DET'), ('six', 'NUM'), ('months', 'NOUN'), ('ended', 'VERB'), ('Oct.', 'NOUN'), ('1', 'NUM'), ('slipped', 'VERB'), ('5', 'NUM'), ('%', 'NOUN'), ('to', 'PRT'), ('#', '.'), ('89.7', 'NUM'), ('million', 'NUM'), ('*U*', 'X'), ('-LRB-', '.'), ('$', '.'), ('141.9', 'NUM'), ('million', 'NUM'), ('*U*', 'X'), ('-RRB-', '.'), (',', '.'), ('or', 'CONJ'), ('16', 'NUM'), ('pence', 'NOUN'), ('a', 'DET'), ('share', 'NOUN'), (',', '.'), ('from', 'ADP'), ('#', '.'), ('94.8', 'NUM'), ('million', 'NUM'), ('*U*', 'X'), ('-LRB-', '.'), ('$', '.'), ('149.9', 'NUM'), ('million', 'NUM'), ('*U*', 'X'), ('-RRB-', '.'), (',', '.'), ('or', 'CONJ'), ('17.3', 'NUM'), ('pence', 'NOUN'), ('a', 'DET'), ('share', 'NOUN'), ('.', '.'), ('South', 'NOUN'), ('Carolina', 'NOUN'), (\"'s\", 'PRT'), ('reforms', 'NOUN'), ('were', 'VERB'), ('designed', 'VERB'), ('*-1', 'X'), ('for', 'ADP'), ('schools', 'NOUN'), ('like', 'ADP'), ('Greenville', 'NOUN'), ('High', 'NOUN'), ('School', 'NOUN'), ('.', '.'), ('The', 'DET'), ('other', 'ADJ'), ('side', 'NOUN'), (',', '.'), ('he', 'PRON'), ('argues', 'VERB'), ('0', 'X'), ('*T*-1', 'X'), (',', '.'), ('``', '.'), ('knows', 'VERB'), ('0', 'X'), ('Giuliani', 'NOUN'), ('has', 'VERB'), ('always', 'ADV'), ('been', 'VERB'), ('pro-choice', 'ADJ'), (',', '.'), ('even', 'ADV'), ('though', 'ADP'), ('he', 'PRON'), ('has', 'VERB'), ('personal', 'ADJ'), ('reservations', 'NOUN'), ('.', '.'), ('`', '.'), ('*', 'X'), ('Sit', 'NOUN'), ('down', 'ADV'), ('!', '.'), ('The', 'DET'), ('British', 'ADJ'), ('Department', 'NOUN'), ('of', 'ADP'), ('Trade', 'NOUN'), ('and', 'CONJ'), ('Industry', 'NOUN'), ('ordered', 'VERB'), ('an', 'DET'), ('investigation', 'NOUN'), ('of', 'ADP'), ('the', 'DET'), ('competitive', 'ADJ'), ('impact', 'NOUN'), ('of', 'ADP'), ('Michelin', 'NOUN'), ('Tyre', 'NOUN'), ('PLC', 'NOUN'), (\"'s\", 'PRT'), ('planned', 'VERB'), ('acquisition', 'NOUN'), ('of', 'ADP'), ('National', 'NOUN'), ('Tyre', 'NOUN'), ('Service', 'NOUN'), ('Ltd', 'NOUN'), ('.', '.'), ('United', 'NOUN'), ('Illuminating', 'NOUN'), ('is', 'VERB'), ('based', 'VERB'), ('*-13', 'X'), ('in', 'ADP'), ('New', 'NOUN'), ('Haven', 'NOUN'), (',', '.'), ('Conn.', 'NOUN'), (',', '.'), ('and', 'CONJ'), ('Northeast', 'NOUN'), ('is', 'VERB'), ('based', 'VERB'), ('*-14', 'X'), ('in', 'ADP'), ('Hartford', 'NOUN'), (',', '.'), ('Conn', 'NOUN'), ('.', '.'), ('That', 'DET'), ('settlement', 'NOUN'), ('was', 'VERB'), ('in', 'ADP'), ('April', 'NOUN'), ('1987', 'NUM'), ('.', '.'), ('Also', 'ADV'), (',', '.'), ('the', 'DET'), ('reforms', 'NOUN'), ('allow', 'VERB'), ('the', 'DET'), ('Big', 'NOUN'), ('Board', 'NOUN'), ('to', 'PRT'), ('halt', 'NOUN'), ('trading', 'NOUN'), ('for', 'ADP'), ('one', 'NUM'), ('hour', 'NOUN'), ('if', 'ADP'), ('the', 'DET'), ('Dow', 'NOUN'), ('Jones', 'NOUN'), ('Industrial', 'NOUN'), ('Average', 'NOUN'), ('falls', 'VERB'), ('250', 'NUM'), ('points', 'NOUN'), (',', '.'), ('and', 'CONJ'), ('for', 'ADP'), ('two', 'NUM'), ('more', 'ADJ'), ('hours', 'NOUN'), ('if', 'ADP'), ('the', 'DET'), ('Dow', 'NOUN'), ('slides', 'NOUN'), ('an', 'DET'), ('additional', 'ADJ'), ('150', 'NUM'), ('points', 'NOUN'), ('on', 'ADP'), ('the', 'DET'), ('same', 'ADJ'), ('day', 'NOUN'), ('.', '.'), ('Currently', 'ADV'), (',', '.'), ('both', 'DET'), ('Massachusetts', 'NOUN'), ('and', 'CONJ'), ('Connecticut', 'NOUN'), (',', '.'), ('where', 'ADV'), ('most', 'ADJ'), ('of', 'ADP'), ('Bank', 'NOUN'), ('of', 'ADP'), ('New', 'NOUN'), ('England', 'NOUN'), (\"'s\", 'PRT'), ('operations', 'NOUN'), ('are', 'VERB'), ('*T*-1', 'X'), (',', '.'), ('allow', 'VERB'), ('interstate', 'ADJ'), ('banking', 'NOUN'), ('only', 'ADV'), ('within', 'ADP'), ('New', 'NOUN'), ('England', 'NOUN'), ('.', '.'), ('She', 'PRON'), ('says', 'VERB'), ('0', 'X'), ('individual', 'ADJ'), ('Barnett', 'NOUN'), ('branches', 'NOUN'), ('can', 'VERB'), ('add', 'VERB'), ('different', 'ADJ'), ('benefits', 'NOUN'), ('*ICH*-1', 'X'), ('to', 'PRT'), ('their', 'PRON'), ('Seniors', 'NOUN'), ('Partners', 'NOUN'), ('package', 'NOUN'), ('--', '.'), ('such', 'ADJ'), ('as', 'ADP'), ('athletic', 'NOUN'), ('activities', 'NOUN'), ('or', 'CONJ'), ('travel', 'NOUN'), ('clubs', 'NOUN'), ('--', '.'), ('*-2', 'X'), ('to', 'PRT'), ('appeal', 'NOUN'), ('to', 'PRT'), ('local', 'ADJ'), ('market', 'NOUN'), ('interests', 'NOUN'), ('.', '.'), ('Last', 'ADJ'), ('year', 'NOUN'), (',', '.'), ('DSM', 'NOUN'), ('had', 'VERB'), ('71', 'NUM'), ('million', 'NUM'), ('guilders', 'NOUN'), ('of', 'ADP'), ('extraordinary', 'ADJ'), ('charges', 'NOUN'), ('for', 'ADP'), ('the', 'DET'), ('restructuring', 'NOUN'), ('program', 'NOUN'), ('and', 'CONJ'), ('other', 'ADJ'), ('transactions', 'NOUN'), ('.', '.'), ('Futures', 'NOUN'), ('prices', 'NOUN'), ('rose', 'VERB'), (',', '.'), ('*-1', 'X'), ('extending', 'VERB'), ('Tuesday', 'NOUN'), (\"'s\", 'PRT'), ('gains', 'NOUN'), ('.', '.'), ('Perhaps', 'ADV'), ('none', 'NOUN'), ('of', 'ADP'), ('the', 'DET'), ('unconstitutional', 'ADJ'), ('conditions', 'NOUN'), ('contained', 'VERB'), ('*', 'X'), ('in', 'ADP'), ('the', 'DET'), ('appropriations', 'NOUN'), ('bills', 'NOUN'), ('for', 'ADP'), ('fiscal', 'ADJ'), ('1990', 'NUM'), ('better', 'ADJ'), ('*ICH*-1', 'X'), ('illustrates', 'VERB'), ('Congress', 'NOUN'), (\"'s\", 'PRT'), ('attempt', 'VERB'), ('*', 'X'), ('to', 'PRT'), ('usurp', 'NOUN'), ('executive', 'ADJ'), ('power', 'NOUN'), ('than', 'ADP'), ('Section', 'NOUN'), ('609', 'NUM'), ('of', 'ADP'), ('the', 'DET'), ('executive-office', 'NOUN'), ('bill', 'NOUN'), (':', '.'), ('``', '.'), ('None', 'NOUN'), ('of', 'ADP'), ('the', 'DET'), ('funds', 'NOUN'), ('made', 'VERB'), ('*', 'X'), ('available', 'ADJ'), ('pursuant', 'ADJ'), ('to', 'PRT'), ('the', 'DET'), ('provisions', 'NOUN'), ('of', 'ADP'), ('this', 'DET'), ('Act', 'NOUN'), ('shall', 'VERB'), ('be', 'VERB'), ('used', 'VERB'), ('*-2', 'X'), ('*', 'X'), ('to', 'PRT'), ('implement', 'VERB'), (',', '.'), ('administer', 'NOUN'), (',', '.'), ('or', 'CONJ'), ('enforce', 'VERB'), ('any', 'DET'), ('regulation', 'NOUN'), ('which', 'DET'), ('*T*-3', 'X'), ('has', 'VERB'), ('been', 'VERB'), ('disapproved', 'VERB'), ('*-58', 'NOUN'), ('pursuant', 'ADJ'), ('to', 'PRT'), ('a', 'DET'), ('resolution', 'NOUN'), ('of', 'ADP'), ('disapproval', 'NOUN'), ('duly', 'ADV'), ('adopted', 'VERB'), ('*', 'X'), ('in', 'ADP'), ('accordance', 'NOUN'), ('with', 'ADP'), ('the', 'DET'), ('applicable', 'NOUN'), ('law', 'NOUN'), ('of', 'ADP'), ('the', 'DET'), ('United', 'NOUN'), ('States', 'NOUN'), ('.', '.'), (\"''\", '.'), ('Mead', 'NOUN'), ('rose', 'VERB'), ('3\\\\/4', 'NUM'), ('to', 'PRT'), ('39', 'NUM'), ('1\\\\/2', 'NUM'), (',', '.'), ('Federal', 'NOUN'), ('Paper', 'NOUN'), ('Board', 'NOUN'), ('added', 'VERB'), ('1\\\\/2', 'NUM'), ('to', 'PRT'), ('24', 'NUM'), ('3\\\\/8', 'NUM'), ('and', 'CONJ'), ('Scott', 'NOUN'), ('Paper', 'NOUN'), ('gained', 'VERB'), ('1\\\\/2', 'NUM'), ('to', 'PRT'), ('48', 'NUM'), ('3\\\\/8', 'NUM'), (',', '.'), ('while', 'ADP'), ('International', 'NOUN'), ('Paper', 'NOUN'), ('fell', 'VERB'), ('7\\\\/8', 'NUM'), ('to', 'PRT'), ('48', 'NUM'), ('7\\\\/8', 'NUM'), (',', '.'), ('Champion', 'NOUN'), ('International', 'NOUN'), ('lost', 'VERB'), ('3\\\\/8', 'NUM'), ('to', 'PRT'), ('31', 'NUM'), ('1\\\\/2', 'NUM'), ('and', 'CONJ'), ('Louisiana-Pacific', 'NOUN'), ('dropped', 'VERB'), ('1\\\\/8', 'NUM'), ('to', 'PRT'), ('40', 'NUM'), ('1\\\\/4', 'NUM'), ('.', '.'), ('In', 'ADP'), ('composite', 'ADJ'), ('trading', 'NOUN'), ('on', 'ADP'), ('the', 'DET'), ('New', 'NOUN'), ('York', 'NOUN'), ('Stock', 'NOUN'), ('Exchange', 'NOUN'), ('yesterday', 'NOUN'), (',', '.'), ('Comprehensive', 'NOUN'), ('Care', 'NOUN'), ('closed', 'VERB'), ('at', 'ADP'), ('$', '.'), ('3.75', 'NUM'), ('*U*', 'X'), ('a', 'DET'), ('share', 'NOUN'), (',', '.'), ('up', 'ADV'), ('12.5', 'NUM'), ('cents', 'NOUN'), ('.', '.'), ('Campbell', 'NOUN'), ('Soup', 'NOUN'), (',', '.'), ('not', 'ADV'), ('surprisingly', 'ADV'), (',', '.'), ('does', 'VERB'), (\"n't\", 'ADV'), ('have', 'VERB'), ('any', 'DET'), ('plans', 'NOUN'), ('*', 'X'), ('to', 'PRT'), ('advertise', 'VERB'), ('in', 'ADP'), ('the', 'DET'), ('magazine', 'NOUN'), (',', '.'), ('according', 'VERB'), ('to', 'PRT'), ('its', 'PRON'), ('spokesman', 'NOUN'), ('.', '.'), ('I', 'PRON'), ('believe', 'VERB'), ('0', 'X'), ('you', 'PRON'), ('have', 'VERB'), ('*-1', 'X'), ('to', 'PRT'), ('use', 'VERB'), ('the', 'DET'), ('system', 'NOUN'), ('*-2', 'X'), ('to', 'PRT'), ('change', 'VERB'), ('it', 'PRON'), ('.', '.'), ('Five', 'NOUN'), ('things', 'NOUN'), ('0', 'X'), ('you', 'PRON'), ('can', 'VERB'), ('do', 'VERB'), ('*T*-1', 'X'), ('for', 'ADP'), ('$', '.'), ('15,000', 'NUM'), ('*U*', 'X'), ('or', 'CONJ'), ('less', 'ADJ'), (':', '.'), ('The', 'DET'), ('House', 'NOUN'), ('approved', 'VERB'), ('an', 'DET'), ('amendment', 'NOUN'), ('offered', 'VERB'), ('*', 'X'), ('by', 'ADP'), ('Rep.', 'NOUN'), ('Peter', 'NOUN'), ('DeFazio', 'NOUN'), ('-LRB-', '.'), ('D.', 'NOUN'), (',', '.'), ('Ore.', 'NOUN'), ('-RRB-', '.'), ('that', 'DET'), ('*T*-1', 'X'), ('would', 'VERB'), (',', '.'), ('in', 'ADP'), ('addition', 'NOUN'), ('to', 'PRT'), ('the', 'DET'), ('previous', 'ADJ'), ('criteria', 'NOUN'), (',', '.'), ('also', 'ADV'), ('require', 'VERB'), ('the', 'DET'), ('department', 'NOUN'), ('to', 'PRT'), ('block', 'VERB'), ('the', 'DET'), ('acquisition', 'NOUN'), ('of', 'ADP'), ('an', 'DET'), ('airline', 'NOUN'), ('if', 'ADP'), ('the', 'DET'), ('added', 'VERB'), ('debt', 'NOUN'), ('incurred', 'VERB'), ('*', 'X'), ('were', 'VERB'), ('likely', 'ADJ'), ('*-2', 'X'), ('to', 'PRT'), ('result', 'VERB'), ('in', 'ADP'), ('a', 'DET'), ('reduction', 'NOUN'), ('in', 'ADP'), ('the', 'DET'), ('number', 'NOUN'), ('of', 'ADP'), ('the', 'DET'), ('carrier', 'NOUN'), (\"'s\", 'PRT'), ('employees', 'NOUN'), (',', '.'), ('or', 'CONJ'), ('their', 'PRON'), ('wages', 'NOUN'), ('or', 'CONJ'), ('benefits', 'NOUN'), ('.', '.'), ('Proper', 'NOUN'), ('English', 'ADJ'), ('bells', 'NOUN'), ('are', 'VERB'), ('started', 'VERB'), ('*-1', 'X'), ('off', 'PRT'), ('in', 'ADP'), ('``', '.'), ('rounds', 'NOUN'), (',', '.'), (\"''\", '.'), ('from', 'ADP'), ('the', 'DET'), ('highest-pitched', 'VERB'), ('bell', 'NOUN'), ('to', 'PRT'), ('the', 'DET'), ('lowest', 'ADJ'), ('--', '.'), ('a', 'DET'), ('simple', 'ADJ'), ('descending', 'VERB'), ('scale', 'NOUN'), ('using', 'VERB'), (',', '.'), ('in', 'ADP'), ('larger', 'ADJ'), ('churches', 'NOUN'), (',', '.'), ('as', 'ADP'), ('many', 'ADJ'), ('as', 'ADP'), ('12', 'NUM'), ('bells', 'NOUN'), ('.', '.'), ('The', 'DET'), ('other', 'ADJ'), ('concern', 'NOUN'), ('was', 'VERB'), (\"n't\", 'ADV'), ('identified', 'VERB'), ('.', '.'), ('Mr.', 'NOUN'), ('Hahn', 'NOUN'), (',', '.'), ('the', 'DET'), ('62-year-old', 'NOUN'), ('chairman', 'NOUN'), ('and', 'CONJ'), ('chief', 'NOUN'), ('executive', 'NOUN'), ('officer', 'NOUN'), ('of', 'ADP'), ('Georgia-Pacific', 'NOUN'), ('Corp.', 'NOUN'), ('is', 'VERB'), ('leading', 'VERB'), ('the', 'DET'), ('forest-product', 'NOUN'), ('concern', 'NOUN'), (\"'s\", 'PRT'), ('unsolicited', 'VERB'), ('$', '.'), ('3.19', 'NUM'), ('billion', 'NUM'), ('*U*', 'X'), ('bid', 'VERB'), ('for', 'ADP'), ('Great', 'NOUN'), ('Northern', 'NOUN'), ('Nekoosa', 'NOUN'), ('Corp', 'NOUN'), ('.', '.'), ('``', '.'), ('The', 'DET'), ('record', 'NOUN'), ('of', 'ADP'), ('companies', 'NOUN'), ('that', 'ADP'), ('*T*-8', 'X'), ('have', 'VERB'), ('diversified', 'ADJ'), ('is', 'VERB'), (\"n't\", 'ADV'), ('all', 'DET'), ('that', 'ADP'), ('impressive', 'NOUN'), (',', '.'), (\"''\", '.'), ('he', 'PRON'), ('says', 'VERB'), ('*T*-1', 'X'), ('.', '.'), ('But', 'CONJ'), ('rather', 'ADV'), ('than', 'ADP'), ('*', 'X'), ('sell', 'VERB'), ('new', 'ADJ'), ('30-year', 'ADJ'), ('bonds', 'NOUN'), (',', '.'), ('the', 'DET'), ('Treasury', 'NOUN'), ('will', 'VERB'), ('issue', 'NOUN'), ('$', '.'), ('10', 'NUM'), ('billion', 'NUM'), ('*U*', 'X'), ('of', 'ADP'), ('29year', 'NOUN'), (',', '.'), ('nine-month', 'NOUN'), ('bonds', 'NOUN'), ('--', '.'), ('*-2', 'X'), ('essentially', 'ADV'), ('increasing', 'VERB'), ('the', 'DET'), ('size', 'NOUN'), ('of', 'ADP'), ('the', 'DET'), ('current', 'ADJ'), ('benchmark', 'NOUN'), ('30-year', 'ADJ'), ('bond', 'NOUN'), ('that', 'ADP'), ('*T*-3', 'X'), ('was', 'VERB'), ('sold', 'VERB'), ('*-1', 'X'), ('at', 'ADP'), ('the', 'DET'), ('previous', 'ADJ'), ('refunding', 'NOUN'), ('in', 'ADP'), ('August', 'NOUN'), ('.', '.'), ('ECONOMIC', 'NOUN'), ('GROWTH', 'NOUN'), ('APPEARS', 'NOUN'), ('*-1', 'X'), ('to', 'PRT'), ('be', 'VERB'), ('leveling', 'VERB'), ('off', 'PRT'), (',', '.'), ('latest', 'ADJ'), ('reports', 'NOUN'), ('suggest', 'VERB'), ('0', 'X'), ('*T*-2', 'X'), ('.', '.'), ('And', 'CONJ'), (',', '.'), ('of', 'ADP'), ('course', 'NOUN'), (',', '.'), ('there', 'DET'), (\"'s\", 'VERB'), ('that', 'ADP'), ('word', 'NOUN'), ('``', '.'), ('dissemination', 'NOUN'), ('.', '.'), (\"''\", '.'), ('Michelin', 'NOUN'), ('Tyre', 'NOUN'), ('is', 'VERB'), ('a', 'DET'), ('unit', 'NOUN'), ('of', 'ADP'), ('France', 'NOUN'), (\"'s\", 'PRT'), ('Michelin', 'NOUN'), ('S.A', 'NOUN'), ('.', '.'), ('In', 'ADP'), ('the', 'DET'), ('coming', 'VERB'), ('decade', 'NOUN'), (',', '.'), ('analysts', 'NOUN'), ('say', 'VERB'), ('0', 'X'), ('*T*-2', 'X'), (',', '.'), ('U.S.-Japanese', 'NOUN'), ('relations', 'NOUN'), ('will', 'VERB'), ('be', 'VERB'), ('tested', 'VERB'), ('*-1', 'X'), ('as', 'ADP'), ('Tokyo', 'NOUN'), ('comes', 'VERB'), ('to', 'PRT'), ('terms', 'NOUN'), ('with', 'ADP'), ('its', 'PRON'), ('new', 'ADJ'), ('status', 'NOUN'), ('as', 'ADP'), ('the', 'DET'), ('region', 'NOUN'), (\"'s\", 'PRT'), ('economic', 'ADJ'), ('behemoth', 'NOUN'), ('.', '.'), ('Integra', 'NOUN'), (',', '.'), ('which', 'DET'), ('*T*-174', 'NOUN'), ('owns', 'VERB'), ('and', 'CONJ'), ('operates', 'VERB'), ('hotels', 'NOUN'), (',', '.'), ('said', 'VERB'), ('that', 'ADP'), ('Hallwood', 'NOUN'), ('Group', 'NOUN'), ('Inc.', 'NOUN'), ('has', 'VERB'), ('agreed', 'VERB'), ('*-1', 'X'), ('to', 'PRT'), ('exercise', 'VERB'), ('any', 'DET'), ('rights', 'NOUN'), ('that', 'ADP'), ('*T*-175', 'NOUN'), ('are', 'VERB'), (\"n't\", 'ADV'), ('exercised', 'VERB'), ('*-2', 'X'), ('by', 'ADP'), ('other', 'ADJ'), ('shareholders', 'NOUN'), ('.', '.'), ('A', 'DET'), ('seat', 'NOUN'), ('on', 'ADP'), ('the', 'DET'), ('Chicago', 'NOUN'), ('Board', 'NOUN'), ('of', 'ADP'), ('Trade', 'NOUN'), ('was', 'VERB'), ('sold', 'VERB'), ('*-1', 'X'), ('for', 'ADP'), ('$', '.'), ('350,000', 'NUM'), ('*U*', 'X'), (',', '.'), ('down', 'ADV'), ('$', '.'), ('16,000', 'NUM'), ('*U*', 'X'), ('from', 'ADP'), ('the', 'DET'), ('previous', 'ADJ'), ('sale', 'NOUN'), ('last', 'ADJ'), ('Friday', 'NOUN'), ('.', '.'), ('Most', 'ADJ'), ('in', 'ADP'), ('demand', 'NOUN'), (':', '.'), ('classic', 'ADJ'), ('photographs', 'NOUN'), ('by', 'ADP'), ('masters', 'NOUN'), ('such', 'ADJ'), ('as', 'ADP'), ('Stieglitz', 'NOUN'), ('and', 'CONJ'), ('Man', 'NOUN'), ('Ray', 'NOUN'), ('.', '.'), ('Not', 'ADV'), ('only', 'ADV'), ('is', 'VERB'), ('development', 'NOUN'), ('of', 'ADP'), ('the', 'DET'), ('new', 'ADJ'), ('company', 'NOUN'), (\"'s\", 'PRT'), ('initial', 'ADJ'), ('machine', 'NOUN'), ('tied', 'VERB'), ('*-1', 'X'), ('directly', 'ADV'), ('to', 'PRT'), ('Mr.', 'NOUN'), ('Cray', 'NOUN'), (',', '.'), ('so', 'ADV'), ('is', 'VERB'), ('*T*-2', 'X'), ('its', 'PRON'), ('balance', 'NOUN'), ('sheet', 'NOUN'), ('.', '.'), ('Tiny', 'NOUN'), ('Tots', 'NOUN'), ('Inc.', 'NOUN'), (',', '.'), ('Campbell', 'NOUN'), (',', '.'), ('Calif.', 'NOUN'), (',', '.'), ('says', 'VERB'), ('0', 'X'), ('business', 'NOUN'), ('is', 'VERB'), ('up', 'ADV'), ('35', 'NUM'), ('%', 'NOUN'), ('in', 'ADP'), ('the', 'DET'), ('past', 'ADJ'), ('year', 'NOUN'), ('.', '.'), ('``', '.'), ('She', 'PRON'), ('taught', 'VERB'), ('us', 'PRON'), ('more', 'ADJ'), ('in', 'ADP'), ('Western', 'ADJ'), ('Civilization', 'NOUN'), ('than', 'ADP'), ('I', 'PRON'), (\"'ve\", 'VERB'), ('ever', 'ADV'), ('learned', 'VERB'), ('in', 'ADP'), ('other', 'ADJ'), ('classes', 'NOUN'), (',', '.'), (\"''\", '.'), ('says', 'VERB'), ('*T*-2', 'X'), ('Kelli', 'NOUN'), ('Green', 'NOUN'), (',', '.'), ('a', 'DET'), ('Greenville', 'NOUN'), ('senior', 'ADJ'), ('.', '.'), ('A', 'DET'), ('spokesman', 'NOUN'), ('declined', 'VERB'), ('*-1', 'X'), ('to', 'PRT'), ('speculate', 'NOUN'), ('about', 'ADP'), ('possible', 'ADJ'), ('reductions', 'NOUN'), ('in', 'ADP'), ('force', 'NOUN'), ('.', '.'), ('And', 'CONJ'), ('consumer', 'NOUN'), ('groups', 'NOUN'), ('hope', 'VERB'), ('that', 'ADP'), ('Judge', 'NOUN'), ('Curry', 'NOUN'), (\"'s\", 'PRT'), ('Byron', 'NOUN'), ('1', 'NUM'), ('order', 'NOUN'), ('may', 'VERB'), ('set', 'VERB'), ('a', 'DET'), ('precedent', 'NOUN'), ('for', 'ADP'), ('a', 'DET'), ('second', 'ADJ'), ('nuclear', 'ADJ'), ('rate', 'NOUN'), ('case', 'NOUN'), ('involving', 'VERB'), ('Commonwealth', 'NOUN'), ('Edison', 'NOUN'), (\"'s\", 'PRT'), ('Braidwood', 'NOUN'), ('2', 'NUM'), ('plant', 'NOUN'), ('.', '.'), ('Heritage', 'NOUN'), ('owns', 'VERB'), ('and', 'CONJ'), ('operates', 'VERB'), ('television', 'NOUN'), ('and', 'CONJ'), ('radio', 'NOUN'), ('stations', 'NOUN'), ('and', 'CONJ'), ('in-store', 'ADJ'), ('advertising', 'NOUN'), ('and', 'CONJ'), ('promotion', 'NOUN'), ('programs', 'NOUN'), ('.', '.'), ('The', 'DET'), ('protracted', 'ADJ'), ('downturn', 'NOUN'), ('reflects', 'VERB'), ('the', 'DET'), ('intensity', 'NOUN'), ('of', 'ADP'), ('Bank', 'NOUN'), ('of', 'ADP'), ('Japan', 'NOUN'), ('yen-support', 'NOUN'), ('intervention', 'NOUN'), ('since', 'ADP'), ('June', 'NOUN'), (',', '.'), ('when', 'ADV'), ('the', 'DET'), ('U.S.', 'NOUN'), ('currency', 'NOUN'), ('temporarily', 'ADV'), ('surged', 'VERB'), ('above', 'ADP'), ('the', 'DET'), ('150.00', 'NUM'), ('yen', 'NOUN'), ('level', 'NOUN'), ('*T*-1', 'X'), ('.', '.'), ('Any', 'DET'), ('money', 'NOUN'), ('in', 'ADP'), ('excess', 'ADJ'), ('of', 'ADP'), ('$', '.'), ('40', 'NUM'), ('million', 'NUM'), ('*U*', 'X'), ('collected', 'VERB'), ('*', 'X'), ('from', 'ADP'), ('the', 'DET'), ('fees', 'NOUN'), ('in', 'ADP'), ('fiscal', 'ADJ'), ('1990', 'NUM'), ('would', 'VERB'), ('go', 'VERB'), ('to', 'PRT'), ('the', 'DET'), ('Treasury', 'NOUN'), ('at', 'ADP'), ('large', 'ADJ'), ('.', '.'), ('Investor', 'NOUN'), ('Harold', 'NOUN'), ('Simmons', 'NOUN'), ('and', 'CONJ'), ('NL', 'NOUN'), ('Industries', 'NOUN'), ('Inc.', 'NOUN'), ('offered', 'VERB'), ('*-1', 'X'), ('to', 'PRT'), ('acquire', 'VERB'), ('Georgia', 'NOUN'), ('Gulf', 'NOUN'), ('Corp.', 'NOUN'), ('for', 'ADP'), ('$', '.'), ('50', 'NUM'), ('*U*', 'X'), ('a', 'DET'), ('share', 'NOUN'), (',', '.'), ('or', 'CONJ'), ('about', 'ADP'), ('$', '.'), ('1.1', 'NUM'), ('billion', 'NUM'), ('*U*', 'X'), (',', '.'), ('*-1', 'X'), ('stepping', 'VERB'), ('up', 'ADV'), ('the', 'DET'), ('pressure', 'NOUN'), ('on', 'ADP'), ('the', 'DET'), ('commodity', 'NOUN'), ('chemicals', 'NOUN'), ('concern', 'NOUN'), ('.', '.'), ('``', '.'), ('There', 'DET'), ('are', 'VERB'), ('no', 'DET'), ('smiles', 'VERB'), ('about', 'ADP'), ('this', 'DET'), ('bill', 'NOUN'), (',', '.'), (\"''\", '.'), ('Rep.', 'NOUN'), ('Pat', 'NOUN'), ('Williams', 'NOUN'), ('-LRB-', '.'), ('D.', 'NOUN'), (',', '.'), ('Mont', 'NOUN'), ('.', '.'), ('-RRB-', '.'), ('said', 'VERB'), ('*T*-1', 'X'), ('during', 'ADP'), ('House', 'NOUN'), ('floor', 'NOUN'), ('debate', 'NOUN'), ('yesterday', 'NOUN'), ('.', '.'), ('Some', 'DET'), ('analysts', 'NOUN'), ('say', 'VERB'), ('0', 'X'), ('investors', 'NOUN'), ('should', 'VERB'), ('run', 'VERB'), ('for', 'ADP'), ('the', 'DET'), ('exits', 'NOUN'), ('if', 'ADP'), ('a', 'DET'), ('sustained', 'VERB'), ('market', 'NOUN'), ('rebound', 'VERB'), ('pushes', 'VERB'), ('the', 'DET'), ('yield', 'NOUN'), ('below', 'ADP'), ('3', 'NUM'), ('%', 'NOUN'), ('.', '.'), ('*-1', 'X'), ('Left', 'NOUN'), ('*-3', 'X'), ('to', 'PRT'), ('its', 'PRON'), ('own', 'ADJ'), ('devices', 'NOUN'), (',', '.'), ('index', 'NOUN'), ('arbitrage', 'NOUN'), ('will', 'VERB'), ('become', 'VERB'), ('more', 'ADV'), ('and', 'CONJ'), ('more', 'ADJ'), ('efficient', 'ADJ'), (',', '.'), ('*-1', 'X'), ('making', 'VERB'), ('it', 'PRON'), ('harder', 'ADJ'), ('and', 'CONJ'), ('harder', 'ADJ'), ('0', 'X'), ('*', 'X'), ('to', 'PRT'), ('do', 'VERB'), ('*T*-2', 'X'), ('profitably', 'ADV'), ('.', '.'), ('The', 'DET'), ('banks', 'NOUN'), ('have', 'VERB'), ('28', 'NUM'), ('days', 'NOUN'), ('0', 'X'), ('*', 'X'), ('to', 'PRT'), ('file', 'VERB'), ('an', 'DET'), ('appeal', 'NOUN'), ('against', 'ADP'), ('the', 'DET'), ('ruling', 'NOUN'), ('*T*-2', 'X'), ('and', 'CONJ'), ('are', 'VERB'), ('expected', 'VERB'), ('*-1', 'X'), ('to', 'PRT'), ('do', 'VERB'), ('so', 'ADV'), ('shortly', 'ADV'), ('.', '.'), ('Critics', 'NOUN'), ('say', 'VERB'), ('0', 'X'), ('South', 'NOUN'), ('Carolina', 'NOUN'), ('is', 'VERB'), ('paying', 'VERB'), ('a', 'DET'), ('price', 'NOUN'), ('by', 'ADP'), ('*', 'X'), ('stressing', 'VERB'), ('improved', 'VERB'), ('test', 'NOUN'), ('scores', 'NOUN'), ('so', 'ADP'), ('much', 'ADJ'), ('.', '.'), ('Sandoz', 'NOUN'), ('Ltd.', 'NOUN'), ('has', 'VERB'), ('licensed', 'VERB'), ('certain', 'ADJ'), ('manufacturing', 'NOUN'), ('and', 'CONJ'), ('marketing', 'NOUN'), ('rights', 'NOUN'), ('for', 'ADP'), ('Interleukin-3', 'NOUN'), ('from', 'ADP'), ('Genetics', 'NOUN'), ('Institute', 'NOUN'), ('and', 'CONJ'), ('is', 'VERB'), ('conducting', 'VERB'), ('preclinical', 'NOUN'), ('studies', 'NOUN'), ('with', 'ADP'), ('it', 'PRON'), ('.', '.'), ('A', 'DET'), ('House', 'NOUN'), ('aide', 'NOUN'), ('suggested', 'VERB'), ('that', 'ADP'), ('Mr.', 'NOUN'), ('Phelan', 'NOUN'), ('was', 'VERB'), ('so', 'ADV'), ('``', '.'), ('vague', 'NOUN'), ('and', 'CONJ'), ('mushy', 'NOUN'), (\"''\", '.'), ('that', 'DET'), ('it', 'PRON'), ('was', 'VERB'), ('the', 'DET'), ('kind', 'NOUN'), ('of', 'ADP'), ('meeting', 'NOUN'), ('where', 'ADV'), ('people', 'NOUN'), ('of', 'ADP'), ('all', 'DET'), ('viewpoints', 'NOUN'), ('could', 'VERB'), ('``', '.'), ('come', 'VERB'), ('out', 'PRT'), ('*-2', 'X'), ('feeling', 'VERB'), ('good', 'ADJ'), ('*T*-1', 'X'), ('.', '.'), (\"''\", '.'), ('Wine', 'NOUN'), ('merchants', 'NOUN'), ('ca', 'VERB'), (\"n't\", 'ADV'), ('keep', 'VERB'), ('Roederer', 'NOUN'), ('Cristal', 'NOUN'), ('in', 'ADP'), ('stock', 'NOUN'), (',', '.'), ('but', 'CONJ'), ('they', 'PRON'), ('have', 'VERB'), ('*-1', 'X'), ('to', 'PRT'), ('push', 'VERB'), ('Salon', 'NOUN'), ('le', 'NOUN'), ('Mesnil', 'NOUN'), (',', '.'), ('*-2', 'X'), ('even', 'ADV'), ('lowering', 'VERB'), ('the', 'DET'), ('price', 'NOUN'), ('from', 'ADP'), ('$', '.'), ('115', 'NUM'), ('*U*', 'X'), ('to', 'PRT'), ('$', '.'), ('90', 'NUM'), ('*U*', 'X'), ('.', '.'), ('Many', 'ADJ'), ('people', 'NOUN'), (',', '.'), ('including', 'VERB'), ('the', 'DET'), ('Big', 'NOUN'), ('Board', 'NOUN'), (',', '.'), ('think', 'VERB'), ('that', 'ADP'), ('it', 'PRON'), (\"'s\", 'VERB'), ('too', 'ADV'), ('late', 'ADJ'), ('*', 'X'), ('to', 'PRT'), ('put', 'VERB'), ('the', 'DET'), ('genie', 'NOUN'), ('back', 'ADV'), ('in', 'ADP'), ('the', 'DET'), ('bottle', 'NOUN'), ('.', '.'), ('The', 'DET'), ('len', 'NOUN'), (\"'s\", 'PRT'), ('foldability', 'NOUN'), ('enables', 'VERB'), ('it', 'PRON'), ('to', 'PRT'), ('be', 'VERB'), ('inserted', 'VERB'), ('*-1', 'X'), ('in', 'ADP'), ('smaller', 'ADJ'), ('incisions', 'NOUN'), ('than', 'ADP'), ('*', 'X'), ('are', 'VERB'), ('now', 'ADV'), ('possible', 'ADJ'), ('for', 'ADP'), ('cataract', 'NOUN'), ('surgery', 'NOUN'), (',', '.'), ('the', 'DET'), ('eye', 'NOUN'), ('care', 'VERB'), ('and', 'CONJ'), ('skin', 'NOUN'), ('care', 'VERB'), ('concern', 'NOUN'), ('said', 'VERB'), ('0', 'X'), ('*T*-3', 'X'), ('.', '.'), ('If', 'ADP'), ('the', 'DET'), ('debts', 'NOUN'), ('are', 'VERB'), ('repaid', 'VERB'), ('*-49', 'X'), (',', '.'), ('it', 'PRON'), ('could', 'VERB'), ('clear', 'ADJ'), ('the', 'DET'), ('way', 'NOUN'), ('0', 'X'), ('for', 'ADP'), ('Soviet', 'ADJ'), ('bonds', 'NOUN'), ('to', 'PRT'), ('be', 'VERB'), ('sold', 'VERB'), ('*-50', 'X'), ('in', 'ADP'), ('the', 'DET'), ('U.S.', 'NOUN'), ('*T*-1', 'X'), ('.', '.'), ('On', 'ADP'), ('the', 'DET'), ('one', 'NUM'), ('hand', 'NOUN'), (',', '.'), ('Brazil', 'NOUN'), ('started', 'VERB'), ('an', 'DET'), ('ethanol', 'NOUN'), ('program', 'NOUN'), ('about', 'ADP'), ('15', 'NUM'), ('years', 'NOUN'), ('ago', 'ADP'), ('*-1', 'X'), ('to', 'PRT'), ('fuel', 'NOUN'), ('a', 'DET'), ('huge', 'ADJ'), ('portion', 'NOUN'), ('of', 'ADP'), ('its', 'PRON'), ('national', 'ADJ'), ('fleet', 'NOUN'), ('of', 'ADP'), ('cars', 'NOUN'), ('and', 'CONJ'), ('is', 'VERB'), ('now', 'ADV'), ('committed', 'VERB'), ('to', 'PRT'), ('this', 'DET'), ('program', 'NOUN'), ('.', '.'), ('Lucille', 'NOUN'), ('Gorman', 'NOUN'), (',', '.'), ('an', 'DET'), ('84-year-old', 'NOUN'), ('Chicago', 'NOUN'), ('housewife', 'NOUN'), (',', '.'), ('has', 'VERB'), ('become', 'VERB'), ('amazingly', 'NOUN'), ('immune', 'ADJ'), ('to', 'PRT'), ('stock-market', 'NOUN'), ('jolts', 'NOUN'), ('.', '.'), ('DISCOUNT', 'NOUN'), ('RATE', 'NOUN'), (':', '.'), ('7', 'NUM'), ('%', 'NOUN'), ('.', '.'), ('But', 'CONJ'), ('with', 'ADP'), ('the', 'DET'), ('end', 'NOUN'), ('of', 'ADP'), ('the', 'DET'), ('year', 'NOUN'), ('in', 'ADP'), ('sight', 'NOUN'), (',', '.'), ('money', 'NOUN'), ('managers', 'NOUN'), ('are', 'VERB'), ('eager', 'ADJ'), ('*-1', 'X'), ('to', 'PRT'), ('take', 'VERB'), ('profits', 'NOUN'), ('and', 'CONJ'), ('cut', 'VERB'), ('their', 'PRON'), ('risks', 'NOUN'), ('of', 'ADP'), ('*-2', 'X'), ('losing', 'VERB'), ('what', 'PRON'), ('for', 'ADP'), ('many', 'ADJ'), ('*T*-178', 'NOUN'), ('have', 'VERB'), ('been', 'VERB'), ('exceptionally', 'ADV'), ('good', 'ADJ'), ('returns', 'NOUN'), ('in', 'ADP'), ('Ms.', 'NOUN'), ('Kirkpatrick', 'NOUN'), (',', '.'), ('the', 'DET'), ('Journal', 'NOUN'), (\"'s\", 'PRT'), ('deputy', 'NOUN'), ('editorial', 'NOUN'), ('features', 'NOUN'), ('editor', 'NOUN'), (',', '.'), ('worked', 'VERB'), ('in', 'ADP'), ('Tokyo', 'NOUN'), ('for', 'ADP'), ('three', 'NUM'), ('years', 'NOUN'), ('.', '.'), ('Also', 'ADV'), (',', '.'), ('Mr.', 'NOUN'), ('Otero', 'NOUN'), ('was', 'VERB'), ('barred', 'VERB'), ('*-154', 'NOUN'), ('from', 'ADP'), ('association', 'NOUN'), ('with', 'ADP'), ('any', 'DET'), ('NASD', 'NOUN'), ('member', 'NOUN'), ('.', '.'), ('Sumitomo', 'NOUN'), ('Metal', 'NOUN'), ('Mining', 'NOUN'), ('fell', 'VERB'), ('five', 'NUM'), ('yen', 'NOUN'), ('to', 'PRT'), ('692', 'NUM'), ('and', 'CONJ'), ('Nippon', 'NOUN'), ('Mining', 'NOUN'), ('added', 'VERB'), ('15', 'NUM'), ('to', 'PRT'), ('960', 'NUM'), ('.', '.'), ('Prosecutors', 'NOUN'), ('need', 'VERB'), ('court', 'NOUN'), ('permission', 'NOUN'), ('*-1', 'X'), ('to', 'PRT'), ('obtain', 'VERB'), ('the', 'DET'), ('tax', 'NOUN'), ('returns', 'NOUN'), ('of', 'ADP'), ('an', 'DET'), ('individual', 'ADJ'), ('or', 'CONJ'), ('a', 'DET'), ('business', 'NOUN'), ('.', '.'), ('The', 'DET'), ('Purchasing', 'NOUN'), ('Management', 'NOUN'), ('Association', 'NOUN'), ('of', 'ADP'), ('Chicago', 'NOUN'), (\"'s\", 'PRT'), ('October', 'NOUN'), ('index', 'NOUN'), ('rose', 'VERB'), ('to', 'PRT'), ('51.6', 'NUM'), ('%', 'NOUN'), ('after', 'ADP'), ('three', 'NUM'), ('previous', 'ADJ'), ('months', 'NOUN'), ('of', 'ADP'), ('readings', 'NOUN'), ('below', 'ADP'), ('50', 'NUM'), ('%', 'NOUN'), ('.', '.'), ('Among', 'ADP'), ('the', 'DET'), ('lot', 'NOUN'), ('of', 'ADP'), ('them', 'PRON'), (',', '.'), ('not', 'ADV'), ('one', 'NUM'), ('is', 'VERB'), ('wrestling', 'VERB'), ('with', 'ADP'), ('good', 'ADJ'), ('and', 'CONJ'), ('evil', 'ADJ'), (',', '.'), ('or', 'CONJ'), ('especially', 'ADV'), ('intelligent', 'NOUN'), ('or', 'CONJ'), ('even', 'ADV'), ('temporarily', 'ADV'), ('insane', 'NOUN'), ('.', '.'), ('They', 'PRON'), ('take', 'VERB'), ('place', 'NOUN'), ('in', 'ADP'), ('government', 'NOUN'), ('programs', 'NOUN'), ('that', 'ADP'), ('*T*-1', 'X'), ('seem', 'VERB'), ('tailor-made', 'NOUN'), ('for', 'ADP'), ('corruption', 'NOUN'), ('.', '.'), ('But', 'CONJ'), ('some', 'DET'), ('investors', 'NOUN'), ('have', 'VERB'), ('used', 'VERB'), ('such', 'ADJ'), ('filings', 'NOUN'), ('*-1', 'X'), ('to', 'PRT'), ('boost', 'VERB'), ('the', 'DET'), ('value', 'NOUN'), ('of', 'ADP'), ('their', 'PRON'), ('stock', 'NOUN'), ('holdings', 'NOUN'), (',', '.'), ('which', 'DET'), ('--', '.'), ('without', 'ADP'), ('*-2', 'X'), ('buying', 'VERB'), ('more', 'ADV'), ('stock', 'NOUN'), ('--', '.'), ('they', 'PRON'), ('then', 'ADV'), ('sold', 'VERB'), ('*T*-3', 'X'), ('.', '.'), ('The', 'DET'), ('purhasing', 'VERB'), ('managers', 'NOUN'), (\"'\", 'PRT'), ('report', 'VERB'), ('also', 'ADV'), ('added', 'VERB'), ('evidence', 'NOUN'), ('that', 'ADP'), ('inflation', 'NOUN'), ('is', 'VERB'), ('under', 'ADP'), ('control', 'NOUN'), ('.', '.'), ('I', 'PRON'), ('mention', 'VERB'), ('the', 'DET'), ('picture', 'NOUN'), ('only', 'ADV'), ('because', 'ADP'), ('many', 'ADJ'), ('bad', 'ADJ'), ('movies', 'VERB'), ('have', 'VERB'), ('a', 'DET'), ('bright', 'ADJ'), ('spot', 'NOUN'), (',', '.'), ('and', 'CONJ'), ('this', 'DET'), ('one', 'NUM'), ('has', 'VERB'), ('Gregory', 'NOUN'), ('Peck', 'NOUN'), (',', '.'), ('in', 'ADP'), ('a', 'DET'), ('marvelously', 'NOUN'), ('loose', 'NOUN'), ('and', 'CONJ'), ('energetic', 'ADJ'), ('portrayal', 'NOUN'), ('of', 'ADP'), ('an', 'DET'), ('old', 'ADJ'), ('man', 'NOUN'), ('who', 'PRON'), ('*T*-71', 'X'), ('wants', 'VERB'), ('*-1', 'X'), ('to', 'PRT'), ('die', 'VERB'), ('the', 'DET'), ('way', 'NOUN'), ('0', 'X'), ('he', 'PRON'), ('wants', 'VERB'), ('*-2', 'X'), ('to', 'PRT'), ('die', 'VERB'), ('*T*-3', 'X'), ('.', '.'), ('The', 'DET'), ('company', 'NOUN'), (\"'s\", 'PRT'), ('work', 'VERB'), ('force', 'VERB'), ('will', 'VERB'), ('fall', 'VERB'), ('to', 'PRT'), ('about', 'ADP'), ('400', 'NUM'), ('people', 'NOUN'), ('.', '.'), ('Cataracts', 'NOUN'), ('refer', 'NOUN'), ('to', 'PRT'), ('a', 'DET'), ('clouding', 'VERB'), ('of', 'ADP'), ('the', 'DET'), ('eye', 'NOUN'), (\"'s\", 'PRT'), ('natural', 'ADJ'), ('lens', 'NOUN'), ('.', '.'), ('The', 'DET'), ('securities', 'NOUN'), ('0', 'X'), ('*T*-1', 'X'), ('to', 'PRT'), ('be', 'VERB'), ('sold', 'VERB'), ('*-107', 'NOUN'), ('next', 'ADJ'), ('week', 'NOUN'), ('will', 'VERB'), ('raise', 'VERB'), ('about', 'ADP'), ('$', '.'), ('10', 'NUM'), ('billion', 'NUM'), ('*U*', 'X'), ('in', 'ADP'), ('cash', 'NOUN'), ('and', 'CONJ'), ('redeem', 'VERB'), ('$', '.'), ('20', 'NUM'), ('billion', 'NUM'), ('*U*', 'X'), ('in', 'ADP'), ('maturing', 'VERB'), ('notes', 'NOUN'), ('.', '.'), ('Despite', 'ADP'), ('the', 'DET'), ('enormous', 'ADJ'), ('sums', 'NOUN'), ('of', 'ADP'), ('money', 'NOUN'), ('0', 'X'), ('they', 'PRON'), (\"'re\", 'VERB'), ('paid', 'VERB'), ('*T*-1', 'X'), ('*-2', 'X'), ('to', 'PRT'), ('stand', 'VERB'), ('up', 'ADV'), ('at', 'ADP'), ('a', 'DET'), ('Japanese', 'ADJ'), ('plate', 'NOUN'), (',', '.'), ('a', 'DET'), ('good', 'ADJ'), ('number', 'NOUN'), ('decide', 'VERB'), ('0', 'X'), ('it', 'PRON'), (\"'s\", 'VERB'), ('not', 'ADV'), ('worth', 'ADJ'), ('it', 'PRON'), ('and', 'CONJ'), ('run', 'VERB'), ('for', 'ADP'), ('home', 'NOUN'), ('.', '.'), ('Ringers', 'NOUN'), (',', '.'), ('she', 'PRON'), ('added', 'VERB'), ('0', 'X'), ('*T*-2', 'X'), (',', '.'), ('are', 'VERB'), ('``', '.'), ('filled', 'VERB'), ('*-1', 'X'), ('with', 'ADP'), ('the', 'DET'), ('solemn', 'NOUN'), ('intoxication', 'NOUN'), ('that', 'ADP'), ('*T*-226', 'NOUN'), ('comes', 'VERB'), ('of', 'ADP'), ('intricate', 'NOUN'), ('ritual', 'NOUN'), ('faultlessly', 'NOUN'), ('performed', 'VERB'), ('*', 'X'), ('.', '.'), (\"''\", '.'), ('He', 'PRON'), ('says', 'VERB'), ('0', 'X'), ('Campbell', 'NOUN'), ('was', 'VERB'), (\"n't\", 'ADV'), ('even', 'ADV'), ('contacted', 'VERB'), ('*-1', 'X'), ('by', 'ADP'), ('the', 'DET'), ('magazine', 'NOUN'), ('for', 'ADP'), ('the', 'DET'), ('opportunity', 'NOUN'), ('*', 'X'), ('to', 'PRT'), ('comment', 'VERB'), ('.', '.'), ('We', 'PRON'), (\"'re\", 'VERB'), ('talking', 'VERB'), ('about', 'ADP'), ('years', 'NOUN'), ('ago', 'ADP'), ('before', 'ADP'), ('anyone', 'NOUN'), ('heard', 'VERB'), ('of', 'ADP'), ('asbestos', 'NOUN'), ('having', 'VERB'), ('any', 'DET'), ('questionable', 'ADJ'), ('properties', 'VERB'), ('.', '.'), ('Indexing', 'VERB'), ('--', '.'), ('Many', 'ADJ'), ('investors', 'NOUN'), (',', '.'), ('mainly', 'ADV'), ('institutions', 'NOUN'), (',', '.'), ('follow', 'VERB'), ('an', 'DET'), ('investment', 'NOUN'), ('strategy', 'NOUN'), ('of', 'ADP'), ('*', 'X'), ('buying', 'VERB'), ('and', 'CONJ'), ('holding', 'VERB'), ('a', 'DET'), ('mix', 'NOUN'), ('of', 'ADP'), ('stocks', 'NOUN'), ('0', 'X'), ('*T*-1', 'X'), ('to', 'PRT'), ('match', 'VERB'), ('the', 'DET'), ('performance', 'NOUN'), ('of', 'ADP'), ('a', 'DET'), ('broad', 'ADJ'), ('stock-market', 'NOUN'), ('barometer', 'NOUN'), ('such', 'ADJ'), ('as', 'ADP'), ('the', 'DET'), ('S&P', 'NOUN'), ('500', 'NUM'), ('.', '.'), ('You', 'PRON'), ('will', 'VERB'), ('not', 'ADV'), ('panic', 'NOUN'), (',', '.'), ('``', '.'), ('I', 'PRON'), (\"'ve\", 'VERB'), ('never', 'ADV'), ('seen', 'VERB'), ('so', 'ADV'), ('many', 'ADJ'), ('people', 'NOUN'), ('crying', 'VERB'), ('in', 'ADP'), ('one', 'NUM'), ('place', 'NOUN'), ('at', 'ADP'), ('one', 'NUM'), ('time', 'NOUN'), (',', '.'), (\"''\", '.'), ('said', 'VERB'), ('*T*-1', 'X'), ('Bill', 'NOUN'), ('Johnson', 'NOUN'), (',', '.'), ('an', 'DET'), ('assistant', 'NOUN'), ('city', 'NOUN'), ('editor', 'NOUN'), ('.', '.'), ('At', 'ADP'), ('St.', 'NOUN'), ('Mary', 'NOUN'), (\"'s\", 'PRT'), ('Church', 'NOUN'), ('in', 'ADP'), ('Ilminster', 'NOUN'), (',', '.'), ('Somerset', 'NOUN'), (',', '.'), ('the', 'DET'), ('bells', 'NOUN'), ('have', 'VERB'), ('fallen', 'VERB'), ('*-1', 'X'), ('silent', 'ADJ'), ('following', 'NOUN'), ('a', 'DET'), ('dust-up', 'NOUN'), ('over', 'ADP'), ('church', 'NOUN'), ('attendance', 'NOUN'), ('.', '.'), ('The', 'DET'), ('Fed', 'NOUN'), ('cut', 'VERB'), ('the', 'DET'), ('key', 'ADJ'), ('federal', 'ADJ'), ('funds', 'NOUN'), ('interest', 'NOUN'), ('rate', 'NOUN'), ('by', 'ADP'), ('about', 'ADP'), ('0.25', 'NUM'), ('percentage', 'NOUN'), ('point', 'NOUN'), ('to', 'PRT'), ('8.75', 'NUM'), ('%', 'NOUN'), ('after', 'ADP'), ('the', 'DET'), ('Oct.', 'NOUN'), ('13', 'NUM'), ('stock', 'NOUN'), ('market', 'NOUN'), ('plunge', 'NOUN'), (',', '.'), ('but', 'CONJ'), ('has', 'VERB'), ('shown', 'NOUN'), ('no', 'DET'), ('sign', 'NOUN'), ('of', 'ADP'), ('movement', 'NOUN'), ('since', 'ADP'), ('.', '.'), ('Video', 'NOUN'), ('Tip', 'NOUN'), (':', '.'), ('Before', 'ADP'), ('*-1', 'X'), ('seeing', 'VERB'), ('``', '.'), ('Sidewalk', 'NOUN'), ('Stories', 'NOUN'), (',', '.'), (\"''\", '.'), ('*', 'X'), ('take', 'VERB'), ('a', 'DET'), ('look', 'NOUN'), ('at', 'ADP'), ('``', '.'), ('City', 'NOUN'), ('Lights', 'NOUN'), (',', '.'), (\"''\", '.'), ('Chaplin', 'NOUN'), (\"'s\", 'PRT'), ('Tramp', 'NOUN'), ('at', 'ADP'), ('his', 'PRON'), ('finest', 'NOUN'), ('.', '.'), ('Primerica', 'NOUN'), (',', '.'), ('which', 'DET'), ('*T*-1', 'X'), ('had', 'VERB'), ('owned', 'VERB'), ('nearly', 'ADV'), ('70', 'NUM'), ('%', 'NOUN'), ('of', 'ADP'), ('Williams', 'NOUN'), (',', '.'), ('will', 'VERB'), ('pay', 'VERB'), ('about', 'ADP'), ('16.7', 'NUM'), ('million', 'NUM'), ('shares', 'NOUN'), (',', '.'), ('currently', 'ADV'), ('valued', 'VERB'), ('*', 'X'), ('at', 'ADP'), ('almost', 'ADV'), ('$', '.'), ('472', 'NUM'), ('million', 'NUM'), ('*U*', 'X'), (',', '.'), ('for', 'ADP'), ('the', 'DET'), ('rest', 'NOUN'), ('of', 'ADP'), ('Williams', 'NOUN'), ('.', '.'), ('``', '.'), ('That', 'DET'), ('pretty', 'ADV'), ('much', 'ADV'), ('defeats', 'NOUN'), ('any', 'DET'), ('inkling', 'VERB'), ('that', 'ADP'), ('she', 'PRON'), ('was', 'VERB'), ('out', 'PRT'), ('*-1', 'X'), ('to', 'PRT'), ('help', 'VERB'), ('the', 'DET'), ('poor', 'ADJ'), ('underprivileged', 'VERB'), ('child', 'NOUN'), (',', '.'), (\"''\", '.'), ('says', 'VERB'), ('Joe', 'NOUN'), ('Watson', 'NOUN'), (',', '.'), ('the', 'DET'), ('prosecutor', 'NOUN'), ('in', 'ADP'), ('the', 'DET'), ('case', 'NOUN'), (',', '.'), ('who', 'PRON'), ('*T*-96', 'NOUN'), ('is', 'VERB'), ('also', 'ADV'), ('president', 'NOUN'), ('of', 'ADP'), ('Greenville', 'NOUN'), ('High', 'NOUN'), ('School', 'NOUN'), (\"'s\", 'PRT'), ('alumni', 'NOUN'), ('association', 'NOUN'), ('.', '.'), ('The', 'DET'), ('competition', 'NOUN'), ('has', 'VERB'), ('cultivated', 'VERB'), ('a', 'DET'), ('much', 'ADJ'), ('savvier', 'NOUN'), ('consumer', 'NOUN'), ('.', '.'), ('But', 'CONJ'), ('it', 'PRON'), ('does', 'VERB'), (\"n't\", 'ADV'), ('take', 'VERB'), ('much', 'ADV'), ('*', 'X'), ('to', 'PRT'), ('get', 'VERB'), ('burned', 'VERB'), ('*-1', 'X'), ('.', '.'), ('The', 'DET'), ('target', 'NOUN'), ('of', 'ADP'), ('their', 'PRON'), ('wrath', 'NOUN'), ('?', '.'), ('The', 'DET'), ('Soviets', 'NOUN'), (',', '.'), ('who', 'PRON'), ('*T*-12', 'X'), ('normally', 'ADV'), ('have', 'VERB'), ('few', 'ADJ'), ('clients', 'NOUN'), ('other', 'ADJ'), ('than', 'ADP'), ('the', 'DET'), ('state', 'NOUN'), (',', '.'), ('will', 'VERB'), ('get', 'VERB'), ('``', '.'), ('exposure', 'NOUN'), ('to', 'PRT'), ('a', 'DET'), ('market', 'NOUN'), ('system', 'NOUN'), (',', '.'), (\"''\", '.'), ('he', 'PRON'), ('says', 'VERB'), ('0', 'X'), ('*T*-1', 'X'), ('.', '.'), ('Rep.', 'NOUN'), ('Jerry', 'NOUN'), ('Lewis', 'NOUN'), (',', '.'), ('a', 'DET'), ('conservative', 'ADJ'), ('Californian', 'NOUN'), (',', '.'), ('added', 'VERB'), ('a', 'DET'), ('provision', 'NOUN'), ('of', 'ADP'), ('his', 'PRON'), ('own', 'ADJ'), ('intended', 'VERB'), ('*', 'X'), ('to', 'PRT'), ('assist', 'VERB'), ('Bolivia', 'NOUN'), (',', '.'), ('and', 'CONJ'), ('the', 'DET'), ('Senate', 'NOUN'), ('then', 'ADV'), ('broadened', 'VERB'), ('the', 'DET'), ('list', 'NOUN'), ('further', 'ADV'), ('by', 'ADP'), ('*-1', 'X'), ('including', 'VERB'), ('all', 'DET'), ('countries', 'NOUN'), ('in', 'ADP'), ('the', 'DET'), ('U.S.', 'NOUN'), ('Caribbean', 'NOUN'), ('Basin', 'NOUN'), ('initiate', 'NOUN'), ('as', 'ADP'), ('well', 'ADV'), ('as', 'ADP'), ('the', 'DET'), ('Philippines', 'NOUN'), ('-', '.'), ('*-1', 'X'), ('backed', 'VERB'), ('*', 'X'), ('by', 'ADP'), ('the', 'DET'), ('powerful', 'ADJ'), ('Hawaii', 'NOUN'), ('Democrat', 'NOUN'), ('Sen.', 'NOUN'), ('Daniel', 'NOUN'), ('Inouye', 'NOUN'), ('.', '.'), ('Maxwell', 'NOUN'), ('R.D.', 'NOUN'), ('Vos', 'NOUN'), ('Brooklyn', 'NOUN'), (',', '.'), ('N.Y', 'NOUN'), ('.', '.'), ('But', 'CONJ'), ('its', 'PRON'), ('purchases', 'NOUN'), ('apparently', 'ADV'), ('were', 'VERB'), ('delayed', 'VERB'), ('*-1', 'X'), ('by', 'ADP'), ('a', 'DET'), ('reorganization', 'NOUN'), ('of', 'ADP'), ('its', 'PRON'), ('agricultural', 'ADJ'), ('bureaucracy', 'NOUN'), ('as', 'ADP'), ('well', 'ADV'), ('as', 'ADP'), ('budget', 'NOUN'), ('problems', 'NOUN'), ('.', '.'), ('Above', 'NOUN'), ('all', 'DET'), (',', '.'), ('Mr.', 'NOUN'), ('Oxnard', 'NOUN'), ('noted', 'VERB'), ('0', 'X'), ('*T*-1', 'X'), (',', '.'), ('the', 'DET'), ('situation', 'NOUN'), ('is', 'VERB'), ('extremely', 'ADV'), ('confused', 'ADJ'), ('.', '.'), ('You', 'PRON'), ('look', 'VERB'), ('around', 'ADP'), ('at', 'ADP'), ('professional', 'ADJ'), ('ballplayers', 'NOUN'), ('or', 'CONJ'), ('accountants', 'NOUN'), ('...', '.'), ('and', 'CONJ'), ('nobody', 'NOUN'), ('blinks', 'NOUN'), ('an', 'DET'), ('eye', 'NOUN'), ('.', '.'), ('Volume', 'NOUN'), ('in', 'ADP'), ('the', 'DET'), ('second', 'ADJ'), ('section', 'NOUN'), ('was', 'VERB'), ('estimated', 'VERB'), ('*-1', 'X'), ('at', 'ADP'), ('18', 'NUM'), ('million', 'NUM'), ('shares', 'NOUN'), (',', '.'), ('up', 'ADV'), ('from', 'ADP'), ('14', 'NUM'), ('million', 'NUM'), ('Tuesday', 'NOUN'), ('.', '.'), ('A', 'DET'), ('federal', 'ADJ'), ('appeals', 'NOUN'), ('court', 'NOUN'), ('upheld', 'VERB'), ('a', 'DET'), ('lower', 'ADJ'), ('court', 'NOUN'), ('ruling', 'NOUN'), ('that', 'ADP'), ('the', 'DET'), ('U.S.', 'NOUN'), ('can', 'VERB'), ('bar', 'NOUN'), ('the', 'DET'), ('use', 'NOUN'), ('of', 'ADP'), ('federal', 'ADJ'), ('funds', 'NOUN'), ('for', 'ADP'), ('family-planning', 'ADJ'), ('programs', 'NOUN'), ('that', 'ADP'), ('*T*-1', 'X'), ('include', 'VERB'), ('abortion-related', 'VERB'), ('services', 'NOUN'), ('.', '.'), ('Prudential-Bache', 'NOUN'), ('Securities', 'NOUN'), ('boosted', 'VERB'), ('the', 'DET'), ('stock', 'NOUN'), (\"'s\", 'PRT'), ('short-term', 'ADJ'), ('investment', 'NOUN'), ('rating', 'NOUN'), ('in', 'ADP'), ('response', 'NOUN'), ('to', 'PRT'), ('the', 'DET'), ('departure', 'NOUN'), (';', '.'), ('analyst', 'NOUN'), ('John', 'NOUN'), ('McMillin', 'NOUN'), ('said', 'VERB'), ('0', 'X'), ('he', 'PRON'), ('believes', 'VERB'), ('0', 'X'), ('the', 'DET'), ('company', 'NOUN'), ('will', 'VERB'), ('turn', 'VERB'), ('to', 'PRT'), ('new', 'ADJ'), ('management', 'NOUN'), ('``', '.'), ('that', 'DET'), ('*T*-1', 'X'), (\"'s\", 'PRT'), ('more', 'ADJ'), ('financially', 'ADV'), ('oriented', 'VERB'), ('.', '.'), (\"''\", '.'), ('*-1', 'X'), ('To', 'PRT'), ('further', 'ADJ'), ('load', 'NOUN'), ('the', 'DET'), ('stakes', 'NOUN'), (',', '.'), ('Mr.', 'NOUN'), ('Lane', 'NOUN'), ('dreamed', 'VERB'), ('up', 'PRT'), ('a', 'DET'), ('highly', 'ADV'), ('improbable', 'NOUN'), ('romance', 'NOUN'), ('for', 'ADP'), ('the', 'DET'), ('Artist', 'NOUN'), (',', '.'), ('with', 'ADP'), ('a', 'DET'), ('young', 'ADJ'), ('woman', 'NOUN'), ('who', 'PRON'), ('*T*-68', 'X'), ('owns', 'VERB'), ('her', 'PRON'), ('own', 'ADJ'), ('children', 'NOUN'), (\"'s\", 'PRT'), ('shop', 'NOUN'), ('and', 'CONJ'), ('who', 'PRON'), ('*T*-69', 'X'), ('lives', 'VERB'), ('in', 'ADP'), ('an', 'DET'), ('expensive', 'ADJ'), ('high-rise', 'NOUN'), ('apartment', 'NOUN'), ('building', 'NOUN'), ('.', '.'), ('*', 'X'), ('Do', 'VERB'), (\"n't\", 'ADV'), ('wait', 'VERB'), ('--', '.'), ('a', 'DET'), ('savings', 'NOUN'), ('institution', 'NOUN'), ('needs', 'VERB'), ('your', 'PRON'), ('help', 'VERB'), ('now', 'ADV'), ('!', '.'), ('The', 'DET'), ('magazine', 'NOUN'), (\"'s\", 'PRT'), ('editors', 'NOUN'), ('ran', 'VERB'), ('a', 'DET'), ('giant', 'ADJ'), ('diagram', 'NOUN'), ('of', 'ADP'), ('the', 'DET'), ('product', 'NOUN'), ('with', 'ADP'), ('arrows', 'NOUN'), ('pointing', 'VERB'), ('to', 'PRT'), ('the', 'DET'), ('packaging', 'NOUN'), (\"'s\", 'PRT'), ('polystyrene', 'NOUN'), ('foam', 'NOUN'), (',', '.'), ('polyproplene', 'NOUN'), ('and', 'CONJ'), ('polyester', 'NOUN'), ('film', 'NOUN'), ('--', '.'), ('all', 'DET'), ('plastic', 'ADJ'), ('items', 'NOUN'), ('0', 'X'), ('they', 'PRON'), ('say', 'VERB'), ('0', 'X'), ('*T*-1', 'X'), ('are', 'VERB'), ('non-biodegradable', 'NOUN'), ('.', '.'), ('Still', 'ADV'), (',', '.'), ('many', 'ADJ'), ('economists', 'NOUN'), ('are', 'VERB'), (\"n't\", 'ADV'), ('predicting', 'VERB'), ('a', 'DET'), ('recession', 'NOUN'), ('anytime', 'ADV'), ('soon', 'ADV'), ('.', '.'), ('Mrs.', 'NOUN'), ('Ward', 'NOUN'), ('took', 'VERB'), ('over', 'ADP'), ('in', 'ADP'), ('1986', 'NUM'), (',', '.'), ('*-1', 'X'), ('becoming', 'VERB'), ('the', 'DET'), ('school', 'NOUN'), (\"'s\", 'PRT'), ('seventh', 'NOUN'), ('principal', 'ADJ'), ('in', 'ADP'), ('15', 'NUM'), ('years', 'NOUN'), ('.', '.'), ('The', 'DET'), (\"'82\", 'NOUN'), ('Salon', 'NOUN'), ('is', 'VERB'), ('$', '.'), ('115', 'NUM'), ('*U*', 'X'), ('.', '.'), ('Researchers', 'NOUN'), ('at', 'ADP'), ('American', 'ADJ'), ('Telephone', 'NOUN'), ('&', 'CONJ'), ('Telegraph', 'NOUN'), ('Co.', 'NOUN'), (\"'s\", 'PRT'), ('Bell', 'NOUN'), ('Laboratories', 'NOUN'), ('reported', 'VERB'), ('0', 'X'), ('they', 'PRON'), ('raised', 'VERB'), ('the', 'DET'), ('electrical', 'ADJ'), ('current-carrying', 'ADJ'), ('capacity', 'NOUN'), ('of', 'ADP'), ('new', 'ADJ'), ('superconductor', 'NOUN'), ('crystals', 'NOUN'), ('by', 'ADP'), ('a', 'DET'), ('factor', 'NOUN'), ('of', 'ADP'), ('100', 'NUM'), (',', '.'), ('*-1', 'X'), ('moving', 'VERB'), ('the', 'DET'), ('materials', 'NOUN'), ('closer', 'ADV'), ('to', 'PRT'), ('commercial', 'ADJ'), ('use', 'NOUN'), ('.', '.'), ('We', 'PRON'), ('got', 'VERB'), ('our', 'PRON'), ('two', 'NUM'), ('six-packs', 'NOUN'), ('--', '.'), ('and', 'CONJ'), ('they', 'PRON'), (\"'re\", 'VERB'), ('gone', 'VERB'), ('.', '.'), (\"''\", '.'), ('``', '.'), ('The', 'DET'), ('big', 'ADJ'), ('problem', 'NOUN'), ('is', 'VERB'), ('that', 'ADP'), ('USX', 'NOUN'), ('management', 'NOUN'), ('has', 'VERB'), ('proved', 'VERB'), ('*-1', 'X'), ('unwilling', 'VERB'), ('*-2', 'X'), ('to', 'PRT'), ('devote', 'VERB'), ('the', 'DET'), ('necessary', 'ADJ'), ('resources', 'NOUN'), ('and', 'CONJ'), ('manpower', 'NOUN'), ('to', 'PRT'), ('*', 'X'), ('removing', 'VERB'), ('hazards', 'NOUN'), ('and', 'CONJ'), ('to', 'PRT'), ('*', 'X'), ('safeguarding', 'VERB'), ('safety', 'NOUN'), ('and', 'CONJ'), ('health', 'NOUN'), ('in', 'ADP'), ('the', 'DET'), ('plants', 'NOUN'), (',', '.'), (\"''\", '.'), ('said', 'VERB'), ('*T*-3', 'X'), ('Linda', 'NOUN'), ('Anku', 'NOUN'), (',', '.'), ('OSHA', 'NOUN'), ('regional', 'ADJ'), ('administrator', 'NOUN'), ('in', 'ADP'), ('Philadelphia', 'NOUN'), ('.', '.'), ('Ketchum', 'NOUN'), ('Communications', 'NOUN'), (',', '.'), ('Pittsburgh', 'NOUN'), (',', '.'), ('acquired', 'VERB'), ('Braun', 'NOUN'), ('&', 'CONJ'), ('Co.', 'NOUN'), (',', '.'), ('a', 'DET'), ('Los', 'NOUN'), ('Angeles', 'NOUN'), ('investor-relations', 'NOUN'), ('and', 'CONJ'), ('marketing-communications', 'NOUN'), ('firm', 'NOUN'), ('.', '.'), ('He', 'PRON'), ('said', 'VERB'), ('0', 'X'), ('the', 'DET'), ('exchange', 'NOUN'), ('is', 'VERB'), ('``', '.'), ('headed', 'VERB'), ('for', 'ADP'), ('a', 'DET'), ('real', 'ADJ'), ('crisis', 'NOUN'), (\"''\", '.'), ('if', 'ADP'), ('program', 'NOUN'), ('trading', 'NOUN'), ('is', 'VERB'), (\"n't\", 'ADV'), ('curbed', 'VERB'), ('*-1', 'X'), ('.', '.'), ('-LRB-', '.'), ('Few', 'ADJ'), (',', '.'), ('if', 'ADP'), ('any', 'DET'), (',', '.'), ('index-fund', 'NOUN'), ('managers', 'NOUN'), ('will', 'VERB'), ('risk', 'VERB'), ('*-1', 'X'), ('leveraging', 'VERB'), ('performance', 'NOUN'), ('by', 'ADP'), ('*-1', 'X'), ('owning', 'VERB'), ('more', 'ADV'), ('than', 'ADP'), ('100', 'NUM'), ('%', 'NOUN'), ('exposure', 'NOUN'), ('to', 'PRT'), ('stocks', 'NOUN'), (',', '.'), ('and', 'CONJ'), ('equally', 'ADV'), ('few', 'ADJ'), ('will', 'VERB'), ('want', 'VERB'), ('*-2', 'X'), ('to', 'PRT'), ('own', 'ADJ'), ('less', 'ADJ'), ('than', 'ADP'), ('a', 'DET'), ('100', 'NUM'), ('%', 'NOUN'), ('position', 'NOUN'), ('should', 'VERB'), ('stocks', 'NOUN'), ('rise', 'VERB'), ('.', '.'), ('-RRB-', '.'), ('The', 'DET'), ('Polish', 'ADJ'), ('government', 'NOUN'), ('increased', 'VERB'), ('home', 'NOUN'), ('electricity', 'NOUN'), ('charges', 'NOUN'), ('by', 'ADP'), ('150', 'NUM'), ('%', 'NOUN'), ('and', 'CONJ'), ('doubled', 'VERB'), ('gas', 'NOUN'), ('prices', 'NOUN'), ('.', '.'), ('Hearst', 'NOUN'), ('had', 'VERB'), ('flirted', 'VERB'), ('with', 'ADP'), ('a', 'DET'), ('conversion', 'NOUN'), ('to', 'PRT'), ('tabloid', 'ADJ'), ('format', 'NOUN'), ('for', 'ADP'), ('years', 'NOUN'), ('but', 'CONJ'), ('never', 'ADV'), ('executed', 'VERB'), ('the', 'DET'), ('plan', 'NOUN'), ('.', '.'), ('Other', 'ADJ'), ('major', 'ADJ'), ('Japanese', 'ADJ'), ('computer', 'NOUN'), ('companies', 'NOUN'), ('contacted', 'VERB'), ('*', 'X'), ('yesterday', 'NOUN'), ('said', 'VERB'), ('0', 'X'), ('they', 'PRON'), ('have', 'VERB'), ('never', 'ADV'), ('made', 'VERB'), ('such', 'ADJ'), ('bids', 'NOUN'), ('.', '.'), ('Many', 'ADJ'), ('auto', 'NOUN'), ('dealers', 'NOUN'), ('now', 'ADV'), ('let', 'VERB'), ('car', 'NOUN'), ('buyers', 'NOUN'), ('charge', 'NOUN'), ('part', 'NOUN'), ('or', 'CONJ'), ('all', 'DET'), ('of', 'ADP'), ('their', 'PRON'), ('purchase', 'NOUN'), ('on', 'ADP'), ('the', 'DET'), ('American', 'ADJ'), ('Express', 'NOUN'), ('card', 'NOUN'), (',', '.'), ('but', 'CONJ'), ('few', 'ADJ'), ('card', 'NOUN'), ('holders', 'NOUN'), ('realize', 'VERB'), ('this', 'DET'), (',', '.'), ('Mr.', 'NOUN'), ('Riese', 'NOUN'), ('says', 'VERB'), ('0', 'X'), ('*T*-1', 'X'), ('.', '.'), ('Virginia', 'NOUN'), (':', '.'), ('But', 'CONJ'), ('the', 'DET'), ('Army', 'NOUN'), ('Corps', 'NOUN'), ('of', 'ADP'), ('Engineers', 'NOUN'), ('expects', 'VERB'), ('the', 'DET'), ('river', 'NOUN'), ('level', 'NOUN'), ('to', 'PRT'), ('continue', 'VERB'), ('*-1', 'X'), ('falling', 'VERB'), ('this', 'DET'), ('month', 'NOUN'), ('.', '.'), ('``', '.'), ('What', 'PRON'), ('*T*-14', 'X'), ('matters', 'NOUN'), ('is', 'VERB'), ('what', 'PRON'), ('advertisers', 'NOUN'), ('are', 'VERB'), ('paying', 'VERB'), ('*T*-15', 'X'), ('per', 'ADP'), ('page', 'NOUN'), (',', '.'), ('and', 'CONJ'), ('in', 'ADP'), ('that', 'DET'), ('department', 'NOUN'), ('we', 'PRON'), ('are', 'VERB'), ('doing', 'VERB'), ('fine', 'NOUN'), ('this', 'DET'), ('fall', 'NOUN'), (',', '.'), (\"''\", '.'), ('said', 'VERB'), ('*T*-1', 'X'), ('Mr.', 'NOUN'), ('Spoon', 'NOUN'), ('.', '.'), ('Hudson', 'NOUN'), ('General', 'NOUN'), ('Corp.', 'NOUN'), (\"'s\", 'PRT'), ('president', 'NOUN'), ('and', 'CONJ'), ('chief', 'NOUN'), ('executive', 'NOUN'), ('officer', 'NOUN'), (',', '.'), ('Alan', 'NOUN'), ('J.', 'NOUN'), ('Stearn', 'NOUN'), (',', '.'), ('resigned', 'VERB'), ('.', '.'), ('Also', 'ADV'), (',', '.'), ('Mr.', 'NOUN'), ('Vargas', 'NOUN'), ('was', 'VERB'), ('barred', 'VERB'), ('*-152', 'NOUN'), ('from', 'ADP'), ('association', 'NOUN'), ('with', 'ADP'), ('any', 'DET'), ('NASD', 'NOUN'), ('member', 'NOUN'), ('.', '.'), ('Bell', 'NOUN'), (\"'s\", 'PRT'), ('father-in-law', 'NOUN'), (',', '.'), ('Gardner', 'NOUN'), ('G.', 'NOUN'), ('Hubbard', 'NOUN'), (',', '.'), ('wealthy', 'NOUN'), ('and', 'CONJ'), ('well-connected', 'VERB'), (',', '.'), ('obtained', 'VERB'), ('financing', 'VERB'), ('0', 'X'), ('*T*-1', 'X'), ('to', 'PRT'), ('start', 'VERB'), ('the', 'DET'), ('American', 'ADJ'), ('Bell', 'NOUN'), ('Telephone', 'NOUN'), ('Co.', 'NOUN'), ('in', 'ADP'), ('Boston', 'NOUN'), (',', '.'), ('which', 'DET'), ('*T*-2', 'X'), ('even', 'ADV'), ('had', 'VERB'), ('a', 'DET'), ('subsidiary', 'NOUN'), ('in', 'ADP'), ('New', 'NOUN'), ('York', 'NOUN'), ('called', 'VERB'), ('*', 'X'), ('the', 'DET'), ('Telephone', 'NOUN'), ('Co.', 'NOUN'), ('of', 'ADP'), ('New', 'NOUN'), ('York', 'NOUN'), ('.', '.'), ('But', 'CONJ'), ('to', 'PRT'), ('Moon', 'NOUN'), ('Landrieu', 'NOUN'), (',', '.'), ('the', 'DET'), ('former', 'ADJ'), ('New', 'NOUN'), ('Orleans', 'NOUN'), ('mayor', 'NOUN'), ('who', 'PRON'), ('*T*-1', 'X'), ('helped', 'VERB'), ('*-3', 'X'), ('build', 'VERB'), ('that', 'ADP'), ('city', 'NOUN'), (\"'s\", 'PRT'), ('cavernous', 'NOUN'), (',', '.'), ('money-losing', 'VERB'), ('Superdome', 'NOUN'), (',', '.'), ('questions', 'NOUN'), ('of', 'ADP'), ('who', 'PRON'), ('*T*-2', 'X'), ('benefits', 'NOUN'), ('or', 'CONJ'), ('the', 'DET'), ('bottom', 'NOUN'), ('line', 'NOUN'), ('are', 'VERB'), ('of', 'ADP'), ('little', 'ADJ'), ('relevance', 'NOUN'), ('.', '.'), ('In', 'ADP'), ('Tokyo', 'NOUN'), ('Thursday', 'NOUN'), (',', '.'), ('the', 'DET'), ('U.S.', 'NOUN'), ('currency', 'NOUN'), ('opened', 'VERB'), ('for', 'ADP'), ('trading', 'NOUN'), ('at', 'ADP'), ('143.93', 'NUM'), ('yen', 'NOUN'), (',', '.'), ('up', 'ADV'), ('from', 'ADP'), ('Wednesday', 'NOUN'), (\"'s\", 'PRT'), ('Tokyo', 'NOUN'), ('close', 'VERB'), ('of', 'ADP'), ('143.08', 'NUM'), ('yen', 'NOUN'), ('.', '.'), ('Banks', 'NOUN'), ('could', 'VERB'), ('seek', 'VERB'), ('*-1', 'X'), ('to', 'PRT'), ('recover', 'VERB'), ('payments', 'NOUN'), ('to', 'PRT'), ('local', 'ADJ'), ('authorities', 'NOUN'), ('in', 'ADP'), ('instances', 'NOUN'), ('where', 'ADV'), ('the', 'DET'), ('banks', 'NOUN'), ('made', 'VERB'), ('net', 'ADJ'), ('payments', 'NOUN'), ('to', 'PRT'), ('councils', 'NOUN'), ('*T*-2', 'X'), ('.', '.'), ('He', 'PRON'), ('had', 'VERB'), ('been', 'VERB'), ('a', 'DET'), ('sales', 'NOUN'), ('and', 'CONJ'), ('marketing', 'NOUN'), ('executive', 'NOUN'), ('with', 'ADP'), ('Chrysler', 'NOUN'), ('for', 'ADP'), ('20', 'NUM'), ('years', 'NOUN'), ('.', '.'), ('A', 'DET'), ('spokesman', 'NOUN'), ('for', 'ADP'), ('the', 'DET'), ('state', 'NOUN'), (',', '.'), ('however', 'ADV'), (',', '.'), ('calls', 'VERB'), ('the', 'DET'), ('idea', 'NOUN'), ('``', '.'), ('not', 'ADV'), ('effective', 'ADJ'), ('or', 'CONJ'), ('cost', 'NOUN'), ('efficient', 'ADJ'), ('.', '.'), ('While', 'ADP'), ('the', 'DET'), ('new', 'ADJ'), ('proposal', 'NOUN'), ('might', 'VERB'), ('appeal', 'NOUN'), ('to', 'PRT'), ('the', 'DET'), ('dirtiest', 'ADJ'), ('utilities', 'NOUN'), (',', '.'), ('it', 'PRON'), ('might', 'VERB'), ('not', 'ADV'), ('win', 'VERB'), ('the', 'DET'), ('support', 'NOUN'), ('of', 'ADP'), ('utilities', 'NOUN'), (',', '.'), ('many', 'ADJ'), ('in', 'ADP'), ('the', 'DET'), ('West', 'NOUN'), (',', '.'), ('that', 'DET'), ('*T*-1', 'X'), ('already', 'ADV'), ('have', 'VERB'), ('added', 'VERB'), ('expensive', 'ADJ'), ('cleanup', 'NOUN'), ('equipment', 'NOUN'), ('or', 'CONJ'), ('burn', 'NOUN'), ('cleaner-burning', 'VERB'), ('fuels', 'NOUN'), ('.', '.'), ('SCI', 'NOUN'), ('Systems', 'NOUN'), ('slipped', 'VERB'), ('7\\\\/8', 'NUM'), ('to', 'PRT'), ('10', 'NUM'), ('on', 'ADP'), ('volume', 'NOUN'), ('of', 'ADP'), ('858,000', 'NUM'), ('shares', 'NOUN'), ('.', '.'), ('He', 'PRON'), ('also', 'ADV'), ('considers', 'VERB'), ('the', 'DET'), ('market', 'NOUN'), ('overvalued', 'VERB'), ('and', 'CONJ'), ('cites', 'VERB'), ('the', 'DET'), ('troubles', 'NOUN'), ('in', 'ADP'), ('junk', 'NOUN'), ('bonds', 'NOUN'), ('.', '.'), ('Paris', 'NOUN'), (',', '.'), ('Brussels', 'NOUN'), (',', '.'), ('and', 'CONJ'), ('Milan', 'NOUN'), ('were', 'VERB'), ('closed', 'VERB'), ('for', 'ADP'), ('a', 'DET'), ('holiday', 'NOUN'), ('.', '.'), ('Such', 'ADJ'), ('laws', 'NOUN'), ('violate', 'VERB'), ('the', 'DET'), ('provision', 'NOUN'), ('in', 'ADP'), ('Article', 'NOUN'), ('II', 'NOUN'), ('that', 'ADP'), ('*T*-1', 'X'), ('requires', 'VERB'), ('the', 'DET'), ('president', 'NOUN'), ('to', 'PRT'), ('make', 'VERB'), ('recommendations', 'NOUN'), ('to', 'PRT'), ('Congress', 'NOUN'), (',', '.'), ('but', 'CONJ'), ('which', 'DET'), ('*T*-41', 'X'), ('gives', 'VERB'), ('the', 'DET'), ('president', 'NOUN'), ('the', 'DET'), ('discretion', 'NOUN'), ('0', 'X'), ('*', 'X'), ('to', 'PRT'), ('select', 'NOUN'), ('the', 'DET'), ('subject', 'ADJ'), ('matter', 'NOUN'), ('of', 'ADP'), ('those', 'DET'), ('recommendations', 'NOUN'), ('*T*-2', 'X'), ('.', '.'), ('London', 'NOUN'), ('shares', 'NOUN'), ('finished', 'VERB'), ('moderately', 'ADV'), ('higher', 'ADJ'), ('.', '.'), ('In', 'ADP'), ('the', 'DET'), ('first', 'ADJ'), ('nine', 'NUM'), ('months', 'NOUN'), (',', '.'), ('net', 'ADJ'), ('was', 'VERB'), ('$', '.'), ('306', 'NUM'), ('million', 'NUM'), ('*U*', 'X'), (',', '.'), ('compared', 'VERB'), ('with', 'ADP'), ('a', 'DET'), ('loss', 'NOUN'), ('of', 'ADP'), ('$', '.'), ('195', 'NUM'), ('million', 'NUM'), ('*U*', 'X'), ('in', 'ADP'), ('the', 'DET'), ('1988', 'NUM'), ('period', 'NOUN'), ('.', '.'), ('The', 'DET'), ('White', 'NOUN'), ('House', 'NOUN'), ('previously', 'ADV'), ('insisted', 'VERB'), ('on', 'ADP'), ('an', 'DET'), ('unrestricted', 'VERB'), ('six-month', 'ADJ'), ('training', 'NOUN'), ('wage', 'NOUN'), ('that', 'ADP'), ('*T*-1', 'X'), ('could', 'VERB'), ('be', 'VERB'), ('paid', 'VERB'), ('*-165', 'NOUN'), ('any', 'DET'), ('time', 'NOUN'), ('0', 'X'), ('a', 'DET'), ('worker', 'NOUN'), ('of', 'ADP'), ('any', 'DET'), ('age', 'NOUN'), ('took', 'VERB'), ('a', 'DET'), ('new', 'ADJ'), ('job', 'NOUN'), ('*T*-2', 'X'), ('.', '.'), ('Sterling', 'NOUN'), (\"'s\", 'PRT'), ('firm', 'NOUN'), ('tone', 'NOUN'), (',', '.'), ('combined', 'VERB'), ('with', 'ADP'), ('a', 'DET'), ('steady', 'ADJ'), ('opening', 'VERB'), ('on', 'ADP'), ('Wall', 'NOUN'), ('Street', 'NOUN'), (',', '.'), ('also', 'ADV'), ('tempted', 'VERB'), ('some', 'DET'), ('investors', 'NOUN'), ('to', 'PRT'), ('come', 'VERB'), ('back', 'ADV'), ('to', 'PRT'), ('the', 'DET'), ('market', 'NOUN'), (',', '.'), ('dealers', 'NOUN'), ('said', 'VERB'), ('0', 'X'), ('*T*-1', 'X'), ('.', '.'), ('The', 'DET'), ('Dow', 'NOUN'), ('Jones', 'NOUN'), ('Industrial', 'NOUN'), ('Average', 'NOUN'), ('finished', 'VERB'), ('less', 'ADV'), ('than', 'ADP'), ('a', 'DET'), ('point', 'NOUN'), ('higher', 'ADJ'), ('*-1', 'X'), ('to', 'PRT'), ('close', 'VERB'), ('at', 'ADP'), ('2645.90', 'NUM'), ('in', 'ADP'), ('moderate', 'ADJ'), ('trading', 'NOUN'), ('.', '.'), ('But', 'CONJ'), ('by', 'ADP'), ('the', 'DET'), ('early', 'ADJ'), ('1980s', 'NUM'), (',', '.'), ('its', 'PRON'), ('glory', 'NOUN'), ('*PPA*-1', 'X'), ('had', 'VERB'), ('faded', 'VERB'), ('like', 'ADP'), ('the', 'DET'), ('yellow', 'NOUN'), ('bricks', 'NOUN'), ('of', 'ADP'), ('its', 'PRON'), ('broad', 'ADJ'), ('facade', 'NOUN'), ('.', '.'), ('The', 'DET'), ('record', 'NOUN'), ('price', 'NOUN'), ('for', 'ADP'), ('a', 'DET'), ('full', 'ADJ'), ('membership', 'NOUN'), ('on', 'ADP'), ('the', 'DET'), ('exchange', 'NOUN'), ('is', 'VERB'), ('$', '.'), ('550,000', 'NUM'), ('*U*', 'X'), (',', '.'), ('*-2', 'X'), ('set', 'VERB'), ('*-1', 'X'), ('Aug.', 'NOUN'), ('31', 'NUM'), (',', '.'), ('1987', 'NUM'), ('.', '.'), ('Four', 'NOUN'), ('of', 'ADP'), ('the', 'DET'), ('five', 'NUM'), ('surviving', 'VERB'), ('workers', 'NOUN'), ('have', 'VERB'), ('asbestos-related', 'ADJ'), ('diseases', 'NOUN'), (',', '.'), ('including', 'VERB'), ('three', 'NUM'), ('with', 'ADP'), ('recently', 'ADV'), ('diagnosed', 'VERB'), ('cancer', 'NOUN'), ('.', '.'), ('The', 'DET'), ('earnings', 'NOUN'), ('growth', 'NOUN'), ('also', 'ADV'), ('was', 'VERB'), ('fueled', 'VERB'), ('*-1', 'X'), ('by', 'ADP'), ('the', 'DET'), ('company', 'NOUN'), (\"'s\", 'PRT'), ('ability', 'NOUN'), ('*', 'X'), ('to', 'PRT'), ('cut', 'VERB'), ('net', 'ADJ'), ('financing', 'NOUN'), ('spending', 'NOUN'), ('by', 'ADP'), ('half', 'DET'), ('to', 'PRT'), ('around', 'ADP'), ('15', 'NUM'), ('million', 'NUM'), ('guilders', 'NOUN'), ('.', '.'), ('Mr.', 'NOUN'), ('Reupke', 'NOUN'), (',', '.'), ('52', 'NUM'), ('years', 'NOUN'), ('old', 'ADJ'), ('and', 'CONJ'), ('a', 'DET'), ('27-year', 'NOUN'), ('Reuters', 'NOUN'), ('veteran', 'NOUN'), (',', '.'), ('had', 'VERB'), ('been', 'VERB'), ('the', 'DET'), ('information-services', 'VERB'), ('company', 'NOUN'), (\"'s\", 'PRT'), ('general', 'ADJ'), ('manager', 'NOUN'), ('for', 'ADP'), ('only', 'ADV'), ('six', 'NUM'), ('months', 'NOUN'), ('.', '.'), ('It', 'PRON'), ('was', 'VERB'), ('censorship', 'NOUN'), ('.', '.'), ('*-1', 'X'), ('To', 'PRT'), ('capture', 'VERB'), ('the', 'DET'), ('investment', 'NOUN'), (',', '.'), ('Southeast', 'NOUN'), ('Asian', 'ADJ'), ('nations', 'NOUN'), ('will', 'VERB'), ('move', 'VERB'), ('*-1', 'X'), ('to', 'PRT'), ('accommodate', 'VERB'), ('Japanese', 'ADJ'), ('business', 'NOUN'), ('.', '.'), ('By', 'ADP'), ('1997', 'NUM'), (',', '.'), ('almost', 'ADV'), ('all', 'DET'), ('remaining', 'VERB'), ('uses', 'VERB'), ('of', 'ADP'), ('cancer-causing', 'VERB'), ('asbestos', 'NOUN'), ('will', 'VERB'), ('be', 'VERB'), ('outlawed', 'VERB'), ('*-6', 'X'), ('.', '.'), ('He', 'PRON'), ('also', 'ADV'), ('rejected', 'VERB'), ('reports', 'NOUN'), ('that', 'ADP'), ('his', 'PRON'), ('departure', 'NOUN'), ('stemmed', 'VERB'), ('from', 'ADP'), ('disappointment', 'NOUN'), ('0', 'X'), ('the', 'DET'), ('general', 'ADJ'), ('manager', 'NOUN'), (\"'s\", 'PRT'), ('post', 'VERB'), ('had', 'VERB'), (\"n't\", 'ADV'), ('also', 'ADV'), ('led', 'VERB'), ('to', 'PRT'), ('a', 'DET'), ('board', 'NOUN'), ('directorship', 'NOUN'), ('at', 'ADP'), ('the', 'DET'), ('London-based', 'ADJ'), ('news', 'NOUN'), ('organization', 'NOUN'), ('.', '.'), ('This', 'DET'), ('democracy', 'NOUN'), ('is', 'VERB'), ('suddenly', 'ADV'), ('a', 'DET'), ('little', 'ADJ'), ('more', 'ADJ'), ('democratic', 'ADJ'), ('.', '.'), ('Mr.', 'NOUN'), ('van', 'NOUN'), ('Dover', 'NOUN'), ('added', 'VERB'), ('that', 'ADP'), ('researchers', 'NOUN'), ('are', 'VERB'), ('trying', 'VERB'), ('*-2', 'X'), ('to', 'PRT'), ('determine', 'VERB'), ('precisely', 'ADV'), ('what', 'PRON'), ('crystal', 'NOUN'), ('changes', 'NOUN'), ('*T*-1', 'X'), ('solved', 'VERB'), ('the', 'DET'), ('problem', 'NOUN'), ('.', '.'), ('It', 'PRON'), (\"'s\", 'VERB'), ('a', 'DET'), ('classic', 'ADJ'), ('situation', 'NOUN'), ('of', 'ADP'), ('ads', 'NOUN'), ('that', 'ADP'), ('*T*-75', 'X'), ('are', 'VERB'), ('true', 'ADJ'), ('but', 'CONJ'), ('not', 'ADV'), ('always', 'ADV'), ('fully', 'ADV'), ('accurate', 'ADJ'), ('.', '.'), ('Mr.', 'NOUN'), ('Stronach', 'NOUN'), (',', '.'), ('founder', 'NOUN'), ('and', 'CONJ'), ('controlling', 'VERB'), ('shareholder', 'NOUN'), ('of', 'ADP'), ('Magna', 'NOUN'), (',', '.'), ('resigned', 'VERB'), ('as', 'ADP'), ('chief', 'NOUN'), ('executive', 'NOUN'), ('officer', 'NOUN'), ('last', 'ADJ'), ('year', 'NOUN'), ('*-1', 'X'), ('to', 'PRT'), ('seek', 'VERB'), (',', '.'), ('unsuccessfully', 'ADV'), (',', '.'), ('a', 'DET'), ('seat', 'NOUN'), ('in', 'ADP'), ('Canada', 'NOUN'), (\"'s\", 'PRT'), ('Parliament', 'NOUN'), ('.', '.'), ('``', '.'), ('A', 'DET'), ('lot', 'NOUN'), ('of', 'ADP'), ('the', 'DET'), ('stocks', 'NOUN'), ('that', 'ADP'), ('*T*-117', 'NOUN'), ('have', 'VERB'), ('been', 'VERB'), ('under', 'ADP'), ('water', 'NOUN'), ('finally', 'ADV'), ('saw', 'VERB'), ('a', 'DET'), ('reason', 'NOUN'), ('0', 'X'), ('*', 'X'), ('to', 'PRT'), ('uptick', 'NOUN'), ('*T*-1', 'X'), (',', '.'), (\"''\", '.'), ('said', 'VERB'), ('*T*-2', 'X'), ('George', 'NOUN'), ('Jennison', 'NOUN'), (',', '.'), ('head', 'NOUN'), ('trader', 'NOUN'), ('of', 'ADP'), ('banking', 'NOUN'), ('issues', 'NOUN'), ('in', 'ADP'), ('Shearson', 'NOUN'), ('Lehman', 'NOUN'), ('Hutton', 'NOUN'), (\"'s\", 'PRT'), ('OTC', 'NOUN'), ('department', 'NOUN'), ('.', '.'), ('*-2', 'X'), ('Also', 'ADV'), ('in', 'ADP'), ('New', 'NOUN'), ('York', 'NOUN'), (',', '.'), ('Israel', 'NOUN'), ('Silverman', 'NOUN'), (',', '.'), ('an', 'DET'), ('insurance-company', 'NOUN'), ('lawyer', 'NOUN'), (',', '.'), ('comments', 'NOUN'), ('that', 'ADP'), ('program', 'NOUN'), ('trading', 'NOUN'), ('``', '.'), ('increases', 'NOUN'), ('volatility', 'NOUN'), (',', '.'), ('but', 'CONJ'), ('I', 'PRON'), ('do', 'VERB'), (\"n't\", 'ADV'), ('think', 'VERB'), ('0', 'X'), ('it', 'PRON'), ('should', 'VERB'), ('be', 'VERB'), ('banned', 'VERB'), ('*-1', 'X'), ('.', '.'), ('you', 'PRON'), ('will', 'VERB'), ('not', 'ADV'), ('put', 'VERB'), ('the', 'DET'), ('financial', 'ADJ'), ('system', 'NOUN'), ('in', 'ADP'), ('jeopardy', 'NOUN'), ('.', '.'), (\"'\", '.'), (\"''\", '.'), ('NEW', 'NOUN'), ('ACCOUNT', 'NOUN'), (':', '.'), ('But', 'CONJ'), ('``', '.'), ('because', 'ADP'), ('it', 'PRON'), (\"'s\", 'VERB'), ('all', 'DET'), ('0', 'X'), ('we', 'PRON'), (\"'ve\", 'VERB'), ('got', 'VERB'), ('*T*-1', 'X'), (',', '.'), ('I', 'PRON'), (\"'m\", 'VERB'), ('going', 'VERB'), ('*-2', 'X'), ('to', 'PRT'), ('vote', 'VERB'), ('for', 'ADP'), ('it', 'PRON'), ('.', '.'), (\"''\", '.'), ('In', 'ADP'), ('national', 'ADJ'), ('over-the-counter', 'ADJ'), ('trading', 'NOUN'), ('yesterday', 'NOUN'), (',', '.'), ('POP', 'NOUN'), ('plunged', 'VERB'), ('$', '.'), ('4', 'NUM'), ('*U*', 'X'), ('to', 'PRT'), ('$', '.'), ('14.75', 'NUM'), ('*U*', 'X'), ('.', '.'), ('Lord', 'NOUN'), ('Chilver', 'NOUN'), (',', '.'), ('63-year-old', 'NOUN'), ('chairman', 'NOUN'), ('of', 'ADP'), ('English', 'ADJ'), ('China', 'NOUN'), ('Clays', 'NOUN'), ('PLC', 'NOUN'), (',', '.'), ('was', 'VERB'), ('named', 'VERB'), ('*-39', 'X'), ('a', 'DET'), ('nonexecutive', 'ADJ'), ('director', 'NOUN'), ('of', 'ADP'), ('this', 'DET'), ('British', 'ADJ'), ('chemical', 'NOUN'), ('company', 'NOUN'), ('.', '.'), ('CoreStates', 'VERB'), ('Financial', 'NOUN'), ('Corp.', 'NOUN'), (',', '.'), ('Philadelphia', 'NOUN'), (',', '.'), ('named', 'VERB'), ('Earle', 'NOUN'), ('Palmer', 'NOUN'), ('Brown', 'NOUN'), ('&', 'CONJ'), ('Spiro', 'NOUN'), (',', '.'), ('Philadelphia', 'NOUN'), (',', '.'), ('as', 'ADP'), ('agency', 'NOUN'), ('of', 'ADP'), ('record', 'NOUN'), ('for', 'ADP'), ('its', 'PRON'), ('$', '.'), ('5', 'NUM'), ('million', 'NUM'), ('*U*', 'X'), ('account', 'VERB'), ('.', '.'), ('Once', 'ADV'), ('there', 'DET'), (',', '.'), ('what', 'PRON'), ('ways', 'NOUN'), ('of', 'ADP'), ('escape', 'NOUN'), ('*ICH*-2', 'X'), ('are', 'VERB'), ('*T*-1', 'X'), ('open', 'VERB'), ('to', 'PRT'), ('them', 'PRON'), ('other', 'ADJ'), ('than', 'ADP'), ('drink', 'VERB'), (',', '.'), ('drugs', 'NOUN'), ('or', 'CONJ'), ('insanity', 'NOUN'), ('?', '.'), ('The', 'DET'), ('board', 'NOUN'), ('is', 'VERB'), ('dominated', 'VERB'), ('*-41', 'X'), ('by', 'ADP'), ('the', 'DET'), ('heirs', 'NOUN'), ('of', 'ADP'), ('the', 'DET'), ('late', 'ADJ'), ('John', 'NOUN'), ('T.', 'NOUN'), ('Dorrance', 'NOUN'), ('Jr.', 'NOUN'), (',', '.'), ('who', 'PRON'), ('*T*-31', 'X'), ('controlled', 'VERB'), ('about', 'ADP'), ('58', 'NUM'), ('%', 'NOUN'), ('of', 'ADP'), ('Campbell', 'NOUN'), (\"'s\", 'PRT'), ('stock', 'NOUN'), ('when', 'ADV'), ('he', 'PRON'), ('died', 'VERB'), ('in', 'ADP'), ('April', 'NOUN'), ('*T*-1', 'X'), ('.', '.'), ('Nylev', 'NOUN'), ('Municipal', 'ADJ'), ('Fund', 'NOUN'), ('Inc.', 'NOUN'), (',', '.'), ('offering', 'NOUN'), ('of', 'ADP'), ('five', 'NUM'), ('million', 'NUM'), ('common', 'ADJ'), ('shares', 'NOUN'), ('.', '.'), ('Elsewhere', 'ADV'), (':', '.'), ('Farmers', 'NOUN'), ('are', 'VERB'), ('in', 'ADP'), ('the', 'DET'), ('best', 'ADJ'), ('position', 'NOUN'), ('of', 'ADP'), ('many', 'ADJ'), ('years', 'NOUN'), ('0', 'X'), ('*', 'X'), ('to', 'PRT'), ('push', 'VERB'), ('up', 'ADV'), ('corn', 'NOUN'), ('prices', 'NOUN'), ('*T*-1', 'X'), ('.', '.'), ('They', 'PRON'), ('suffered', 'VERB'), ('from', 'ADP'), ('malnutrition', 'NOUN'), (',', '.'), ('chest', 'NOUN'), ('diseases', 'NOUN'), (',', '.'), ('cardiovascular', 'NOUN'), ('disorders', 'NOUN'), (',', '.'), ('skin', 'NOUN'), ('problems', 'NOUN'), (',', '.'), ('infectious', 'NOUN'), ('diseases', 'NOUN'), ('and', 'CONJ'), ('the', 'DET'), ('aftereffects', 'NOUN'), ('of', 'ADP'), ('assaults', 'NOUN'), ('and', 'CONJ'), ('rape', 'NOUN'), ('.', '.'), ('Mrs.', 'NOUN'), ('Ward', 'NOUN'), ('says', 'VERB'), ('0', 'X'), ('she', 'PRON'), ('often', 'ADV'), ('defended', 'VERB'), ('her', 'PRON'), ('to', 'PRT'), ('colleagues', 'NOUN'), ('who', 'PRON'), ('*T*-91', 'NOUN'), ('called', 'VERB'), ('her', 'PRON'), ('a', 'DET'), ('grandstander', 'NOUN'), ('.', '.'), ('Jaguar', 'NOUN'), (',', '.'), ('a', 'DET'), ('U.K.', 'NOUN'), ('luxury', 'NOUN'), ('auto', 'NOUN'), ('maker', 'NOUN'), ('being', 'VERB'), ('pursued', 'VERB'), ('*', 'X'), ('by', 'ADP'), ('Ford', 'NOUN'), ('Motor', 'NOUN'), ('and', 'CONJ'), ('General', 'NOUN'), ('Motors', 'NOUN'), (',', '.'), ('gained', 'VERB'), ('10', 'NUM'), ('pence', 'NOUN'), ('-LRB-', '.'), ('16', 'NUM'), ('cents', 'NOUN'), ('-RRB-', '.'), ('a', 'DET'), ('share', 'NOUN'), ('*-1', 'X'), ('to', 'PRT'), ('close', 'VERB'), ('at', 'ADP'), ('879', 'NUM'), ('pence', 'NOUN'), ('-LRB-', '.'), ('$', '.'), ('13.90', 'NUM'), ('*U*', 'X'), ('-RRB-', '.'), ('.', '.'), ('The', 'DET'), ('big', 'ADJ'), ('problem', 'NOUN'), (',', '.'), ('however', 'ADV'), (',', '.'), ('is', 'VERB'), ('that', 'ADP'), ('there', 'DET'), (\"'s\", 'VERB'), ('no', 'DET'), ('guarantee', 'VERB'), ('that', 'ADP'), ('this', 'DET'), ('reasoning', 'NOUN'), ('will', 'VERB'), ('be', 'VERB'), ('limited', 'VERB'), ('*-1', 'X'), ('to', 'PRT'), ('DES', 'NOUN'), ('or', 'CONJ'), ('to', 'PRT'), ('drugs', 'NOUN'), ('.', '.'), ('Some', 'DET'), ('think', 'VERB'), ('0', 'X'), ('Columbia', 'NOUN'), (\"'s\", 'PRT'), ('thrift', 'NOUN'), (',', '.'), ('which', 'DET'), ('*T*-1', 'X'), ('now', 'ADV'), ('is', 'VERB'), ('seeking', 'VERB'), ('a', 'DET'), ('new', 'ADJ'), ('chief', 'NOUN'), ('operating', 'NOUN'), ('officer', 'NOUN'), (',', '.'), ('might', 'VERB'), ('be', 'VERB'), ('capitalized', 'VERB'), ('*-3', 'X'), ('at', 'ADP'), (',', '.'), ('say', 'VERB'), ('$', '.'), ('300', 'NUM'), ('million', 'NUM'), ('*U*', 'X'), (',', '.'), ('and', 'CONJ'), ('shopped', 'VERB'), ('*-3', 'X'), ('to', 'PRT'), ('a', 'DET'), ('commercial', 'ADJ'), ('bank', 'NOUN'), ('that', 'ADP'), ('*T*-2', 'X'), ('wants', 'VERB'), ('a', 'DET'), ('California', 'NOUN'), ('presence', 'NOUN'), ('.', '.'), ('As', 'ADP'), ('a', 'DET'), ('result', 'NOUN'), (',', '.'), ('Ms.', 'NOUN'), ('Ganes', 'NOUN'), ('said', 'VERB'), ('0', 'X'), ('*T*-2', 'X'), (',', '.'), ('it', 'PRON'), ('is', 'VERB'), ('believed', 'VERB'), ('that', 'ADP'), ('little', 'ADJ'), ('or', 'CONJ'), ('no', 'DET'), ('sugar', 'NOUN'), ('from', 'ADP'), ('the', 'DET'), ('1989-90', 'NUM'), ('crop', 'NOUN'), ('has', 'VERB'), ('been', 'VERB'), ('shipped', 'VERB'), ('*-1', 'X'), ('yet', 'ADV'), (',', '.'), ('even', 'ADV'), ('though', 'ADP'), ('the', 'DET'), ('crop', 'NOUN'), ('year', 'NOUN'), ('is', 'VERB'), ('six', 'NUM'), ('months', 'NOUN'), ('old', 'ADJ'), ('.', '.'), ('The', 'DET'), ('survey', 'NOUN'), ('found', 'VERB'), ('that', 'ADP'), ('nearly', 'ADV'), ('half', 'DET'), ('of', 'ADP'), ('Hong', 'NOUN'), ('Kong', 'NOUN'), ('consumers', 'NOUN'), ('espouse', 'NOUN'), ('what', 'PRON'), ('it', 'PRON'), ('identified', 'VERB'), ('*T*-61', 'X'), ('as', 'ADP'), ('materialistic', 'ADJ'), ('values', 'NOUN'), (',', '.'), ('compared', 'VERB'), ('with', 'ADP'), ('about', 'ADP'), ('one-third', 'NOUN'), ('in', 'ADP'), ('Japan', 'NOUN'), ('and', 'CONJ'), ('the', 'DET'), ('U.S.', 'NOUN'), ('.', '.'), ('The', 'DET'), ('results', 'NOUN'), ('reflected', 'VERB'), ('a', 'DET'), ('24', 'NUM'), ('%', 'NOUN'), ('gain', 'NOUN'), ('in', 'ADP'), ('income', 'NOUN'), ('from', 'ADP'), ('its', 'PRON'), ('finance', 'VERB'), ('businesses', 'NOUN'), (',', '.'), ('and', 'CONJ'), ('a', 'DET'), ('15', 'NUM'), ('%', 'NOUN'), ('slide', 'NOUN'), ('in', 'ADP'), ('income', 'NOUN'), ('from', 'ADP'), ('insurance', 'NOUN'), ('operations', 'NOUN'), ('.', '.'), ('Because', 'ADP'), ('of', 'ADP'), ('deteriorating', 'VERB'), ('hearing', 'NOUN'), (',', '.'), ('she', 'PRON'), ('told', 'VERB'), ('colleagues', 'NOUN'), ('0', 'X'), ('she', 'PRON'), ('feared', 'VERB'), ('0', 'X'), ('she', 'PRON'), ('might', 'VERB'), ('not', 'ADV'), ('be', 'VERB'), ('able', 'ADJ'), ('*-1', 'X'), ('to', 'PRT'), ('teach', 'VERB'), ('much', 'ADV'), ('longer', 'ADV'), ('.', '.'), ('A.', 'NOUN'), ('Donald', 'NOUN'), ('Anderson', 'NOUN'), (',', '.'), ('a', 'DET'), ('59-year-old', 'NOUN'), ('Los', 'NOUN'), ('Angeles', 'NOUN'), ('investor', 'NOUN'), ('who', 'PRON'), ('*T*-1', 'X'), ('says', 'VERB'), ('0', 'X'), ('the', 'DET'), ('stock', 'NOUN'), ('market', 'NOUN'), (\"'s\", 'PRT'), ('``', '.'), ('fluctuations', 'NOUN'), ('and', 'CONJ'), ('gyrations', 'NOUN'), ('give', 'VERB'), ('me', 'PRON'), ('the', 'DET'), ('heebie-jeebies', 'VERB'), (',', '.'), (\"''\", '.'), ('does', 'VERB'), (\"n't\", 'ADV'), ('see', 'VERB'), ('much', 'ADV'), ('point', 'VERB'), ('in', 'ADP'), ('*', 'X'), ('outlawing', 'VERB'), ('program', 'NOUN'), ('trading', 'NOUN'), ('.', '.'), ('The', 'DET'), ('council', 'NOUN'), ('backed', 'VERB'), ('the', 'DET'), ('audit', 'VERB'), ('commission', 'NOUN'), (\"'s\", 'PRT'), ('stand', 'VERB'), ('that', 'ADP'), ('the', 'DET'), ('swap', 'NOUN'), ('transactions', 'NOUN'), ('are', 'VERB'), ('illegal', 'ADJ'), ('.', '.'), ('She', 'PRON'), ('had', 'VERB'), ('gone', 'VERB'), ('so', 'ADV'), ('far', 'ADV'), ('as', 'ADP'), ('*-1', 'X'), ('to', 'PRT'), ('display', 'NOUN'), ('the', 'DET'), ('questions', 'NOUN'), ('on', 'ADP'), ('an', 'DET'), ('overhead', 'ADJ'), ('projector', 'NOUN'), ('and', 'CONJ'), ('underline', 'NOUN'), ('the', 'DET'), ('answers', 'NOUN'), ('.', '.'), ('According', 'VERB'), ('to', 'PRT'), ('Ms.', 'NOUN'), ('Poore', 'NOUN'), (',', '.'), ('Old-House', 'NOUN'), ('Journal', 'NOUN'), ('Corp.', 'NOUN'), (',', '.'), ('her', 'PRON'), ('publishing', 'VERB'), ('company', 'NOUN'), (',', '.'), ('printed', 'VERB'), ('and', 'CONJ'), ('sold', 'VERB'), ('all', 'DET'), ('126,000', 'NUM'), ('copies', 'NOUN'), ('of', 'ADP'), ('the', 'DET'), ('premiere', 'NOUN'), ('issue', 'NOUN'), ('.', '.'), ('``', '.'), ('This', 'DET'), ('stadium', 'NOUN'), ('shows', 'VERB'), ('that', 'ADP'), ('anything', 'NOUN'), ('0', 'X'), ('government', 'NOUN'), ('can', 'VERB'), ('do', 'VERB'), ('*T*-2', 'X'), (',', '.'), ('we', 'PRON'), ('can', 'VERB'), ('do', 'VERB'), ('*-3', 'X'), ('better', 'ADV'), (',', '.'), (\"''\", '.'), ('Mr.', 'NOUN'), ('Robbie', 'NOUN'), ('says', 'VERB'), ('*T*-1', 'X'), ('.', '.'), ('``', '.'), ('My', 'PRON'), ('stocks', 'NOUN'), ('are', 'VERB'), ('all', 'DET'), ('blue', 'ADJ'), ('chips', 'NOUN'), (',', '.'), (\"''\", '.'), ('she', 'PRON'), ('says', 'VERB'), ('*T*-1', 'X'), ('.', '.'), ('Both', 'DET'), ('contracts', 'NOUN'), ('have', 'VERB'), ('gained', 'VERB'), ('a', 'DET'), ('following', 'VERB'), ('since', 'ADP'), ('the', 'DET'), ('1987', 'NUM'), ('global', 'ADJ'), ('market', 'NOUN'), ('crash', 'NOUN'), ('.', '.'), ('A', 'DET'), ('few', 'ADJ'), ('years', 'NOUN'), ('ago', 'ADP'), (',', '.'), ('the', 'DET'), ('company', 'NOUN'), ('offered', 'VERB'), ('two', 'NUM'), ('round-trip', 'NOUN'), ('tickets', 'NOUN'), ('on', 'ADP'), ('Trans', 'NOUN'), ('World', 'NOUN'), ('Airlines', 'NOUN'), ('to', 'PRT'), ('buyers', 'NOUN'), ('of', 'ADP'), ('its', 'PRON'), ('Riviera', 'NOUN'), ('luxury', 'NOUN'), ('car', 'NOUN'), ('.', '.'), ('With', 'ADP'), ('prices', 'NOUN'), ('soaring', 'VERB'), (',', '.'), ('they', 'PRON'), ('were', 'VERB'), ('able', 'ADJ'), ('*-1', 'X'), ('to', 'PRT'), ('sell', 'VERB'), ('the', 'DET'), ('reclaimed', 'VERB'), ('commodities', 'NOUN'), ('at', 'ADP'), ('``', '.'), ('considerable', 'ADJ'), ('profit', 'NOUN'), (',', '.'), (\"''\", '.'), ('the', 'DET'), ('agency', 'NOUN'), (\"'s\", 'PRT'), ('240-page', 'NOUN'), ('report', 'NOUN'), ('said', 'VERB'), ('0', 'X'), ('*T*-2', 'X'), ('.', '.'), ('This', 'DET'), ('interpretation', 'NOUN'), ('was', 'VERB'), ('officially', 'ADV'), ('endorsed', 'VERB'), ('*-1', 'X'), ('by', 'ADP'), ('Congress', 'NOUN'), ('in', 'ADP'), ('1987', 'NUM'), ('in', 'ADP'), ('the', 'DET'), ('Iran-Contra', 'NOUN'), ('Report', 'NOUN'), ('.', '.'), ('BTR', 'NOUN'), ('PLC', 'NOUN'), (',', '.'), ('a', 'DET'), ('U.K.', 'NOUN'), ('industrial', 'ADJ'), ('conglomerate', 'NOUN'), (',', '.'), ('said', 'VERB'), ('in', 'ADP'), ('June', 'NOUN'), ('0', 'X'), ('it', 'PRON'), ('had', 'VERB'), ('sold', 'VERB'), ('its', 'PRON'), ('National', 'NOUN'), ('Tyre', 'NOUN'), ('Service', 'NOUN'), ('business', 'NOUN'), ('to', 'PRT'), ('Michelin', 'NOUN'), ('Investment', 'NOUN'), ('Ltd.', 'NOUN'), (',', '.'), ('a', 'DET'), ('U.K.', 'NOUN'), ('unit', 'NOUN'), ('of', 'ADP'), ('the', 'DET'), ('tire', 'NOUN'), ('maker', 'NOUN'), (',', '.'), ('for', 'ADP'), ('#', '.'), ('140', 'NUM'), ('million', 'NUM'), ('*U*', 'X'), ('-LRB-', '.'), ('$', '.'), ('221.4', 'NUM'), ('million', 'NUM'), ('*U*', 'X'), ('-RRB-', '.'), ('.', '.'), ('Next', 'NOUN'), ('week', 'NOUN'), (',', '.'), ('the', 'DET'), ('Philippine', 'NOUN'), ('Fund', 'NOUN'), (\"'s\", 'PRT'), ('launch', 'VERB'), ('will', 'VERB'), ('be', 'VERB'), ('capped', 'ADJ'), ('*-46', 'X'), ('by', 'ADP'), ('a', 'DET'), ('visit', 'NOUN'), ('by', 'ADP'), ('Philippine', 'NOUN'), ('President', 'NOUN'), ('Corazon', 'NOUN'), ('Aquino', 'NOUN'), ('--', '.'), ('the', 'DET'), ('first', 'ADJ'), ('time', 'NOUN'), ('0', 'X'), ('a', 'DET'), ('head', 'NOUN'), ('of', 'ADP'), ('state', 'NOUN'), ('has', 'VERB'), ('kicked', 'VERB'), ('off', 'PRT'), ('an', 'DET'), ('issue', 'NOUN'), ('at', 'ADP'), ('the', 'DET'), ('Big', 'NOUN'), ('Board', 'NOUN'), ('here', 'ADV'), ('*T*-1', 'X'), ('.', '.'), ('``', '.'), ('In', 'ADP'), ('addition', 'NOUN'), (',', '.'), ('recent', 'ADJ'), ('industry', 'NOUN'), ('forecasts', 'NOUN'), ('for', 'ADP'), ('1990', 'NUM'), ('indicate', 'VERB'), ('a', 'DET'), ('slow', 'ADJ'), ('environment', 'NOUN'), (',', '.'), ('at', 'ADP'), ('least', 'ADJ'), ('until', 'ADP'), ('midyear', 'NOUN'), ('.', '.'), (\"''\", '.'), ('Spending', 'VERB'), ('on', 'ADP'), ('private', 'ADJ'), (',', '.'), ('nonresidential', 'NOUN'), ('construction', 'NOUN'), ('was', 'VERB'), ('off', 'PRT'), ('2.6', 'NUM'), ('%', 'NOUN'), ('to', 'PRT'), ('an', 'DET'), ('annual', 'ADJ'), ('rate', 'NOUN'), ('of', 'ADP'), ('$', '.'), ('99.1', 'NUM'), ('billion', 'NUM'), ('*U*', 'X'), ('with', 'ADP'), ('no', 'DET'), ('sector', 'NOUN'), ('showing', 'VERB'), ('strength', 'NOUN'), ('.', '.'), ('Trading', 'NOUN'), ('is', 'VERB'), ('expected', 'VERB'), ('*-1', 'X'), ('to', 'PRT'), ('remain', 'VERB'), ('subdued', 'VERB'), ('as', 'ADP'), ('the', 'DET'), ('market', 'NOUN'), ('awaits', 'NOUN'), ('tomorrow', 'NOUN'), (\"'s\", 'PRT'), ('release', 'NOUN'), ('of', 'ADP'), ('the', 'DET'), ('jobs', 'NOUN'), ('data', 'NOUN'), ('with', 'ADP'), ('the', 'DET'), ('hope', 'NOUN'), ('that', 'ADP'), ('it', 'PRON'), ('will', 'VERB'), ('point', 'NOUN'), ('toward', 'ADP'), ('a', 'DET'), ('decline', 'NOUN'), ('in', 'ADP'), ('interest', 'NOUN'), ('rates', 'NOUN'), ('.', '.'), ('Aerospace', 'NOUN'), ('earnings', 'NOUN'), ('sagged', 'VERB'), ('37', 'NUM'), ('%', 'NOUN'), ('for', 'ADP'), ('the', 'DET'), ('quarter', 'NOUN'), ('and', 'CONJ'), ('15', 'NUM'), ('%', 'NOUN'), ('for', 'ADP'), ('the', 'DET'), ('year', 'NOUN'), (',', '.'), ('largely', 'ADV'), ('due', 'ADJ'), ('to', 'PRT'), ('lower', 'ADJ'), ('B-1B', 'ADJ'), ('program', 'NOUN'), ('profit', 'NOUN'), (';', '.'), ('the', 'DET'), ('last', 'ADJ'), ('of', 'ADP'), ('the', 'DET'), ('bombers', 'NOUN'), ('rolled', 'VERB'), ('out', 'PRT'), ('in', 'ADP'), ('April', 'NOUN'), ('1988', 'NUM'), ('.', '.'), ('Nissan', 'NOUN'), ('Motor', 'NOUN'), ('Co.', 'NOUN'), (',', '.'), ('Japan', 'NOUN'), (\"'s\", 'PRT'), ('second-largest', 'ADJ'), ('car', 'NOUN'), ('maker', 'NOUN'), (',', '.'), ('announced', 'VERB'), ('Wednesday', 'NOUN'), ('that', 'ADP'), ('the', 'DET'), ('parent', 'NOUN'), ('concern', 'NOUN'), (\"'s\", 'PRT'), ('pretax', 'NOUN'), ('earnings', 'NOUN'), ('in', 'ADP'), ('the', 'DET'), ('first', 'ADJ'), ('half', 'NOUN'), ('ended', 'VERB'), ('last', 'ADJ'), ('Sept.', 'NOUN'), ('30', 'NUM'), ('rose', 'VERB'), ('14', 'NUM'), ('%', 'NOUN'), ('to', 'PRT'), ('88.32', 'NUM'), ('billion', 'NUM'), ('yen', 'NOUN'), ('-LRB-', '.'), ('$', '.'), ('618.1', 'NUM'), ('million', 'NUM'), ('*U*', 'X'), ('-RRB-', '.'), ('from', 'ADP'), ('77.6', 'NUM'), ('billion', 'NUM'), ('yen', 'NOUN'), ('a', 'DET'), ('year', 'NOUN'), ('earlier', 'ADV'), ('.', '.'), ('But', 'CONJ'), ('regulators', 'NOUN'), ('are', 'VERB'), ('wary', 'ADJ'), ('.', '.'), ('Sales', 'NOUN'), ('for', 'ADP'), ('the', 'DET'), ('year', 'NOUN'), ('rose', 'VERB'), ('5', 'NUM'), ('%', 'NOUN'), ('to', 'PRT'), ('$', '.'), ('12.52', 'NUM'), ('billion', 'NUM'), ('*U*', 'X'), ('from', 'ADP'), ('$', '.'), ('11.95', 'NUM'), ('billion', 'NUM'), ('*U*', 'X'), ('in', 'ADP'), ('fiscal', 'ADJ'), ('1988', 'NUM'), ('.', '.'), ('The', 'DET'), ('White', 'NOUN'), ('House', 'NOUN'), ('said', 'VERB'), ('0', 'X'), ('the', 'DET'), ('shipboard', 'NOUN'), ('meetings', 'NOUN'), ('next', 'ADP'), ('month', 'NOUN'), ('between', 'ADP'), ('Bush', 'NOUN'), ('and', 'CONJ'), ('Soviet', 'ADJ'), ('leader', 'NOUN'), ('Gorbachev', 'NOUN'), ('will', 'VERB'), ('take', 'VERB'), ('place', 'NOUN'), ('in', 'ADP'), ('the', 'DET'), ('waters', 'NOUN'), ('off', 'PRT'), ('Malta', 'NOUN'), ('.', '.'), ('NCNB', 'NOUN'), ('Corp.', 'NOUN'), ('of', 'ADP'), ('Charlotte', 'NOUN'), (',', '.'), ('N.C.', 'NOUN'), (',', '.'), ('recently', 'ADV'), ('introduced', 'VERB'), ('its', 'PRON'), ('Financial', 'NOUN'), ('Connections', 'NOUN'), ('Program', 'NOUN'), ('aimed', 'VERB'), ('*', 'X'), ('at', 'ADP'), ('young', 'ADJ'), ('adults', 'NOUN'), ('just', 'ADV'), ('starting', 'VERB'), ('careers', 'NOUN'), ('.', '.'), ('As', 'ADP'), ('partisans', 'NOUN'), ('of', 'ADP'), ('congressional', 'ADJ'), ('power', 'NOUN'), ('understand', 'VERB'), (',', '.'), ('a', 'DET'), ('``', '.'), ('power', 'NOUN'), ('of', 'ADP'), ('the', 'DET'), ('purse', 'NOUN'), (\"''\", '.'), ('so', 'ADV'), ('broadly', 'NOUN'), ('construed', 'VERB'), ('*', 'X'), ('would', 'VERB'), ('emasculate', 'NOUN'), ('the', 'DET'), ('presidency', 'NOUN'), ('and', 'CONJ'), ('swallow', 'NOUN'), ('the', 'DET'), ('principle', 'NOUN'), ('of', 'ADP'), ('separation', 'NOUN'), ('of', 'ADP'), ('powers', 'NOUN'), ('.', '.'), ('The', 'DET'), ('bids', 'NOUN'), (',', '.'), ('he', 'PRON'), ('added', 'VERB'), ('0', 'X'), ('*T*-1', 'X'), (',', '.'), ('were', 'VERB'), ('``', '.'), ('contrary', 'NOUN'), ('to', 'PRT'), ('common', 'ADJ'), ('sense', 'NOUN'), ('.', '.'), (\"''\", '.'), ('It', 'PRON'), (\"'s\", 'VERB'), ('hardly', 'ADV'), ('a', 'DET'), ('question', 'NOUN'), ('of', 'ADP'), ('quality', 'NOUN'), ('--', '.'), ('the', 'DET'), ('1982', 'NUM'), ('Salon', 'NOUN'), ('is', 'VERB'), ('a', 'DET'), ('beautiful', 'ADJ'), ('wine', 'NOUN'), (',', '.'), ('but', 'CONJ'), (',', '.'), ('as', 'ADP'), ('Mr.', 'NOUN'), ('Pratt', 'NOUN'), ('noted', 'VERB'), ('0', 'X'), ('*T*-1', 'X'), (',', '.'), ('people', 'NOUN'), ('have', 'VERB'), ('their', 'PRON'), ('own', 'ADJ'), ('ideas', 'NOUN'), ('about', 'ADP'), ('value', 'NOUN'), ('.', '.')]\n"
     ]
    }
   ],
   "source": [
    "time_taken = test_evaluate(Viterbi_Using_Rule_Based, valdn_tagged_words)[0]\n",
    "valdn_seq_mod2 = test_evaluate(Viterbi_Using_Rule_Based, valdn_tagged_words)[1]\n",
    "print(\"Evaluation time taken (in seconds) for Viterbi using rule based tagging on validation data: \",time_taken)\n",
    "print(valdn_seq_mod2)"
   ]
  },
  {
   "cell_type": "markdown",
   "metadata": {},
   "source": [
    "### Accuracy - Validation data"
   ]
  },
  {
   "cell_type": "code",
   "execution_count": 56,
   "metadata": {},
   "outputs": [
    {
     "name": "stdout",
     "output_type": "stream",
     "text": [
      "Accuracy of Viterbi modified using rule based over Validation Data : 94.75 %\n"
     ]
    }
   ],
   "source": [
    "accu = get_accuracy(valdn_seq_mod2, valdn_run_base)\n",
    "print(\"Accuracy of Viterbi modified using rule based over Validation Data :\", round(accu * 100,2),\"%\")"
   ]
  },
  {
   "cell_type": "markdown",
   "metadata": {},
   "source": [
    "### Validation Data - TEST CASES\n",
    "### Word Tags corrected by Viterbi modified using rule based POS tagging of unknown words"
   ]
  },
  {
   "cell_type": "markdown",
   "metadata": {},
   "source": [
    "#### TEST CASE 1"
   ]
  },
  {
   "cell_type": "code",
   "execution_count": 88,
   "metadata": {},
   "outputs": [
    {
     "name": "stdout",
     "output_type": "stream",
     "text": [
      "Text - \"deteriorating\" corrected by Viterbi Modified using rule based POS tagging of unknown words\n",
      "Viterbi - Incorrect word Tag:  ('deteriorating', 'NUM')\n",
      "Viterbi Modified using transition probabilities of unknown words - Corrected word Tag:  ('deteriorating', 'VERB')\n"
     ]
    }
   ],
   "source": [
    "# Test Case 1\n",
    "print(\"Text - \\\"deteriorating\\\" corrected by Viterbi Modified using rule based POS tagging of unknown words\")\n",
    "print(\"Viterbi - Incorrect word Tag: \",get_tag(\"deteriorating\", valdn_seq_Viterbi))\n",
    "print(\"Viterbi Modified using transition probabilities of unknown words - Corrected word Tag: \",get_tag(\"deteriorating\", valdn_seq_mod2))"
   ]
  },
  {
   "cell_type": "markdown",
   "metadata": {},
   "source": [
    "#### The POS tag of word 'deteriorating' corrected to VERB"
   ]
  },
  {
   "cell_type": "markdown",
   "metadata": {},
   "source": [
    "#### TEST CASE 2"
   ]
  },
  {
   "cell_type": "code",
   "execution_count": 78,
   "metadata": {
    "scrolled": true
   },
   "outputs": [
    {
     "name": "stdout",
     "output_type": "stream",
     "text": [
      "Word - \"relevance\" corrected by Viterbi Modified using rule based POS tagging of unknown words\n",
      "Viterbi - Incorrect word Tag:  ('relevance', 'NUM')\n",
      "Viterbi Modified using transition probabilities of unknown words - Corrected word Tag:  ('relevance', 'NOUN')\n"
     ]
    }
   ],
   "source": [
    "# Test Case 2\n",
    "print(\"Word - \\\"relevance\\\" corrected by Viterbi Modified using rule based POS tagging of unknown words\")\n",
    "print(\"Viterbi - Incorrect word Tag: \",get_tag(\"relevance\", valdn_seq_Viterbi))\n",
    "print(\"Viterbi Modified using transition probabilities of unknown words - Corrected word Tag: \",get_tag(\"relevance\", valdn_seq_mod2))"
   ]
  },
  {
   "cell_type": "markdown",
   "metadata": {},
   "source": [
    "#### The POS tag of the word 'relevance' corrected to NOUN"
   ]
  },
  {
   "cell_type": "markdown",
   "metadata": {},
   "source": [
    "#### TEST CASE 3"
   ]
  },
  {
   "cell_type": "code",
   "execution_count": 79,
   "metadata": {},
   "outputs": [
    {
     "name": "stdout",
     "output_type": "stream",
     "text": [
      "Word - \"diagnosed\" corrected by Viterbi Modified using rule based POS tagging of unknown words\n",
      "Viterbi - Incorrect word Tag:  ('diagnosed', 'NUM')\n",
      "Viterbi Modified using transition probabilities of unknown words - Corrected word Tag:  ('diagnosed', 'VERB')\n"
     ]
    }
   ],
   "source": [
    "# Test Case 3\n",
    "print(\"Word - \\\"diagnosed\\\" corrected by Viterbi Modified using rule based POS tagging of unknown words\")\n",
    "print(\"Viterbi - Incorrect word Tag: \",get_tag(\"diagnosed\", valdn_seq_Viterbi))\n",
    "print(\"Viterbi Modified using transition probabilities of unknown words - Corrected word Tag: \",get_tag(\"diagnosed\", valdn_seq_mod2))"
   ]
  },
  {
   "cell_type": "markdown",
   "metadata": {},
   "source": [
    "#### The POS tag of word 'diagnosed' corrected to VERB"
   ]
  },
  {
   "cell_type": "markdown",
   "metadata": {},
   "source": [
    "### Evaluation - Sample Test Data"
   ]
  },
  {
   "cell_type": "code",
   "execution_count": 60,
   "metadata": {},
   "outputs": [
    {
     "name": "stdout",
     "output_type": "stream",
     "text": [
      "Evaluation time taken (in seconds) for Viterbi using rule based on sample test data:  69.27740120887756\n",
      "[('Android', 'NOUN'), ('is', 'VERB'), ('a', 'DET'), ('mobile', 'ADJ'), ('operating', 'NOUN'), ('system', 'NOUN'), ('developed', 'VERB'), ('by', 'ADP'), ('Google', 'NOUN'), ('.', '.'), ('Android', 'NOUN'), ('has', 'VERB'), ('been', 'VERB'), ('the', 'DET'), ('best-selling', 'ADJ'), ('OS', 'NOUN'), ('worldwide', 'NOUN'), ('on', 'ADP'), ('smartphones', 'VERB'), ('since', 'ADP'), ('2011', 'NUM'), ('and', 'CONJ'), ('on', 'ADP'), ('tablets', 'NOUN'), ('since', 'ADP'), ('2013', 'NUM'), ('.', '.'), ('Google', 'NOUN'), ('and', 'CONJ'), ('Twitter', 'NOUN'), ('made', 'VERB'), ('a', 'DET'), ('deal', 'NOUN'), ('in', 'ADP'), ('2015', 'NUM'), ('that', 'ADP'), ('gave', 'VERB'), ('Google', 'NOUN'), ('access', 'NOUN'), ('to', 'PRT'), ('Twitter', 'NOUN'), (\"'s\", 'PRT'), ('firehose', 'NOUN'), ('.', '.'), ('Twitter', 'NOUN'), ('is', 'VERB'), ('an', 'DET'), ('online', 'NOUN'), ('news', 'NOUN'), ('and', 'CONJ'), ('social', 'ADJ'), ('networking', 'NOUN'), ('service', 'NOUN'), ('on', 'ADP'), ('which', 'DET'), ('users', 'NOUN'), ('post', 'NOUN'), ('and', 'CONJ'), ('interact', 'NOUN'), ('with', 'ADP'), ('messages', 'VERB'), ('known', 'VERB'), ('as', 'ADP'), ('tweets', 'NOUN'), ('.', '.'), ('Before', 'ADP'), ('entering', 'VERB'), ('politics', 'NOUN'), (',', '.'), ('Donald', 'NOUN'), ('Trump', 'NOUN'), ('was', 'VERB'), ('a', 'DET'), ('domineering', 'VERB'), ('businessman', 'NOUN'), ('and', 'CONJ'), ('a', 'DET'), ('television', 'NOUN'), ('personality', 'NOUN'), ('.', '.'), ('The', 'DET'), ('2018', 'NUM'), ('FIFA', 'NOUN'), ('World', 'NOUN'), ('Cup', 'NOUN'), ('is', 'VERB'), ('the', 'DET'), ('21st', 'NOUN'), ('FIFA', 'NOUN'), ('World', 'NOUN'), ('Cup', 'NOUN'), (',', '.'), ('an', 'DET'), ('international', 'ADJ'), ('football', 'NOUN'), ('tournament', 'NOUN'), ('contested', 'VERB'), ('once', 'ADV'), ('every', 'DET'), ('four', 'NUM'), ('years', 'NOUN'), ('.', '.'), ('This', 'DET'), ('is', 'VERB'), ('the', 'DET'), ('first', 'ADJ'), ('World', 'NOUN'), ('Cup', 'NOUN'), ('to', 'PRT'), ('be', 'VERB'), ('held', 'VERB'), ('in', 'ADP'), ('Eastern', 'NOUN'), ('Europe', 'NOUN'), ('and', 'CONJ'), ('the', 'DET'), ('11th', 'ADJ'), ('time', 'NOUN'), ('that', 'ADP'), ('it', 'PRON'), ('has', 'VERB'), ('been', 'VERB'), ('held', 'VERB'), ('in', 'ADP'), ('Europe', 'NOUN'), ('.', '.'), ('Show', 'NOUN'), ('me', 'PRON'), ('the', 'DET'), ('cheapest', 'ADJ'), ('round', 'NOUN'), ('trips', 'NOUN'), ('from', 'ADP'), ('Dallas', 'NOUN'), ('to', 'PRT'), ('Atlanta', 'NOUN'), ('I', 'PRON'), ('would', 'VERB'), ('like', 'ADP'), ('to', 'PRT'), ('see', 'VERB'), ('flights', 'NOUN'), ('from', 'ADP'), ('Denver', 'NOUN'), ('to', 'PRT'), ('Philadelphia', 'NOUN'), ('.', '.'), ('Show', 'NOUN'), ('me', 'PRON'), ('the', 'DET'), ('price', 'NOUN'), ('of', 'ADP'), ('the', 'DET'), ('flights', 'NOUN'), ('leaving', 'VERB'), ('Atlanta', 'NOUN'), ('at', 'ADP'), ('about', 'ADP'), ('3', 'NUM'), ('in', 'ADP'), ('the', 'DET'), ('afternoon', 'NOUN'), ('and', 'CONJ'), ('arriving', 'VERB'), ('in', 'ADP'), ('San', 'NOUN'), ('Francisco', 'NOUN'), ('.', '.'), ('NASA', 'NOUN'), ('invited', 'VERB'), ('social', 'ADJ'), ('media', 'NOUN'), ('users', 'NOUN'), ('to', 'PRT'), ('experience', 'NOUN'), ('the', 'DET'), ('launch', 'NOUN'), ('of', 'ADP'), ('ICESAT-2', 'NOUN'), ('Satellite', 'NOUN'), ('.', '.')]\n"
     ]
    }
   ],
   "source": [
    "time_taken = test_evaluate(Viterbi_Using_Rule_Based, samp_file_words)[0]\n",
    "sample_seq_mod2 = test_evaluate(Viterbi_Using_Rule_Based, samp_file_words)[1]\n",
    "print(\"Evaluation time taken (in seconds) for Viterbi using rule based on sample test data: \",time_taken)\n",
    "print(sample_seq_mod2)"
   ]
  },
  {
   "cell_type": "markdown",
   "metadata": {},
   "source": [
    "### Accuracy - Sample test Data"
   ]
  },
  {
   "cell_type": "code",
   "execution_count": 61,
   "metadata": {},
   "outputs": [
    {
     "name": "stdout",
     "output_type": "stream",
     "text": [
      "Accuracy of Viterbi modified using rule based over Sample Test Data : 92.82 %\n"
     ]
    }
   ],
   "source": [
    "accu = get_accuracy(sample_seq_mod2, sample_tagged_words)\n",
    "print(\"Accuracy of Viterbi modified using rule based over Sample Test Data :\", round(accu * 100,2),\"%\")"
   ]
  },
  {
   "cell_type": "markdown",
   "metadata": {},
   "source": [
    "### Sample Test Data - TEST CASES  \n",
    "### Word Tags corrected by Viterbi modified using rule based POS tagging of unknown words"
   ]
  },
  {
   "cell_type": "markdown",
   "metadata": {},
   "source": [
    "#### TEST CASE 1"
   ]
  },
  {
   "cell_type": "code",
   "execution_count": 81,
   "metadata": {},
   "outputs": [
    {
     "name": "stdout",
     "output_type": "stream",
     "text": [
      "Text - \"Google\" corrected by Viterbi Modified using rule based POS tagging of unknown words\n",
      "Viterbi - Incorrect word Tag:  ('Google', 'NUM')\n",
      "Viterbi Modified using transition probabilities of unknown words - Corrected word Tag:  ('Google', 'NOUN')\n"
     ]
    }
   ],
   "source": [
    "# Test Case 1\n",
    "print(\"Text - \\\"Google\\\" corrected by Viterbi Modified using rule based POS tagging of unknown words\")\n",
    "print(\"Viterbi - Incorrect word Tag: \",get_tag(\"Google\", sample_seq_Viterbi))\n",
    "print(\"Viterbi Modified using transition probabilities of unknown words - Corrected word Tag: \",get_tag(\"Google\", sample_seq_mod2))"
   ]
  },
  {
   "cell_type": "markdown",
   "metadata": {},
   "source": [
    "#### The POS tag of text 'Google' corrected to NOUN"
   ]
  },
  {
   "cell_type": "markdown",
   "metadata": {},
   "source": [
    "#### TEST CASE 2"
   ]
  },
  {
   "cell_type": "code",
   "execution_count": 82,
   "metadata": {
    "scrolled": true
   },
   "outputs": [
    {
     "name": "stdout",
     "output_type": "stream",
     "text": [
      "Word - \"Twitter\" corrected by Viterbi Modified using rule based POS tagging of unknown words\n",
      "Viterbi - Incorrect word Tag:  ('Twitter', 'NUM')\n",
      "Viterbi Modified using transition probabilities of unknown words - Corrected word Tag:  ('Twitter', 'NOUN')\n"
     ]
    }
   ],
   "source": [
    "# Test Case 2\n",
    "print(\"Word - \\\"Twitter\\\" corrected by Viterbi Modified using rule based POS tagging of unknown words\")\n",
    "print(\"Viterbi - Incorrect word Tag: \",get_tag(\"Twitter\", sample_seq_Viterbi))\n",
    "print(\"Viterbi Modified using transition probabilities of unknown words - Corrected word Tag: \",get_tag(\"Twitter\", sample_seq_mod2))"
   ]
  },
  {
   "cell_type": "markdown",
   "metadata": {},
   "source": [
    "#### The POS tag of the word 'Twitter' corrected to NOUN"
   ]
  },
  {
   "cell_type": "markdown",
   "metadata": {},
   "source": [
    "#### TEST CASE 3"
   ]
  },
  {
   "cell_type": "code",
   "execution_count": 83,
   "metadata": {},
   "outputs": [
    {
     "name": "stdout",
     "output_type": "stream",
     "text": [
      "Word - \"ICESAT-2\" corrected by Viterbi Modified using rule based POS tagging of unknown words\n",
      "Viterbi - Incorrect word Tag:  ('ICESAT-2', 'NUM')\n",
      "Viterbi Modified using transition probabilities of unknown words - Corrected word Tag:  ('ICESAT-2', 'NOUN')\n"
     ]
    }
   ],
   "source": [
    "# Test Case 3\n",
    "print(\"Word - \\\"ICESAT-2\\\" corrected by Viterbi Modified using rule based POS tagging of unknown words\")\n",
    "print(\"Viterbi - Incorrect word Tag: \",get_tag(\"ICESAT-2\", sample_seq_Viterbi))\n",
    "print(\"Viterbi Modified using transition probabilities of unknown words - Corrected word Tag: \",get_tag(\"ICESAT-2\", sample_seq_mod2))"
   ]
  },
  {
   "cell_type": "markdown",
   "metadata": {},
   "source": [
    "#### The POS tag of the word 'ICESAT-2' corrected to NOUN"
   ]
  },
  {
   "cell_type": "markdown",
   "metadata": {},
   "source": [
    "### Compare the tagging accuracies of the modifications with the vanilla Viterbi algorithm"
   ]
  },
  {
   "cell_type": "markdown",
   "metadata": {},
   "source": [
    "#### Summary – Accuracies of Viterbi and modified versions\n",
    "|Data Evaluated | Original Viterbi Algorithm\t | Viterbi modified using only transition probability for unknown words | Viterbi modified using rule based POS tagging of unknown words |\n",
    "| --- | --- | --- | --- |\n",
    "| Validation Data | 91.03%  | 93.31% | 94.75% |\n",
    "|Sample Test Data | 79.01% | 86.74% | 92.82% |\n"
   ]
  },
  {
   "cell_type": "markdown",
   "metadata": {},
   "source": [
    "- The Vanilla Viterbi algorithm initially had an accuracy of 91.03% and 79.01% on validation set and test set respectively.\n",
    "- The Viterbi algorithm modified to tag the unknown words using only the maximum likelihood of transition probabilities has an increased accuracy of 93.31% and 86.74% on validation data and test data respectively.\n",
    "- The Viterbi algorithm modified to tag the unknown words using rule based POS tagging has shown much greater accuracy of 94.75% and 92.82% on validation data and test data respectively"
   ]
  },
  {
   "cell_type": "markdown",
   "metadata": {},
   "source": [
    "<b> Thus we observe that Modification 2 - Viterbi modified to tag the unknown words using rule based POS tagging seems to be the best approach for the given sample test data </b>"
   ]
  },
  {
   "cell_type": "markdown",
   "metadata": {},
   "source": [
    "### List down cases which were incorrectly tagged by original POS tagger and got corrected by your modifications"
   ]
  },
  {
   "cell_type": "markdown",
   "metadata": {},
   "source": [
    "### Modification 1:\n",
    "#### Incorrect Tags Corrected  by Viterbi modified using only transition probability for unknown words\n",
    "|Data Evaluated | Test Cases | Original Viterbi Algorithm - Incorrect Tags\t | Viterbi modified using only transition probability for unknown words - Corrected Tags | Description |\n",
    "| --- | --- | --- | --- | --- |\n",
    "| Validation Data | Test Case 1 | ('ignored', 'NUM')  | ('ignored', 'VERB') | POS tag of 'ignored' is corrected to Verb | \n",
    "| -- | Test Case 2 | ('Birmingham', 'NUM') | ('Birmingham', 'NOUN') | POS tag of 'Birmingham' is corrected to Noun |\n",
    "| -- | Test Case 3 | ('safeguarding', 'NUM') | ('safeguarding', 'VERB') | POS tag of 'safeguarding' is corrected to Verb |\n",
    "| --- | --- | --- | --- | --- |\n",
    "| Sample Test Data | Test Case 1 | ('Android', 'NUM') | ('Android', 'NOUN') | POS tag of 'Android' is corrected to Noun |\n",
    "| --- | Test Case 2 | ('tournament', 'NUM') | ('tournament', 'NOUN') | POS tag of 'tournament' is corrected to Noun |\n",
    "| --- | Test Case 3 | ('Satellite', 'NUM') | ('Satellite', 'NOUN') | POS tag of 'Satellite' corrected to Noun |"
   ]
  },
  {
   "cell_type": "markdown",
   "metadata": {},
   "source": [
    "### Modification 2:\n",
    "#### Incorrect Tags Corrected  by Viterbi modified using rule based POS tagging of unknown words \n",
    "|Data Evaluated | Test Cases | Original Viterbi Algorithm - Incorrect Tags\t | Viterbi modified using rule based POS tagging of unknown words  - Corrected Tags | Description |\n",
    "| --- | --- | --- | --- | --- |\n",
    "| Validation Data | Test Case 1 | ('deteriorating', 'NUM') | ('deteriorating', 'VERB') | POS tag of 'deteriorating' corrected to VERB |\n",
    "| --- | Test Case 2 | ('relevance', 'NUM') | ('relevance', 'NOUN') | POS tag of 'relevance' corrected to NOUN |\n",
    "| --- | Test Case 3 | ('diagnosed', 'NUM') | ('diagnosed', 'VERB') | POS tag of 'diagnosed' corrected to VERB |\n",
    "| --- | --- | --- | --- |\n",
    "| Sample Test Data | Test Case 1 | ('Google', 'NUM') | ('Google', 'NOUN') | POS tag of 'Google' corrected to NOUN |\n",
    "| --- | Test Case 2 | ('Twitter', 'NUM') | ('Twitter', 'NOUN') | POS tag of 'Twitter' corrected to NOUN |\n",
    "| --- | Test Case 3 | ('ICESAT-2', 'NUM') | ('ICESAT-2', 'NOUN') | POS tag of 'ICESAT-2' corrected to NOUN |"
   ]
  },
  {
   "cell_type": "markdown",
   "metadata": {},
   "source": [
    "- Thus we understand that the initial Viterbi algorithm had some drawbacks which led to the lower accuracy rates. \n",
    "- After modifying the algorithm to correct the unknown tags, most of the words were correctly tagged leading to an increased accuracy rate \n",
    "    "
   ]
  }
 ],
 "metadata": {
  "kernelspec": {
   "display_name": "Python 3",
   "language": "python",
   "name": "python3"
  },
  "language_info": {
   "codemirror_mode": {
    "name": "ipython",
    "version": 3
   },
   "file_extension": ".py",
   "mimetype": "text/x-python",
   "name": "python",
   "nbconvert_exporter": "python",
   "pygments_lexer": "ipython3",
   "version": "3.8.5"
  }
 },
 "nbformat": 4,
 "nbformat_minor": 2
}
